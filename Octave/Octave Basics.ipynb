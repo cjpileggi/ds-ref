{
 "cells": [
  {
   "cell_type": "code",
   "execution_count": 84,
   "metadata": {},
   "outputs": [
    {
     "name": "stdout",
     "output_type": "stream",
     "text": [
      "a =  8\n"
     ]
    }
   ],
   "source": [
    "% OCTAVE_EXECUTABLE .../bin/octave-cli.exe\n",
    "\n",
    "a = 8"
   ]
  },
  {
   "cell_type": "code",
   "execution_count": 2,
   "metadata": {},
   "outputs": [
    {
     "name": "stdout",
     "output_type": "stream",
     "text": [
      "a =  5\n",
      "ans =  12\n",
      "b = io\n",
      "c =  3.1416\n"
     ]
    }
   ],
   "source": [
    "a = 5\n",
    "% Comment\n",
    "\n",
    "%{ \n",
    "\n",
    "block comment \n",
    "\n",
    "%} \n",
    "\n",
    "6 + 6\n",
    "6 + 9; % ; does not display line in output in command prompt\n",
    "b =  'io'\n",
    "c = pi"
   ]
  },
  {
   "cell_type": "code",
   "execution_count": 3,
   "metadata": {},
   "outputs": [
    {
     "name": "stdout",
     "output_type": "stream",
     "text": [
      " 3.1416\n",
      "2 Decimals: 3.14\n",
      "6 Decimals: 3.141593\n"
     ]
    }
   ],
   "source": [
    "disp(c)\n",
    "disp(sprintf(\"2 Decimals: %0.2f\",c))\n",
    "disp(sprintf(\"6 Decimals: %0.6f\",c))"
   ]
  },
  {
   "cell_type": "code",
   "execution_count": 4,
   "metadata": {},
   "outputs": [
    {
     "name": "stdout",
     "output_type": "stream",
     "text": [
      "ans = 0\n",
      "ans = 1\n",
      "ans = 1\n",
      "ans = 0\n",
      "ans = 1\n",
      "j = 0\n"
     ]
    }
   ],
   "source": [
    "1 == 2\n",
    "1 ~= 2\n",
    "2 == 2\n",
    "1 && 0\n",
    "1 || 0\n",
    "\n",
    "j = (3 >= 4)"
   ]
  },
  {
   "cell_type": "code",
   "execution_count": null,
   "metadata": {},
   "outputs": [],
   "source": [
    "%PS1(\"^^ \") % prompt text change"
   ]
  },
  {
   "cell_type": "code",
   "execution_count": 4,
   "metadata": {},
   "outputs": [
    {
     "name": "stdout",
     "output_type": "stream",
     "text": [
      " 3.141592653589793\n",
      " 3.1416\n"
     ]
    }
   ],
   "source": [
    " format long\n",
    " disp(c)\n",
    " format short\n",
    " disp(c)"
   ]
  },
  {
   "cell_type": "code",
   "execution_count": 5,
   "metadata": {},
   "outputs": [
    {
     "name": "stdout",
     "output_type": "stream",
     "text": [
      "A =\n",
      "\n",
      "   1   2\n",
      "   3   4\n",
      "   5   6\n",
      "\n",
      "v1 =\n",
      "\n",
      "   1   2   3\n",
      "\n",
      "v2 =\n",
      "\n",
      "   1\n",
      "   2\n",
      "   3\n",
      "\n"
     ]
    }
   ],
   "source": [
    " A = [1 2; 3 4; 5 6]\n",
    " v1 = [1 2 3]\n",
    " v2 = [1; 2; 3]"
   ]
  },
  {
   "cell_type": "code",
   "execution_count": 6,
   "metadata": {},
   "outputs": [
    {
     "name": "stdout",
     "output_type": "stream",
     "text": [
      "ans =\n",
      "\n",
      " Columns 1 through 8:\n",
      "\n",
      "    1.0000    1.1000    1.2000    1.3000    1.4000    1.5000    1.6000    1.7000\n",
      "\n",
      " Columns 9 through 11:\n",
      "\n",
      "    1.8000    1.9000    2.0000\n",
      "\n",
      "ans =\n",
      "\n",
      "   1   2   3   4   5   6\n",
      "\n"
     ]
    }
   ],
   "source": [
    "% Comprehension\n",
    " 1:0.1:2 % 1 to 2 with .1 every step (limits included)\n",
    " \n",
    " 1:6"
   ]
  },
  {
   "cell_type": "code",
   "execution_count": 7,
   "metadata": {},
   "outputs": [
    {
     "name": "stdout",
     "output_type": "stream",
     "text": [
      "ans =\n",
      "\n",
      "   1   1   1\n",
      "   1   1   1\n",
      "\n",
      "ans =\n",
      "\n",
      "   5   5   5   5   5   5\n",
      "   5   5   5   5   5   5\n",
      "   5   5   5   5   5   5\n",
      "   5   5   5   5   5   5\n",
      "\n",
      "ans =\n",
      "\n",
      "   0   0   0   0\n",
      "   0   0   0   0\n",
      "   0   0   0   0\n",
      "   0   0   0   0\n",
      "   0   0   0   0\n",
      "   0   0   0   0\n",
      "   0   0   0   0\n",
      "   0   0   0   0\n",
      "   0   0   0   0\n",
      "   0   0   0   0\n",
      "\n"
     ]
    }
   ],
   "source": [
    "ones(2,3)\n",
    "\n",
    "ones(4,6) * 5\n",
    " \n",
    "zeros(10,4)"
   ]
  },
  {
   "cell_type": "code",
   "execution_count": 8,
   "metadata": {},
   "outputs": [
    {
     "name": "stdout",
     "output_type": "stream",
     "text": [
      "ans =\n",
      "\n",
      "   0.35690   0.28948   0.52127   0.57368\n",
      "   0.66439   0.49904   0.53215   0.43259\n",
      "   0.34951   0.18822   0.50490   0.19961\n",
      "\n",
      "ans =\n",
      "\n",
      " Columns 1 through 6:\n",
      "\n",
      "   0.7028134   0.8200081   0.6574037   0.3326489   0.2059090   0.7923440\n",
      "   0.3084824   0.9071027   0.7937985   0.6172510   0.1068366   0.9638583\n",
      "   0.4218960   0.8975185   0.7488932   0.8216573   0.8166520   0.5411399\n",
      "   0.4274372   0.4417954   0.9399660   0.1449693   0.0617211   0.7078744\n",
      "   0.5923435   0.1395851   0.2726381   0.2794538   0.3248031   0.5626609\n",
      "   0.6674411   0.6000237   0.4198526   0.6404948   0.5202296   0.5363242\n",
      "   0.3312092   0.0660011   0.7900738   0.0406201   0.6160246   0.7284047\n",
      "   0.4658941   0.5970119   0.9015804   0.9306102   0.5809792   0.7234200\n",
      "   0.4886294   0.3684557   0.4203320   0.5591254   0.3963997   0.0332284\n",
      "\n",
      " Columns 7 through 9:\n",
      "\n",
      "   0.0044194   0.7440446   0.4992159\n",
      "   0.8770541   0.1346851   0.2157589\n",
      "   0.9342008   0.6307504   0.7210402\n",
      "   0.9764447   0.5239352   0.7797149\n",
      "   0.0165968   0.2704683   0.9116913\n",
      "   0.0414782   0.1096444   0.4168160\n",
      "   0.7343490   0.1551059   0.1188506\n",
      "   0.1520883   0.7075437   0.9006616\n",
      "   0.9686788   0.5094571   0.9055636\n",
      "\n",
      "ans =\n",
      "\n",
      " Columns 1 through 6:\n",
      "\n",
      "   1.7035309  -0.8321681  -1.2008689  -0.3075081  -0.3306562   1.4885616\n",
      "  -1.7918594   0.3142582   0.0512671  -1.3484548   0.3251465  -1.5483890\n",
      "   1.1752107  -1.5643237   0.1520403   0.5627093  -2.4603280  -0.5379926\n",
      "  -0.5545448  -0.0607794   2.0158234  -0.7608480  -1.1440250   0.5052301\n",
      "  -0.6199679  -0.7281251  -1.7881417   0.6648248  -0.3275958  -0.2152290\n",
      "   0.4687184  -0.7962433  -1.5396598  -2.4050284   3.6667582   1.1592473\n",
      "   0.1222197   0.8557086   1.1498437  -0.0019026  -1.2311639   0.0893722\n",
      "  -1.5257066  -0.5336162  -0.4459031  -0.6400965  -1.3700839   0.2330037\n",
      "   1.2620281  -0.1603747   0.1958685   0.2395631  -1.2083357  -0.9495999\n",
      "\n",
      " Columns 7 through 9:\n",
      "\n",
      "   1.4633257   0.1347488  -0.0148993\n",
      "   0.9410960  -0.5168227   0.4536827\n",
      "   1.5268343   0.1453989  -1.3646702\n",
      "  -2.1748955  -0.6419114  -0.6212571\n",
      "   1.5787437   0.1251201   0.5280965\n",
      "   0.0467780  -0.2713379   1.6444071\n",
      "  -0.4642856   1.1754508   0.2058272\n",
      "   0.2683289  -1.0342650   1.8438712\n",
      "   0.3783153  -0.4422357  -0.0800440\n",
      "\n"
     ]
    }
   ],
   "source": [
    "rand(3,4) % Uniform Distribution\n",
    " \n",
    " rand(9,9)\n",
    " \n",
    " randn(9,9) % Gaussaian (mean 0, std = 1)\n",
    " "
   ]
  },
  {
   "cell_type": "code",
   "execution_count": 9,
   "metadata": {},
   "outputs": [
    {
     "data": {
      "image/png": "[encoded data removed]",
      "text/plain": [
       "<IPython.core.display.Image object>"
      ]
     },
     "metadata": {},
     "output_type": "display_data"
    }
   ],
   "source": [
    "\n",
    " n1 = randn(1,7000);\n",
    " \n",
    " hist(n1)\n"
   ]
  },
  {
   "cell_type": "code",
   "execution_count": 10,
   "metadata": {},
   "outputs": [
    {
     "data": {
      "image/png": "[encoded data removed]",
      "text/plain": [
       "<IPython.core.display.Image object>"
      ]
     },
     "metadata": {},
     "output_type": "display_data"
    }
   ],
   "source": [
    " \n",
    " n2 = -6+sqrt(10)*(randn(1,10000)); %mean = -6  std=sqrt(10)\n",
    " \n",
    " hist(n2,50)\n"
   ]
  },
  {
   "cell_type": "code",
   "execution_count": 11,
   "metadata": {},
   "outputs": [
    {
     "data": {
      "image/png": "[encoded data removed]",
      "text/plain": [
       "<IPython.core.display.Image object>"
      ]
     },
     "metadata": {},
     "output_type": "display_data"
    }
   ],
   "source": [
    "  n3 = 7+sqrt(1000)*(randn(1,10000));\n",
    " \n",
    " hist(n3,50)"
   ]
  },
  {
   "cell_type": "code",
   "execution_count": 12,
   "metadata": {},
   "outputs": [
    {
     "name": "stdout",
     "output_type": "stream",
     "text": [
      "ans =\n",
      "\n",
      "Diagonal Matrix\n",
      "\n",
      "   1   0   0   0   0   0\n",
      "   0   1   0   0   0   0\n",
      "   0   0   1   0   0   0\n",
      "   0   0   0   1   0   0\n",
      "   0   0   0   0   1   0\n",
      "   0   0   0   0   0   1\n",
      "\n"
     ]
    }
   ],
   "source": [
    " eye(6)"
   ]
  },
  {
   "cell_type": "code",
   "execution_count": 13,
   "metadata": {},
   "outputs": [
    {
     "name": "stdout",
     "output_type": "stream",
     "text": [
      "ans =\n",
      "\n",
      "   3   2\n",
      "\n",
      "ans =  3\n",
      "ans =  2\n"
     ]
    }
   ],
   "source": [
    "M = [1 2; 3 4; 5 6];\n",
    " \n",
    " size(M)\n",
    " size(M,1)\n",
    " size(M,2)"
   ]
  },
  {
   "cell_type": "code",
   "execution_count": 14,
   "metadata": {},
   "outputs": [
    {
     "name": "stdout",
     "output_type": "stream",
     "text": [
      "ans =  3\n"
     ]
    }
   ],
   "source": [
    " sM = (size(M));\n",
    " \n",
    " sM(1)"
   ]
  },
  {
   "cell_type": "code",
   "execution_count": 15,
   "metadata": {},
   "outputs": [
    {
     "name": "stdout",
     "output_type": "stream",
     "text": [
      "ans =\n",
      "\n",
      "   1   4\n",
      "\n",
      "ans =  4\n"
     ]
    }
   ],
   "source": [
    "ve = [1 2 3 4];\n",
    " \n",
    " size(ve)\n",
    " \n",
    " length(ve)"
   ]
  },
  {
   "cell_type": "code",
   "execution_count": 16,
   "metadata": {},
   "outputs": [
    {
     "name": "stdout",
     "output_type": "stream",
     "text": [
      "ans = C:\\Users\\Chris\\Desktop\n"
     ]
    }
   ],
   "source": [
    "pwd"
   ]
  },
  {
   "cell_type": "code",
   "execution_count": 17,
   "metadata": {},
   "outputs": [
    {
     "name": "stdout",
     "output_type": "stream",
     "text": [
      "ans = C:\\Users\\Chris\\Desktop\\py oct\n"
     ]
    }
   ],
   "source": [
    "cd \"C:\\\\Users\\\\Chris\\\\Desktop\\\\py oct\"\n",
    "pwd"
   ]
  },
  {
   "cell_type": "code",
   "execution_count": 18,
   "metadata": {},
   "outputs": [
    {
     "name": "stdout",
     "output_type": "stream",
     "text": [
      " Volume in drive C is Windows8_OS\n",
      " Volume Serial Number is F8F9-D547\n",
      "\n",
      " Directory of C:\\Users\\Chris\\Desktop\\py oct\n",
      "\n",
      "[.]                   dataO.xlsx            Python Basics.ipynb\n",
      "[..]                  featuresX.dat         Untitled.ipynb\n",
      "bagel.mat             myPlot.png            \n",
      "bagel.txt             Octave Tut.m          \n",
      "dataO.csv             priceY.dat            \n",
      "              10 File(s)         38,345 bytes\n",
      "               2 Dir(s)  222,395,142,144 bytes free\n"
     ]
    }
   ],
   "source": [
    " ls"
   ]
  },
  {
   "cell_type": "code",
   "execution_count": 19,
   "metadata": {},
   "outputs": [
    {
     "name": "stdout",
     "output_type": "stream",
     "text": [
      "Variables in the current scope:\n",
      "\n",
      "A    M    a    ans  b    c    n1   n2   n3   sM   v1   v2   ve\n",
      "\n"
     ]
    }
   ],
   "source": [
    "% Variables\n",
    "who"
   ]
  },
  {
   "cell_type": "code",
   "execution_count": 22,
   "metadata": {},
   "outputs": [
    {
     "name": "stdout",
     "output_type": "stream",
     "text": [
      "Variables in the current scope:\n",
      "\n",
      "   Attr Name        Size                     Bytes  Class\n",
      "   ==== ====        ====                     =====  ===== \n",
      "        A           3x2                         48  double\n",
      "        M           3x2                         48  double\n",
      "        a           1x1                          8  double\n",
      "        ans         1x29                        29  char\n",
      "        b           1x2                          2  char\n",
      "        c           1x1                          8  double\n",
      "        n1          1x7000                   56000  double\n",
      "        n2          1x10000                  80000  double\n",
      "        n3          1x10000                  80000  double\n",
      "        sM          1x2                         16  double\n",
      "        v1          1x3                         24  double\n",
      "        v2          3x1                         24  double\n",
      "        ve          1x4                         32  double\n",
      "\n",
      "Total is 27057 elements using 216239 bytes\n",
      "\n"
     ]
    }
   ],
   "source": [
    "% Variables snd meta data\n",
    "whos"
   ]
  },
  {
   "cell_type": "code",
   "execution_count": 23,
   "metadata": {},
   "outputs": [],
   "source": [
    "load featuresX.dat\n",
    "\n",
    "load priceY.dat"
   ]
  },
  {
   "cell_type": "code",
   "execution_count": 24,
   "metadata": {},
   "outputs": [
    {
     "name": "stdout",
     "output_type": "stream",
     "text": [
      "Variables in the current scope:\n",
      "\n",
      "   Attr Name           Size                     Bytes  Class\n",
      "   ==== ====           ====                     =====  ===== \n",
      "        A              3x2                         48  double\n",
      "        M              3x2                         48  double\n",
      "        a              1x1                          8  double\n",
      "        ans            1x29                        29  char\n",
      "        b              1x2                          2  char\n",
      "        c              1x1                          8  double\n",
      "        featuresX     47x2                        752  double\n",
      "        n1             1x7000                   56000  double\n",
      "        n2             1x10000                  80000  double\n",
      "        n3             1x10000                  80000  double\n",
      "        priceY        47x1                        376  double\n",
      "        sM             1x2                         16  double\n",
      "        v1             1x3                         24  double\n",
      "        v2             3x1                         24  double\n",
      "        ve             1x4                         32  double\n",
      "\n",
      "Total is 27198 elements using 217367 bytes\n",
      "\n"
     ]
    }
   ],
   "source": [
    " whos"
   ]
  },
  {
   "cell_type": "code",
   "execution_count": 25,
   "metadata": {},
   "outputs": [
    {
     "name": "stdout",
     "output_type": "stream",
     "text": [
      "Variables in the current scope:\n",
      "\n",
      "   Attr Name           Size                     Bytes  Class\n",
      "   ==== ====           ====                     =====  ===== \n",
      "        A              3x2                         48  double\n",
      "        M              3x2                         48  double\n",
      "        a              1x1                          8  double\n",
      "        ans            1x29                        29  char\n",
      "        b              1x2                          2  char\n",
      "        c              1x1                          8  double\n",
      "        featuresX     47x2                        752  double\n",
      "        n1             1x7000                   56000  double\n",
      "        n2             1x10000                  80000  double\n",
      "        n3             1x10000                  80000  double\n",
      "        priceY        47x1                        376  double\n",
      "        sM             1x2                         16  double\n",
      "        v1             1x3                         24  double\n",
      "        v2             3x1                         24  double\n",
      "\n",
      "Total is 27194 elements using 217335 bytes\n",
      "\n"
     ]
    }
   ],
   "source": [
    " clear ve\n",
    " \n",
    " whos"
   ]
  },
  {
   "cell_type": "code",
   "execution_count": 26,
   "metadata": {},
   "outputs": [
    {
     "name": "stdout",
     "output_type": "stream",
     "text": [
      "featuresX =\n",
      "\n",
      "   2104      3\n",
      "   1600      3\n",
      "   2400      3\n",
      "   1416      2\n",
      "   3000      4\n",
      "   1985      4\n",
      "   1534      3\n",
      "   1427      3\n",
      "   1380      3\n",
      "   1494      3\n",
      "   1940      4\n",
      "   2000      3\n",
      "   1890      3\n",
      "   4478      5\n",
      "   1268      3\n",
      "   2300      4\n",
      "   1320      2\n",
      "   1236      3\n",
      "   2609      4\n",
      "   3031      4\n",
      "   1767      3\n",
      "   1888      2\n",
      "   1604      3\n",
      "   1962      4\n",
      "   3890      3\n",
      "   1100      3\n",
      "   1458      3\n",
      "   2526      3\n",
      "   2200      3\n",
      "   2637      3\n",
      "   1839      2\n",
      "   1000      1\n",
      "   2040      4\n",
      "   3137      3\n",
      "   1811      4\n",
      "   1437      3\n",
      "   1239      3\n",
      "   2132      4\n",
      "   4215      4\n",
      "   2162      4\n",
      "   1664      2\n",
      "   2238      3\n",
      "   2567      4\n",
      "   1200      3\n",
      "    852      2\n",
      "   1852      4\n",
      "   1203      3\n",
      "\n"
     ]
    }
   ],
   "source": [
    "featuresX"
   ]
  },
  {
   "cell_type": "code",
   "execution_count": 27,
   "metadata": {},
   "outputs": [
    {
     "name": "stdout",
     "output_type": "stream",
     "text": [
      "priceY =\n",
      "\n",
      "   399900\n",
      "   329900\n",
      "   369000\n",
      "   232000\n",
      "   539900\n",
      "   299900\n",
      "   314900\n",
      "   198999\n",
      "   212000\n",
      "   242500\n",
      "   239999\n",
      "   347000\n",
      "   329999\n",
      "   699900\n",
      "   259900\n",
      "   449900\n",
      "   299900\n",
      "   199900\n",
      "   499998\n",
      "   599000\n",
      "   252900\n",
      "   255000\n",
      "   242900\n",
      "   259900\n",
      "   573900\n",
      "   249900\n",
      "   464500\n",
      "   469000\n",
      "   475000\n",
      "   299900\n",
      "   349900\n",
      "   169900\n",
      "   314900\n",
      "   579900\n",
      "   285900\n",
      "   249900\n",
      "   229900\n",
      "   345000\n",
      "   549000\n",
      "   287000\n",
      "   368500\n",
      "   329900\n",
      "   314000\n",
      "   299000\n",
      "   179900\n",
      "   299900\n",
      "   239500\n",
      "\n"
     ]
    }
   ],
   "source": [
    "priceY"
   ]
  },
  {
   "cell_type": "code",
   "execution_count": 28,
   "metadata": {},
   "outputs": [
    {
     "name": "stdout",
     "output_type": "stream",
     "text": [
      "ans =\n",
      "\n",
      "   399900\n",
      "   329900\n",
      "   369000\n",
      "   232000\n",
      "   539900\n",
      "\n"
     ]
    }
   ],
   "source": [
    "priceY(1:5)"
   ]
  },
  {
   "cell_type": "code",
   "execution_count": 29,
   "metadata": {},
   "outputs": [
    {
     "name": "stdout",
     "output_type": "stream",
     "text": [
      "gh =\n",
      "\n",
      "   399900\n",
      "   329900\n",
      "   369000\n",
      "   232000\n",
      "   539900\n",
      "   299900\n",
      "   314900\n",
      "   198999\n",
      "   212000\n",
      "   242500\n",
      "\n"
     ]
    }
   ],
   "source": [
    "gh = priceY(1:10)"
   ]
  },
  {
   "cell_type": "code",
   "execution_count": 30,
   "metadata": {},
   "outputs": [],
   "source": [
    "save bagel.mat gh\n",
    "\n",
    "save bagel.txt gh -ascii\n"
   ]
  },
  {
   "cell_type": "code",
   "execution_count": 31,
   "metadata": {},
   "outputs": [
    {
     "name": "stdout",
     "output_type": "stream",
     "text": [
      "ans =  3\n",
      "ans =  4\n",
      "ans =\n",
      "\n",
      "   1   2\n",
      "\n",
      "ans =\n",
      "\n",
      "   1\n",
      "   3\n",
      "   5\n",
      "\n",
      "ans =\n",
      "\n",
      "   1   2\n",
      "\n",
      "ans =\n",
      "\n",
      "   1   2\n",
      "   3   4\n",
      "\n"
     ]
    }
   ],
   "source": [
    "A(2)\n",
    "\n",
    "A(2,2)\n",
    "A(1,:)\n",
    "A(:,1)\n",
    "\n",
    "A(1,1:2)\n",
    "A(1:2,:)"
   ]
  },
  {
   "cell_type": "code",
   "execution_count": 32,
   "metadata": {},
   "outputs": [
    {
     "name": "stdout",
     "output_type": "stream",
     "text": [
      "ID =\n",
      "\n",
      "Diagonal Matrix\n",
      "\n",
      "   1   0   0   0   0   0   0   0   0   0\n",
      "   0   1   0   0   0   0   0   0   0   0\n",
      "   0   0   1   0   0   0   0   0   0   0\n",
      "   0   0   0   1   0   0   0   0   0   0\n",
      "   0   0   0   0   1   0   0   0   0   0\n",
      "   0   0   0   0   0   1   0   0   0   0\n",
      "   0   0   0   0   0   0   1   0   0   0\n",
      "   0   0   0   0   0   0   0   1   0   0\n",
      "   0   0   0   0   0   0   0   0   1   0\n",
      "   0   0   0   0   0   0   0   0   0   1\n",
      "\n"
     ]
    }
   ],
   "source": [
    "ID = eye(10)"
   ]
  },
  {
   "cell_type": "code",
   "execution_count": 33,
   "metadata": {},
   "outputs": [
    {
     "name": "stdout",
     "output_type": "stream",
     "text": [
      "ans =\n",
      "\n",
      "   1   0   0   0   0   0   0   0   0   0\n",
      "   0   0   1   0   0   0   0   0   0   0\n",
      "   0   0   0   0   0   0   0   1   0   0\n",
      "\n"
     ]
    }
   ],
   "source": [
    "ID([1 3 8],:) "
   ]
  },
  {
   "cell_type": "code",
   "execution_count": 34,
   "metadata": {},
   "outputs": [
    {
     "name": "stdout",
     "output_type": "stream",
     "text": [
      "ID =\n",
      "\n",
      "   3   3   3   3   3   3   3   3   3   3\n",
      "   0   1   0   0   0   0   0   0   0   0\n",
      "   0   0   1   0   0   0   0   0   0   0\n",
      "   0   0   0   1   0   0   0   0   0   0\n",
      "   0   0   0   0   1   0   0   0   0   0\n",
      "   0   0   0   0   0   1   0   0   0   0\n",
      "   0   0   0   0   0   0   1   0   0   0\n",
      "   0   0   0   0   0   0   0   1   0   0\n",
      "   0   0   0   0   0   0   0   0   1   0\n",
      "   0   0   0   0   0   0   0   0   0   1\n",
      "\n"
     ]
    }
   ],
   "source": [
    "ID(1,:) = [3 3 3 3 3 3 3 3 3 3] % Replace"
   ]
  },
  {
   "cell_type": "code",
   "execution_count": 35,
   "metadata": {},
   "outputs": [
    {
     "name": "stdout",
     "output_type": "stream",
     "text": [
      "ID =\n",
      "\n",
      "   3   3   3   3   3   3   3   3   3   3   5\n",
      "   0   1   0   0   0   0   0   0   0   0   5\n",
      "   0   0   1   0   0   0   0   0   0   0   5\n",
      "   0   0   0   1   0   0   0   0   0   0   5\n",
      "   0   0   0   0   1   0   0   0   0   0   5\n",
      "   0   0   0   0   0   1   0   0   0   0   5\n",
      "   0   0   0   0   0   0   1   0   0   0   5\n",
      "   0   0   0   0   0   0   0   1   0   0   5\n",
      "   0   0   0   0   0   0   0   0   1   0   5\n",
      "   0   0   0   0   0   0   0   0   0   1   5\n",
      "\n"
     ]
    }
   ],
   "source": [
    "ID= [ID, [5; 5;5;5;5;5;5;5;5;5]] % Append"
   ]
  },
  {
   "cell_type": "code",
   "execution_count": 36,
   "metadata": {},
   "outputs": [
    {
     "name": "stdout",
     "output_type": "stream",
     "text": [
      "ans =\n",
      "\n",
      "   3\n",
      "   0\n",
      "   0\n",
      "   0\n",
      "   0\n",
      "   0\n",
      "   0\n",
      "   0\n",
      "   0\n",
      "   0\n",
      "   3\n",
      "   1\n",
      "   0\n",
      "   0\n",
      "   0\n",
      "   0\n",
      "   0\n",
      "   0\n",
      "   0\n",
      "   0\n",
      "   3\n",
      "   0\n",
      "   1\n",
      "   0\n",
      "   0\n",
      "   0\n",
      "   0\n",
      "   0\n",
      "   0\n",
      "   0\n",
      "   3\n",
      "   0\n",
      "   0\n",
      "   1\n",
      "   0\n",
      "   0\n",
      "   0\n",
      "   0\n",
      "   0\n",
      "   0\n",
      "   3\n",
      "   0\n",
      "   0\n",
      "   0\n",
      "   1\n",
      "   0\n",
      "   0\n",
      "   0\n",
      "   0\n",
      "   0\n",
      "   3\n",
      "   0\n",
      "   0\n",
      "   0\n",
      "   0\n",
      "   1\n",
      "   0\n",
      "   0\n",
      "   0\n",
      "   0\n",
      "   3\n",
      "   0\n",
      "   0\n",
      "   0\n",
      "   0\n",
      "   0\n",
      "   1\n",
      "   0\n",
      "   0\n",
      "   0\n",
      "   3\n",
      "   0\n",
      "   0\n",
      "   0\n",
      "   0\n",
      "   0\n",
      "   0\n",
      "   1\n",
      "   0\n",
      "   0\n",
      "   3\n",
      "   0\n",
      "   0\n",
      "   0\n",
      "   0\n",
      "   0\n",
      "   0\n",
      "   0\n",
      "   1\n",
      "   0\n",
      "   3\n",
      "   0\n",
      "   0\n",
      "   0\n",
      "   0\n",
      "   0\n",
      "   0\n",
      "   0\n",
      "   0\n",
      "   1\n",
      "   5\n",
      "   5\n",
      "   5\n",
      "   5\n",
      "   5\n",
      "   5\n",
      "   5\n",
      "   5\n",
      "   5\n",
      "   5\n",
      "\n"
     ]
    }
   ],
   "source": [
    "ID(:) % Transforms Matrix to one big vector i.e. 10x10 to 100x1"
   ]
  },
  {
   "cell_type": "code",
   "execution_count": 37,
   "metadata": {},
   "outputs": [],
   "source": [
    "I = [1 2; 3 4; 5 6];\n",
    "J = [20 21; 22 23; 24 25];"
   ]
  },
  {
   "cell_type": "code",
   "execution_count": 38,
   "metadata": {},
   "outputs": [
    {
     "name": "stdout",
     "output_type": "stream",
     "text": [
      "ans =\n",
      "\n",
      "    1    2   20   21\n",
      "    3    4   22   23\n",
      "    5    6   24   25\n",
      "\n"
     ]
    }
   ],
   "source": [
    "[I J] %Concatenate add columns"
   ]
  },
  {
   "cell_type": "code",
   "execution_count": 39,
   "metadata": {},
   "outputs": [
    {
     "name": "stdout",
     "output_type": "stream",
     "text": [
      "ans =\n",
      "\n",
      "    1    2   20   21\n",
      "    3    4   22   23\n",
      "    5    6   24   25\n",
      "\n"
     ]
    }
   ],
   "source": [
    "[I, J] % Same"
   ]
  },
  {
   "cell_type": "code",
   "execution_count": 41,
   "metadata": {},
   "outputs": [
    {
     "name": "stdout",
     "output_type": "stream",
     "text": [
      "ans =\n",
      "\n",
      "    1    2\n",
      "    3    4\n",
      "    5    6\n",
      "   20   21\n",
      "   22   23\n",
      "   24   25\n",
      "\n"
     ]
    }
   ],
   "source": [
    "[I; J] % Add rows"
   ]
  },
  {
   "cell_type": "code",
   "execution_count": 43,
   "metadata": {},
   "outputs": [
    {
     "name": "stdout",
     "output_type": "stream",
     "text": [
      "ans =\n",
      "\n",
      "    2    4\n",
      "    6    8\n",
      "   10   12\n",
      "\n",
      "ans =\n",
      "\n",
      "    2    4\n",
      "    6    8\n",
      "   10   12\n",
      "\n",
      "ans =\n",
      "\n",
      "    1    4\n",
      "    9   16\n",
      "   25   36\n",
      "\n",
      "ans =\n",
      "\n",
      "    20    42\n",
      "    66    92\n",
      "   120   150\n",
      "\n"
     ]
    }
   ],
   "source": [
    "I * 2\n",
    "\n",
    "I .* 2 % Element wise\n",
    "\n",
    "I .^2\n",
    "\n",
    "I .* J\n"
   ]
  },
  {
   "cell_type": "code",
   "execution_count": 44,
   "metadata": {},
   "outputs": [
    {
     "name": "stdout",
     "output_type": "stream",
     "text": [
      "ans =\n",
      "\n",
      "   15   12   27\n",
      "   35   28   63\n",
      "   55   44   99\n",
      "\n",
      "ans =\n",
      "\n",
      "   0.14286   0.28571\n",
      "   0.42857   0.57143\n",
      "   0.71429   0.85714\n",
      "\n",
      "ans =\n",
      "\n",
      "   1.00000   0.50000\n",
      "   0.33333   0.25000\n",
      "   0.20000   0.16667\n",
      "\n"
     ]
    }
   ],
   "source": [
    "I * [5 4 9; 5 4 9] %normal matrix multiplication \n",
    "\n",
    "I ./ 7\n",
    "\n",
    "1 ./ I"
   ]
  },
  {
   "cell_type": "code",
   "execution_count": 45,
   "metadata": {},
   "outputs": [
    {
     "name": "stdout",
     "output_type": "stream",
     "text": [
      "ans =\n",
      "\n",
      "   0.00000   0.69315\n",
      "   1.09861   1.38629\n",
      "   1.60944   1.79176\n",
      "\n",
      "ans =\n",
      "\n",
      "     2.7183     7.3891\n",
      "    20.0855    54.5982\n",
      "   148.4132   403.4288\n",
      "\n",
      "ans =\n",
      "\n",
      "   1   2\n",
      "   3   4\n",
      "   5   6\n",
      "\n"
     ]
    }
   ],
   "source": [
    "log(I) \n",
    "\n",
    "exp(I) % e\n",
    "\n",
    "abs(I)"
   ]
  },
  {
   "cell_type": "code",
   "execution_count": 46,
   "metadata": {},
   "outputs": [
    {
     "name": "stdout",
     "output_type": "stream",
     "text": [
      "ans =\n",
      "\n",
      "  -1  -2\n",
      "  -3  -4\n",
      "  -5  -6\n",
      "\n",
      "ans =\n",
      "\n",
      "  -1  -2\n",
      "  -3  -4\n",
      "  -5  -6\n",
      "\n"
     ]
    }
   ],
   "source": [
    "-I\n",
    "\n",
    "-1 * I"
   ]
  },
  {
   "cell_type": "code",
   "execution_count": 47,
   "metadata": {},
   "outputs": [
    {
     "name": "stdout",
     "output_type": "stream",
     "text": [
      "ans =\n",
      "\n",
      "   4   4   4   4\n",
      "   4   4   4   4\n",
      "   4   4   4   4\n",
      "\n"
     ]
    }
   ],
   "source": [
    "ones(3,4) + 3"
   ]
  },
  {
   "cell_type": "code",
   "execution_count": 48,
   "metadata": {},
   "outputs": [
    {
     "name": "stdout",
     "output_type": "stream",
     "text": [
      "ans =\n",
      "\n",
      "   1   3   5\n",
      "   2   4   6\n",
      "\n"
     ]
    }
   ],
   "source": [
    "I' % Transpose"
   ]
  },
  {
   "cell_type": "code",
   "execution_count": 49,
   "metadata": {},
   "outputs": [
    {
     "name": "stdout",
     "output_type": "stream",
     "text": [
      "val =\n",
      "\n",
      "   5   6\n",
      "\n",
      "ind =\n",
      "\n",
      "   3   3\n",
      "\n"
     ]
    }
   ],
   "source": [
    "[val, ind] = max(I) % Column Wise Max"
   ]
  },
  {
   "cell_type": "code",
   "execution_count": 50,
   "metadata": {},
   "outputs": [
    {
     "name": "stdout",
     "output_type": "stream",
     "text": [
      "ans =\n",
      "\n",
      "  1  1\n",
      "  0  0\n",
      "  0  0\n",
      "\n"
     ]
    }
   ],
   "source": [
    "I < 3"
   ]
  },
  {
   "cell_type": "code",
   "execution_count": 51,
   "metadata": {},
   "outputs": [
    {
     "name": "stdout",
     "output_type": "stream",
     "text": [
      "ans =\n",
      "\n",
      "   1\n",
      "   4\n",
      "\n"
     ]
    }
   ],
   "source": [
    "find(I < 3) % indicies that meet condition"
   ]
  },
  {
   "cell_type": "code",
   "execution_count": 52,
   "metadata": {},
   "outputs": [
    {
     "name": "stdout",
     "output_type": "stream",
     "text": [
      "ans =\n",
      "\n",
      "   8   1   6\n",
      "   3   5   7\n",
      "   4   9   2\n",
      "\n",
      "row =\n",
      "\n",
      "   1\n",
      "   2\n",
      "   3\n",
      "   1\n",
      "   2\n",
      "\n",
      "col =\n",
      "\n",
      "   1\n",
      "   2\n",
      "   2\n",
      "   3\n",
      "   3\n",
      "\n"
     ]
    }
   ],
   "source": [
    "magic(3) %matrix where all columns and rows add the same\n",
    "\n",
    "[row, col] = find(magic(3) > 4)"
   ]
  },
  {
   "cell_type": "code",
   "execution_count": 53,
   "metadata": {},
   "outputs": [
    {
     "name": "stdout",
     "output_type": "stream",
     "text": [
      "I =\n",
      "\n",
      "   1   2\n",
      "   3   4\n",
      "   5   6\n",
      "\n",
      "ans =\n",
      "\n",
      "    9   12\n",
      "\n",
      "ans =\n",
      "\n",
      "   15   48\n",
      "\n",
      "ans =\n",
      "\n",
      "   1   2\n",
      "   3   4\n",
      "   5   6\n",
      "\n"
     ]
    }
   ],
   "source": [
    "I\n",
    "\n",
    "sum(I) \n",
    "\n",
    "prod(I)\n",
    "\n",
    "floor(I)\n"
   ]
  },
  {
   "cell_type": "code",
   "execution_count": 54,
   "metadata": {},
   "outputs": [
    {
     "name": "stdout",
     "output_type": "stream",
     "text": [
      "j =\n",
      "\n",
      "   1.00000   0.50000   3.00000   1.30000\n",
      "\n",
      "ans =\n",
      "\n",
      "   1   0   3   1\n",
      "\n",
      "ans =  5.8000\n",
      "ans =\n",
      "\n",
      "   1   1   3   2\n",
      "\n"
     ]
    }
   ],
   "source": [
    "j = [1 .5 3 1.3]\n",
    "\n",
    "floor(j)\n",
    "\n",
    "sum(j)\n",
    "\n",
    "ceil(j)"
   ]
  },
  {
   "cell_type": "code",
   "execution_count": 55,
   "metadata": {},
   "outputs": [
    {
     "name": "stdout",
     "output_type": "stream",
     "text": [
      "ans =\n",
      "\n",
      "   0.40488   0.62538   0.73110\n",
      "   0.41185   0.51193   0.57007\n",
      "   0.73225   0.31696   0.69712\n",
      "\n",
      "ans =\n",
      "\n",
      "   0.71815   0.73444   0.63820\n",
      "   0.81531   0.94662   0.22199\n",
      "   0.68820   0.62622   0.17377\n",
      "\n"
     ]
    }
   ],
   "source": [
    "%Random 3x3 matrix\n",
    "rand(3)\n",
    "\n",
    "% element wise maxium of 2 3x3 matrix resulting in 3x3 matrix_type\n",
    "max(rand(3),rand(3))"
   ]
  },
  {
   "cell_type": "code",
   "execution_count": 56,
   "metadata": {},
   "outputs": [
    {
     "name": "stdout",
     "output_type": "stream",
     "text": [
      "MAG =\n",
      "\n",
      "   8   1   6\n",
      "   3   5   7\n",
      "   4   9   2\n",
      "\n",
      "ans =\n",
      "\n",
      "   8   9   7\n",
      "\n",
      "ans =\n",
      "\n",
      "   8\n",
      "   7\n",
      "   9\n",
      "\n",
      "ans =\n",
      "\n",
      "   8   9   7\n",
      "\n"
     ]
    }
   ],
   "source": [
    "MAG = magic(3)\n",
    "%Col max\n",
    "max(MAG,[],1)\n",
    "%Row max\n",
    "max(MAG,[],2)\n",
    "% Col Max\n",
    "max(MAG)"
   ]
  },
  {
   "cell_type": "code",
   "execution_count": 57,
   "metadata": {},
   "outputs": [
    {
     "name": "stdout",
     "output_type": "stream",
     "text": [
      "ans =\n",
      "\n",
      "   1\n",
      "   3\n",
      "   5\n",
      "   2\n",
      "   4\n",
      "   6\n",
      "\n"
     ]
    }
   ],
   "source": [
    "A(:)"
   ]
  },
  {
   "cell_type": "code",
   "execution_count": 58,
   "metadata": {},
   "outputs": [
    {
     "name": "stdout",
     "output_type": "stream",
     "text": [
      "ans =\n",
      "\n",
      "   4   9   2\n",
      "   3   5   7\n",
      "   8   1   6\n",
      "\n",
      "ans =\n",
      "\n",
      "   6   1   8\n",
      "   7   5   3\n",
      "   2   9   4\n",
      "\n"
     ]
    }
   ],
   "source": [
    "%Flip upside down\n",
    "flipud(MAG)\n",
    "%Flip Left to right\n",
    "fliplr(MAG)"
   ]
  },
  {
   "cell_type": "code",
   "execution_count": 59,
   "metadata": {},
   "outputs": [
    {
     "name": "stdout",
     "output_type": "stream",
     "text": [
      "ans =\n",
      "\n",
      "   0.147222  -0.144444   0.063889\n",
      "  -0.061111   0.022222   0.105556\n",
      "  -0.019444   0.188889  -0.102778\n",
      "\n",
      "ans =\n",
      "\n",
      "  1.0000e+000  2.0817e-016  -3.1641e-015\n",
      "  -6.1062e-015  1.0000e+000  6.2450e-015\n",
      "  3.0531e-015  4.1633e-017  1.0000e+000\n",
      "\n"
     ]
    }
   ],
   "source": [
    "%inverse\n",
    "pinv(MAG)\n",
    "\n",
    "pinv(MAG) * MAG"
   ]
  },
  {
   "cell_type": "code",
   "execution_count": 60,
   "metadata": {},
   "outputs": [
    {
     "data": {
      "image/png": "[encoded data removed]",
      "text/plain": [
       "<IPython.core.display.Image object>"
      ]
     },
     "metadata": {},
     "output_type": "display_data"
    }
   ],
   "source": [
    "% Plotting\n",
    "\n",
    "t = [0:0.01:0.98];\n",
    "y1 = sin(2*pi*4*t);\n",
    "plot(t,y1)"
   ]
  },
  {
   "cell_type": "code",
   "execution_count": 62,
   "metadata": {},
   "outputs": [
    {
     "data": {
      "image/png": "[encoded data removed]",
      "text/plain": [
       "<IPython.core.display.Image object>"
      ]
     },
     "metadata": {},
     "output_type": "display_data"
    }
   ],
   "source": [
    "y2 = cos(2*pi*4*t);\n",
    "hold on; %stack new plots\n",
    "plot(t,y2)\n",
    "plot(t,y1)"
   ]
  },
  {
   "cell_type": "code",
   "execution_count": 69,
   "metadata": {},
   "outputs": [
    {
     "data": {
      "image/png": "[encoded data removed]",
      "text/plain": [
       "<IPython.core.display.Image object>"
      ]
     },
     "metadata": {},
     "output_type": "display_data"
    }
   ],
   "source": [
    "hold on; %stack new plots\n",
    "%jupyter needs hold on at every cell. hold off in same cell\n",
    "plot(t,y1,'g')\n",
    "plot(t,y2,'r')"
   ]
  },
  {
   "cell_type": "code",
   "execution_count": 70,
   "metadata": {},
   "outputs": [
    {
     "data": {
      "image/png": "[encoded data removed]",
      "text/plain": [
       "<IPython.core.display.Image object>"
      ]
     },
     "metadata": {},
     "output_type": "display_data"
    }
   ],
   "source": [
    "hold on; %stack new plots\n",
    "%jupyter needs hold on at every cell. hold off in same cell\n",
    "plot(t,y1,'g')\n",
    "plot(t,y2,'r')\n",
    "\n",
    "xlabel('Time')\n",
    "ylabel('Value')\n",
    "legend('sin', 'cos')\n",
    "title('my plot')\n",
    "print -dpng 'myPlot.png'"
   ]
  },
  {
   "cell_type": "code",
   "execution_count": 72,
   "metadata": {},
   "outputs": [
    {
     "data": {
      "image/png": "[encoded data removed]",
      "text/plain": [
       "<IPython.core.display.Image object>"
      ]
     },
     "metadata": {},
     "output_type": "display_data"
    }
   ],
   "source": [
    "hold on; %stack new plots\n",
    "%jupyter needs hold on at every cell. hold off in same cell\n",
    "plot(t,y1,'g')\n",
    "plot(t,y2,'r')\n",
    "%close;"
   ]
  },
  {
   "cell_type": "code",
   "execution_count": 73,
   "metadata": {},
   "outputs": [
    {
     "data": {
      "image/png": "[encoded data removed]",
      "text/plain": [
       "<IPython.core.display.Image object>"
      ]
     },
     "metadata": {},
     "output_type": "display_data"
    },
    {
     "data": {
      "image/png": "[encoded data removed]",
      "text/plain": [
       "<IPython.core.display.Image object>"
      ]
     },
     "metadata": {},
     "output_type": "display_data"
    }
   ],
   "source": [
    "% Multiple figures\n",
    "figure(1); plot(t,y1)\n",
    "figure(2); plot(t,y2)\n",
    "%windows in console"
   ]
  },
  {
   "cell_type": "code",
   "execution_count": 74,
   "metadata": {},
   "outputs": [
    {
     "data": {
      "image/png": "[encoded data removed]",
      "text/plain": [
       "<IPython.core.display.Image object>"
      ]
     },
     "metadata": {},
     "output_type": "display_data"
    }
   ],
   "source": [
    "subplot(1,2,1)\n",
    "plot(t,y1)\n",
    "subplot(1,2,2)\n",
    "plot(t,y2)\n",
    "axis([0.5 1 -1 1])\n",
    "%clf"
   ]
  },
  {
   "cell_type": "code",
   "execution_count": 75,
   "metadata": {},
   "outputs": [
    {
     "name": "stderr",
     "output_type": "stream",
     "text": [
      "\u001b[1;31mInline plot failed, consider trying another graphics toolkit\n",
      "error: print: no axes object in figure to print\n",
      "error: called from\n",
      "    _make_figures>safe_print at line 122 column 7\n",
      "    _make_figures at line 44 column 13\n",
      "\n",
      "\u001b[0m"
     ]
    }
   ],
   "source": [
    "subplot(1,2,1)\n",
    "plot(t,y1)\n",
    "subplot(1,2,2)\n",
    "plot(t,y2)\n",
    "axis([0.5 1 -1 1])\n",
    "%clf"
   ]
  },
  {
   "cell_type": "code",
   "execution_count": 76,
   "metadata": {},
   "outputs": [
    {
     "name": "stdout",
     "output_type": "stream",
     "text": [
      "A =\n",
      "\n",
      "   17   24    1    8   15\n",
      "   23    5    7   14   16\n",
      "    4    6   13   20   22\n",
      "   10   12   19   21    3\n",
      "   11   18   25    2    9\n",
      "\n"
     ]
    },
    {
     "data": {
      "image/png": "[encoded data removed]",
      "text/plain": [
       "<IPython.core.display.Image object>"
      ]
     },
     "metadata": {},
     "output_type": "display_data"
    }
   ],
   "source": [
    "A = magic(5)\n",
    "\n",
    "figure(3)\n",
    "imagesc(A), colorbar %,colormap"
   ]
  },
  {
   "cell_type": "code",
   "execution_count": 77,
   "metadata": {},
   "outputs": [
    {
     "name": "stdout",
     "output_type": "stream",
     "text": [
      "a =  1\n",
      "b =  2\n",
      "c =  3\n"
     ]
    }
   ],
   "source": [
    "% Comma chaining commands\n",
    "a=1,b=2,c=3"
   ]
  },
  {
   "cell_type": "code",
   "execution_count": 79,
   "metadata": {},
   "outputs": [
    {
     "name": "stdout",
     "output_type": "stream",
     "text": [
      "v =\n",
      "\n",
      "   2\n",
      "   2\n",
      "   2\n",
      "   2\n",
      "   2\n",
      "   2\n",
      "   2\n",
      "   2\n",
      "   2\n",
      "   2\n",
      "\n"
     ]
    }
   ],
   "source": [
    "% for loop\n",
    "v = zeros(10,1);\n",
    "for i = 1:10, \n",
    "  v(i) = 2^1;\n",
    "endfor;\n",
    "v"
   ]
  },
  {
   "cell_type": "code",
   "execution_count": 80,
   "metadata": {},
   "outputs": [
    {
     "name": "stdout",
     "output_type": "stream",
     "text": [
      "v =\n",
      "\n",
      "   100\n",
      "   100\n",
      "   100\n",
      "   100\n",
      "   100\n",
      "     2\n",
      "     2\n",
      "     2\n",
      "     2\n",
      "     2\n",
      "\n"
     ]
    }
   ],
   "source": [
    "in = 1;\n",
    "while in <= 5,  \n",
    "  v(in) = 100;\n",
    "  in = in + 1;\n",
    "endwhile;\n",
    "v"
   ]
  },
  {
   "cell_type": "code",
   "execution_count": 81,
   "metadata": {},
   "outputs": [
    {
     "name": "stdout",
     "output_type": "stream",
     "text": [
      "v =\n",
      "\n",
      "   999\n",
      "   999\n",
      "   999\n",
      "   999\n",
      "   999\n",
      "     2\n",
      "     2\n",
      "     2\n",
      "     2\n",
      "     2\n",
      "\n"
     ]
    }
   ],
   "source": [
    "in = 1;\n",
    "while true,\n",
    "  v(in) = 999;\n",
    "  in = in + 1;\n",
    "  if in == 6,\n",
    "    break;\n",
    "   end;\n",
    " end;\n",
    " v"
   ]
  },
  {
   "cell_type": "code",
   "execution_count": 82,
   "metadata": {},
   "outputs": [
    {
     "name": "stdout",
     "output_type": "stream",
     "text": [
      "Yoof\n"
     ]
    }
   ],
   "source": [
    " if v(1) == 1,\n",
    "   disp('Yo');\n",
    " elseif v(1) == 'wd'\n",
    "   disp('hh');\n",
    "  else \n",
    "   disp('Yoof');\n",
    " end;"
   ]
  },
  {
   "cell_type": "code",
   "execution_count": 83,
   "metadata": {},
   "outputs": [],
   "source": [
    "%addpath(<dir>)"
   ]
  }
 ],
 "metadata": {
  "kernelspec": {
   "display_name": "Octave",
   "language": "octave",
   "name": "octave"
  },
  "language_info": {
   "file_extension": ".m",
   "help_links": [
    {
     "text": "GNU Octave",
     "url": "https://www.gnu.org/software/octave/support.html"
    },
    {
     "text": "Octave Kernel",
     "url": "https://github.com/Calysto/octave_kernel"
    },
    {
     "text": "MetaKernel Magics",
     "url": "https://github.com/calysto/metakernel/blob/master/metakernel/magics/README.md"
    }
   ],
   "mimetype": "text/x-octave",
   "name": "octave",
   "version": "4.4.0"
  }
 },
 "nbformat": 4,
 "nbformat_minor": 2
}
