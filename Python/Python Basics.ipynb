{
 "cells": [
  {
   "cell_type": "markdown",
   "metadata": {},
   "source": [
    "# Python Basics\n",
    "\n",
    "This notebook provides you with some of the basics of the Python language.\n",
    "\n",
    "[Introduction](#introduction)  \n",
    "[Syntax](#syntax)  \n",
    "[Comments](#comments)  \n",
    "&emsp;[Single Line Comments](#comments_single)  \n",
    "&emsp;[Multiline Comments](#comments_multi)  \n",
    "[Variables](#variables)  \n",
    "&emsp;[Rules](#variables-rules)  \n",
    "[Data Types](#dtypes)   \n",
    "&emsp;[Integer (Int)](#dtypes-int)  \n",
    "&emsp;[Float](#dtypes-float)  \n",
    "&emsp;[Booleans](#dtypes-bool)  \n",
    "&emsp;&emsp;[Comparison Operators](#dtypes-bool-compare)  \n",
    "&emsp;&emsp;&emsp;[Equal To (==)](#dtypes-bool-compare-equalto)    \n",
    "&emsp;&emsp;&emsp;[Not Equal To (!=)](#dtypes-bool-compare-notequalto)  \n",
    "&emsp;&emsp;&emsp;[Greater Than (>) and Less Than (<)](#dtypes-bool-compare-greaterlessthan)  \n",
    "&emsp;&emsp;&emsp;[Greater Than or Equal To (>=) and Less Than or Equal To (<=)](#dtypes-bool-compare-greaterLessThanEqual)  \n",
    "&emsp;[Strings](#dtypes-strings)  \n",
    "&emsp;&emsp;[Escape Characters](#dtypes-strings-escChar)  \n",
    "&emsp;&emsp;[Raw string literals](#dtypes-strings-rawStrLit)  \n",
    "&emsp;&emsp;[String Methods](#dtypes-strings-strMeth)  \n",
    "&emsp;&emsp;[String Slicing](#dtypes-strings-strSlice)  \n",
    "&emsp;&emsp;[Miscellaneous String Functions](#dtypes-strings-misc)   \n",
    "[Dictionaries](#dictionary)  \n",
    "&emsp;[Accessing dictionary items](#dictionary-access)  \n",
    "&emsp;&emsp;[Accessing all keys or all values](#dictionary-access-all)  \n",
    "&emsp;&emsp;[Testing if key exists](#dictionary-access-test)  \n",
    "&emsp;&emsp;[Accessing values using the get() method](#dictionary-access-get)  \n",
    "&emsp;&emsp;[Updating Dictionary Values](#dictionary-update)  \n",
    "&emsp;&emsp;[Adding new dictionary items](#dictionary-add)  \n",
    "&emsp;&emsp;[Declaring Empty Dictionaries](#dictionary-empty)  \n",
    "&emsp;&emsp;[Store Other Data Types](#dictionary-otherType)  \n",
    "&emsp;[Nested Dictionary](#dictionary-nested)  \n",
    "&emsp;&emsp;[Nested Lists in Dictionaries](#dictionary-nested-lists)  \n",
    "[Looping](#looping)  \n",
    "&emsp;[for Loops](#looping-forLoop)  \n",
    "&emsp;&emsp;[Looping through lists](#looping-lists)  \n",
    "&emsp;&emsp;[Loops with mutliple variables](#looping-multiVars)  \n",
    "&emsp;&emsp;[Looping through Dictionaries](#looping-dict)  \n",
    "&emsp;&emsp;[Looping through keys](#looping-dictKeys)  \n",
    "&emsp;&emsp;[Looping through values](#looping-dictVals)  \n",
    "&emsp;&emsp;[Looping through both keys and values](#looping-dictKeysVals)  \n",
    "&emsp;[while Loops](#looping-while)"
   ]
  },
  {
   "cell_type": "code",
   "execution_count": null,
   "metadata": {},
   "outputs": [],
   "source": []
  },
  {
   "cell_type": "code",
   "execution_count": null,
   "metadata": {},
   "outputs": [],
   "source": []
  },
  {
   "cell_type": "code",
   "execution_count": null,
   "metadata": {},
   "outputs": [],
   "source": []
  },
  {
   "cell_type": "markdown",
   "metadata": {},
   "source": [
    "## Introduction <a id=\"introduction\"></a>\n",
    "\n",
    "Python is a high-level, general-purpose programming language. It was created by Guido van Rossum and first released in 1991.  \n",
    "\n",
    "Python's design philosophy emphasizes code readability with its use of significant whitespace and its object-oriented approach aim to help programmers write clear, logical code.\n",
    "\n",
    "It is an interpreted language, meaning that code is read and executed line by line instead as opposed to compiling it.\n",
    "\n",
    "Its high-level built in data structures and a number of extensive libraries.\n",
    "\n",
    "It is a dynamically typed language, which is a language associated with run-time values, meaning you can write code a little quicker because you do not have to specify variable types every time they are declared.\n",
    "\n",
    "As of late 2019, Python has become one of the most widley used programming languages and its popularity continues to rise.\n"
   ]
  },
  {
   "cell_type": "markdown",
   "metadata": {},
   "source": [
    "## Syntax <a id=\"syntax\"></a>\n",
    "\n",
    "Unlike most programming languages, statements and code blocks are delimited by carriage returns (new lines) and indentation rather than curly braces, \"begin/end\" keywords or semicolons.\n",
    "\n",
    "For example, in C++, a print statement, a variable assignment and an if...else statement might look like:\n",
    "\n",
    "```C++\n",
    "cout << \"Hello\"; \n",
    "bool i = false;\n",
    "if (i == true) \n",
    "{ \n",
    "    cout << \"Yes\"; \n",
    "}\n",
    "else\n",
    "{ \n",
    "    cout << \"No\"; \n",
    "}\n",
    "```\n",
    "\n",
    "Since statements are delimited by semicolons and the blocks in the if...else statements by curly brackets, the code can be rearranged to a single line as:\n",
    "\n",
    "```C++\n",
    "bool i = false; cout << \"Hello\"; if (i == true) { cout << \"Yes\"; } else { cout << \"No\"; }\n",
    "```\n",
    "\n",
    "However, a similar program in Python would look like:\n",
    "\n",
    "```python \n",
    "print(\"Hello\")\n",
    "i = True\n",
    "if i == True:\n",
    "    print(\"Yes\")\n",
    "else:\n",
    "    print(\"No\")\n",
    "```\n",
    "\n",
    "With Python, the syntax is stricter.\n",
    "\n",
    "The first print statement and the variable declaration are delimited by a carriage return. They need to be on separate lines for the program to be parsed correctly.\n",
    "\n",
    "The if and else statements also have to be on separate lines and anything in their repective code blocks must be indented with four spaces.\n",
    "\n",
    "Consequently, nested statements need to be indented further:\n",
    "\n",
    "```python \n",
    "print(\"Hello\")\n",
    "i = True\n",
    "j = False\n",
    "if i == True:\n",
    "    if j == True:\n",
    "        print(\"Yes\")\n",
    "    else:\n",
    "        print(\"No\")\n",
    "else:\n",
    "    print(\"No\")\n",
    "```\n",
    "\n",
    "However, code blocks with single statements can be written inline:\n",
    "\n",
    "```python \n",
    "print(\"Hello\")\n",
    "i = True\n",
    "j = False\n",
    "if i == True:\n",
    "    if j == True: print(\"Yes\")\n",
    "    else: print(\"No\")\n",
    "else: print(\"No\")\n",
    "```\n",
    "\n",
    "The nuances of Python's syntax will be revealed as different concepts are explained.\n",
    "\n",
    "More on if...else statements is explained in ##ANCHOR.\n"
   ]
  },
  {
   "cell_type": "code",
   "execution_count": 28,
   "metadata": {},
   "outputs": [
    {
     "name": "stdout",
     "output_type": "stream",
     "text": [
      "Hello\n",
      "Yes\n"
     ]
    }
   ],
   "source": [
    "print(\"Hello\")\n",
    "i = True\n",
    "if i == True:\n",
    "    print(\"Yes\")\n",
    "else:\n",
    "    print(\"No\")"
   ]
  },
  {
   "cell_type": "code",
   "execution_count": 29,
   "metadata": {},
   "outputs": [
    {
     "name": "stdout",
     "output_type": "stream",
     "text": [
      "Hello\n",
      "Yes\n"
     ]
    }
   ],
   "source": [
    "print(\"Hello\")\n",
    "i = True\n",
    "if i == True: print(\"Yes\")\n",
    "else: print(\"No\")"
   ]
  },
  {
   "cell_type": "code",
   "execution_count": 30,
   "metadata": {},
   "outputs": [
    {
     "name": "stdout",
     "output_type": "stream",
     "text": [
      "Hello\n",
      "No\n"
     ]
    }
   ],
   "source": [
    "print(\"Hello\")\n",
    "i = True\n",
    "j = False\n",
    "if i == True:\n",
    "    if j == True:\n",
    "        print(\"Yes\")\n",
    "    else:\n",
    "        print(\"No\")\n",
    "else:\n",
    "    print(\"No\")"
   ]
  },
  {
   "cell_type": "code",
   "execution_count": 31,
   "metadata": {},
   "outputs": [
    {
     "ename": "SyntaxError",
     "evalue": "invalid syntax (1298245331.py, line 3)",
     "output_type": "error",
     "traceback": [
      "\u001b[1;36m  Cell \u001b[1;32mIn[31], line 3\u001b[1;36m\u001b[0m\n\u001b[1;33m    i = True j = False #Invalid Syntax\u001b[0m\n\u001b[1;37m             ^\u001b[0m\n\u001b[1;31mSyntaxError\u001b[0m\u001b[1;31m:\u001b[0m invalid syntax\n"
     ]
    }
   ],
   "source": [
    "\"\"\"Will Not Run\"\"\"\n",
    "print(\"Hello\")\n",
    "i = True j = False #Invalid Syntax\n",
    "if i == True:\n",
    "    if j == True:\n",
    "        print(\"Yes\")\n",
    "    else:\n",
    "        print(\"No\")\n",
    "else:\n",
    "    print(\"No\")"
   ]
  },
  {
   "cell_type": "markdown",
   "metadata": {},
   "source": [
    "## Comments <a id=\"comments\"></a>\n",
    "\n",
    "Comments are used to document code, add notes to the code, etc.\n",
    "\n",
    "Any text within or after a comment tag is ignored when ran.\n",
    "\n",
    "There are two ways to comment in Python:\n",
    "\n",
    "### Single line comments <a id=\"comments_single\"></a>\n",
    "Use the \"#\" symbol to indicate a single line comment. Anything after the \"#\" on the same line will be rendered as a comment"
   ]
  },
  {
   "cell_type": "code",
   "execution_count": 10,
   "metadata": {},
   "outputs": [
    {
     "name": "stdout",
     "output_type": "stream",
     "text": [
      "Hello\n"
     ]
    }
   ],
   "source": [
    "# Single \n",
    "print(\"Hello\") #line\n",
    "# Comment"
   ]
  },
  {
   "cell_type": "markdown",
   "metadata": {},
   "source": [
    "### Multiline Comments <a id=\"comments_multi\"></a>\n",
    "Using \"\"\" or 3 quotation marks next to eachother will begin and end multiline comments.\n",
    "\n",
    "Anything in between two sets of these 3 quotation marks will be treated as a comment, regardless of how many lines they span."
   ]
  },
  {
   "cell_type": "code",
   "execution_count": 4,
   "metadata": {},
   "outputs": [
    {
     "data": {
      "text/plain": [
       "'\\n\\nAnything in between these sets of 3 quotation marks\\n\\nwill be commented out\\n\\nprint(\"Hello\")\\n\\nr = 5 + 7\\n\\n'"
      ]
     },
     "execution_count": 4,
     "metadata": {},
     "output_type": "execute_result"
    }
   ],
   "source": [
    "\"\"\"\n",
    "\n",
    "Anything in between these sets of 3 quotation marks\n",
    "\n",
    "will be commented out\n",
    "\n",
    "print(\"Hello\")\n",
    "\n",
    "r = 5 + 7\n",
    "\n",
    "\"\"\""
   ]
  },
  {
   "cell_type": "markdown",
   "metadata": {},
   "source": [
    "## Variables <a id=\"variables\"></a>\n",
    "Variables are used as a means to store values for making an easy reference to it."
   ]
  },
  {
   "cell_type": "code",
   "execution_count": 25,
   "metadata": {},
   "outputs": [
    {
     "name": "stdout",
     "output_type": "stream",
     "text": [
      "1 2\n"
     ]
    }
   ],
   "source": [
    "x = 1\n",
    "y = 2\n",
    "print(x, y)"
   ]
  },
  {
   "cell_type": "markdown",
   "metadata": {},
   "source": [
    "Variables are treated like the data type they contain"
   ]
  },
  {
   "cell_type": "code",
   "execution_count": 26,
   "metadata": {},
   "outputs": [
    {
     "name": "stdout",
     "output_type": "stream",
     "text": [
      "3 3 3\n"
     ]
    }
   ],
   "source": [
    "z1 = 1 + 2\n",
    "z2 = x + y\n",
    "print(1 + 2, z1, z2)"
   ]
  },
  {
   "cell_type": "markdown",
   "metadata": {},
   "source": [
    "### Rules <a id=\"variables-rules\"></a>\n",
    "* Variables can only contain alpha-numeric characters and underscores (A-Z, a-z, 0-9, and _ )\n",
    "* Variables must start with a letter (A-Z, a-z) or the underscore character (_)\n",
    "* Variables cannot start with a number (0-9)\n",
    "* Variable names are case-sensitive (e.g. XYZ, xyz, XyZ are three different variables)"
   ]
  },
  {
   "cell_type": "code",
   "execution_count": 27,
   "metadata": {},
   "outputs": [
    {
     "ename": "SyntaxError",
     "evalue": "invalid decimal literal (3457066479.py, line 4)",
     "output_type": "error",
     "traceback": [
      "\u001b[1;36m  Cell \u001b[1;32mIn[27], line 4\u001b[1;36m\u001b[0m\n\u001b[1;33m    1st = 1 #Invalid (will throw an error)\u001b[0m\n\u001b[1;37m    ^\u001b[0m\n\u001b[1;31mSyntaxError\u001b[0m\u001b[1;31m:\u001b[0m invalid decimal literal\n"
     ]
    }
   ],
   "source": [
    "a = 1 #Valid\n",
    "Abc = 1 #Valid\n",
    "_VarVal = 1 #Valid\n",
    "1st = 1 #Invalid (will throw an error)\n",
    "@!^ = 1 #Invalid"
   ]
  },
  {
   "cell_type": "markdown",
   "metadata": {},
   "source": [
    "## Data Types <a id=\"dtypes\"></a>\n",
    "\n",
    "Like all programming languages, Python offers several built-in data types"
   ]
  },
  {
   "cell_type": "markdown",
   "metadata": {},
   "source": [
    "### Integer (Int) <a id=\"dtypes-int\"></a>\n",
    "\n",
    "An integer, or commonly written as int, is a whole number that can be positive or negative."
   ]
  },
  {
   "cell_type": "code",
   "execution_count": 2,
   "metadata": {},
   "outputs": [
    {
     "data": {
      "text/plain": [
       "123"
      ]
     },
     "execution_count": 2,
     "metadata": {},
     "output_type": "execute_result"
    }
   ],
   "source": [
    "# The integer 123\n",
    "123"
   ]
  },
  {
   "cell_type": "code",
   "execution_count": 4,
   "metadata": {},
   "outputs": [
    {
     "data": {
      "text/plain": [
       "-4545"
      ]
     },
     "execution_count": 4,
     "metadata": {},
     "output_type": "execute_result"
    }
   ],
   "source": [
    "# The negative integer -4545\n",
    "-4545"
   ]
  },
  {
   "cell_type": "code",
   "execution_count": 5,
   "metadata": {},
   "outputs": [
    {
     "data": {
      "text/plain": [
       "387582278533"
      ]
     },
     "execution_count": 5,
     "metadata": {},
     "output_type": "execute_result"
    }
   ],
   "source": [
    "# Assign the large integer 387582278533 to the variable x\n",
    "x = 387582278533\n",
    "x"
   ]
  },
  {
   "cell_type": "markdown",
   "metadata": {},
   "source": [
    "### Float <a id=\"dtypes-float\"></a>\n",
    "\n",
    "A float, or floating point number, is a positive or negative number with one or more decimals.\n",
    "\n",
    "Even if a number contains a trailing zero it is still considered a float."
   ]
  },
  {
   "cell_type": "code",
   "execution_count": 6,
   "metadata": {},
   "outputs": [
    {
     "data": {
      "text/plain": [
       "62.15"
      ]
     },
     "execution_count": 6,
     "metadata": {},
     "output_type": "execute_result"
    }
   ],
   "source": [
    "# The float 62.15\n",
    "62.15"
   ]
  },
  {
   "cell_type": "code",
   "execution_count": 7,
   "metadata": {},
   "outputs": [
    {
     "data": {
      "text/plain": [
       "-52.4382752842"
      ]
     },
     "execution_count": 7,
     "metadata": {},
     "output_type": "execute_result"
    }
   ],
   "source": [
    "# The float -52.4382752842\n",
    "-52.4382752842"
   ]
  },
  {
   "cell_type": "code",
   "execution_count": 9,
   "metadata": {},
   "outputs": [
    {
     "data": {
      "text/plain": [
       "342188.0"
      ]
     },
     "execution_count": 9,
     "metadata": {},
     "output_type": "execute_result"
    }
   ],
   "source": [
    "# The float 342188.0\n",
    "# Despite the number having a 0 in the decimal place, it is still a float\n",
    "342188.0"
   ]
  },
  {
   "cell_type": "code",
   "execution_count": 19,
   "metadata": {},
   "outputs": [
    {
     "data": {
      "text/plain": [
       "53.0"
      ]
     },
     "execution_count": 19,
     "metadata": {},
     "output_type": "execute_result"
    }
   ],
   "source": [
    "# The float 53.000000\n",
    "# The number of trailing zeros does not make a difference\n",
    "53.000000"
   ]
  },
  {
   "cell_type": "code",
   "execution_count": 12,
   "metadata": {},
   "outputs": [
    {
     "data": {
      "text/plain": [
       "535.11"
      ]
     },
     "execution_count": 12,
     "metadata": {},
     "output_type": "execute_result"
    }
   ],
   "source": [
    "# Assign the float 535.11 to variable y\n",
    "y = 535.11\n",
    "y"
   ]
  },
  {
   "cell_type": "code",
   "execution_count": 13,
   "metadata": {},
   "outputs": [
    {
     "data": {
      "text/plain": [
       "114.2"
      ]
     },
     "execution_count": 13,
     "metadata": {},
     "output_type": "execute_result"
    }
   ],
   "source": [
    "# Assign the float 114.2 to variable z\n",
    "z = 114.2\n",
    "z"
   ]
  },
  {
   "cell_type": "code",
   "execution_count": 14,
   "metadata": {},
   "outputs": [
    {
     "data": {
      "text/plain": [
       "61109.562000000005"
      ]
     },
     "execution_count": 14,
     "metadata": {},
     "output_type": "execute_result"
    }
   ],
   "source": [
    "# Multiply two floats y and z\n",
    "y * z"
   ]
  },
  {
   "cell_type": "markdown",
   "metadata": {},
   "source": [
    "It is also possible to perform arithmetic operations on integers and floats.\n",
    "\n",
    "The result will always be a float."
   ]
  },
  {
   "cell_type": "code",
   "execution_count": 21,
   "metadata": {},
   "outputs": [
    {
     "data": {
      "text/plain": [
       "441.637"
      ]
     },
     "execution_count": 21,
     "metadata": {},
     "output_type": "execute_result"
    }
   ],
   "source": [
    "# Integer 443 minus float 1.363\n",
    "443 - 1.363"
   ]
  },
  {
   "cell_type": "markdown",
   "metadata": {},
   "source": [
    "You can convert an integer to a float by adding or subtracting 0.0 from an integer or multiplying or dividing 1.0 from an integer."
   ]
  },
  {
   "cell_type": "code",
   "execution_count": 24,
   "metadata": {},
   "outputs": [
    {
     "data": {
      "text/plain": [
       "299.0"
      ]
     },
     "execution_count": 24,
     "metadata": {},
     "output_type": "execute_result"
    }
   ],
   "source": [
    "# Integer 299 plus float 0.0 results in float 299.0 \n",
    "299 + 0.0"
   ]
  },
  {
   "cell_type": "code",
   "execution_count": 25,
   "metadata": {},
   "outputs": [
    {
     "data": {
      "text/plain": [
       "100.0"
      ]
     },
     "execution_count": 25,
     "metadata": {},
     "output_type": "execute_result"
    }
   ],
   "source": [
    "# Integer 100 multiplied by float 1.0 results in float 100.0\n",
    "100 * 1.0"
   ]
  },
  {
   "cell_type": "markdown",
   "metadata": {},
   "source": [
    "You can also represent floats using scientific notation.\n",
    "\n",
    "Scientific notation is a method of representing very large or very small numbers in a simple shorthand format.\n",
    "\n",
    "It is formated as \\<num1\\>e\\<num2\\>, which is shorthand for num1 x 10^num2\n",
    "\n",
    "For example, 2.3e4 = 2.3 x 10^4 = 23000\n",
    "\n",
    "790e-3 = 790 x 10^-3 = .790"
   ]
  },
  {
   "cell_type": "code",
   "execution_count": 1,
   "metadata": {},
   "outputs": [
    {
     "data": {
      "text/plain": [
       "3500000.0"
      ]
     },
     "execution_count": 1,
     "metadata": {},
     "output_type": "execute_result"
    }
   ],
   "source": [
    "# Same result as 35 * 10^5\n",
    "35e5"
   ]
  },
  {
   "cell_type": "code",
   "execution_count": 2,
   "metadata": {},
   "outputs": [
    {
     "data": {
      "text/plain": [
       "0.00439"
      ]
     },
     "execution_count": 2,
     "metadata": {},
     "output_type": "execute_result"
    }
   ],
   "source": [
    "# Same result as 43.9 * 10**-4\n",
    "43.9e-4"
   ]
  },
  {
   "cell_type": "markdown",
   "metadata": {},
   "source": [
    "### Booleans <a id=\"dtypes-bool\"></a>\n",
    "\n",
    "A Boolean (or bool) data type is a value that can only be represented as either one of two possible states. In programming languages, it is typically represented as true or false, and in some circumstances, it can be represented in binary as 1 or 0.\n",
    "\n",
    "Booleans are mainly used in logical programming operations. This includes control statements, such as \"if-else\" sattements and loops.\n",
    "\n",
    "In Python, the possible Boolean values are True and False. "
   ]
  },
  {
   "cell_type": "code",
   "execution_count": 1,
   "metadata": {},
   "outputs": [
    {
     "data": {
      "text/plain": [
       "True"
      ]
     },
     "execution_count": 1,
     "metadata": {},
     "output_type": "execute_result"
    }
   ],
   "source": [
    "True"
   ]
  },
  {
   "cell_type": "code",
   "execution_count": 2,
   "metadata": {},
   "outputs": [
    {
     "data": {
      "text/plain": [
       "False"
      ]
     },
     "execution_count": 2,
     "metadata": {},
     "output_type": "execute_result"
    }
   ],
   "source": [
    "False"
   ]
  },
  {
   "cell_type": "markdown",
   "metadata": {},
   "source": [
    "Both values begin with a capital T and F respectively and are not surrounded by quotes. If they they were, they would be interpreted as a string"
   ]
  },
  {
   "cell_type": "code",
   "execution_count": 3,
   "metadata": {},
   "outputs": [
    {
     "data": {
      "text/plain": [
       "'True'"
      ]
     },
     "execution_count": 3,
     "metadata": {},
     "output_type": "execute_result"
    }
   ],
   "source": [
    "# seen as a string, not a boolean\n",
    "\"True\""
   ]
  },
  {
   "cell_type": "markdown",
   "metadata": {},
   "source": [
    "#### Comparison Operators <a id=\"dtypes-bool-compare\"></a>\n",
    "\n",
    "Comparison operators are used to convey logic. When a comparison operator is used in a statement of code, a boolean value is returned.\n",
    "\n",
    "When a comparison operator is satisfied, True is returned. If not false is returned.\n",
    "\n",
    "Any data type can be used in a comparison. Typically, values of the same data type are compared, but different data types can be compared to some extent.\n",
    "\n",
    "The comparison operators used in Python are typical operators used in other programming languages."
   ]
  },
  {
   "cell_type": "markdown",
   "metadata": {},
   "source": [
    "##### Equal To (==) <a id=\"dtypes-bool-compare-equalto\"></a>\n",
    "\n",
    "The == operator compares two operators to see if they are equivalent.\n",
    "\n",
    "If they are equivalent, True is returned. If not, False is returned."
   ]
  },
  {
   "cell_type": "code",
   "execution_count": 32,
   "metadata": {},
   "outputs": [
    {
     "data": {
      "text/plain": [
       "True"
      ]
     },
     "execution_count": 32,
     "metadata": {},
     "output_type": "execute_result"
    }
   ],
   "source": [
    "# Comparing bools True and True. Returns True.\n",
    "\n",
    "True == True"
   ]
  },
  {
   "cell_type": "code",
   "execution_count": 33,
   "metadata": {},
   "outputs": [
    {
     "data": {
      "text/plain": [
       "False"
      ]
     },
     "execution_count": 33,
     "metadata": {},
     "output_type": "execute_result"
    }
   ],
   "source": [
    "# Comparing bools False and True. Returns False.\n",
    "\n",
    "False == True"
   ]
  },
  {
   "cell_type": "code",
   "execution_count": 34,
   "metadata": {},
   "outputs": [
    {
     "data": {
      "text/plain": [
       "False"
      ]
     },
     "execution_count": 34,
     "metadata": {},
     "output_type": "execute_result"
    }
   ],
   "source": [
    "# Comparing numbers 10 and 34. Returns False\n",
    "\n",
    "10 == 34"
   ]
  },
  {
   "cell_type": "code",
   "execution_count": 35,
   "metadata": {},
   "outputs": [
    {
     "data": {
      "text/plain": [
       "True"
      ]
     },
     "execution_count": 35,
     "metadata": {},
     "output_type": "execute_result"
    }
   ],
   "source": [
    "# Comparing strings 'Hello' and \"Hello\". Returns true.\n",
    "\n",
    "'Hello' == \"Hello\""
   ]
  },
  {
   "cell_type": "markdown",
   "metadata": {},
   "source": [
    "Comparisons can also be made with variables. As you will see, this is common when using control statements."
   ]
  },
  {
   "cell_type": "code",
   "execution_count": 36,
   "metadata": {},
   "outputs": [
    {
     "data": {
      "text/plain": [
       "True"
      ]
     },
     "execution_count": 36,
     "metadata": {},
     "output_type": "execute_result"
    }
   ],
   "source": [
    "# Assign 25 to variable x\n",
    "x = 25\n",
    "\n",
    "# Check if x is equal to 25. Returns True.\n",
    "x == 25"
   ]
  },
  {
   "cell_type": "markdown",
   "metadata": {},
   "source": [
    "Comparisons can be made with two variables as well."
   ]
  },
  {
   "cell_type": "code",
   "execution_count": 37,
   "metadata": {},
   "outputs": [
    {
     "data": {
      "text/plain": [
       "False"
      ]
     },
     "execution_count": 37,
     "metadata": {},
     "output_type": "execute_result"
    }
   ],
   "source": [
    "# Assign 104 to variable y\n",
    "y = 104\n",
    "\n",
    "# Check if x (25) is equal to y (104). Returns False.\n",
    "x == y"
   ]
  },
  {
   "cell_type": "markdown",
   "metadata": {},
   "source": [
    "##### Not Equal To (!=) <a id=\"dtypes-bool-compare-notequalto\"></a>\n",
    "\n",
    "The != operator has the opposite functionality of the == operator.\n",
    "\n",
    "Rather than checking if two values are equivalent, it checks to see if they are not equivalent.\n",
    "\n",
    "If they are not equivalent, True is returned. If they are, False is returned."
   ]
  },
  {
   "cell_type": "code",
   "execution_count": 2,
   "metadata": {},
   "outputs": [
    {
     "data": {
      "text/plain": [
       "True"
      ]
     },
     "execution_count": 2,
     "metadata": {},
     "output_type": "execute_result"
    }
   ],
   "source": [
    "# Checks if True does not equal False. Returns True\n",
    "\n",
    "True != False"
   ]
  },
  {
   "cell_type": "code",
   "execution_count": 3,
   "metadata": {},
   "outputs": [
    {
     "data": {
      "text/plain": [
       "False"
      ]
     },
     "execution_count": 3,
     "metadata": {},
     "output_type": "execute_result"
    }
   ],
   "source": [
    "# Checks if True does not equal True. Returns False.\n",
    "\n",
    "True != True"
   ]
  },
  {
   "cell_type": "code",
   "execution_count": 1,
   "metadata": {},
   "outputs": [
    {
     "data": {
      "text/plain": [
       "True"
      ]
     },
     "execution_count": 1,
     "metadata": {},
     "output_type": "execute_result"
    }
   ],
   "source": [
    "# Checks if the string \"Hello\" is not equal to \"Goodbye\". Returns True.\n",
    "\n",
    "\"Hello\" != \"Goodbye\""
   ]
  },
  {
   "cell_type": "code",
   "execution_count": 4,
   "metadata": {},
   "outputs": [
    {
     "data": {
      "text/plain": [
       "False"
      ]
     },
     "execution_count": 4,
     "metadata": {},
     "output_type": "execute_result"
    }
   ],
   "source": [
    "# Checks if 43 is not equal to 43. Returns False.\n",
    "\n",
    "43 != 43"
   ]
  },
  {
   "cell_type": "code",
   "execution_count": 5,
   "metadata": {},
   "outputs": [
    {
     "data": {
      "text/plain": [
       "True"
      ]
     },
     "execution_count": 5,
     "metadata": {},
     "output_type": "execute_result"
    }
   ],
   "source": [
    "# Assign 200 to variable x\n",
    "x = 200\n",
    "\n",
    "# Test if x is not equal to 201. Returns True.\n",
    "x != 201"
   ]
  },
  {
   "cell_type": "code",
   "execution_count": 6,
   "metadata": {},
   "outputs": [
    {
     "data": {
      "text/plain": [
       "False"
      ]
     },
     "execution_count": 6,
     "metadata": {},
     "output_type": "execute_result"
    }
   ],
   "source": [
    "# Assign 200 to variable y\n",
    "y = 200\n",
    "\n",
    "# Test if x is not equal y. Returns False.\n",
    "x != y"
   ]
  },
  {
   "cell_type": "markdown",
   "metadata": {},
   "source": [
    "##### Greater Than (>) and Less Than (<) <a id=\"dtypes-bool-compare-greaterlessthan\"></a>\n",
    "\n",
    "The > and < operators compare two values and tests if one is a greater or lesser value than the other.\n",
    "\n",
    "The > operator tests if the value on the left is a greater value than the value on the right. If it is, True is returned.\n",
    "\n",
    "Similarly, the < operator tests if the value on the left is less than the value on the right. If it is, True is retruned.\n",
    "\n",
    "These operators are mainly used to compare integers. However, other data types can be compared as well."
   ]
  },
  {
   "cell_type": "code",
   "execution_count": 2,
   "metadata": {},
   "outputs": [
    {
     "data": {
      "text/plain": [
       "True"
      ]
     },
     "execution_count": 2,
     "metadata": {},
     "output_type": "execute_result"
    }
   ],
   "source": [
    "# Check if 31 is greater than 14. Returns True.\n",
    "\n",
    "31 > 14"
   ]
  },
  {
   "cell_type": "code",
   "execution_count": 3,
   "metadata": {},
   "outputs": [
    {
     "data": {
      "text/plain": [
       "False"
      ]
     },
     "execution_count": 3,
     "metadata": {},
     "output_type": "execute_result"
    }
   ],
   "source": [
    "# Check if 31 is less than 14. Returns False.\n",
    "\n",
    "31 < 14"
   ]
  },
  {
   "cell_type": "code",
   "execution_count": 4,
   "metadata": {},
   "outputs": [
    {
     "data": {
      "text/plain": [
       "False"
      ]
     },
     "execution_count": 4,
     "metadata": {},
     "output_type": "execute_result"
    }
   ],
   "source": [
    "# Check if 123 is greater than 123. Returns False.\n",
    "\n",
    "123 > 123"
   ]
  },
  {
   "cell_type": "code",
   "execution_count": 5,
   "metadata": {},
   "outputs": [
    {
     "data": {
      "text/plain": [
       "True"
      ]
     },
     "execution_count": 5,
     "metadata": {},
     "output_type": "execute_result"
    }
   ],
   "source": [
    "# Check if float 12.425 is less than 12.426. Returns True.\n",
    "\n",
    "12.425 < 12.426"
   ]
  },
  {
   "cell_type": "code",
   "execution_count": 6,
   "metadata": {},
   "outputs": [
    {
     "data": {
      "text/plain": [
       "False"
      ]
     },
     "execution_count": 6,
     "metadata": {},
     "output_type": "execute_result"
    }
   ],
   "source": [
    "# Check if string \"Hello\" is greater than \"hello\". Returns False.\n",
    "\n",
    "\"Hello\" > \"hello\""
   ]
  },
  {
   "cell_type": "code",
   "execution_count": 8,
   "metadata": {},
   "outputs": [
    {
     "data": {
      "text/plain": [
       "True"
      ]
     },
     "execution_count": 8,
     "metadata": {},
     "output_type": "execute_result"
    }
   ],
   "source": [
    "# Check if string \"Hello\" is less than \"hello\". Returns True.\n",
    "\n",
    "\"Hello\" < \"hello\""
   ]
  },
  {
   "cell_type": "code",
   "execution_count": 6,
   "metadata": {},
   "outputs": [],
   "source": [
    "# Assigning 98 to variable x\n",
    "x = 99"
   ]
  },
  {
   "cell_type": "code",
   "execution_count": 7,
   "metadata": {},
   "outputs": [
    {
     "data": {
      "text/plain": [
       "True"
      ]
     },
     "execution_count": 7,
     "metadata": {},
     "output_type": "execute_result"
    }
   ],
   "source": [
    "# Check if variable x is less than 100. Returns True.\n",
    "x < 100"
   ]
  },
  {
   "cell_type": "code",
   "execution_count": 8,
   "metadata": {},
   "outputs": [
    {
     "data": {
      "text/plain": [
       "100"
      ]
     },
     "execution_count": 8,
     "metadata": {},
     "output_type": "execute_result"
    }
   ],
   "source": [
    "# Add 1 to x\n",
    "x += 1\n",
    "x"
   ]
  },
  {
   "cell_type": "code",
   "execution_count": 11,
   "metadata": {},
   "outputs": [
    {
     "data": {
      "text/plain": [
       "False"
      ]
     },
     "execution_count": 11,
     "metadata": {},
     "output_type": "execute_result"
    }
   ],
   "source": [
    "# Check if variable x is now less than 100. Returns False.\n",
    "x < 100"
   ]
  },
  {
   "cell_type": "markdown",
   "metadata": {},
   "source": [
    "In some cases, values of different data types can be compared. Otherwise, comparing values of two different data types will result in an error."
   ]
  },
  {
   "cell_type": "code",
   "execution_count": 10,
   "metadata": {},
   "outputs": [
    {
     "data": {
      "text/plain": [
       "True"
      ]
     },
     "execution_count": 10,
     "metadata": {},
     "output_type": "execute_result"
    }
   ],
   "source": [
    "# Check if float 35.245 is greater than integer 23. Returns True.\n",
    "\n",
    "35.245 > 23"
   ]
  },
  {
   "cell_type": "code",
   "execution_count": 11,
   "metadata": {},
   "outputs": [
    {
     "ename": "TypeError",
     "evalue": "'<' not supported between instances of 'str' and 'int'",
     "output_type": "error",
     "traceback": [
      "\u001b[1;31m---------------------------------------------------------------------------\u001b[0m",
      "\u001b[1;31mTypeError\u001b[0m                                 Traceback (most recent call last)",
      "\u001b[1;32m~\\AppData\\Local\\Temp\\ipykernel_17596\\3421095488.py\u001b[0m in \u001b[0;36m<module>\u001b[1;34m\u001b[0m\n\u001b[0;32m      1\u001b[0m \u001b[1;31m# Check if string \"String\" is less than integer 123. Returns an error.\u001b[0m\u001b[1;33m\u001b[0m\u001b[1;33m\u001b[0m\u001b[0m\n\u001b[0;32m      2\u001b[0m \u001b[1;33m\u001b[0m\u001b[0m\n\u001b[1;32m----> 3\u001b[1;33m \u001b[1;34m\"String\"\u001b[0m \u001b[1;33m<\u001b[0m \u001b[1;36m123\u001b[0m\u001b[1;33m\u001b[0m\u001b[1;33m\u001b[0m\u001b[0m\n\u001b[0m",
      "\u001b[1;31mTypeError\u001b[0m: '<' not supported between instances of 'str' and 'int'"
     ]
    }
   ],
   "source": [
    "# Check if string \"String\" is less than integer 123. Returns an error.\n",
    "\n",
    "\"String\" < 123"
   ]
  },
  {
   "cell_type": "markdown",
   "metadata": {},
   "source": [
    "##### Greater Than or Equal To (>=) and Less Than or Equal To (<=) <a id=\"dtypes-bool-compare-greaterlessthanequal\"></a>\n",
    "\n",
    "The >= and <= operators are similar to the > and < operators in that they compare two values and tests if one is a greater or lesser value than the other.\n",
    "\n",
    "However, unlike the > and < operators,  if the left and right value of the >= and <= operators are equal, True is returned."
   ]
  },
  {
   "cell_type": "code",
   "execution_count": 1,
   "metadata": {},
   "outputs": [
    {
     "data": {
      "text/plain": [
       "False"
      ]
     },
     "execution_count": 1,
     "metadata": {},
     "output_type": "execute_result"
    }
   ],
   "source": [
    "# Check if 5 is greater than or equal to 9. Returns False.\n",
    "\n",
    "5 >= 9"
   ]
  },
  {
   "cell_type": "code",
   "execution_count": 2,
   "metadata": {},
   "outputs": [
    {
     "data": {
      "text/plain": [
       "True"
      ]
     },
     "execution_count": 2,
     "metadata": {},
     "output_type": "execute_result"
    }
   ],
   "source": [
    "# Check if 201 is less than or equal to 601. Returns True.\n",
    "\n",
    "201 <= 601"
   ]
  },
  {
   "cell_type": "code",
   "execution_count": 3,
   "metadata": {},
   "outputs": [
    {
     "data": {
      "text/plain": [
       "True"
      ]
     },
     "execution_count": 3,
     "metadata": {},
     "output_type": "execute_result"
    }
   ],
   "source": [
    "# Check if 124 is less than or equal to 124. Returns True.\n",
    "\n",
    "124 <= 124"
   ]
  },
  {
   "cell_type": "code",
   "execution_count": 5,
   "metadata": {},
   "outputs": [
    {
     "data": {
      "text/plain": [
       "True"
      ]
     },
     "execution_count": 5,
     "metadata": {},
     "output_type": "execute_result"
    }
   ],
   "source": [
    "# Check if string \"Hello\" is greater than or equal to string \"Hello\". Returns True.\n",
    "\n",
    "\"Hello\" >= \"Hello\""
   ]
  },
  {
   "cell_type": "code",
   "execution_count": 6,
   "metadata": {},
   "outputs": [
    {
     "data": {
      "text/plain": [
       "True"
      ]
     },
     "execution_count": 6,
     "metadata": {},
     "output_type": "execute_result"
    }
   ],
   "source": [
    "# Assign 1.5 to variable x\n",
    "x = 1.5\n",
    "\n",
    "# Test if x is less than or equal to 10. Returns True.\n",
    "x <= 10"
   ]
  },
  {
   "cell_type": "code",
   "execution_count": 7,
   "metadata": {
    "scrolled": true
   },
   "outputs": [
    {
     "data": {
      "text/plain": [
       "11.5"
      ]
     },
     "execution_count": 7,
     "metadata": {},
     "output_type": "execute_result"
    }
   ],
   "source": [
    "# Add 10 to variable x\n",
    "x += 10\n",
    "x"
   ]
  },
  {
   "cell_type": "code",
   "execution_count": 8,
   "metadata": {},
   "outputs": [
    {
     "data": {
      "text/plain": [
       "False"
      ]
     },
     "execution_count": 8,
     "metadata": {},
     "output_type": "execute_result"
    }
   ],
   "source": [
    "# Test if x is less than or equal to 10 again. Returns False.\n",
    "x <= 10"
   ]
  },
  {
   "cell_type": "markdown",
   "metadata": {},
   "source": [
    "### Strings <a id=\"dtypes-strings\"></a>\n",
    "\n",
    "A string is a sequence of characters treated as a single piece of data.\n",
    "\n",
    "Strings are typically used to represent text and any character within a string (letter, number, emoji, etc.) is treated the same way."
   ]
  },
  {
   "cell_type": "markdown",
   "metadata": {},
   "source": [
    "Strings can be initiated with characters between two single quotes"
   ]
  },
  {
   "cell_type": "code",
   "execution_count": 3,
   "metadata": {},
   "outputs": [
    {
     "data": {
      "text/plain": [
       "'This is a string'"
      ]
     },
     "execution_count": 3,
     "metadata": {},
     "output_type": "execute_result"
    }
   ],
   "source": [
    "str = 'This is a string'\n",
    "str"
   ]
  },
  {
   "cell_type": "markdown",
   "metadata": {},
   "source": [
    "Or with characters between two double quotes"
   ]
  },
  {
   "cell_type": "code",
   "execution_count": 4,
   "metadata": {},
   "outputs": [
    {
     "data": {
      "text/plain": [
       "'This is a 2nd string'"
      ]
     },
     "execution_count": 4,
     "metadata": {},
     "output_type": "execute_result"
    }
   ],
   "source": [
    "str = \"This is a 2nd string\"\n",
    "str"
   ]
  },
  {
   "cell_type": "markdown",
   "metadata": {},
   "source": [
    "Also, not to be confused with comments, multi-line strings can be created when characters are between two sets of triple quotes"
   ]
  },
  {
   "cell_type": "code",
   "execution_count": 5,
   "metadata": {},
   "outputs": [
    {
     "data": {
      "text/plain": [
       "'first line.\\nsecond line\\nthird line'"
      ]
     },
     "execution_count": 5,
     "metadata": {},
     "output_type": "execute_result"
    }
   ],
   "source": [
    "multi_line_string = \"\"\"first line.\n",
    "second line\n",
    "third line\"\"\"\n",
    "multi_line_string"
   ]
  },
  {
   "cell_type": "markdown",
   "metadata": {},
   "source": [
    "#### Escape Characters  <a id=\"dtypes-strings-escchar\"></a>\n",
    "\n",
    "Escape characters are a sequence of characters that invokes an alternative interpretation on the following characters in a character sequence.\n",
    "\n",
    "This allows for special characters characters and that are normally illegal in a string, to be interpreted as intended.\n",
    "\n",
    "Backslashes (\\\\) are used to begin encoding special characters. \n",
    "\n",
    "Despite being a combination of two characters, an escape character counts as one character.\n",
    "\n",
    "Some common escape characters include:\n",
    "\n",
    "\\\\\\\\ - Backslash\n",
    "\n",
    "\\\\\\' - Single quote\n",
    "\n",
    "\\\\\\\" - Double quote\n",
    "\n",
    "\\\\n - new line\n",
    "\n",
    "\\\\r - carriage return"
   ]
  },
  {
   "cell_type": "code",
   "execution_count": 8,
   "metadata": {},
   "outputs": [
    {
     "name": "stdout",
     "output_type": "stream",
     "text": [
      "Hello\tWorld\n"
     ]
    }
   ],
   "source": [
    "# A string with the tab character counts as a single character\n",
    "tab = \"Hello\\tWorld\"\n",
    "print(tab)"
   ]
  },
  {
   "cell_type": "code",
   "execution_count": 10,
   "metadata": {},
   "outputs": [
    {
     "name": "stdout",
     "output_type": "stream",
     "text": [
      "This is the first line\n",
      "This is the second with some 'Single Quotes'\n",
      "and here is the third line with \"Double Quotes\"\n"
     ]
    }
   ],
   "source": [
    "# A string with multiple escape characters\n",
    "multi = \"This is the first line\\nThis is the second with some \\'Single Quotes\\'\\nand here is the third line with \\\"Double Quotes\\\"\"\n",
    "print(multi)"
   ]
  },
  {
   "cell_type": "markdown",
   "metadata": {},
   "source": [
    " #### Raw string literals <a id=\"dtypes-strings-rawstrlit\"></a>\n",
    " \n",
    " Raw string literals store characters as strings exactly (or \"literally\") as they are typed.\n",
    " \n",
    " This means that escape characters are not treated as escape characters in the string.\n",
    " \n",
    " Raw string literals are intitiated using r\"\" or r''"
   ]
  },
  {
   "cell_type": "code",
   "execution_count": 2,
   "metadata": {},
   "outputs": [
    {
     "name": "stdout",
     "output_type": "stream",
     "text": [
      "Printed\tWith\tTabs\n",
      "Printed\\tWithout\\tTabs\n"
     ]
    }
   ],
   "source": [
    "print(\"Printed\\tWith\\tTabs\") # '\\t' created as an escape character\n",
    "print(r\"Printed\\tWithout\\tTabs\") # actual characters '\\' and 't' are printed"
   ]
  },
  {
   "cell_type": "markdown",
   "metadata": {},
   "source": [
    "#### String Methods <a id=\"dtypes-strings-strmeth\"></a>\n",
    "\n",
    "String objects come with many preset methods that allow for manipulation of the string contained and its characters.\n"
   ]
  },
  {
   "cell_type": "code",
   "execution_count": 1,
   "metadata": {},
   "outputs": [],
   "source": [
    "strn = 'Hello# World? Greetings!' #string we will be manipulating"
   ]
  },
  {
   "cell_type": "markdown",
   "metadata": {},
   "source": [
    "str.lower() - Make all characters lowercase"
   ]
  },
  {
   "cell_type": "code",
   "execution_count": 2,
   "metadata": {},
   "outputs": [
    {
     "data": {
      "text/plain": [
       "'hello# world? greetings!'"
      ]
     },
     "execution_count": 2,
     "metadata": {},
     "output_type": "execute_result"
    }
   ],
   "source": [
    "strn.lower()"
   ]
  },
  {
   "cell_type": "markdown",
   "metadata": {},
   "source": [
    "str.upper() - Make all characters uppercase"
   ]
  },
  {
   "cell_type": "code",
   "execution_count": 4,
   "metadata": {},
   "outputs": [
    {
     "data": {
      "text/plain": [
       "'HELLO# WORLD? GREETINGS!'"
      ]
     },
     "execution_count": 4,
     "metadata": {},
     "output_type": "execute_result"
    }
   ],
   "source": [
    "strn.upper()"
   ]
  },
  {
   "cell_type": "markdown",
   "metadata": {},
   "source": [
    "str.split() - Split a string on a character or a string\n",
    "\n",
    "This results in a list of strings based on the split. The character or string used as the split is removed and all the strings on either side of the split is stored as list elements"
   ]
  },
  {
   "cell_type": "code",
   "execution_count": 2,
   "metadata": {},
   "outputs": [
    {
     "data": {
      "text/plain": [
       "['Hello', ' World? Greetings!']"
      ]
     },
     "execution_count": 2,
     "metadata": {},
     "output_type": "execute_result"
    }
   ],
   "source": [
    "# Split on the '#' symbol. Since there is only one in the string, a list of two strings will be created\n",
    "strn.split(\"#\")"
   ]
  },
  {
   "cell_type": "code",
   "execution_count": 5,
   "metadata": {},
   "outputs": [
    {
     "data": {
      "text/plain": [
       "' World? Greetings!'"
      ]
     },
     "execution_count": 5,
     "metadata": {},
     "output_type": "execute_result"
    }
   ],
   "source": [
    "# Access the second element in the resulting solit list\n",
    "strn.split('#')[1]"
   ]
  },
  {
   "cell_type": "code",
   "execution_count": 6,
   "metadata": {},
   "outputs": [
    {
     "data": {
      "text/plain": [
       "['Hello#', 'World?', 'Greetings!']"
      ]
     },
     "execution_count": 6,
     "metadata": {},
     "output_type": "execute_result"
    }
   ],
   "source": [
    "# Split string on spaces. There are two spaces so a list of three strings will be created\n",
    "strn.split(\" \")"
   ]
  },
  {
   "cell_type": "code",
   "execution_count": 9,
   "metadata": {},
   "outputs": [
    {
     "data": {
      "text/plain": [
       "['Hello#', 'World?', 'Greetings!']"
      ]
     },
     "execution_count": 9,
     "metadata": {},
     "output_type": "execute_result"
    }
   ],
   "source": [
    "# Strings are split on spaces by default\n",
    "strn.split()"
   ]
  },
  {
   "cell_type": "markdown",
   "metadata": {},
   "source": [
    "str.capitalize() - Capitalize the first character of a string and make all other characters lowercase"
   ]
  },
  {
   "cell_type": "code",
   "execution_count": 3,
   "metadata": {},
   "outputs": [
    {
     "data": {
      "text/plain": [
       "'Hello# world? greetings!'"
      ]
     },
     "execution_count": 3,
     "metadata": {},
     "output_type": "execute_result"
    }
   ],
   "source": [
    "strn.capitalize()"
   ]
  },
  {
   "cell_type": "markdown",
   "metadata": {},
   "source": [
    "\\<separator\\>.join(\\<iterable\\>) - join strings in an iterable object together on a separator into a single string\n",
    "\n",
    "The separator can be a character or a string that will be used to separate all the strings in the iterator when they are combined\n",
    "\n",
    "If the iterator contains anything other than a string, it will throw an error"
   ]
  },
  {
   "cell_type": "code",
   "execution_count": 6,
   "metadata": {},
   "outputs": [],
   "source": [
    "strngs = [\"Hello!\", \"How\", \"are\", \"you\", \"?\"] #list of strings and characters"
   ]
  },
  {
   "cell_type": "code",
   "execution_count": 7,
   "metadata": {},
   "outputs": [
    {
     "data": {
      "text/plain": [
       "'Hello! How are you ?'"
      ]
     },
     "execution_count": 7,
     "metadata": {},
     "output_type": "execute_result"
    }
   ],
   "source": [
    "\" \".join(strngs) # Join list items with space"
   ]
  },
  {
   "cell_type": "code",
   "execution_count": 8,
   "metadata": {},
   "outputs": [
    {
     "data": {
      "text/plain": [
       "'Hello!-How-are-you-?'"
      ]
     },
     "execution_count": 8,
     "metadata": {},
     "output_type": "execute_result"
    }
   ],
   "source": [
    "\"-\".join(strngs) #Join list items with dash"
   ]
  },
  {
   "cell_type": "code",
   "execution_count": 9,
   "metadata": {},
   "outputs": [
    {
     "data": {
      "text/plain": [
       "'Hello!SPLITHowSPLITareSPLITyouSPLIT?'"
      ]
     },
     "execution_count": 9,
     "metadata": {},
     "output_type": "execute_result"
    }
   ],
   "source": [
    "\"SPLIT\".join(strngs) #Join list items with the word SPLIT"
   ]
  },
  {
   "cell_type": "code",
   "execution_count": 10,
   "metadata": {},
   "outputs": [
    {
     "data": {
      "text/plain": [
       "'Hello there, World'"
      ]
     },
     "execution_count": 10,
     "metadata": {},
     "output_type": "execute_result"
    }
   ],
   "source": [
    "\" \".join((\"Hello\", \"there,\", \"World\")) #Join tuple items on space"
   ]
  },
  {
   "cell_type": "code",
   "execution_count": 12,
   "metadata": {},
   "outputs": [
    {
     "data": {
      "text/plain": [
       "'Hello name John'"
      ]
     },
     "execution_count": 12,
     "metadata": {},
     "output_type": "execute_result"
    }
   ],
   "source": [
    "#Join dictionary items on space\n",
    "#It will only join the Keys together \n",
    "\" \".join({\"Hello\" : \"my\", \"name\": \"is\", \"John\":\"Smith\"})"
   ]
  },
  {
   "cell_type": "markdown",
   "metadata": {},
   "source": [
    "str.startswith() - Tests if a string starts with what is passed in the parameter. A string or an iterable can be passed into the function. The function is also case sensitive.\n",
    "\n",
    "Returns a boolean: True if it does match and False if it does not. If an iterable is passed, and if at least one of the elements match, it returns True"
   ]
  },
  {
   "cell_type": "code",
   "execution_count": 17,
   "metadata": {},
   "outputs": [
    {
     "data": {
      "text/plain": [
       "True"
      ]
     },
     "execution_count": 17,
     "metadata": {},
     "output_type": "execute_result"
    }
   ],
   "source": [
    "#Does the beginning of the string start with \"Hello\"\n",
    "strn.startswith(\"Hello\")"
   ]
  },
  {
   "cell_type": "code",
   "execution_count": 18,
   "metadata": {},
   "outputs": [
    {
     "data": {
      "text/plain": [
       "False"
      ]
     },
     "execution_count": 18,
     "metadata": {},
     "output_type": "execute_result"
    }
   ],
   "source": [
    "#Does the beginning of the string start with \"hello\" (lowercase)\n",
    "strn.startswith(\"hello\")"
   ]
  },
  {
   "cell_type": "code",
   "execution_count": 21,
   "metadata": {},
   "outputs": [
    {
     "data": {
      "text/plain": [
       "True"
      ]
     },
     "execution_count": 21,
     "metadata": {},
     "output_type": "execute_result"
    }
   ],
   "source": [
    "#Does the beginning of the string start with either \"Hello\" or \"hello\"\n",
    "strn.startswith((\"Hello\", \"hello\"))"
   ]
  },
  {
   "cell_type": "markdown",
   "metadata": {},
   "source": [
    "str.strip() - Remove all indicated characters from the beginning and end of a string\n",
    "\n",
    "By default, white space (space characters) are removed\n",
    "\n",
    "If any character or string of characters is passed as a parameter, they will be removed.\n",
    "\n",
    "The function will remove all indicated characters until a character not indicated is reached "
   ]
  },
  {
   "cell_type": "code",
   "execution_count": 2,
   "metadata": {},
   "outputs": [
    {
     "data": {
      "text/plain": [
       "'     @ @ @White space@    '"
      ]
     },
     "execution_count": 2,
     "metadata": {},
     "output_type": "execute_result"
    }
   ],
   "source": [
    "strn = \"     @ @ @White space@    \"\n",
    "strn"
   ]
  },
  {
   "cell_type": "code",
   "execution_count": 3,
   "metadata": {},
   "outputs": [
    {
     "data": {
      "text/plain": [
       "'@ @ @White space@'"
      ]
     },
     "execution_count": 3,
     "metadata": {},
     "output_type": "execute_result"
    }
   ],
   "source": [
    "# Remove space characters from either end of the string. Note how it keeps the spaces after the @ symbol\n",
    "strn.strip()"
   ]
  },
  {
   "cell_type": "code",
   "execution_count": 4,
   "metadata": {},
   "outputs": [
    {
     "data": {
      "text/plain": [
       "'White space'"
      ]
     },
     "execution_count": 4,
     "metadata": {},
     "output_type": "execute_result"
    }
   ],
   "source": [
    "# Remove both space characters and @ symbols from from either end of the string.\n",
    "\n",
    "strn.strip(' @')"
   ]
  },
  {
   "cell_type": "markdown",
   "metadata": {},
   "source": [
    "#### String Slicing  <a id=\"dtypes-strings-strslice\"></a>\n",
    "\n",
    "In Python, strings are treated like lists, in that each character in the string is treated like elements in a list.\n",
    "\n",
    "The same operations used to access elements in lists can be used to access characters in strings."
   ]
  },
  {
   "cell_type": "code",
   "execution_count": 1,
   "metadata": {},
   "outputs": [
    {
     "data": {
      "text/plain": [
       "'Hello there World!!'"
      ]
     },
     "execution_count": 1,
     "metadata": {},
     "output_type": "execute_result"
    }
   ],
   "source": [
    "x = 'Hello there World!!'\n",
    "x"
   ]
  },
  {
   "cell_type": "markdown",
   "metadata": {},
   "source": [
    "Accessing individual characters by index"
   ]
  },
  {
   "cell_type": "code",
   "execution_count": 7,
   "metadata": {},
   "outputs": [
    {
     "data": {
      "text/plain": [
       "'H'"
      ]
     },
     "execution_count": 7,
     "metadata": {},
     "output_type": "execute_result"
    }
   ],
   "source": [
    "# First Character\n",
    "x[0]"
   ]
  },
  {
   "cell_type": "code",
   "execution_count": 8,
   "metadata": {},
   "outputs": [
    {
     "data": {
      "text/plain": [
       "'l'"
      ]
     },
     "execution_count": 8,
     "metadata": {},
     "output_type": "execute_result"
    }
   ],
   "source": [
    "# Third Character\n",
    "x[2]"
   ]
  },
  {
   "cell_type": "markdown",
   "metadata": {},
   "source": [
    "Characters at the end of the string can be accessed using negative indices"
   ]
  },
  {
   "cell_type": "code",
   "execution_count": 2,
   "metadata": {},
   "outputs": [
    {
     "data": {
      "text/plain": [
       "'!'"
      ]
     },
     "execution_count": 2,
     "metadata": {},
     "output_type": "execute_result"
    }
   ],
   "source": [
    "# Last character\n",
    "x[-1]"
   ]
  },
  {
   "cell_type": "code",
   "execution_count": 3,
   "metadata": {},
   "outputs": [
    {
     "data": {
      "text/plain": [
       "'d'"
      ]
     },
     "execution_count": 3,
     "metadata": {},
     "output_type": "execute_result"
    }
   ],
   "source": [
    "# Third to last character\n",
    "x[-3]"
   ]
  },
  {
   "cell_type": "markdown",
   "metadata": {},
   "source": [
    "String Slicing allows you to access a range of characters in a string at once.\n",
    "\n",
    "This can be done by using a colon (:) between the brackets.\n",
    "\n",
    "The notation for string slicing is str[x:y] where the x is the starting index (inclusive) and y is the last index (exclusive)\n"
   ]
  },
  {
   "cell_type": "code",
   "execution_count": 5,
   "metadata": {},
   "outputs": [
    {
     "data": {
      "text/plain": [
       "'Hello '"
      ]
     },
     "execution_count": 5,
     "metadata": {},
     "output_type": "execute_result"
    }
   ],
   "source": [
    "# Get the first to sixth characters in the string (character at index 6 is excluded)\n",
    "x[0:6]"
   ]
  },
  {
   "cell_type": "code",
   "execution_count": 7,
   "metadata": {},
   "outputs": [
    {
     "data": {
      "text/plain": [
       "'lo there Wor'"
      ]
     },
     "execution_count": 7,
     "metadata": {},
     "output_type": "execute_result"
    }
   ],
   "source": [
    "# Get the fourth to fifteenth characters in the string (character at index 15 is excluded)\n",
    "x[3:15]"
   ]
  },
  {
   "cell_type": "code",
   "execution_count": 12,
   "metadata": {},
   "outputs": [
    {
     "data": {
      "text/plain": [
       "'o there World!'"
      ]
     },
     "execution_count": 12,
     "metadata": {},
     "output_type": "execute_result"
    }
   ],
   "source": [
    "# Get the characters from the fourtheenth-to-last character to the \n",
    "# second-to-last character (the last character is excluded)\n",
    "x[-15:-1]"
   ]
  },
  {
   "cell_type": "code",
   "execution_count": 17,
   "metadata": {},
   "outputs": [
    {
     "data": {
      "text/plain": [
       "'there W'"
      ]
     },
     "execution_count": 17,
     "metadata": {},
     "output_type": "execute_result"
    }
   ],
   "source": [
    "# Get the characters from the twelfth-to-last character to the \n",
    "# seventh-to last character (the sixth-to-last character is excluded)\n",
    "x[-13:-6]"
   ]
  },
  {
   "cell_type": "code",
   "execution_count": 6,
   "metadata": {},
   "outputs": [
    {
     "data": {
      "text/plain": [
       "'lo there Wor'"
      ]
     },
     "execution_count": 6,
     "metadata": {},
     "output_type": "execute_result"
    }
   ],
   "source": [
    "# Get the fourth character to the fifth-to-last character (the fourth-to-last character is excluded)\n",
    "x[3:-4]"
   ]
  },
  {
   "cell_type": "markdown",
   "metadata": {},
   "source": [
    "When the index before the colon is removed, all elements from the beginning of the string to the index after the colon is selected (the character of the element after the colon is excluded)"
   ]
  },
  {
   "cell_type": "code",
   "execution_count": 10,
   "metadata": {},
   "outputs": [
    {
     "data": {
      "text/plain": [
       "'Hello '"
      ]
     },
     "execution_count": 10,
     "metadata": {},
     "output_type": "execute_result"
    }
   ],
   "source": [
    "# Get the first character of the string to the sixth character\n",
    "x[:6]"
   ]
  },
  {
   "cell_type": "code",
   "execution_count": 11,
   "metadata": {},
   "outputs": [
    {
     "data": {
      "text/plain": [
       "'Hello there Wo'"
      ]
     },
     "execution_count": 11,
     "metadata": {},
     "output_type": "execute_result"
    }
   ],
   "source": [
    "# Get the first character of the string to the sixth-to-last character\n",
    "x[:-5]"
   ]
  },
  {
   "cell_type": "markdown",
   "metadata": {},
   "source": [
    "Similarly, when the index after the colon is removed, all elements from the index indicated before the colon to the end of the string is selected"
   ]
  },
  {
   "cell_type": "code",
   "execution_count": 12,
   "metadata": {},
   "outputs": [
    {
     "data": {
      "text/plain": [
       "' there World!!'"
      ]
     },
     "execution_count": 12,
     "metadata": {},
     "output_type": "execute_result"
    }
   ],
   "source": [
    "# Get the sixth character of the string to the last character\n",
    "x[5:]"
   ]
  },
  {
   "cell_type": "code",
   "execution_count": 13,
   "metadata": {},
   "outputs": [
    {
     "data": {
      "text/plain": [
       "'ld!!'"
      ]
     },
     "execution_count": 13,
     "metadata": {},
     "output_type": "execute_result"
    }
   ],
   "source": [
    "# Get the fourth-to-last character to the last character\n",
    "x[-4:]"
   ]
  },
  {
   "cell_type": "markdown",
   "metadata": {},
   "source": [
    "#### Miscellaneous String Functions   <a id=\"dtypes-strings-misc\"></a>\n",
    "\n",
    "String concatenation\n",
    "\n",
    "To concatenate strings, you can use the \"+\" operator between strings or string variables"
   ]
  },
  {
   "cell_type": "code",
   "execution_count": 1,
   "metadata": {},
   "outputs": [
    {
     "data": {
      "text/plain": [
       "'HelloWorld'"
      ]
     },
     "execution_count": 1,
     "metadata": {},
     "output_type": "execute_result"
    }
   ],
   "source": [
    "\"Hello\" + \"World\""
   ]
  },
  {
   "cell_type": "code",
   "execution_count": 2,
   "metadata": {},
   "outputs": [
    {
     "data": {
      "text/plain": [
       "'Hello World'"
      ]
     },
     "execution_count": 2,
     "metadata": {},
     "output_type": "execute_result"
    }
   ],
   "source": [
    "\"Hello\" + \" \" + \"World\""
   ]
  },
  {
   "cell_type": "code",
   "execution_count": 3,
   "metadata": {},
   "outputs": [
    {
     "data": {
      "text/plain": [
       "'Johnathan Q. Doe'"
      ]
     },
     "execution_count": 3,
     "metadata": {},
     "output_type": "execute_result"
    }
   ],
   "source": [
    "firstName = 'Johnathan'\n",
    "lastName = 'Doe'\n",
    "middleName = 'Q'\n",
    "\n",
    "firstName + \" \" + middleName + \". \" + lastName"
   ]
  },
  {
   "cell_type": "markdown",
   "metadata": {},
   "source": [
    "String Multiplication\n",
    "\n",
    "With the \"\\*\" you can multiply strings like you would numbers.\n",
    "\n",
    "The expression \"string\" * x will multiply \"string\" x times"
   ]
  },
  {
   "cell_type": "code",
   "execution_count": 4,
   "metadata": {},
   "outputs": [
    {
     "data": {
      "text/plain": [
       "'HelloHelloHello'"
      ]
     },
     "execution_count": 4,
     "metadata": {},
     "output_type": "execute_result"
    }
   ],
   "source": [
    "\"Hello\" * 3"
   ]
  },
  {
   "cell_type": "markdown",
   "metadata": {},
   "source": [
    "String Check\n",
    "\n",
    "Test to see if a string is contained inside another string. This is done using the \"in\" keyword.\n",
    "\n",
    "Returns a Boolean value."
   ]
  },
  {
   "cell_type": "code",
   "execution_count": 3,
   "metadata": {},
   "outputs": [
    {
     "data": {
      "text/plain": [
       "True"
      ]
     },
     "execution_count": 3,
     "metadata": {},
     "output_type": "execute_result"
    }
   ],
   "source": [
    "strn = \"Hello, I am a sentence!\"\n",
    "\n",
    "'sentence' in strn"
   ]
  },
  {
   "cell_type": "code",
   "execution_count": 4,
   "metadata": {},
   "outputs": [
    {
     "data": {
      "text/plain": [
       "False"
      ]
     },
     "execution_count": 4,
     "metadata": {},
     "output_type": "execute_result"
    }
   ],
   "source": [
    "'John' in strn"
   ]
  },
  {
   "cell_type": "markdown",
   "metadata": {},
   "source": [
    "## Dictionaries <a id=\"dictionary\"></a>\n",
    "\n",
    "A dictionary is a data structure used as an unordered collection of values. \n",
    "\n",
    "Unlike lists, where items are stored in a sequence, dictionary items are stored as key-value pairs.  Where as list items are accessed using indices that are always integers, dictionary values are accessed using keys that can be of any data type. This allows for a meaningful relationship between the key and value.\n",
    "\n",
    "Dictionaries are expressed using opened and closed curly brackets:\n",
    "\n",
    "{}\n",
    "\n",
    "The key-value pairs assigned to dictionaries are expressed as follows:\n",
    "\n",
    "{ \\<key\\> : \\<value\\> }\n",
    "\n",
    "where the key and the value are separated by a colon.\n",
    "\n",
    "\n",
    "When declaring a dictionary with muliple items, each key-value pair assigned is separated by a comma:\n",
    "\n",
    "{ \\<key\\>:\\<value\\>, \\<key\\>:\\<value\\>,\\<key\\>:\\<value\\>, ...... }\n",
    "\n",
    "\n",
    "Dictionaries can be assigned as many items as needed.\n",
    "\n",
    "\n",
    "They are implemented using hash tables."
   ]
  },
  {
   "cell_type": "markdown",
   "metadata": {},
   "source": [
    "Below is an example of a simple dictionary. It contains information regarding several U.S. state names and their abbreviations.\n",
    "\n",
    "In this case, the state abbreviation is the key and the full state name is the value:"
   ]
  },
  {
   "cell_type": "code",
   "execution_count": 1,
   "metadata": {},
   "outputs": [],
   "source": [
    "# Declaring the U.S. state abbreviation dictionary and assigning it to a variable\n",
    "\n",
    "stateAbbr = {\n",
    "    'FL' : 'Florida'\n",
    "    , 'NY' : 'New York'\n",
    "    , 'HI' : 'Hawaii'\n",
    "    , 'MS' : 'Mississippi'\n",
    "}"
   ]
  },
  {
   "cell_type": "markdown",
   "metadata": {},
   "source": [
    "This dictionary creates a meaningful relationship between key and value since the value is the state name and the key is its respective abbreviation. "
   ]
  },
  {
   "cell_type": "markdown",
   "metadata": {},
   "source": [
    "### Accessing dictionary items <a id=\"dictionary-access\"></a>\n",
    "\n",
    "Since dictionaries are unordered, individual items cannot be accessed by an index. Values can only be accessed by the key they are paired with.\n",
    "\n",
    "Like lists, dictionary values are accessed using square bracket notation. Instead of putting an index between the brackets, you put the key, as it is specifically stored.\n",
    "\n",
    "dict[\\<key\\>]"
   ]
  },
  {
   "cell_type": "code",
   "execution_count": 4,
   "metadata": {},
   "outputs": [
    {
     "data": {
      "text/plain": [
       "'Hawaii'"
      ]
     },
     "execution_count": 4,
     "metadata": {},
     "output_type": "execute_result"
    }
   ],
   "source": [
    "# Accessing the value 'Hawaii' based on its key 'HI'\n",
    "\n",
    "stateAbbr[\"HI\"]"
   ]
  },
  {
   "cell_type": "code",
   "execution_count": 5,
   "metadata": {},
   "outputs": [
    {
     "data": {
      "text/plain": [
       "'Mississippi'"
      ]
     },
     "execution_count": 5,
     "metadata": {},
     "output_type": "execute_result"
    }
   ],
   "source": [
    "# Accessing the value 'Mississippi' based on its key 'MS'\n",
    "\n",
    "stateAbbr[\"MS\"]"
   ]
  },
  {
   "cell_type": "markdown",
   "metadata": {},
   "source": [
    "A key must exist in a dictionary in order for it's value to be retrieved. If you pass data into the square bracket that does not match a key in the dictionary, the program will return an error.\n",
    "\n",
    "Consequently, keys that are strings are case sensitive and must match the case as stored in the dictionary. Otherwise, it will also throw an error."
   ]
  },
  {
   "cell_type": "code",
   "execution_count": 2,
   "metadata": {},
   "outputs": [
    {
     "ename": "KeyError",
     "evalue": "'AL'",
     "output_type": "error",
     "traceback": [
      "\u001b[1;31m---------------------------------------------------------------------------\u001b[0m",
      "\u001b[1;31mKeyError\u001b[0m                                  Traceback (most recent call last)",
      "\u001b[1;32m~\\AppData\\Local\\Temp\\ipykernel_16988\\3758938161.py\u001b[0m in \u001b[0;36m<module>\u001b[1;34m\u001b[0m\n\u001b[0;32m      1\u001b[0m \u001b[1;31m# The key 'AL' does not exist in the dictionary\u001b[0m\u001b[1;33m\u001b[0m\u001b[1;33m\u001b[0m\u001b[0m\n\u001b[0;32m      2\u001b[0m \u001b[1;33m\u001b[0m\u001b[0m\n\u001b[1;32m----> 3\u001b[1;33m \u001b[0mstateAbbr\u001b[0m\u001b[1;33m[\u001b[0m\u001b[1;34m\"AL\"\u001b[0m\u001b[1;33m]\u001b[0m\u001b[1;33m\u001b[0m\u001b[1;33m\u001b[0m\u001b[0m\n\u001b[0m",
      "\u001b[1;31mKeyError\u001b[0m: 'AL'"
     ]
    }
   ],
   "source": [
    "# The key 'AL' does not exist in the dictionary\n",
    "\n",
    "stateAbbr[\"AL\"]"
   ]
  },
  {
   "cell_type": "code",
   "execution_count": 7,
   "metadata": {},
   "outputs": [
    {
     "ename": "KeyError",
     "evalue": "'Ny'",
     "output_type": "error",
     "traceback": [
      "\u001b[1;31m---------------------------------------------------------------------------\u001b[0m",
      "\u001b[1;31mKeyError\u001b[0m                                  Traceback (most recent call last)",
      "\u001b[1;32m~\\AppData\\Local\\Temp\\ipykernel_8756\\3930967.py\u001b[0m in \u001b[0;36m<module>\u001b[1;34m\u001b[0m\n\u001b[0;32m      2\u001b[0m \u001b[1;31m# If we want to access the value \"New York\" we must use 'NY'\u001b[0m\u001b[1;33m\u001b[0m\u001b[1;33m\u001b[0m\u001b[0m\n\u001b[0;32m      3\u001b[0m \u001b[1;33m\u001b[0m\u001b[0m\n\u001b[1;32m----> 4\u001b[1;33m \u001b[0mstateAbbr\u001b[0m\u001b[1;33m[\u001b[0m\u001b[1;34m\"Ny\"\u001b[0m\u001b[1;33m]\u001b[0m\u001b[1;33m\u001b[0m\u001b[1;33m\u001b[0m\u001b[0m\n\u001b[0m",
      "\u001b[1;31mKeyError\u001b[0m: 'Ny'"
     ]
    }
   ],
   "source": [
    "# The key 'Ny' does not exist in the dictionary.\n",
    "# If we want to access the value \"New York\" we must use 'NY'\n",
    "\n",
    "stateAbbr[\"Ny\"]"
   ]
  },
  {
   "cell_type": "markdown",
   "metadata": {},
   "source": [
    "#### Accessing all keys or all values <a id=\"dictionary-access-all\"></a>\n",
    "\n",
    "Dictionaries are built with methods that enable access to all keys and values separately in the dictionary."
   ]
  },
  {
   "cell_type": "markdown",
   "metadata": {},
   "source": [
    "To retrieve all keys, use the keys() method on a dictionary"
   ]
  },
  {
   "cell_type": "code",
   "execution_count": 2,
   "metadata": {},
   "outputs": [
    {
     "data": {
      "text/plain": [
       "dict_keys(['FL', 'NY', 'HI', 'MS'])"
      ]
     },
     "execution_count": 2,
     "metadata": {},
     "output_type": "execute_result"
    }
   ],
   "source": [
    "# Retrieve all keys in the state dictionary\n",
    "stateAbbr.keys()"
   ]
  },
  {
   "cell_type": "markdown",
   "metadata": {},
   "source": [
    "This returns a dictionary keys object"
   ]
  },
  {
   "cell_type": "code",
   "execution_count": 11,
   "metadata": {},
   "outputs": [
    {
     "data": {
      "text/plain": [
       "dict_keys"
      ]
     },
     "execution_count": 11,
     "metadata": {},
     "output_type": "execute_result"
    }
   ],
   "source": [
    "type(stateAbbr.keys())"
   ]
  },
  {
   "cell_type": "markdown",
   "metadata": {},
   "source": [
    "There are several ways to retrieve the individual keys from this object, but the simplist is turning it into a list using the list() function"
   ]
  },
  {
   "cell_type": "code",
   "execution_count": 12,
   "metadata": {},
   "outputs": [
    {
     "data": {
      "text/plain": [
       "['FL', 'NY', 'HI', 'MS']"
      ]
     },
     "execution_count": 12,
     "metadata": {},
     "output_type": "execute_result"
    }
   ],
   "source": [
    "# Turn the dict.keys() object into a list\n",
    "\n",
    "stateAbbrKeys = list(stateAbbr.keys())\n",
    "\n",
    "stateAbbrKeys"
   ]
  },
  {
   "cell_type": "markdown",
   "metadata": {},
   "source": [
    "With this, you can now reteive the key items as you would any list."
   ]
  },
  {
   "cell_type": "code",
   "execution_count": 13,
   "metadata": {},
   "outputs": [
    {
     "data": {
      "text/plain": [
       "'HI'"
      ]
     },
     "execution_count": 13,
     "metadata": {},
     "output_type": "execute_result"
    }
   ],
   "source": [
    "stateAbbrKeys[2]"
   ]
  },
  {
   "cell_type": "markdown",
   "metadata": {},
   "source": [
    "To retrieve all values, use the values() method on a dictionary"
   ]
  },
  {
   "cell_type": "code",
   "execution_count": 4,
   "metadata": {},
   "outputs": [
    {
     "data": {
      "text/plain": [
       "dict_values(['Florida', 'New York', 'Hawaii', 'Mississippi'])"
      ]
     },
     "execution_count": 4,
     "metadata": {},
     "output_type": "execute_result"
    }
   ],
   "source": [
    "# Retrieve all values in the state dictionary\n",
    "stateAbbr.values()"
   ]
  },
  {
   "cell_type": "markdown",
   "metadata": {},
   "source": [
    "This returns a dict_values object. Similar to the keys() method, you can retrive the individual dictionary values by coverting it into a list. "
   ]
  },
  {
   "cell_type": "code",
   "execution_count": 14,
   "metadata": {},
   "outputs": [
    {
     "data": {
      "text/plain": [
       "'Mississippi'"
      ]
     },
     "execution_count": 14,
     "metadata": {},
     "output_type": "execute_result"
    }
   ],
   "source": [
    "# Converting dict_values into a list\n",
    "stateAbbrValues = list(stateAbbr.values())\n",
    "\n",
    "stateAbbrValues[3]"
   ]
  },
  {
   "cell_type": "markdown",
   "metadata": {},
   "source": [
    "#### Testing if key exists  <a id=\"dictionary-access-test\"></a>\n",
    "\n",
    "The \"in\" operator can be used to determine if a key exists in a dictionary. Its syntax is as follows:\n",
    "\n",
    "\\<key\\> in \\<dictionary\\>\n",
    "\n",
    "This will return a boolean value. If the key does exist in the dictionary, it will return True. Otherwise, it will return False.\n",
    "\n",
    "Given its structure, the \"in\" operator for a dictionary is relatively fast."
   ]
  },
  {
   "cell_type": "code",
   "execution_count": 6,
   "metadata": {},
   "outputs": [
    {
     "data": {
      "text/plain": [
       "True"
      ]
     },
     "execution_count": 6,
     "metadata": {},
     "output_type": "execute_result"
    }
   ],
   "source": [
    "# Key exists in dictionary\n",
    "\n",
    "\"NY\" in stateAbbr"
   ]
  },
  {
   "cell_type": "code",
   "execution_count": 7,
   "metadata": {},
   "outputs": [
    {
     "data": {
      "text/plain": [
       "False"
      ]
     },
     "execution_count": 7,
     "metadata": {},
     "output_type": "execute_result"
    }
   ],
   "source": [
    "# Key does not exist\n",
    "\n",
    "\"MI\" in stateAbbr"
   ]
  },
  {
   "cell_type": "code",
   "execution_count": 9,
   "metadata": {},
   "outputs": [
    {
     "data": {
      "text/plain": [
       "False"
      ]
     },
     "execution_count": 9,
     "metadata": {},
     "output_type": "execute_result"
    }
   ],
   "source": [
    "# Key must be be an exact match as to what is in the dictionary\n",
    "# For example, although \"HI\" is present, making the \"H\" lowercase results in False \n",
    "\n",
    "\"hI\" in stateAbbr"
   ]
  },
  {
   "cell_type": "code",
   "execution_count": 10,
   "metadata": {},
   "outputs": [
    {
     "data": {
      "text/plain": [
       "True"
      ]
     },
     "execution_count": 10,
     "metadata": {},
     "output_type": "execute_result"
    }
   ],
   "source": [
    "\"HI\" in stateAbbr"
   ]
  },
  {
   "cell_type": "markdown",
   "metadata": {},
   "source": [
    "#### Accessing values using the get() method  <a id=\"dictionary-access-get\"></a>\n",
    "\n",
    "The get() method retrieves the value based on the key provided. \n",
    "\n",
    "If the key does not exist, it returns None by default. However, a value to be returned can be set by the programmer."
   ]
  },
  {
   "cell_type": "code",
   "execution_count": 4,
   "metadata": {},
   "outputs": [
    {
     "data": {
      "text/plain": [
       "'Hawaii'"
      ]
     },
     "execution_count": 4,
     "metadata": {},
     "output_type": "execute_result"
    }
   ],
   "source": [
    "# Get the value for the key 'HI'\n",
    "\n",
    "stateAbbr.get('HI')"
   ]
  },
  {
   "cell_type": "code",
   "execution_count": 6,
   "metadata": {},
   "outputs": [
    {
     "name": "stdout",
     "output_type": "stream",
     "text": [
      "None\n"
     ]
    }
   ],
   "source": [
    "# The key 'OH' does not exist so none is returned\n",
    "\n",
    "print(stateAbbr.get('OH'))"
   ]
  },
  {
   "cell_type": "code",
   "execution_count": 7,
   "metadata": {},
   "outputs": [
    {
     "data": {
      "text/plain": [
       "'Does not exist'"
      ]
     },
     "execution_count": 7,
     "metadata": {},
     "output_type": "execute_result"
    }
   ],
   "source": [
    "# If a key does not exist, return \"Does not exist\"\n",
    "\n",
    "stateAbbr.get('OH', \"Does not exist\")"
   ]
  },
  {
   "cell_type": "code",
   "execution_count": 11,
   "metadata": {},
   "outputs": [
    {
     "data": {
      "text/plain": [
       "False"
      ]
     },
     "execution_count": 11,
     "metadata": {},
     "output_type": "execute_result"
    }
   ],
   "source": [
    "# Any data type can be returned if a key doesn't exist\n",
    "\n",
    "stateAbbr.get('OH', False)"
   ]
  },
  {
   "cell_type": "markdown",
   "metadata": {},
   "source": [
    "#### Updating Dictionary Values <a id=\"dictionary-update\"></a>\n",
    "\n",
    "To update dictionary values, access a dictionary by key using the square bracket notation and use the assignment operator on a key that already exists. The syntax for updating dictionary values is as follows:\n",
    "\n",
    "dict[\\<existing_key\\>] = \\<new_value\\>\n",
    "\n",
    "This will update the value of an existing key to a new value. Dictionary keys themselves cannot be updated."
   ]
  },
  {
   "cell_type": "code",
   "execution_count": 5,
   "metadata": {},
   "outputs": [
    {
     "name": "stdout",
     "output_type": "stream",
     "text": [
      "{'FL': 'Florida', 'NY': 'New York', 'HI': 'Alaska', 'MS': 'Mississippi'}\n",
      "Alaska\n"
     ]
    }
   ],
   "source": [
    "# Changing the value of the 'HI' key\n",
    "\n",
    "stateAbbr['HI'] = 'Alaska'\n",
    "\n",
    "print(stateAbbr)\n",
    "\n",
    "print(stateAbbr['HI'])"
   ]
  },
  {
   "cell_type": "code",
   "execution_count": 6,
   "metadata": {},
   "outputs": [
    {
     "name": "stdout",
     "output_type": "stream",
     "text": [
      "{'FL': 'Florida', 'NY': 'New York', 'HI': 'Hawaii', 'MS': 'Mississippi'}\n",
      "Hawaii\n"
     ]
    }
   ],
   "source": [
    "# Changing the value of the 'HI' key back to the previous value\n",
    "\n",
    "stateAbbr['HI'] = 'Hawaii'\n",
    "\n",
    "print(stateAbbr)\n",
    "\n",
    "print(stateAbbr['HI'])"
   ]
  },
  {
   "cell_type": "markdown",
   "metadata": {},
   "source": [
    "#### Adding new dictionary items <a id=\"dictionary-add\"></a>\n",
    "\n",
    "Similar to updating existing dictionary values, you can use the square bracket notation to add new items into the dictionary.\n",
    "\n",
    "To do so, you must supply a key that does not already exist in the dictionary and assign it a value. Doing so will add the key-value pair into the dictionary.  "
   ]
  },
  {
   "cell_type": "code",
   "execution_count": 3,
   "metadata": {},
   "outputs": [
    {
     "data": {
      "text/plain": [
       "{'FL': 'Florida',\n",
       " 'NY': 'New York',\n",
       " 'HI': 'Hawaii',\n",
       " 'MS': 'Mississippi',\n",
       " 'PA': 'Pennsylvania'}"
      ]
     },
     "execution_count": 3,
     "metadata": {},
     "output_type": "execute_result"
    }
   ],
   "source": [
    "# Adding a new state into the dictionary.\n",
    "# The key 'PA' and its value 'Pennsylvania' \n",
    "#     was not in the dictionary before the assignment\n",
    "\n",
    "stateAbbr['PA'] = 'Pennsylvania'\n",
    "\n",
    "stateAbbr"
   ]
  },
  {
   "cell_type": "code",
   "execution_count": 4,
   "metadata": {},
   "outputs": [
    {
     "data": {
      "text/plain": [
       "{'FL': 'Florida',\n",
       " 'NY': 'New York',\n",
       " 'HI': 'Hawaii',\n",
       " 'MS': 'Mississippi',\n",
       " 'PA': 'Pennsylvania',\n",
       " 'KS': 'Kansas'}"
      ]
     },
     "execution_count": 4,
     "metadata": {},
     "output_type": "execute_result"
    }
   ],
   "source": [
    "# Adding \"Kansas\" into the dictionary.\n",
    "\n",
    "stateAbbr['KS'] = 'Kansas'\n",
    "\n",
    "stateAbbr"
   ]
  },
  {
   "cell_type": "markdown",
   "metadata": {},
   "source": [
    "#### Declaring Empty Dictionaries <a id=\"dictionary-empty\"></a>\n",
    "\n",
    "It is possible to declare empty dictionaries that can be used as placeholders to store items later.\n",
    "\n",
    "This is done by assigning a variable a set of empty curly brackets \"{}\"\n",
    "\n",
    "It can also be done by using the dict() method but this way is not preferred."
   ]
  },
  {
   "cell_type": "code",
   "execution_count": 5,
   "metadata": {},
   "outputs": [
    {
     "data": {
      "text/plain": [
       "({}, {})"
      ]
     },
     "execution_count": 5,
     "metadata": {},
     "output_type": "execute_result"
    }
   ],
   "source": [
    "empty_dict = {} # empty dictionary\n",
    "\n",
    "empty_dict2 = dict() # another way to declare an empty dictionary but not preferred\n",
    "\n",
    "empty_dict, empty_dict2"
   ]
  },
  {
   "cell_type": "markdown",
   "metadata": {},
   "source": [
    "#### Store Other Data Types  <a id=\"dictionary-othertype\"></a>\n",
    "\n",
    "Dictionaries are not limited to only strings.\n",
    "\n",
    "Both the keys and values in a dictionary can be different data types."
   ]
  },
  {
   "cell_type": "code",
   "execution_count": 1,
   "metadata": {},
   "outputs": [
    {
     "data": {
      "text/plain": [
       "{0: 'Python', 1: 'C++', 2: 'Ruby', 3: 'Java', 4: 'Go', 5: 'Scala'}"
      ]
     },
     "execution_count": 1,
     "metadata": {},
     "output_type": "execute_result"
    }
   ],
   "source": [
    "# A dictionary with keys as integers and strings as values\n",
    "\n",
    "progDict = {\n",
    "    0: 'Python'\n",
    "    , 1: 'C++'\n",
    "    , 2: 'Ruby'\n",
    "    , 3: 'Java'\n",
    "    , 4: 'Go'\n",
    "    , 5: 'Scala'\n",
    "}\n",
    "\n",
    "progDict"
   ]
  },
  {
   "cell_type": "markdown",
   "metadata": {},
   "source": [
    "The above dictionary has integer for keys and strings as values.\n",
    "\n",
    "This makes the dictionary function similar to a list where the key acts like an index:"
   ]
  },
  {
   "cell_type": "code",
   "execution_count": 3,
   "metadata": {},
   "outputs": [
    {
     "data": {
      "text/plain": [
       "'Go'"
      ]
     },
     "execution_count": 3,
     "metadata": {},
     "output_type": "execute_result"
    }
   ],
   "source": [
    "# Accessing the value with the key 4\n",
    "\n",
    "progDict[4]"
   ]
  },
  {
   "cell_type": "markdown",
   "metadata": {},
   "source": [
    "However, since dictionaries are unordered, you can add another item with a key that is something other than 6."
   ]
  },
  {
   "cell_type": "code",
   "execution_count": 2,
   "metadata": {},
   "outputs": [
    {
     "data": {
      "text/plain": [
       "{0: 'Python', 1: 'C++', 2: 'Ruby', 3: 'Java', 4: 'Go', 5: 'Scala', 100: 'C#'}"
      ]
     },
     "execution_count": 2,
     "metadata": {},
     "output_type": "execute_result"
    }
   ],
   "source": [
    "# Adding an item with a key of 100 and a value of 'C#'\n",
    "\n",
    "progDict[100] = 'C#'\n",
    "\n",
    "progDict"
   ]
  },
  {
   "cell_type": "markdown",
   "metadata": {},
   "source": [
    "Also, since dictionaries can have multiple types, the key doesn't need to be an integer."
   ]
  },
  {
   "cell_type": "code",
   "execution_count": 3,
   "metadata": {},
   "outputs": [
    {
     "data": {
      "text/plain": [
       "{0: 'Python',\n",
       " 1: 'C++',\n",
       " 2: 'Ruby',\n",
       " 3: 'Java',\n",
       " 4: 'Go',\n",
       " 5: 'Scala',\n",
       " 100: 'C#',\n",
       " 'Hello': 'C'}"
      ]
     },
     "execution_count": 3,
     "metadata": {},
     "output_type": "execute_result"
    }
   ],
   "source": [
    "# The using the string 'Hello' as the key\n",
    "\n",
    "progDict['Hello'] = 'C'\n",
    "\n",
    "progDict"
   ]
  },
  {
   "cell_type": "markdown",
   "metadata": {},
   "source": [
    "### Nested Dictionary <a id=\"dictionary-nested\"></a>\n",
    "\n",
    "Dictionaries can be nested within other dictionaries.\n",
    "\n",
    "This is done by assigning a dictionary as a value.\n",
    "\n",
    "Nested dictionaries can provide more meaningful data to dictionary items."
   ]
  },
  {
   "cell_type": "markdown",
   "metadata": {},
   "source": [
    "Below is an example of a dictionary of fruits and vegetables with nested dictionaries containing information related to them:"
   ]
  },
  {
   "cell_type": "code",
   "execution_count": 4,
   "metadata": {},
   "outputs": [],
   "source": [
    "nDict = {\n",
    "    'Fuji' : {'category' : 'fruit', 'type' : 'apple', 'color' : 'red' }\n",
    "    ,'Imperator' : {'category' : 'vegetable', 'type' : 'carrot', 'color' : 'orange' }\n",
    "    ,'Black Splendor' : {'category' : 'fruit', 'type' : 'plumb', 'color' : 'black' }\n",
    "    ,'Granny Smith' : {'category' : 'fruit', 'type' : 'apple', 'color' : 'green' }\n",
    "    ,'Norland' : {'category' : 'vegetable', 'type' : 'potato', 'color' : 'yellow' }\n",
    "}"
   ]
  },
  {
   "cell_type": "markdown",
   "metadata": {},
   "source": [
    "Since the nested dictionaries are values, accessing them is done by calling their respective keys, as with any other dictionary."
   ]
  },
  {
   "cell_type": "code",
   "execution_count": 5,
   "metadata": {},
   "outputs": [
    {
     "data": {
      "text/plain": [
       "{'category': 'fruit', 'type': 'apple', 'color': 'green'}"
      ]
     },
     "execution_count": 5,
     "metadata": {},
     "output_type": "execute_result"
    }
   ],
   "source": [
    "# Accessing the nested dictionary stored as a value for the key 'Granny Smith' \n",
    "\n",
    "nDict['Granny Smith']"
   ]
  },
  {
   "cell_type": "markdown",
   "metadata": {},
   "source": [
    "This will return the entire dictionary stored as the value.\n",
    "\n",
    "To access a value within that nested dictionary, a key from that dictionary must be accessed.\n",
    "\n",
    "This is done by referencing one of the keys by using a second set of square brackets."
   ]
  },
  {
   "cell_type": "code",
   "execution_count": 6,
   "metadata": {},
   "outputs": [
    {
     "data": {
      "text/plain": [
       "'fruit'"
      ]
     },
     "execution_count": 6,
     "metadata": {},
     "output_type": "execute_result"
    }
   ],
   "source": [
    "# Accessing the value of 'category' in the nested dictionary for 'Granny Smith'\n",
    "\n",
    "nDict['Granny Smith']['category']"
   ]
  },
  {
   "cell_type": "code",
   "execution_count": 7,
   "metadata": {},
   "outputs": [
    {
     "data": {
      "text/plain": [
       "'carrot'"
      ]
     },
     "execution_count": 7,
     "metadata": {},
     "output_type": "execute_result"
    }
   ],
   "source": [
    "# Accessing the value of 'type' in the nested dictionary for 'Imperator'\n",
    "\n",
    "nDict['Imperator']['type']"
   ]
  },
  {
   "cell_type": "markdown",
   "metadata": {},
   "source": [
    "A nested dictionary is not limited to two levels.\n",
    "\n",
    "Nested dictionaries can also nest other nested dictionaries.\n",
    "\n",
    "There is no limit to the number of levels a nested dictionary can have."
   ]
  },
  {
   "cell_type": "code",
   "execution_count": 15,
   "metadata": {},
   "outputs": [],
   "source": [
    "# Similar dictionary with 3 levels \n",
    "\n",
    "nDict2 = {\n",
    "    1 : {\n",
    "       \"name\":\"banana\"\n",
    "        , \"colors\": {\n",
    "            1: \"green\"\n",
    "            , 2: \"yellow\"\n",
    "        }\n",
    "    }\n",
    "    , 2 : {\n",
    "        \"name\":\"apple\"\n",
    "        , \"colors\": {\n",
    "            1: \"Red\"\n",
    "            , 2: \"Green\"\n",
    "            , 3: \"Yellow\"\n",
    "            }\n",
    "    }\n",
    "}"
   ]
  },
  {
   "cell_type": "code",
   "execution_count": 17,
   "metadata": {},
   "outputs": [
    {
     "data": {
      "text/plain": [
       "'Yellow'"
      ]
     },
     "execution_count": 17,
     "metadata": {},
     "output_type": "execute_result"
    }
   ],
   "source": [
    "# Get the value of key \"3\" in the \"colors\" dictionary, which accessed by calling key \"2\" in the main dictionary\n",
    "\n",
    "nDict2[2]['colors'][3]"
   ]
  },
  {
   "cell_type": "code",
   "execution_count": 20,
   "metadata": {},
   "outputs": [],
   "source": [
    "# Example of dictionary with random values.\n",
    "# It has both a 4 level and 5 level nested dictionary\n",
    "\n",
    "dictRand =  {\n",
    "    \"Hello\" : \"World\"\n",
    "    , 1 : True\n",
    "    , 1.3 : {\n",
    "        \"Today\" : 5\n",
    "        , False : {\n",
    "            452 : {\n",
    "                \"Tomorrow\" : \"Next Time\"\n",
    "                , False : \"Now\"\n",
    "            }\n",
    "        }\n",
    "    }\n",
    "    , \"Another\" : {\n",
    "        \"Extra\" : {\n",
    "            1 : {\n",
    "                True : {\n",
    "                    77 : 53\n",
    "                }\n",
    "            }\n",
    "        }\n",
    "    }\n",
    "}"
   ]
  },
  {
   "cell_type": "code",
   "execution_count": 21,
   "metadata": {},
   "outputs": [
    {
     "data": {
      "text/plain": [
       "'Now'"
      ]
     },
     "execution_count": 21,
     "metadata": {},
     "output_type": "execute_result"
    }
   ],
   "source": [
    "# Access an element from the 4 level nested dictionary\n",
    "\n",
    "dictRand[1.3][False][452][False]"
   ]
  },
  {
   "cell_type": "code",
   "execution_count": 24,
   "metadata": {},
   "outputs": [
    {
     "data": {
      "text/plain": [
       "53"
      ]
     },
     "execution_count": 24,
     "metadata": {},
     "output_type": "execute_result"
    }
   ],
   "source": [
    "# Access an element from the 5 level nested dictionary\n",
    "\n",
    "dictRand[\"Another\"]['Extra'][1][True][77]"
   ]
  },
  {
   "cell_type": "markdown",
   "metadata": {},
   "source": [
    "#### Nested Lists in Dictionaries <a id=\"dictionary-nested-lists\"></a>\n",
    "\n",
    "It is also common to store lists as dictionary values.\n",
    "\n",
    "Similar to nested dictionaries, a nested list, which is a list that acts as a dictionary value, can be accessed by referencing its respective key."
   ]
  },
  {
   "cell_type": "code",
   "execution_count": 1,
   "metadata": {},
   "outputs": [],
   "source": [
    "# Example of dictionary with nested lists\n",
    "\n",
    "dictNList = {\n",
    "    'shapes': ['square', 'triangle', 'circle', 'rectangle']\n",
    "    , 'colors': ['red', 'blue', 'purple', 'yellow', 'green']\n",
    "    , 'prime_numbers': [2,3,5,7,11,13,17]\n",
    "}"
   ]
  },
  {
   "cell_type": "code",
   "execution_count": 3,
   "metadata": {},
   "outputs": [
    {
     "data": {
      "text/plain": [
       "['red', 'blue', 'purple', 'yellow', 'green']"
      ]
     },
     "execution_count": 3,
     "metadata": {},
     "output_type": "execute_result"
    }
   ],
   "source": [
    "# Access the list that is the value of the 'colors' key\n",
    "\n",
    "dictNList['colors']"
   ]
  },
  {
   "cell_type": "markdown",
   "metadata": {},
   "source": [
    "Furthermore, like any list, items within the nested list can be accessed by index. This is done by adding another set of square brackets referencing the index of choice."
   ]
  },
  {
   "cell_type": "code",
   "execution_count": 4,
   "metadata": {},
   "outputs": [
    {
     "data": {
      "text/plain": [
       "'yellow'"
      ]
     },
     "execution_count": 4,
     "metadata": {},
     "output_type": "execute_result"
    }
   ],
   "source": [
    "# Access the fourth element in the 'colors' list\n",
    "\n",
    "dictNList['colors'][3]"
   ]
  },
  {
   "cell_type": "markdown",
   "metadata": {},
   "source": [
    "Like nested dictionaries, nested lists can go as many layers deep as required.\n",
    "\n",
    "Additionally, dictionaries can be nested within lists. This allows the potential for layers of meaningful data within one dictionary. "
   ]
  },
  {
   "cell_type": "code",
   "execution_count": 3,
   "metadata": {},
   "outputs": [],
   "source": [
    "# Dictionary with nested lists and dictionaries\n",
    "\n",
    "deepNList = {\n",
    "    \"Layer1_Item1\" : \"Hello\"\n",
    "    ,\"Layer1_Item2\" : [\"Hello\", \"World\", {\n",
    "        \"Layer2_Item1\" : {\n",
    "            'Layer3_Item1' : [\n",
    "                1,4,6,8,2, [\n",
    "                    5,32, {\n",
    "                        \"Layer5\" : \"Very Nested\"\n",
    "                    }\n",
    "                ]\n",
    "            ]\n",
    "        }\n",
    "    }]\n",
    "}"
   ]
  },
  {
   "cell_type": "code",
   "execution_count": 10,
   "metadata": {},
   "outputs": [
    {
     "data": {
      "text/plain": [
       "'Very Nested'"
      ]
     },
     "execution_count": 10,
     "metadata": {},
     "output_type": "execute_result"
    }
   ],
   "source": [
    "deepNList[\"Layer1_Item2\"][2][\"Layer2_Item1\"]['Layer3_Item1'][5][2]['Layer5']"
   ]
  },
  {
   "cell_type": "code",
   "execution_count": null,
   "metadata": {},
   "outputs": [
    {
     "data": {
      "text/plain": [
       "3"
      ]
     },
     "execution_count": 61,
     "metadata": {},
     "output_type": "execute_result"
    }
   ],
   "source": [
    "len(age)"
   ]
  },
  {
   "cell_type": "code",
   "execution_count": null,
   "metadata": {},
   "outputs": [
    {
     "data": {
      "text/plain": [
       "True"
      ]
     },
     "execution_count": 66,
     "metadata": {},
     "output_type": "execute_result"
    }
   ],
   "source": [
    "\"Dane\" in age.keys()"
   ]
  },
  {
   "cell_type": "code",
   "execution_count": null,
   "metadata": {},
   "outputs": [
    {
     "data": {
      "text/plain": [
       "dict_values([55, 35, 44])"
      ]
     },
     "execution_count": 63,
     "metadata": {},
     "output_type": "execute_result"
    }
   ],
   "source": [
    "age.values() #returns list in python 2"
   ]
  },
  {
   "cell_type": "code",
   "execution_count": null,
   "metadata": {},
   "outputs": [
    {
     "data": {
      "text/plain": [
       "True"
      ]
     },
     "execution_count": 65,
     "metadata": {},
     "output_type": "execute_result"
    }
   ],
   "source": [
    "55 in age.values()"
   ]
  },
  {
   "cell_type": "code",
   "execution_count": null,
   "metadata": {},
   "outputs": [
    {
     "data": {
      "text/plain": [
       "dict_items([('John', 55), ('Jane', 35), ('Dane', 44)])"
      ]
     },
     "execution_count": 64,
     "metadata": {},
     "output_type": "execute_result"
    }
   ],
   "source": [
    "age.items() #key value tuples; returns list in python 2"
   ]
  },
  {
   "cell_type": "markdown",
   "metadata": {},
   "source": [
    "Dictionary keys are immutable. Lists cannot be used as keys"
   ]
  },
  {
   "cell_type": "code",
   "execution_count": null,
   "metadata": {},
   "outputs": [
    {
     "data": {
      "text/plain": [
       "('Christopher', 'Brooks', 'brooksch@umich.edu')"
      ]
     },
     "execution_count": 63,
     "metadata": {},
     "output_type": "execute_result"
    }
   ],
   "source": [
    "x = ('Christopher', 'Brooks', 'brooksch@umich.edu')\n",
    "fname, lname, email = x\n",
    "fname, lname, email"
   ]
  },
  {
   "cell_type": "code",
   "execution_count": null,
   "metadata": {},
   "outputs": [
    {
     "data": {
      "text/plain": [
       "(90, 37, 17)"
      ]
     },
     "execution_count": 66,
     "metadata": {},
     "output_type": "execute_result"
    }
   ],
   "source": [
    "x = {'Christopher' : 90, 'Brooks': 37 , 'brooksch@umich.edu': 17}\n",
    "fname, lname, email = x.values()\n",
    "fname, lname, email"
   ]
  },
  {
   "cell_type": "code",
   "execution_count": null,
   "metadata": {
    "scrolled": true
   },
   "outputs": [
    {
     "data": {
      "text/plain": [
       "('Christopher', 'Brooks', 'brooksch@umich.edu')"
      ]
     },
     "execution_count": 68,
     "metadata": {},
     "output_type": "execute_result"
    }
   ],
   "source": [
    "x = {'Christopher' : 90, 'Brooks': 37 , 'brooksch@umich.edu': 17}\n",
    "fname, lname, email = x\n",
    "fname, lname, email # Unpacked values must match number of variables"
   ]
  },
  {
   "cell_type": "markdown",
   "metadata": {},
   "source": [
    "## Looping <a id=\"looping\"></a>\n",
    "\n",
    "Loops are control flow statements that allow blocks of code to be executed multiple times without the need to repeat code over and over again.\n",
    "\n",
    "Loops can be executed by using either a \"for\" loop or a \"while\" loop."
   ]
  },
  {
   "cell_type": "markdown",
   "metadata": {},
   "source": [
    "### for Loops <a id=\"looping-forloop\"></a>\n",
    "\n",
    "A \"for\" loop is typically structured as follows:\n",
    "\n",
    "\n",
    "`for \\<variable\\> in \\<iterable\\>:\n",
    "    execute code\n",
    "`\n",
    "\n",
    "\"Iterable\" indicates the iterable that the for loop will iterate before it finishes executing. Iterables include lists, tuples and dictionaries. \n",
    "\n",
    "The for loop will loop as many times as there are items in the iterable.\n",
    "\n",
    "\"Variable\" is the current item, or index, that the for loop is iterating over. For example, with a for loop iterating over a list, the  \"variable\" in the first iteration of the loop will be the first element of the list, the \"variable\" in the second iteration of the loop will be the second element of the list, etc. This will continue until the for loop finishes iterating over the last element int the list.\n",
    "\n",
    "\"execute code\" is the code that will execute during every iteration of the loop. Notice the indentation. Any line of code that is indented after the for loop statement will be executed as part of the loop."
   ]
  },
  {
   "cell_type": "markdown",
   "metadata": {},
   "source": [
    "A function typically used as an iterator is the range() function, given that it returns a list numbers in a sequence.\n",
    "\n",
    "The syntax of the range() function is range(x,y,s), where 'x' is the first item in the range (inclusive), 'y' is the last item in the range (exclusive) and 's' is the number of steps to take when creating the range, or how many numbers to skip when creating the range x and y. By default, the step parameter is set to 1"
   ]
  },
  {
   "cell_type": "code",
   "execution_count": 2,
   "metadata": {},
   "outputs": [
    {
     "name": "stdout",
     "output_type": "stream",
     "text": [
      "1\n",
      "2\n",
      "3\n",
      "4\n"
     ]
    }
   ],
   "source": [
    "# Loop the print() function 4 times to print out the numbers 1 to 4 (5 is excluded).\n",
    "\n",
    "for x in range(1,5):\n",
    "    print(x)"
   ]
  },
  {
   "cell_type": "code",
   "execution_count": 3,
   "metadata": {},
   "outputs": [
    {
     "name": "stdout",
     "output_type": "stream",
     "text": [
      "2\n",
      "4\n",
      "6\n",
      "8\n",
      "10\n"
     ]
    }
   ],
   "source": [
    "# Loop print() 5 times to print out even numbers between 1 and 10 \n",
    "# by setting the step parameter to 2 and starting the range from 2 \n",
    "# (11 is used as the end of the range to include the 10)\n",
    "\n",
    "for x in range(2, 11, 2):\n",
    "    print(x)"
   ]
  },
  {
   "cell_type": "code",
   "execution_count": 4,
   "metadata": {},
   "outputs": [
    {
     "name": "stdout",
     "output_type": "stream",
     "text": [
      "1\n",
      "3\n",
      "5\n",
      "7\n",
      "9\n"
     ]
    }
   ],
   "source": [
    "# Print odd numbers by doing the same thing but staring with 1 instead of 2\n",
    "\n",
    "for x in range(1, 11, 2):\n",
    "    print(x)"
   ]
  },
  {
   "cell_type": "markdown",
   "metadata": {},
   "source": [
    "If a loop is meant simply to run a block of code multiple times without retyping it, it is not required to use the variable returned by the iterator if you don't need to use it."
   ]
  },
  {
   "cell_type": "code",
   "execution_count": 2,
   "metadata": {},
   "outputs": [
    {
     "name": "stdout",
     "output_type": "stream",
     "text": [
      "Hello World!\n",
      "Hello World!\n",
      "Hello World!\n",
      "Hello World!\n",
      "Hello World!\n"
     ]
    }
   ],
   "source": [
    "# Print the string \"Hello World\" 6 times\n",
    "# An underscore can be used for the index varible as a placeholder \n",
    "\n",
    "for _ in range(1, 6):\n",
    "    print(\"Hello World!\")"
   ]
  },
  {
   "cell_type": "markdown",
   "metadata": {},
   "source": [
    "The range() function also accepts a single parameter. When a single integer is provided, that integer will be used to indicate the last which is used to indicate the last item in the range (exclusive), while always starting with 0\n",
    "\n",
    "For example, range(10) will iterate over a list from 0 to 9, thus looping 10 times."
   ]
  },
  {
   "cell_type": "code",
   "execution_count": 3,
   "metadata": {},
   "outputs": [
    {
     "name": "stdout",
     "output_type": "stream",
     "text": [
      "0\n",
      "1\n",
      "2\n",
      "3\n",
      "4\n",
      "5\n",
      "6\n",
      "7\n",
      "8\n"
     ]
    }
   ],
   "source": [
    "# The loop will print out numbers 0 to 8\n",
    "\n",
    "for x in range(9):\n",
    "    print(x)"
   ]
  },
  {
   "cell_type": "code",
   "execution_count": 4,
   "metadata": {},
   "outputs": [
    {
     "name": "stdout",
     "output_type": "stream",
     "text": [
      "Python\n",
      "Python\n",
      "Python\n",
      "Python\n",
      "Python\n",
      "Python\n",
      "Python\n",
      "Python\n"
     ]
    }
   ],
   "source": [
    "# The loop will print out the string \"Python\" 8 times\n",
    "\n",
    "for _ in range(8):\n",
    "    print(\"Python\")"
   ]
  },
  {
   "cell_type": "markdown",
   "metadata": {},
   "source": [
    "Loops are not limited to just the print() function.\n",
    "\n",
    "A loop can be used to run any amount of code and perform tasks such as calculations.\n",
    "\n",
    "Below is an example of how to use a loop to find the sum of a range of numbers (ignoring sum() function)"
   ]
  },
  {
   "cell_type": "code",
   "execution_count": 5,
   "metadata": {},
   "outputs": [
    {
     "name": "stdout",
     "output_type": "stream",
     "text": [
      "15\n"
     ]
    }
   ],
   "source": [
    "# Finding a sum by adding the number 1 15 times using a loop \n",
    "\n",
    "# Variable to keep track of sum\n",
    "total = 0 \n",
    "# loop 15 times\n",
    "for _ in range(15):\n",
    "    total += 1\n",
    "    \n",
    "print(total)"
   ]
  },
  {
   "cell_type": "markdown",
   "metadata": {},
   "source": [
    "Take note that the \"total\" variable is outside of the for loop. This is because it only needs to be declared once and reassigned with every loop iteration.\n",
    "\n",
    "If it is declared inside the loop, the variable will just keep being initialized as 0."
   ]
  },
  {
   "cell_type": "code",
   "execution_count": 6,
   "metadata": {},
   "outputs": [
    {
     "name": "stdout",
     "output_type": "stream",
     "text": [
      "1\n"
     ]
    }
   ],
   "source": [
    "# Total will only result in 1 no matter how many times the loop iterates\n",
    "\n",
    "for _ in range(50):\n",
    "    total = 0 #Decalre total as 0\n",
    "    total += 1 #Add 1 to the 0\n",
    "    \n",
    "print(total)"
   ]
  },
  {
   "cell_type": "markdown",
   "metadata": {},
   "source": [
    "The numbers in the range can be added together as well"
   ]
  },
  {
   "cell_type": "code",
   "execution_count": 7,
   "metadata": {},
   "outputs": [
    {
     "name": "stdout",
     "output_type": "stream",
     "text": [
      "55\n"
     ]
    }
   ],
   "source": [
    "# Find the sum of the numbers from 1 to 10\n",
    "\n",
    "total = 0\n",
    "for x in range(1, 11):\n",
    "    total += x\n",
    "    \n",
    "print(total)"
   ]
  },
  {
   "cell_type": "markdown",
   "metadata": {},
   "source": [
    "#### Looping through lists  <a id=\"looping-lists\"></a>\n",
    "\n",
    "The range() functions can be used as the iterable for the for loop since it returns a list.\n",
    "\n",
    "Loops can also be used to iterate over a custom made list as well."
   ]
  },
  {
   "cell_type": "code",
   "execution_count": 8,
   "metadata": {},
   "outputs": [
    {
     "name": "stdout",
     "output_type": "stream",
     "text": [
      "a\n",
      "b\n",
      "c\n",
      "d\n",
      "e\n"
     ]
    }
   ],
   "source": [
    "lst = ['a','b','c','d','e']\n",
    "\n",
    "for item in lst:\n",
    "    print(item)"
   ]
  },
  {
   "cell_type": "markdown",
   "metadata": {},
   "source": [
    "You can also use the range() function to iterate through a list by index.\n",
    "\n",
    "Since the range() function always returns a list that begins with 0 when one parameter is passed, you can pass the length of the list as the parameter if you want to loop through the entire list."
   ]
  },
  {
   "cell_type": "code",
   "execution_count": 10,
   "metadata": {},
   "outputs": [
    {
     "name": "stdout",
     "output_type": "stream",
     "text": [
      "a\n",
      "b\n",
      "c\n",
      "d\n",
      "e\n"
     ]
    }
   ],
   "source": [
    "for i in range(len(lst)):\n",
    "    print(lst[i])"
   ]
  },
  {
   "cell_type": "markdown",
   "metadata": {},
   "source": [
    "#### Loops with mutliple variables   <a id=\"looping-multivars\"></a>\n",
    "\n",
    "for Loops has the ability to process multiple variables returned by the iterable. The syntax is as follows:\n",
    "\n",
    "`for \\<variable1\\>, \\<variable2\\>, .....  in \\<iterable\\>:\n",
    "    execute code\n",
    "`\n",
    "\n",
    "The number of variables the for loop can process depends on how the iterator is structured.\n",
    "\n",
    "Normally, we have been looping through iterables that are made up of single value elements:\n",
    "\n",
    "\\[1,2,3,4,5,6,7\\]\n",
    "\n",
    "On occasion, you will encounter iterables whose elements are other iterables, such as lists of lists, or lists of tuples.\n",
    "\n",
    "Below is an example of a list of lists with two elements:\n",
    "\n",
    "\\[ \\[1,3\\], \\[3,4\\], \\[6,23\\] \\]\n",
    "\n",
    "With a list structured like this, a for loop can iterate through each element and access both pieces of data they are made of."
   ]
  },
  {
   "cell_type": "markdown",
   "metadata": {},
   "source": [
    "Lets say for example, we are presented with a list of tuples containing two elements that are meant to represent a person's height and weight."
   ]
  },
  {
   "cell_type": "code",
   "execution_count": 22,
   "metadata": {},
   "outputs": [],
   "source": [
    "# Each tuple in the list represents an individual person\n",
    "# The first element in the tuple represents the person's height in inches\n",
    "# The second element in the tuple represents the person's weight in pounds\n",
    "\n",
    "htWt = [(70, 201), (67, 183), (59, 166), (61,145)]"
   ]
  },
  {
   "cell_type": "markdown",
   "metadata": {},
   "source": [
    "You can access both the height and weight by using a for loop with two variables."
   ]
  },
  {
   "cell_type": "code",
   "execution_count": 23,
   "metadata": {},
   "outputs": [
    {
     "name": "stdout",
     "output_type": "stream",
     "text": [
      "The person's height is 70 and weight is 201\n",
      "The person's height is 67 and weight is 183\n",
      "The person's height is 59 and weight is 166\n",
      "The person's height is 61 and weight is 145\n"
     ]
    }
   ],
   "source": [
    "# For loop retrieving 2 elements in each tuple within the iterable \n",
    "\n",
    "for height, weight in htWt:\n",
    "    print(\"The person's height is {0} and weight is {1}\".format(height, weight))"
   ]
  },
  {
   "cell_type": "markdown",
   "metadata": {},
   "source": [
    "To demonstrate three variables, let's create a list with tuples containing three elements: height, weight and eye color."
   ]
  },
  {
   "cell_type": "code",
   "execution_count": 1,
   "metadata": {},
   "outputs": [],
   "source": [
    "# Each tuple in the list represents an individual person\n",
    "# The first element in the tuple represents the person's height in inches\n",
    "# The second element in the tuple represents the person's weight in pounds\n",
    "# The third element in the tuple represents the person's eye color\n",
    "\n",
    "htWtEye = [(70, 201, \"Blue\"), (67, 183, \"Hazel\"), (59, 166, \"Green\"), (61,145,\"Blue\")]"
   ]
  },
  {
   "cell_type": "code",
   "execution_count": 2,
   "metadata": {},
   "outputs": [
    {
     "name": "stdout",
     "output_type": "stream",
     "text": [
      "The person's height is 70, weight is 201, and eye color is Blue\n",
      "The person's height is 67, weight is 183, and eye color is Hazel\n",
      "The person's height is 59, weight is 166, and eye color is Green\n",
      "The person's height is 61, weight is 145, and eye color is Blue\n"
     ]
    }
   ],
   "source": [
    "# For loop retrieving 3 elements in each tuple within the iterable \n",
    "\n",
    "for height, weight, eyeCol in htWtEye:\n",
    "    print(\"The person's height is {0}, weight is {1}, and eye color is {2}\".format(height, weight, eyeCol))"
   ]
  },
  {
   "cell_type": "markdown",
   "metadata": {},
   "source": [
    "For a for loop to work correctly, every iterable has to have the same number of elements as there are variables. Otherwise, the loop will throw an error."
   ]
  },
  {
   "cell_type": "code",
   "execution_count": 3,
   "metadata": {},
   "outputs": [
    {
     "name": "stdout",
     "output_type": "stream",
     "text": [
      "The person's height is 70, weight is 201, and eye color is Blue\n"
     ]
    },
    {
     "ename": "ValueError",
     "evalue": "not enough values to unpack (expected 3, got 2)",
     "output_type": "error",
     "traceback": [
      "\u001b[1;31m---------------------------------------------------------------------------\u001b[0m",
      "\u001b[1;31mValueError\u001b[0m                                Traceback (most recent call last)",
      "\u001b[1;32m~\\AppData\\Local\\Temp\\ipykernel_11836\\957266250.py\u001b[0m in \u001b[0;36m<module>\u001b[1;34m\u001b[0m\n\u001b[0;32m      3\u001b[0m \u001b[1;31m# For loop retrieving 3 elements in each tuple within the iterable\u001b[0m\u001b[1;33m\u001b[0m\u001b[1;33m\u001b[0m\u001b[0m\n\u001b[0;32m      4\u001b[0m \u001b[1;33m\u001b[0m\u001b[0m\n\u001b[1;32m----> 5\u001b[1;33m \u001b[1;32mfor\u001b[0m \u001b[0mheight\u001b[0m\u001b[1;33m,\u001b[0m \u001b[0mweight\u001b[0m\u001b[1;33m,\u001b[0m \u001b[0meyeCol\u001b[0m \u001b[1;32min\u001b[0m \u001b[0mhtWtEye\u001b[0m\u001b[1;33m:\u001b[0m\u001b[1;33m\u001b[0m\u001b[1;33m\u001b[0m\u001b[0m\n\u001b[0m\u001b[0;32m      6\u001b[0m     \u001b[0mprint\u001b[0m\u001b[1;33m(\u001b[0m\u001b[1;34m\"The person's height is {0}, weight is {1}, and eye color is {2}\"\u001b[0m\u001b[1;33m.\u001b[0m\u001b[0mformat\u001b[0m\u001b[1;33m(\u001b[0m\u001b[0mheight\u001b[0m\u001b[1;33m,\u001b[0m \u001b[0mweight\u001b[0m\u001b[1;33m,\u001b[0m \u001b[0meyeCol\u001b[0m\u001b[1;33m)\u001b[0m\u001b[1;33m)\u001b[0m\u001b[1;33m\u001b[0m\u001b[1;33m\u001b[0m\u001b[0m\n",
      "\u001b[1;31mValueError\u001b[0m: not enough values to unpack (expected 3, got 2)"
     ]
    }
   ],
   "source": [
    "# The second iterable has only two elements,but the for loop is looking for 3\n",
    "\n",
    "htWtEye = [(70, 201, \"Blue\"), (67, 183), (59, 166, \"Green\"), (61,145,\"Blue\")]\n",
    "\n",
    "# For loop retrieving 3 elements in each tuple within the iterable\n",
    "# Throws an error when it iterates through the second tuple\n",
    "\n",
    "for height, weight, eyeCol in htWtEye:\n",
    "    print(\"The person's height is {0}, weight is {1}, and eye color is {2}\".format(height, weight, eyeCol))"
   ]
  },
  {
   "cell_type": "markdown",
   "metadata": {},
   "source": [
    "#### Looping through Dictionaries  <a id=\"looping-dict\"></a>\n",
    "\n",
    "Looping through dictionaries is a little different, given that they are made up of key value pairs. There are several ways  to loop though them to retrieve the keys and values either separately or together."
   ]
  },
  {
   "cell_type": "code",
   "execution_count": 8,
   "metadata": {},
   "outputs": [],
   "source": [
    "# Declare a dictionary where the keys are integers and the values are strings\n",
    "\n",
    "dic = {1:\"Hello\"\n",
    "      , 2: \"There\"\n",
    "      , 3: \"My\"\n",
    "      , 4: \"Friend\"\n",
    "      , 5: \"!\"}"
   ]
  },
  {
   "cell_type": "markdown",
   "metadata": {},
   "source": [
    "#### Looping through keys <a id=\"looping-dictkeys\"></a>\n",
    "\n",
    "You can loop through a dictionary's keys by either using the keys() method, or by simply using the dictionary itself as the iterator. "
   ]
  },
  {
   "cell_type": "code",
   "execution_count": 10,
   "metadata": {},
   "outputs": [
    {
     "name": "stdout",
     "output_type": "stream",
     "text": [
      "1\n",
      "2\n",
      "3\n",
      "4\n",
      "5\n"
     ]
    }
   ],
   "source": [
    "# Loop through dictionary keys using the keys() method\n",
    "\n",
    "for item in dic.keys():\n",
    "    print(item)"
   ]
  },
  {
   "cell_type": "code",
   "execution_count": 11,
   "metadata": {},
   "outputs": [
    {
     "name": "stdout",
     "output_type": "stream",
     "text": [
      "1\n",
      "2\n",
      "3\n",
      "4\n",
      "5\n"
     ]
    }
   ],
   "source": [
    "# Loop through dictionary keys using the dictionary itself as the iterator\n",
    "\n",
    "for item in dic:\n",
    "    print(item)"
   ]
  },
  {
   "cell_type": "markdown",
   "metadata": {},
   "source": [
    "#### Looping through values <a id=\"looping-dictvals\"></a>\n",
    "\n",
    "You can loop through a dictionary's values by either using the values() method, or by using the dictionary itself as the iterator and using indexing with the loop variable as the key to access the value."
   ]
  },
  {
   "cell_type": "code",
   "execution_count": 12,
   "metadata": {},
   "outputs": [
    {
     "name": "stdout",
     "output_type": "stream",
     "text": [
      "Hello\n",
      "There\n",
      "My\n",
      "Friend\n",
      "!\n"
     ]
    }
   ],
   "source": [
    "# Loop through dictionary values using the values() method\n",
    "\n",
    "for item in dic.values():\n",
    "    print(item)"
   ]
  },
  {
   "cell_type": "code",
   "execution_count": 13,
   "metadata": {},
   "outputs": [
    {
     "name": "stdout",
     "output_type": "stream",
     "text": [
      "Hello\n",
      "There\n",
      "My\n",
      "Friend\n",
      "!\n"
     ]
    }
   ],
   "source": [
    "# Loop through dictionary values using indexing with the variable \"Item\" as the key\n",
    "\n",
    "for item in dic:\n",
    "    print(dic[item])"
   ]
  },
  {
   "cell_type": "markdown",
   "metadata": {},
   "source": [
    "#### Looping through both keys and values <a id=\"looping-dictkeysvals\"></a>\n",
    "\n",
    "You can loop through a dictionary's keys and values by using indexing and simply calling the loop variable as well."
   ]
  },
  {
   "cell_type": "code",
   "execution_count": 16,
   "metadata": {},
   "outputs": [
    {
     "name": "stdout",
     "output_type": "stream",
     "text": [
      "The current key is 1 and the current value is Hello\n",
      "The current key is 2 and the current value is There\n",
      "The current key is 3 and the current value is My\n",
      "The current key is 4 and the current value is Friend\n",
      "The current key is 5 and the current value is !\n"
     ]
    }
   ],
   "source": [
    "# Loop through dictionary values using indexing with the variable \"item\" as the key and using the variable \"item\" as well\n",
    "\n",
    "for item in dic:\n",
    "    print(\"The current key is {0} and the current value is {1}\".format(item, dic[item]))"
   ]
  },
  {
   "cell_type": "markdown",
   "metadata": {},
   "source": [
    "Another way is to use the dictionary's items() method, which returns a tuple containing both the keys and values."
   ]
  },
  {
   "cell_type": "code",
   "execution_count": 17,
   "metadata": {},
   "outputs": [
    {
     "name": "stdout",
     "output_type": "stream",
     "text": [
      "(1, 'Hello')\n",
      "(2, 'There')\n",
      "(3, 'My')\n",
      "(4, 'Friend')\n",
      "(5, '!')\n"
     ]
    }
   ],
   "source": [
    "for item in dic.items():\n",
    "    print(item)"
   ]
  },
  {
   "cell_type": "markdown",
   "metadata": {},
   "source": [
    "With it, you can use a loop with two variables to access both the key and value."
   ]
  },
  {
   "cell_type": "code",
   "execution_count": 21,
   "metadata": {},
   "outputs": [
    {
     "name": "stdout",
     "output_type": "stream",
     "text": [
      "The current key is 1 and the current value is Hello\n",
      "The current key is 2 and the current value is There\n",
      "The current key is 3 and the current value is My\n",
      "The current key is 4 and the current value is Friend\n",
      "The current key is 5 and the current value is !\n"
     ]
    }
   ],
   "source": [
    "for key, value in dic.items():\n",
    "    print(\"The current key is {0} and the current value is {1}\".format(key, value))"
   ]
  },
  {
   "cell_type": "markdown",
   "metadata": {},
   "source": [
    "### while Loops <a id=\"looping-while\"></a>\n",
    "\n",
    "Unlike for loops, whose number of iterations depend on the number of items in an iterable, a while loop iterates based on a condition set by the programmer.\n",
    "\n",
    "The syntax of a while loop is as follows:\n",
    "\n",
    "`while \\<condition = True\\>:\n",
    "    execute code\n",
    "`\n",
    "\n",
    "As long as the condition passed to the while loop is true, the loop will continue. It only terminates when the condition becomes false. This gives the programmer more flexibility as to what should happen in the loop before it terminates.\n",
    "\n",
    "For this reason, a variable is typically used as a component in the condition since it can be reassigned by the programmer. The variable is then changed in the loop until the condition is met. "
   ]
  },
  {
   "cell_type": "markdown",
   "metadata": {},
   "source": [
    "Below is an example of a simple while loop that prints \"Hello World\" 7 times:"
   ]
  },
  {
   "cell_type": "code",
   "execution_count": 3,
   "metadata": {},
   "outputs": [
    {
     "name": "stdout",
     "output_type": "stream",
     "text": [
      "Hello World\n",
      "Hello World\n",
      "Hello World\n",
      "Hello World\n",
      "Hello World\n",
      "Hello World\n",
      "Hello World\n"
     ]
    }
   ],
   "source": [
    "i=0 #Declaring a variable as 0\n",
    "\n",
    "# Keep running the code in a while loop as long as i is less than 10\n",
    "while( i < 7 ):\n",
    "    print(\"Hello World\")\n",
    "    i += 1 #Increment i by 1"
   ]
  },
  {
   "cell_type": "markdown",
   "metadata": {},
   "source": [
    "First we declare a variable \"i\". This acts as the \"counter\" that determines how many times the loop will iterate.\n",
    "\n",
    "Next we declare the while loop with the condition \"i < 7\". The way this works is: run the code in the while loop as long as \"i\" is less than 7.\n",
    "\n",
    "Next we run the print() statement. Since this does not affect the variable \"i\", this also does not have any impact on the loop's condition.\n",
    "\n",
    "Finally, we increment the \"i\" variable by 1. Since \"i\" is declared outside the loop, \"i\" will keep its new value when the next iteration of the loop begins.\n",
    "\n",
    "Incrementing \"i\" is the most important part of the while loop because this allows the loop's condition to become False at some point, thus ending it.\n",
    "\n",
    "If a while loop's condition is always True (in this case, if \"i\" is always less than 7), the loop will never end, and will create what is called an \"infinite loop\". If an infinite loop occurs, the programmer will have to manually terminate the program for it to stop.\n",
    "\n"
   ]
  },
  {
   "cell_type": "markdown",
   "metadata": {},
   "source": []
  },
  {
   "cell_type": "markdown",
   "metadata": {},
   "source": []
  },
  {
   "cell_type": "code",
   "execution_count": 7,
   "metadata": {},
   "outputs": [
    {
     "name": "stdout",
     "output_type": "stream",
     "text": [
      "1 Hello\n",
      "2 There\n",
      "3 My\n",
      "4 Friend\n",
      "5 !\n"
     ]
    }
   ],
   "source": [
    "for key, item in dic.items():\n",
    "    print(key, item)"
   ]
  },
  {
   "cell_type": "code",
   "execution_count": null,
   "metadata": {},
   "outputs": [
    {
     "name": "stdout",
     "output_type": "stream",
     "text": [
      "a\n",
      "b\n",
      "c\n",
      "d\n",
      "e\n"
     ]
    },
    {
     "data": {
      "text/plain": [
       "[None, None, None, None, None]"
      ]
     },
     "execution_count": 28,
     "metadata": {},
     "output_type": "execute_result"
    }
   ],
   "source": [
    "#List Comprehension\n",
    "[print(i) for i in lst] "
   ]
  },
  {
   "cell_type": "markdown",
   "metadata": {},
   "source": [
    "### Repeating Lists"
   ]
  },
  {
   "cell_type": "code",
   "execution_count": null,
   "metadata": {},
   "outputs": [
    {
     "data": {
      "text/plain": [
       "['a', 'b', 'c', 'd', 'e', 'a', 'b', 'c', 'd', 'e', 'a', 'b', 'c', 'd', 'e']"
      ]
     },
     "execution_count": 29,
     "metadata": {},
     "output_type": "execute_result"
    }
   ],
   "source": [
    "lst * 3"
   ]
  },
  {
   "cell_type": "code",
   "execution_count": null,
   "metadata": {},
   "outputs": [],
   "source": []
  },
  {
   "cell_type": "code",
   "execution_count": null,
   "metadata": {},
   "outputs": [],
   "source": []
  },
  {
   "cell_type": "markdown",
   "metadata": {},
   "source": [
    "## Control Flow"
   ]
  },
  {
   "cell_type": "markdown",
   "metadata": {},
   "source": [
    "if statement. In Python, there are no brackets. Colons and whitespace determine statements"
   ]
  },
  {
   "cell_type": "code",
   "execution_count": null,
   "metadata": {},
   "outputs": [],
   "source": [
    "x = 2\n",
    "if x > 5:\n",
    "    print (\"greater than five\")\n",
    "elif  x < 5: #else if. if the above condition doesn't apply, try this (as many can be added)\n",
    "    print(\"less than five\")\n",
    "else: #otherwise\n",
    "    print(\"must be five\")"
   ]
  },
  {
   "cell_type": "markdown",
   "metadata": {},
   "source": [
    "ternary operator. if-then-else on one line"
   ]
  },
  {
   "cell_type": "code",
   "execution_count": null,
   "metadata": {},
   "outputs": [
    {
     "data": {
      "text/plain": [
       "'greater or equal to 5'"
      ]
     },
     "execution_count": 131,
     "metadata": {},
     "output_type": "execute_result"
    }
   ],
   "source": [
    "\"greater or equal to 5\" if x > 5 else \"less than 5\""
   ]
  },
  {
   "cell_type": "markdown",
   "metadata": {},
   "source": [
    "while loop (Be careful of infinite loops)"
   ]
  },
  {
   "cell_type": "code",
   "execution_count": null,
   "metadata": {},
   "outputs": [
    {
     "name": "stdout",
     "output_type": "stream",
     "text": [
      "0\n",
      "2\n",
      "4\n",
      "6\n",
      "8\n",
      "10\n",
      "12\n",
      "14\n",
      "16\n",
      "18\n",
      "20\n"
     ]
    }
   ],
   "source": [
    "x = 0\n",
    "while x <= 20:\n",
    "    print (x)\n",
    "    x += 2"
   ]
  },
  {
   "cell_type": "markdown",
   "metadata": {},
   "source": [
    "for loop. Very different from conventiional for loops. Similar to foreach loops"
   ]
  },
  {
   "cell_type": "code",
   "execution_count": null,
   "metadata": {},
   "outputs": [
    {
     "name": "stdout",
     "output_type": "stream",
     "text": [
      "0\n",
      "1\n",
      "2\n",
      "3\n",
      "4\n",
      "5\n",
      "6\n",
      "7\n",
      "8\n",
      "9\n"
     ]
    }
   ],
   "source": [
    "for i in range(10): #loop in range 0 to 9 where i is the index\n",
    "    print (i)\n"
   ]
  },
  {
   "cell_type": "code",
   "execution_count": null,
   "metadata": {},
   "outputs": [
    {
     "name": "stdout",
     "output_type": "stream",
     "text": [
      "Hello\n",
      "0\n",
      "19\n",
      "True\n",
      "['Up', 'Down']\n"
     ]
    }
   ],
   "source": [
    "# looping through data structures\n",
    "\n",
    "lst = ['Hello', 0, 19, True, [\"Up\", \"Down\"]]\n",
    "\n",
    "for ele in lst:\n",
    "    print (ele)\n"
   ]
  },
  {
   "cell_type": "markdown",
   "metadata": {},
   "source": [
    "break - quit loop entirely\n",
    "continue - go to next loop iteration"
   ]
  },
  {
   "cell_type": "code",
   "execution_count": null,
   "metadata": {},
   "outputs": [
    {
     "name": "stdout",
     "output_type": "stream",
     "text": [
      "0\n",
      "1\n",
      "2\n",
      "3\n",
      "4\n",
      "6\n",
      "7\n",
      "8\n",
      "9\n",
      "10\n"
     ]
    }
   ],
   "source": [
    "for i in range(100):\n",
    "    if i == 5:\n",
    "        continue\n",
    "    if i == 11:\n",
    "        break\n",
    "    print(i)\n",
    "    \n",
    "#skip 5, quit at 10"
   ]
  },
  {
   "cell_type": "code",
   "execution_count": null,
   "metadata": {},
   "outputs": [],
   "source": [
    "na = None\n",
    "na"
   ]
  },
  {
   "cell_type": "code",
   "execution_count": null,
   "metadata": {},
   "outputs": [
    {
     "data": {
      "text/plain": [
       "True"
      ]
     },
     "execution_count": 152,
     "metadata": {},
     "output_type": "execute_result"
    }
   ],
   "source": [
    "na == None"
   ]
  },
  {
   "cell_type": "code",
   "execution_count": null,
   "metadata": {},
   "outputs": [
    {
     "data": {
      "text/plain": [
       "True"
      ]
     },
     "execution_count": 153,
     "metadata": {},
     "output_type": "execute_result"
    }
   ],
   "source": [
    "na is None"
   ]
  },
  {
   "cell_type": "markdown",
   "metadata": {},
   "source": [
    "is - same object\n",
    "== - equal value"
   ]
  },
  {
   "cell_type": "code",
   "execution_count": null,
   "metadata": {},
   "outputs": [],
   "source": [
    "if 0:\n",
    "    print(\"Hello\")"
   ]
  },
  {
   "cell_type": "code",
   "execution_count": null,
   "metadata": {},
   "outputs": [
    {
     "name": "stdout",
     "output_type": "stream",
     "text": [
      "Hello\n"
     ]
    }
   ],
   "source": [
    "if 1: print(\"Hello\")"
   ]
  },
  {
   "cell_type": "markdown",
   "metadata": {},
   "source": [
    "Treated as False:\n",
    "    \n",
    "False\n",
    "None\n",
    "[] (an empty list)\n",
    "{} (an empty dict)\n",
    "\"\"\n",
    "set()\n",
    "0\n",
    "0.0\n",
    "\n",
    "Anything else gets treated as True. \n",
    "\n",
    "This allows if state‐\n",
    "ments to test for empty lists, strings, dictionaries, etc. "
   ]
  },
  {
   "cell_type": "code",
   "execution_count": null,
   "metadata": {},
   "outputs": [
    {
     "data": {
      "text/plain": [
       "False"
      ]
     },
     "execution_count": 162,
     "metadata": {},
     "output_type": "execute_result"
    }
   ],
   "source": [
    "True and False"
   ]
  },
  {
   "cell_type": "code",
   "execution_count": null,
   "metadata": {},
   "outputs": [
    {
     "data": {
      "text/plain": [
       "True"
      ]
     },
     "execution_count": 163,
     "metadata": {},
     "output_type": "execute_result"
    }
   ],
   "source": [
    "True or False"
   ]
  },
  {
   "cell_type": "code",
   "execution_count": null,
   "metadata": {},
   "outputs": [
    {
     "data": {
      "text/plain": [
       "False"
      ]
     },
     "execution_count": 164,
     "metadata": {},
     "output_type": "execute_result"
    }
   ],
   "source": [
    "# all() - for all elements, return True if all True or of true value\n",
    "all([True, 100, \"\"])"
   ]
  },
  {
   "cell_type": "code",
   "execution_count": null,
   "metadata": {},
   "outputs": [
    {
     "data": {
      "text/plain": [
       "True"
      ]
     },
     "execution_count": 166,
     "metadata": {},
     "output_type": "execute_result"
    }
   ],
   "source": [
    "all([True, 100, \"Hello\"])"
   ]
  },
  {
   "cell_type": "code",
   "execution_count": null,
   "metadata": {},
   "outputs": [
    {
     "data": {
      "text/plain": [
       "True"
      ]
     },
     "execution_count": 167,
     "metadata": {},
     "output_type": "execute_result"
    }
   ],
   "source": [
    "#any() - if there exists one True or something of True Value, return True\n",
    "\n",
    "any([\"\", (), [], None, 1])"
   ]
  },
  {
   "cell_type": "code",
   "execution_count": null,
   "metadata": {},
   "outputs": [
    {
     "data": {
      "text/plain": [
       "False"
      ]
     },
     "execution_count": 168,
     "metadata": {},
     "output_type": "execute_result"
    }
   ],
   "source": [
    "any([\"\", (), [], None, 0])"
   ]
  }
 ],
 "metadata": {
  "kernelspec": {
   "display_name": "Python 3",
   "language": "python",
   "name": "python3"
  },
  "language_info": {
   "codemirror_mode": {
    "name": "ipython",
    "version": 3
   },
   "file_extension": ".py",
   "mimetype": "text/x-python",
   "name": "python",
   "nbconvert_exporter": "python",
   "pygments_lexer": "ipython3",
   "version": "3.13.1"
  }
 },
 "nbformat": 4,
 "nbformat_minor": 4
}
