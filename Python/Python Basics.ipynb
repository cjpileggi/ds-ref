{
 "cells": [
  {
   "cell_type": "markdown",
   "metadata": {},
   "source": [
    "# Python Basics\n",
    "\n",
    "This notebook provides you with some of the basics of the Python language.\n",
    "\n",
    "[Introduction](#introduction)  \n",
    "[Syntax](#syntax)  \n",
    "[Comments](#comments)  \n",
    "[Variables](#variables)"
   ]
  },
  {
   "cell_type": "markdown",
   "metadata": {},
   "source": [
    "## Introduction <a name=\"introduction\"></a>\n",
    "\n",
    "Python is a high-level, general-purpose programming language. It was created by Guido van Rossum and first released in 1991.  \n",
    "\n",
    "Python's design philosophy emphasizes code readability with its use of significant whitespace and its object-oriented approach aim to help programmers write clear, logical code.\n",
    "\n",
    "It is an interpreted language, meaning that code is read and executed line by line instead as opposed to compiling it.\n",
    "\n",
    "Its high-level built in data structures and a number of extensive libraries.\n",
    "\n",
    "It is a dynamically typed language, which is a language associated with run-time values, meaning you can write code a little quicker because you do not have to specify variable types every time they are declared.\n",
    "\n",
    "As of late 2019, Python has become one of the most widley used programming languages and its popularity continues to rise.\n"
   ]
  },
  {
   "cell_type": "markdown",
   "metadata": {},
   "source": [
    "## Syntax <a name=\"syntax\"></a>\n",
    "\n",
    "Unlike most programming languages, statements and code blocks are delimited by carriage returns (new lines) and indentation rather than curly braces, \"begin/end\" keywords or semicolons.\n",
    "\n",
    "For example, in C++, a print statement, a variable assignment and an if...else statement might look like:\n",
    "\n",
    "```C++\n",
    "cout << \"Hello\"; \n",
    "bool i = false;\n",
    "if (i == true) \n",
    "{ \n",
    "    cout << \"Yes\"; \n",
    "}\n",
    "else\n",
    "{ \n",
    "    cout << \"No\"; \n",
    "}\n",
    "```\n",
    "\n",
    "Since statements are delimited by semicolons and the blocks in the if...else statements by curly brackets, the code can be rearranged to a single line as:\n",
    "\n",
    "```C++\n",
    "bool i = false; cout << \"Hello\"; if (i == true) { cout << \"Yes\"; } else { cout << \"No\"; }\n",
    "```\n",
    "\n",
    "However, a similar program in Python would look like:\n",
    "\n",
    "```python \n",
    "print(\"Hello\")\n",
    "i = True\n",
    "if i == True:\n",
    "    print(\"Yes\")\n",
    "else:\n",
    "    print(\"No\")\n",
    "```\n",
    "\n",
    "With Python, the syntax is stricter.\n",
    "\n",
    "The first print statement and the variable declaration are delimited by a carriage return. They need to be on separate lines for the program to be parsed correctly.\n",
    "\n",
    "The if and else statements also have to be on separate lines and anything in their repective code blocks must be indented with four spaces.\n",
    "\n",
    "Consequently, nested statements need to be indented further:\n",
    "\n",
    "```python \n",
    "print(\"Hello\")\n",
    "i = True\n",
    "j = False\n",
    "if i == True:\n",
    "    if j == True:\n",
    "        print(\"Yes\")\n",
    "    else:\n",
    "        print(\"No\")\n",
    "else:\n",
    "    print(\"No\")\n",
    "```\n",
    "\n",
    "However, code blocks with single statements can be written inline:\n",
    "\n",
    "```python \n",
    "print(\"Hello\")\n",
    "i = True\n",
    "j = False\n",
    "if i == True:\n",
    "    if j == True: print(\"Yes\")\n",
    "    else: print(\"No\")\n",
    "else: print(\"No\")\n",
    "```\n",
    "\n",
    "The nuances of Python's syntax will be revealed as different concepts are explained.\n",
    "\n",
    "More on if...else statements is explained in ##ANCHOR.\n"
   ]
  },
  {
   "cell_type": "code",
   "execution_count": 5,
   "metadata": {},
   "outputs": [
    {
     "name": "stdout",
     "output_type": "stream",
     "text": [
      "Hello\n",
      "Yes\n"
     ]
    }
   ],
   "source": [
    "print(\"Hello\")\n",
    "i = True\n",
    "if i == True:\n",
    "    print(\"Yes\")\n",
    "else:\n",
    "    print(\"No\")"
   ]
  },
  {
   "cell_type": "code",
   "execution_count": 7,
   "metadata": {},
   "outputs": [
    {
     "name": "stdout",
     "output_type": "stream",
     "text": [
      "Hello\n",
      "Yes\n"
     ]
    }
   ],
   "source": [
    "print(\"Hello\")\n",
    "i = True\n",
    "if i == True: print(\"Yes\")\n",
    "else: print(\"No\")"
   ]
  },
  {
   "cell_type": "code",
   "execution_count": 8,
   "metadata": {},
   "outputs": [
    {
     "name": "stdout",
     "output_type": "stream",
     "text": [
      "Hello\n",
      "No\n"
     ]
    }
   ],
   "source": [
    "print(\"Hello\")\n",
    "i = True\n",
    "j = False\n",
    "if i == True:\n",
    "    if j == True:\n",
    "        print(\"Yes\")\n",
    "    else:\n",
    "        print(\"No\")\n",
    "else:\n",
    "    print(\"No\")"
   ]
  },
  {
   "cell_type": "code",
   "execution_count": 10,
   "metadata": {},
   "outputs": [
    {
     "ename": "SyntaxError",
     "evalue": "invalid syntax (<ipython-input-10-097ca16a3983>, line 3)",
     "output_type": "error",
     "traceback": [
      "\u001b[1;36m  File \u001b[1;32m\"<ipython-input-10-097ca16a3983>\"\u001b[1;36m, line \u001b[1;32m3\u001b[0m\n\u001b[1;33m    i = True j = False #Invalid Syntax\u001b[0m\n\u001b[1;37m             ^\u001b[0m\n\u001b[1;31mSyntaxError\u001b[0m\u001b[1;31m:\u001b[0m invalid syntax\n"
     ]
    }
   ],
   "source": [
    "\"\"\"Will Not Run\"\"\"\n",
    "print(\"Hello\")\n",
    "i = True j = False #Invalid Syntax\n",
    "if i == True:\n",
    "    if j == True:\n",
    "        print(\"Yes\")\n",
    "    else:\n",
    "        print(\"No\")\n",
    "else:\n",
    "    print(\"No\")"
   ]
  },
  {
   "cell_type": "markdown",
   "metadata": {},
   "source": [
    "## Comments <a name=\"comments\"></a>\n",
    "\n",
    "Comments are used to document code, add notes to the code, etc.\n",
    "\n",
    "Any text within or after a comment tag is ignored when ran.\n",
    "\n",
    "There are two ways to comment in Python:\n",
    "\n",
    "### Single line comments\n",
    "Use the \"#\" symbol to indicate a single line comment. Anything after the \"#\" on the same line will be rendered as a comment"
   ]
  },
  {
   "cell_type": "code",
   "execution_count": 10,
   "metadata": {},
   "outputs": [
    {
     "name": "stdout",
     "output_type": "stream",
     "text": [
      "Hello\n"
     ]
    }
   ],
   "source": [
    "# Single \n",
    "print(\"Hello\") #line\n",
    "# Comment"
   ]
  },
  {
   "cell_type": "markdown",
   "metadata": {},
   "source": [
    "### Multiline Comments\n",
    "Using \"\"\" or 3 quotation marks next to eachother will begin and end multiline comments.\n",
    "\n",
    "Anything in between two sets of these 3 quotation marks will be treated as a comment, regardless of how many lines they span."
   ]
  },
  {
   "cell_type": "code",
   "execution_count": 4,
   "metadata": {},
   "outputs": [
    {
     "data": {
      "text/plain": [
       "'\\n\\nAnything in between these sets of 3 quotation marks\\n\\nwill be commented out\\n\\nprint(\"Hello\")\\n\\nr = 5 + 7\\n\\n'"
      ]
     },
     "execution_count": 4,
     "metadata": {},
     "output_type": "execute_result"
    }
   ],
   "source": [
    "\"\"\"\n",
    "\n",
    "Anything in between these sets of 3 quotation marks\n",
    "\n",
    "will be commented out\n",
    "\n",
    "print(\"Hello\")\n",
    "\n",
    "r = 5 + 7\n",
    "\n",
    "\"\"\""
   ]
  },
  {
   "cell_type": "markdown",
   "metadata": {},
   "source": [
    "## Variables <a name=\"variables\"></a>\n",
    "Variables are used as a means to store values for making an easy reference to it."
   ]
  },
  {
   "cell_type": "code",
   "execution_count": 6,
   "metadata": {},
   "outputs": [
    {
     "name": "stdout",
     "output_type": "stream",
     "text": [
      "1 2\n"
     ]
    }
   ],
   "source": [
    "x = 1\n",
    "y = 2\n",
    "print(x, y)"
   ]
  },
  {
   "cell_type": "markdown",
   "metadata": {},
   "source": [
    "Variables are treated like the data type they contain"
   ]
  },
  {
   "cell_type": "code",
   "execution_count": 7,
   "metadata": {},
   "outputs": [
    {
     "name": "stdout",
     "output_type": "stream",
     "text": [
      "3 3 3\n"
     ]
    }
   ],
   "source": [
    "z1 = 1 + 2\n",
    "z2 = x + y\n",
    "print(1 + 2, z1, z2)"
   ]
  },
  {
   "cell_type": "markdown",
   "metadata": {},
   "source": [
    "### Rules\n",
    "* Variables can only contain alpha-numeric characters and underscores (A-Z, a-z, 0-9, and _ )\n",
    "* Variables must start with a letter (A-Z, a-z) or the underscore character (_)\n",
    "* Variables cannot start with a number (0-9)\n",
    "* Variable names are case-sensitive (e.g. XYZ, xyz, XyZ are three different variables)"
   ]
  },
  {
   "cell_type": "code",
   "execution_count": null,
   "metadata": {},
   "outputs": [],
   "source": [
    "a = 1 #Valid\n",
    "Abc = 1 #Valid\n",
    "_VarVal = 1 #Valid\n",
    "1st = 1 #Invalid (will throw an error)\n",
    "@!^ = 1 #Invalid"
   ]
  },
  {
   "cell_type": "markdown",
   "metadata": {},
   "source": [
    "## Data Types <a name=\"dataTypes\"></a>\n",
    "\n",
    "Like all programming languages, Python offers several built-in data types"
   ]
  },
  {
   "cell_type": "markdown",
   "metadata": {},
   "source": [
    "### Strings\n",
    "\n",
    "A string is a sequence of characters treated as a single piece of data.\n",
    "\n",
    "Strings are typically used to represent text and any character within a string (letter, number, emoji, etc.) is treated the same way."
   ]
  },
  {
   "cell_type": "markdown",
   "metadata": {},
   "source": [
    "Strings can be initiated with characters between two single quotes"
   ]
  },
  {
   "cell_type": "code",
   "execution_count": 3,
   "metadata": {},
   "outputs": [
    {
     "data": {
      "text/plain": [
       "'This is a string'"
      ]
     },
     "execution_count": 3,
     "metadata": {},
     "output_type": "execute_result"
    }
   ],
   "source": [
    "str = 'This is a string'\n",
    "str"
   ]
  },
  {
   "cell_type": "markdown",
   "metadata": {},
   "source": [
    "Or with characters between two double quotes"
   ]
  },
  {
   "cell_type": "code",
   "execution_count": 4,
   "metadata": {},
   "outputs": [
    {
     "data": {
      "text/plain": [
       "'This is a 2nd string'"
      ]
     },
     "execution_count": 4,
     "metadata": {},
     "output_type": "execute_result"
    }
   ],
   "source": [
    "str = \"This is a 2nd string\"\n",
    "str"
   ]
  },
  {
   "cell_type": "markdown",
   "metadata": {},
   "source": [
    "Also, not to be confused with comments, multi-line strings can be created when characters are between two sets of triple quotes"
   ]
  },
  {
   "cell_type": "code",
   "execution_count": 5,
   "metadata": {},
   "outputs": [
    {
     "data": {
      "text/plain": [
       "'first line.\\nsecond line\\nthird line'"
      ]
     },
     "execution_count": 5,
     "metadata": {},
     "output_type": "execute_result"
    }
   ],
   "source": [
    "multi_line_string = \"\"\"first line.\n",
    "second line\n",
    "third line\"\"\"\n",
    "multi_line_string"
   ]
  },
  {
   "cell_type": "markdown",
   "metadata": {},
   "source": [
    "#### Escape Characters\n",
    "\n",
    "Escape characters are a sequence of characters that invokes an alternative interpretation on the following characters in a character sequence.\n",
    "\n",
    "This allows for special characters characters and that are normally illegal in a string, to be interpreted as intended.\n",
    "\n",
    "Backslashes (\\\\) are used to begin encoding special characters. \n",
    "\n",
    "Despite being a combination of two characters, an escape character counts as one character.\n",
    "\n",
    "Some common escape characters include:\n",
    "\n",
    "\\\\\\\\ - Backslash\n",
    "\n",
    "\\\\\\' - Single quote\n",
    "\n",
    "\\\\\\\" - Double quote\n",
    "\n",
    "\\\\n - new line\n",
    "\n",
    "\\\\r - carriage return"
   ]
  },
  {
   "cell_type": "code",
   "execution_count": 8,
   "metadata": {},
   "outputs": [
    {
     "name": "stdout",
     "output_type": "stream",
     "text": [
      "Hello\tWorld\n"
     ]
    }
   ],
   "source": [
    "# A string with the tab character counts as a single character\n",
    "tab = \"Hello\\tWorld\"\n",
    "print(tab)"
   ]
  },
  {
   "cell_type": "code",
   "execution_count": 10,
   "metadata": {},
   "outputs": [
    {
     "name": "stdout",
     "output_type": "stream",
     "text": [
      "This is the first line\n",
      "This is the second with some 'Single Quotes'\n",
      "and here is the third line with \"Double Quotes\"\n"
     ]
    }
   ],
   "source": [
    "# A string with multiple escape characters\n",
    "multi = \"This is the first line\\nThis is the second with some \\'Single Quotes\\'\\nand here is the third line with \\\"Double Quotes\\\"\"\n",
    "print(multi)"
   ]
  },
  {
   "cell_type": "markdown",
   "metadata": {},
   "source": [
    " #### Raw string literals \n",
    " \n",
    " Raw string literals store characters as strings exactly (or \"literally\") as they are typed.\n",
    " \n",
    " This means that escape characters are not treated as escape characters in the string.\n",
    " \n",
    " Raw string literals are intitiated using r\"\" or r''"
   ]
  },
  {
   "cell_type": "code",
   "execution_count": 2,
   "metadata": {},
   "outputs": [
    {
     "name": "stdout",
     "output_type": "stream",
     "text": [
      "Printed\tWith\tTabs\n",
      "Printed\\tWithout\\tTabs\n"
     ]
    }
   ],
   "source": [
    "print(\"Printed\\tWith\\tTabs\") # '\\t' created as an escape character\n",
    "print(r\"Printed\\tWithout\\tTabs\") # actual characters '\\' and 't' are printed"
   ]
  },
  {
   "cell_type": "markdown",
   "metadata": {},
   "source": [
    "#### String Methods\n",
    "\n",
    "String objects come with many preset methods that allow for manipulation of the string contained and its characters.\n"
   ]
  },
  {
   "cell_type": "code",
   "execution_count": 1,
   "metadata": {},
   "outputs": [],
   "source": [
    "strn = 'Hello# World? Greetings!' #string we will be manipulating"
   ]
  },
  {
   "cell_type": "markdown",
   "metadata": {},
   "source": [
    "str.lower() - Make all characters lowercase"
   ]
  },
  {
   "cell_type": "code",
   "execution_count": 2,
   "metadata": {},
   "outputs": [
    {
     "data": {
      "text/plain": [
       "'hello# world? greetings!'"
      ]
     },
     "execution_count": 2,
     "metadata": {},
     "output_type": "execute_result"
    }
   ],
   "source": [
    "strn.lower()"
   ]
  },
  {
   "cell_type": "markdown",
   "metadata": {},
   "source": [
    "str.upper() - Make all characters uppercase"
   ]
  },
  {
   "cell_type": "code",
   "execution_count": 4,
   "metadata": {},
   "outputs": [
    {
     "data": {
      "text/plain": [
       "'HELLO# WORLD? GREETINGS!'"
      ]
     },
     "execution_count": 4,
     "metadata": {},
     "output_type": "execute_result"
    }
   ],
   "source": [
    "strn.upper()"
   ]
  },
  {
   "cell_type": "markdown",
   "metadata": {},
   "source": [
    "str.split() - Split a string on a character or a string\n",
    "\n",
    "This results in a list of strings based on the split. The character or string used as the split is removed and all the strings on either side of the split is stored as list elements"
   ]
  },
  {
   "cell_type": "code",
   "execution_count": 2,
   "metadata": {},
   "outputs": [
    {
     "data": {
      "text/plain": [
       "['Hello', ' World? Greetings!']"
      ]
     },
     "execution_count": 2,
     "metadata": {},
     "output_type": "execute_result"
    }
   ],
   "source": [
    "# Split on the '#' symbol. Since there is only one in the string, a list of two strings will be created\n",
    "strn.split(\"#\")"
   ]
  },
  {
   "cell_type": "code",
   "execution_count": 5,
   "metadata": {},
   "outputs": [
    {
     "data": {
      "text/plain": [
       "' World? Greetings!'"
      ]
     },
     "execution_count": 5,
     "metadata": {},
     "output_type": "execute_result"
    }
   ],
   "source": [
    "# Access the second element in the resulting solit list\n",
    "strn.split('#')[1]"
   ]
  },
  {
   "cell_type": "code",
   "execution_count": 6,
   "metadata": {},
   "outputs": [
    {
     "data": {
      "text/plain": [
       "['Hello#', 'World?', 'Greetings!']"
      ]
     },
     "execution_count": 6,
     "metadata": {},
     "output_type": "execute_result"
    }
   ],
   "source": [
    "# Split string on spaces. There are two spaces so a list of three strings will be created\n",
    "strn.split(\" \")"
   ]
  },
  {
   "cell_type": "code",
   "execution_count": 9,
   "metadata": {},
   "outputs": [
    {
     "data": {
      "text/plain": [
       "['Hello#', 'World?', 'Greetings!']"
      ]
     },
     "execution_count": 9,
     "metadata": {},
     "output_type": "execute_result"
    }
   ],
   "source": [
    "# Strings are split on spaces by default\n",
    "strn.split()"
   ]
  },
  {
   "cell_type": "markdown",
   "metadata": {},
   "source": [
    "str.capitalize() - Capitalize the first character of a string and make all other characters lowercase"
   ]
  },
  {
   "cell_type": "code",
   "execution_count": 3,
   "metadata": {},
   "outputs": [
    {
     "data": {
      "text/plain": [
       "'Hello# world? greetings!'"
      ]
     },
     "execution_count": 3,
     "metadata": {},
     "output_type": "execute_result"
    }
   ],
   "source": [
    "strn.capitalize()"
   ]
  },
  {
   "cell_type": "markdown",
   "metadata": {},
   "source": [
    "\\<separator\\>.join(\\<iterable\\>) - join strings in an iterable object together on a separator into a single string\n",
    "\n",
    "The separator can be a character or a string that will be used to separate all the strings in the iterator when they are combined\n",
    "\n",
    "If the iterator contains anything other than a string, it will throw an error"
   ]
  },
  {
   "cell_type": "code",
   "execution_count": 6,
   "metadata": {},
   "outputs": [],
   "source": [
    "strngs = [\"Hello!\", \"How\", \"are\", \"you\", \"?\"] #list of strings and characters"
   ]
  },
  {
   "cell_type": "code",
   "execution_count": 7,
   "metadata": {},
   "outputs": [
    {
     "data": {
      "text/plain": [
       "'Hello! How are you ?'"
      ]
     },
     "execution_count": 7,
     "metadata": {},
     "output_type": "execute_result"
    }
   ],
   "source": [
    "\" \".join(strngs) # Join list items with space"
   ]
  },
  {
   "cell_type": "code",
   "execution_count": 8,
   "metadata": {},
   "outputs": [
    {
     "data": {
      "text/plain": [
       "'Hello!-How-are-you-?'"
      ]
     },
     "execution_count": 8,
     "metadata": {},
     "output_type": "execute_result"
    }
   ],
   "source": [
    "\"-\".join(strngs) #Join list items with dash"
   ]
  },
  {
   "cell_type": "code",
   "execution_count": 9,
   "metadata": {},
   "outputs": [
    {
     "data": {
      "text/plain": [
       "'Hello!SPLITHowSPLITareSPLITyouSPLIT?'"
      ]
     },
     "execution_count": 9,
     "metadata": {},
     "output_type": "execute_result"
    }
   ],
   "source": [
    "\"SPLIT\".join(strngs) #Join list items with the word SPLIT"
   ]
  },
  {
   "cell_type": "code",
   "execution_count": 10,
   "metadata": {},
   "outputs": [
    {
     "data": {
      "text/plain": [
       "'Hello there, World'"
      ]
     },
     "execution_count": 10,
     "metadata": {},
     "output_type": "execute_result"
    }
   ],
   "source": [
    "\" \".join((\"Hello\", \"there,\", \"World\")) #Join tuple items on space"
   ]
  },
  {
   "cell_type": "code",
   "execution_count": 12,
   "metadata": {},
   "outputs": [
    {
     "data": {
      "text/plain": [
       "'Hello name John'"
      ]
     },
     "execution_count": 12,
     "metadata": {},
     "output_type": "execute_result"
    }
   ],
   "source": [
    "#Join dictionary items on space\n",
    "#It will only join the Keys together \n",
    "\" \".join({\"Hello\" : \"my\", \"name\": \"is\", \"John\":\"Smith\"})"
   ]
  },
  {
   "cell_type": "markdown",
   "metadata": {},
   "source": [
    "str.startswith() - Tests if a string starts with what is passed in the parameter. A string or an iterable can be passed into the function. The function is also case sensitive.\n",
    "\n",
    "Returns a boolean: True if it does match and False if it does not. If an iterable is passed, and if at least one of the elements match, it returns True"
   ]
  },
  {
   "cell_type": "code",
   "execution_count": 17,
   "metadata": {},
   "outputs": [
    {
     "data": {
      "text/plain": [
       "True"
      ]
     },
     "execution_count": 17,
     "metadata": {},
     "output_type": "execute_result"
    }
   ],
   "source": [
    "#Does the beginning of the string start with \"Hello\"\n",
    "strn.startswith(\"Hello\")"
   ]
  },
  {
   "cell_type": "code",
   "execution_count": 18,
   "metadata": {},
   "outputs": [
    {
     "data": {
      "text/plain": [
       "False"
      ]
     },
     "execution_count": 18,
     "metadata": {},
     "output_type": "execute_result"
    }
   ],
   "source": [
    "#Does the beginning of the string start with \"hello\" (lowercase)\n",
    "strn.startswith(\"hello\")"
   ]
  },
  {
   "cell_type": "code",
   "execution_count": 21,
   "metadata": {},
   "outputs": [
    {
     "data": {
      "text/plain": [
       "True"
      ]
     },
     "execution_count": 21,
     "metadata": {},
     "output_type": "execute_result"
    }
   ],
   "source": [
    "#Does the beginning of the string start with either \"Hello\" or \"hello\"\n",
    "strn.startswith((\"Hello\", \"hello\"))"
   ]
  },
  {
   "cell_type": "markdown",
   "metadata": {},
   "source": [
    "str.strip() - Remove all indicated characters from the beginning and end of a string\n",
    "\n",
    "By default, white space (space characters) are removed\n",
    "\n",
    "If any character or string of characters is passed as a parameter, they will be removed.\n",
    "\n",
    "The function will remove all indicated characters until a character not indicated is reached "
   ]
  },
  {
   "cell_type": "code",
   "execution_count": 2,
   "metadata": {},
   "outputs": [
    {
     "data": {
      "text/plain": [
       "'     @ @ @White space@    '"
      ]
     },
     "execution_count": 2,
     "metadata": {},
     "output_type": "execute_result"
    }
   ],
   "source": [
    "strn = \"     @ @ @White space@    \"\n",
    "strn"
   ]
  },
  {
   "cell_type": "code",
   "execution_count": 3,
   "metadata": {},
   "outputs": [
    {
     "data": {
      "text/plain": [
       "'@ @ @White space@'"
      ]
     },
     "execution_count": 3,
     "metadata": {},
     "output_type": "execute_result"
    }
   ],
   "source": [
    "# Remove space characters from either end of the string. Note how it keeps the spaces after the @ symbol\n",
    "strn.strip()"
   ]
  },
  {
   "cell_type": "code",
   "execution_count": 4,
   "metadata": {},
   "outputs": [
    {
     "data": {
      "text/plain": [
       "'White space'"
      ]
     },
     "execution_count": 4,
     "metadata": {},
     "output_type": "execute_result"
    }
   ],
   "source": [
    "# Remove both space characters and @ symbols from from either end of the string.\n",
    "\n",
    "strn.strip(' @')"
   ]
  },
  {
   "cell_type": "markdown",
   "metadata": {},
   "source": [
    "#### String Slicing\n",
    "\n",
    "In Python, strings are treated like lists, in that each character in the string is treated like elements in a list.\n",
    "\n",
    "The same operations used to access elements in lists can be used to access characters in strings."
   ]
  },
  {
   "cell_type": "code",
   "execution_count": 1,
   "metadata": {},
   "outputs": [
    {
     "data": {
      "text/plain": [
       "'Hello there World!!'"
      ]
     },
     "execution_count": 1,
     "metadata": {},
     "output_type": "execute_result"
    }
   ],
   "source": [
    "x = 'Hello there World!!'\n",
    "x"
   ]
  },
  {
   "cell_type": "markdown",
   "metadata": {},
   "source": [
    "Accessing individual characters by index"
   ]
  },
  {
   "cell_type": "code",
   "execution_count": 7,
   "metadata": {},
   "outputs": [
    {
     "data": {
      "text/plain": [
       "'H'"
      ]
     },
     "execution_count": 7,
     "metadata": {},
     "output_type": "execute_result"
    }
   ],
   "source": [
    "# First Character\n",
    "x[0]"
   ]
  },
  {
   "cell_type": "code",
   "execution_count": 8,
   "metadata": {},
   "outputs": [
    {
     "data": {
      "text/plain": [
       "'l'"
      ]
     },
     "execution_count": 8,
     "metadata": {},
     "output_type": "execute_result"
    }
   ],
   "source": [
    "# Third Character\n",
    "x[2]"
   ]
  },
  {
   "cell_type": "markdown",
   "metadata": {},
   "source": [
    "Characters at the end of the string can be accessed using negative indices"
   ]
  },
  {
   "cell_type": "code",
   "execution_count": 2,
   "metadata": {},
   "outputs": [
    {
     "data": {
      "text/plain": [
       "'!'"
      ]
     },
     "execution_count": 2,
     "metadata": {},
     "output_type": "execute_result"
    }
   ],
   "source": [
    "# Last character\n",
    "x[-1]"
   ]
  },
  {
   "cell_type": "code",
   "execution_count": 3,
   "metadata": {},
   "outputs": [
    {
     "data": {
      "text/plain": [
       "'d'"
      ]
     },
     "execution_count": 3,
     "metadata": {},
     "output_type": "execute_result"
    }
   ],
   "source": [
    "# Third to last character\n",
    "x[-3]"
   ]
  },
  {
   "cell_type": "markdown",
   "metadata": {},
   "source": [
    "String Slicing allows you to access a range of characters in a string at once.\n",
    "\n",
    "This can be done by using a colon (:) between the brackets.\n",
    "\n",
    "The notation for string slicing is str[x:y] where the x is the starting index (inclusive) and y is the last index (exclusive)\n"
   ]
  },
  {
   "cell_type": "code",
   "execution_count": 5,
   "metadata": {},
   "outputs": [
    {
     "data": {
      "text/plain": [
       "'Hello '"
      ]
     },
     "execution_count": 5,
     "metadata": {},
     "output_type": "execute_result"
    }
   ],
   "source": [
    "# Get the first to sixth characters in the string (character at index 6 is excluded)\n",
    "x[0:6]"
   ]
  },
  {
   "cell_type": "code",
   "execution_count": 7,
   "metadata": {},
   "outputs": [
    {
     "data": {
      "text/plain": [
       "'lo there Wor'"
      ]
     },
     "execution_count": 7,
     "metadata": {},
     "output_type": "execute_result"
    }
   ],
   "source": [
    "# Get the fourth to fifteenth characters in the string (character at index 15 is excluded)\n",
    "x[3:15]"
   ]
  },
  {
   "cell_type": "code",
   "execution_count": 12,
   "metadata": {},
   "outputs": [
    {
     "data": {
      "text/plain": [
       "'o there World!'"
      ]
     },
     "execution_count": 12,
     "metadata": {},
     "output_type": "execute_result"
    }
   ],
   "source": [
    "# Get the characters from the fourtheenth-to-last character to the \n",
    "# second-to-last character (the last character is excluded)\n",
    "x[-15:-1]"
   ]
  },
  {
   "cell_type": "code",
   "execution_count": 17,
   "metadata": {},
   "outputs": [
    {
     "data": {
      "text/plain": [
       "'there W'"
      ]
     },
     "execution_count": 17,
     "metadata": {},
     "output_type": "execute_result"
    }
   ],
   "source": [
    "# Get the characters from the twelfth-to-last character to the \n",
    "# seventh-to last character (the sixth-to-last character is excluded)\n",
    "x[-13:-6]"
   ]
  },
  {
   "cell_type": "code",
   "execution_count": 6,
   "metadata": {},
   "outputs": [
    {
     "data": {
      "text/plain": [
       "'lo there Wor'"
      ]
     },
     "execution_count": 6,
     "metadata": {},
     "output_type": "execute_result"
    }
   ],
   "source": [
    "# Get the fourth character to the fifth-to-last character (the fourth-to-last character is excluded)\n",
    "x[3:-4]"
   ]
  },
  {
   "cell_type": "markdown",
   "metadata": {},
   "source": [
    "When the index before the colon is removed, all elements from the beginning of the string to the index after the colon is selected (the character of the element after the colon is excluded)"
   ]
  },
  {
   "cell_type": "code",
   "execution_count": 10,
   "metadata": {},
   "outputs": [
    {
     "data": {
      "text/plain": [
       "'Hello '"
      ]
     },
     "execution_count": 10,
     "metadata": {},
     "output_type": "execute_result"
    }
   ],
   "source": [
    "# Get the first character of the string to the sixth character\n",
    "x[:6]"
   ]
  },
  {
   "cell_type": "code",
   "execution_count": 11,
   "metadata": {},
   "outputs": [
    {
     "data": {
      "text/plain": [
       "'Hello there Wo'"
      ]
     },
     "execution_count": 11,
     "metadata": {},
     "output_type": "execute_result"
    }
   ],
   "source": [
    "# Get the first character of the string to the sixth-to-last character\n",
    "x[:-5]"
   ]
  },
  {
   "cell_type": "markdown",
   "metadata": {},
   "source": [
    "Similarly, when the index after the colon is removed, all elements from the index indicated before the colon to the end of the string is selected"
   ]
  },
  {
   "cell_type": "code",
   "execution_count": 12,
   "metadata": {},
   "outputs": [
    {
     "data": {
      "text/plain": [
       "' there World!!'"
      ]
     },
     "execution_count": 12,
     "metadata": {},
     "output_type": "execute_result"
    }
   ],
   "source": [
    "# Get the sixth character of the string to the last character\n",
    "x[5:]"
   ]
  },
  {
   "cell_type": "code",
   "execution_count": 13,
   "metadata": {},
   "outputs": [
    {
     "data": {
      "text/plain": [
       "'ld!!'"
      ]
     },
     "execution_count": 13,
     "metadata": {},
     "output_type": "execute_result"
    }
   ],
   "source": [
    "# Get the fourth-to-last character to the last character\n",
    "x[-4:]"
   ]
  },
  {
   "cell_type": "markdown",
   "metadata": {},
   "source": [
    "#### Miscellaneous String Functions\n",
    "\n",
    "String concatenation\n",
    "\n",
    "To concatenate strings, you can use the \"+\" operator between strings or string variables"
   ]
  },
  {
   "cell_type": "code",
   "execution_count": 1,
   "metadata": {},
   "outputs": [
    {
     "data": {
      "text/plain": [
       "'HelloWorld'"
      ]
     },
     "execution_count": 1,
     "metadata": {},
     "output_type": "execute_result"
    }
   ],
   "source": [
    "\"Hello\" + \"World\""
   ]
  },
  {
   "cell_type": "code",
   "execution_count": 2,
   "metadata": {},
   "outputs": [
    {
     "data": {
      "text/plain": [
       "'Hello World'"
      ]
     },
     "execution_count": 2,
     "metadata": {},
     "output_type": "execute_result"
    }
   ],
   "source": [
    "\"Hello\" + \" \" + \"World\""
   ]
  },
  {
   "cell_type": "code",
   "execution_count": 3,
   "metadata": {},
   "outputs": [
    {
     "data": {
      "text/plain": [
       "'Johnathan Q. Doe'"
      ]
     },
     "execution_count": 3,
     "metadata": {},
     "output_type": "execute_result"
    }
   ],
   "source": [
    "firstName = 'Johnathan'\n",
    "lastName = 'Doe'\n",
    "middleName = 'Q'\n",
    "\n",
    "firstName + \" \" + middleName + \". \" + lastName"
   ]
  },
  {
   "cell_type": "markdown",
   "metadata": {},
   "source": [
    "String Multiplication\n",
    "\n",
    "With the \"\\*\" you can multiply strings like you would numbers.\n",
    "\n",
    "The expression \"string\" * x will multiply \"string\" x times"
   ]
  },
  {
   "cell_type": "code",
   "execution_count": 4,
   "metadata": {},
   "outputs": [
    {
     "data": {
      "text/plain": [
       "'HelloHelloHello'"
      ]
     },
     "execution_count": 4,
     "metadata": {},
     "output_type": "execute_result"
    }
   ],
   "source": [
    "\"Hello\" * 3"
   ]
  },
  {
   "cell_type": "markdown",
   "metadata": {},
   "source": [
    "String Check\n",
    "\n",
    "Test to see if a string is contained inside another string. This is done using the \"in\" keyword.\n",
    "\n",
    "Returns a Boolean value."
   ]
  },
  {
   "cell_type": "code",
   "execution_count": 3,
   "metadata": {},
   "outputs": [
    {
     "data": {
      "text/plain": [
       "True"
      ]
     },
     "execution_count": 3,
     "metadata": {},
     "output_type": "execute_result"
    }
   ],
   "source": [
    "strn = \"Hello, I am a sentence!\"\n",
    "\n",
    "'sentence' in strn"
   ]
  },
  {
   "cell_type": "code",
   "execution_count": 4,
   "metadata": {},
   "outputs": [
    {
     "data": {
      "text/plain": [
       "False"
      ]
     },
     "execution_count": 4,
     "metadata": {},
     "output_type": "execute_result"
    }
   ],
   "source": [
    "'John' in strn"
   ]
  },
  {
   "cell_type": "markdown",
   "metadata": {},
   "source": [
    "## Lists\n",
    "\n",
    "A list is an ordered collection data structure used as a container for multiple data. It is similar to arrays in other programming languages. \n",
    "\n",
    "Unlike tuples, lists are mutable, as in their values, order and number of elements can be changed.\n",
    "\n",
    "A single list can be used to store mutiple data types, alsop known as a heterogeneous list.\n",
    "\n",
    "They are declared using square brackets ([]). "
   ]
  },
  {
   "cell_type": "code",
   "execution_count": 2,
   "metadata": {},
   "outputs": [
    {
     "data": {
      "text/plain": [
       "[]"
      ]
     },
     "execution_count": 2,
     "metadata": {},
     "output_type": "execute_result"
    }
   ],
   "source": [
    "# Declaring an empty list\n",
    "emp_lst = []\n",
    "emp_lst"
   ]
  },
  {
   "cell_type": "code",
   "execution_count": 3,
   "metadata": {},
   "outputs": [
    {
     "data": {
      "text/plain": [
       "[1, 3, 25, 54]"
      ]
     },
     "execution_count": 3,
     "metadata": {},
     "output_type": "execute_result"
    }
   ],
   "source": [
    "# Declaring a list of four numbers\n",
    "num_lst = [1,3,25,54]\n",
    "num_lst"
   ]
  },
  {
   "cell_type": "code",
   "execution_count": 4,
   "metadata": {},
   "outputs": [
    {
     "data": {
      "text/plain": [
       "['Hey', 'Hello']"
      ]
     },
     "execution_count": 4,
     "metadata": {},
     "output_type": "execute_result"
    }
   ],
   "source": [
    "# Declaring a list of two strings\n",
    "str_list = [\"Hey\", \"Hello\"]\n",
    "str_list"
   ]
  },
  {
   "cell_type": "code",
   "execution_count": 7,
   "metadata": {},
   "outputs": [
    {
     "data": {
      "text/plain": [
       "['Hi', 123, [3, 'Hello'], True]"
      ]
     },
     "execution_count": 7,
     "metadata": {},
     "output_type": "execute_result"
    }
   ],
   "source": [
    "# Heterogeneous list\n",
    "# Contains four items of different data types, including a two item heterogeneous list  \n",
    "hetero_lst = [\"Hi\", 123, [3,\"Hello\"], True]\n",
    "hetero_lst"
   ]
  },
  {
   "cell_type": "code",
   "execution_count": 6,
   "metadata": {},
   "outputs": [
    {
     "data": {
      "text/plain": [
       "6"
      ]
     },
     "execution_count": 6,
     "metadata": {},
     "output_type": "execute_result"
    }
   ],
   "source": [
    "# The len() method can give the length of a list\n",
    "lst = [5,5,6,6,7,7]\n",
    "len(lst)"
   ]
  },
  {
   "cell_type": "code",
   "execution_count": 7,
   "metadata": {},
   "outputs": [
    {
     "data": {
      "text/plain": [
       "36"
      ]
     },
     "execution_count": 7,
     "metadata": {},
     "output_type": "execute_result"
    }
   ],
   "source": [
    "# The sum() method can calculate the sum of all numbers in a list\n",
    "\n",
    "sum(lst)"
   ]
  },
  {
   "cell_type": "code",
   "execution_count": 8,
   "metadata": {},
   "outputs": [
    {
     "ename": "TypeError",
     "evalue": "unsupported operand type(s) for +: 'int' and 'str'",
     "output_type": "error",
     "traceback": [
      "\u001b[1;31m---------------------------------------------------------------------------\u001b[0m",
      "\u001b[1;31mTypeError\u001b[0m                                 Traceback (most recent call last)",
      "Cell \u001b[1;32mIn[8], line 4\u001b[0m\n\u001b[0;32m      1\u001b[0m \u001b[39m# sum() can only calculate the sum of integers and floats\u001b[39;00m\n\u001b[0;32m      2\u001b[0m \u001b[39m# Using the method on a list that contains a string produces an error\u001b[39;00m\n\u001b[0;32m      3\u001b[0m lst \u001b[39m=\u001b[39m [\u001b[39m3\u001b[39m,\u001b[39m4\u001b[39m,\u001b[39m5\u001b[39m,\u001b[39m\"\u001b[39m\u001b[39mHello\u001b[39m\u001b[39m\"\u001b[39m,\u001b[39m5\u001b[39m]\n\u001b[1;32m----> 4\u001b[0m \u001b[39msum\u001b[39;49m(lst)\n",
      "\u001b[1;31mTypeError\u001b[0m: unsupported operand type(s) for +: 'int' and 'str'"
     ]
    }
   ],
   "source": [
    "# sum() can only calculate the sum of integers and floats\n",
    "# Using the method on a list that contains a string produces an error\n",
    "lst = [3,4,5,\"Hello\",5]\n",
    "sum(lst)"
   ]
  },
  {
   "cell_type": "markdown",
   "metadata": {},
   "source": [
    "### Accessing and Slicing\n",
    "\n",
    "Items contained in lists can be accessed by using square bracket notation.\n",
    "\n",
    "Accessing items in lists depends on the order in which they were put in the list. They are accessed by using numerical indices, with the first item referenced at index 0.\n",
    "\n",
    "For a list named *lst*, accessing a single list item is completed using the notation lst[0]"
   ]
  },
  {
   "cell_type": "code",
   "execution_count": 45,
   "metadata": {
    "scrolled": true
   },
   "outputs": [
    {
     "data": {
      "text/plain": [
       "[34, 241, 752, 4, 86, 2, 95, 2, 8436, 3578, 44883, 1]"
      ]
     },
     "execution_count": 45,
     "metadata": {},
     "output_type": "execute_result"
    }
   ],
   "source": [
    "# Declare a list of numbers\n",
    "lst = [34,241,752,4,86,2,95,2,8436,3578,44883,1]\n",
    "lst"
   ]
  },
  {
   "cell_type": "code",
   "execution_count": 46,
   "metadata": {},
   "outputs": [
    {
     "data": {
      "text/plain": [
       "34"
      ]
     },
     "execution_count": 46,
     "metadata": {},
     "output_type": "execute_result"
    }
   ],
   "source": [
    "# Retrieve the first element in the list\n",
    "lst[0]"
   ]
  },
  {
   "cell_type": "code",
   "execution_count": 47,
   "metadata": {},
   "outputs": [
    {
     "data": {
      "text/plain": [
       "2"
      ]
     },
     "execution_count": 47,
     "metadata": {},
     "output_type": "execute_result"
    }
   ],
   "source": [
    "# Retreive the 6th element in the list\n",
    "lst[5]"
   ]
  },
  {
   "cell_type": "markdown",
   "metadata": {},
   "source": [
    "Negative numbers can be used to retreive elements starting from the last item"
   ]
  },
  {
   "cell_type": "code",
   "execution_count": 48,
   "metadata": {},
   "outputs": [
    {
     "data": {
      "text/plain": [
       "1"
      ]
     },
     "execution_count": 48,
     "metadata": {},
     "output_type": "execute_result"
    }
   ],
   "source": [
    "# Retrieve the last item from the list\n",
    "lst[-1]"
   ]
  },
  {
   "cell_type": "code",
   "execution_count": 14,
   "metadata": {},
   "outputs": [
    {
     "data": {
      "text/plain": [
       "8436"
      ]
     },
     "execution_count": 14,
     "metadata": {},
     "output_type": "execute_result"
    }
   ],
   "source": [
    "# Retrieve the 4th to last element from the list\n",
    "lst[-4]"
   ]
  },
  {
   "cell_type": "markdown",
   "metadata": {},
   "source": [
    "List Slicing allows you to access a range of list elements at once.\n",
    "\n",
    "This can be done by using a colon (:) between the brackets.\n",
    "\n",
    "The notation for list slicing is lst[x:y] where the x is the starting index (inclusive) and y is the last index (exclusive)\n",
    "\n",
    "The resulting range is also a list."
   ]
  },
  {
   "cell_type": "code",
   "execution_count": 15,
   "metadata": {},
   "outputs": [
    {
     "data": {
      "text/plain": [
       "[34, 241, 752, 4]"
      ]
     },
     "execution_count": 15,
     "metadata": {},
     "output_type": "execute_result"
    }
   ],
   "source": [
    "# Retrieve the first four elements of the list\n",
    "\n",
    "lst[0:4]"
   ]
  },
  {
   "cell_type": "code",
   "execution_count": 16,
   "metadata": {},
   "outputs": [
    {
     "data": {
      "text/plain": [
       "[86, 2, 95]"
      ]
     },
     "execution_count": 16,
     "metadata": {},
     "output_type": "execute_result"
    }
   ],
   "source": [
    "# Retrieve the fifth to seventh elements in the list\n",
    "\n",
    "lst[4:7]"
   ]
  },
  {
   "cell_type": "code",
   "execution_count": 17,
   "metadata": {},
   "outputs": [
    {
     "data": {
      "text/plain": [
       "[752, 4, 86, 2, 95, 2, 8436]"
      ]
     },
     "execution_count": 17,
     "metadata": {},
     "output_type": "execute_result"
    }
   ],
   "source": [
    "# Retrieve the third to to ninth elements in the list\n",
    "\n",
    "lst[2:9]"
   ]
  },
  {
   "cell_type": "markdown",
   "metadata": {},
   "source": [
    "Negative numbers can also be used in slicing"
   ]
  },
  {
   "cell_type": "code",
   "execution_count": 18,
   "metadata": {},
   "outputs": [
    {
     "data": {
      "text/plain": [
       "[8436, 3578, 44883]"
      ]
     },
     "execution_count": 18,
     "metadata": {},
     "output_type": "execute_result"
    }
   ],
   "source": [
    "# Retrieve the fourth-to-last element to the second-to-last element\n",
    "lst[-4:-1]"
   ]
  },
  {
   "cell_type": "code",
   "execution_count": 19,
   "metadata": {},
   "outputs": [
    {
     "data": {
      "text/plain": [
       "[4, 86, 2, 95, 2, 8436]"
      ]
     },
     "execution_count": 19,
     "metadata": {},
     "output_type": "execute_result"
    }
   ],
   "source": [
    "# Retrieve the ninth-to-last element to the fourth-to-last element\n",
    "lst[-9:-3]"
   ]
  },
  {
   "cell_type": "code",
   "execution_count": 20,
   "metadata": {},
   "outputs": [
    {
     "data": {
      "text/plain": [
       "[4, 86, 2, 95, 2, 8436]"
      ]
     },
     "execution_count": 20,
     "metadata": {},
     "output_type": "execute_result"
    }
   ],
   "source": [
    "# Retrieve the fourth element to the fourth-to-last element\n",
    "lst[3:-3]"
   ]
  },
  {
   "cell_type": "code",
   "execution_count": 21,
   "metadata": {},
   "outputs": [
    {
     "data": {
      "text/plain": [
       "[752, 4, 86]"
      ]
     },
     "execution_count": 21,
     "metadata": {},
     "output_type": "execute_result"
    }
   ],
   "source": [
    "lst[2:5]"
   ]
  },
  {
   "cell_type": "markdown",
   "metadata": {},
   "source": [
    "By removing the index to the left of the colon, you will retrieve all list elements starting from the beginning of the list to the index indicated.\n",
    "\n",
    "The notation is list\\[:y\\], where you retrieve list elements from index 0 to 'y', exclusively. Essentially, this is retrieving the first 'y' elements of a list."
   ]
  },
  {
   "cell_type": "code",
   "execution_count": 22,
   "metadata": {},
   "outputs": [
    {
     "data": {
      "text/plain": [
       "[34, 241, 752, 4, 86, 2, 95]"
      ]
     },
     "execution_count": 22,
     "metadata": {},
     "output_type": "execute_result"
    }
   ],
   "source": [
    "# Retrieve the first list element to the seventh\n",
    "# i.e. get the first seven elements of the list\n",
    "lst [:7]"
   ]
  },
  {
   "cell_type": "markdown",
   "metadata": {},
   "source": [
    "Similarly, by removing the index to the right of the colon, you will retrieve all list elements starting from the index indicated to the end of the list.\n",
    "\n",
    "The notation is list\\[x:\\], where you retrieve list elements from index 'x' to the end of the list."
   ]
  },
  {
   "cell_type": "code",
   "execution_count": 23,
   "metadata": {},
   "outputs": [
    {
     "data": {
      "text/plain": [
       "[3578, 44883, 1]"
      ]
     },
     "execution_count": 23,
     "metadata": {},
     "output_type": "execute_result"
    }
   ],
   "source": [
    "# Retrieve the tenth list element to the last.\n",
    "lst [9:]"
   ]
  },
  {
   "cell_type": "code",
   "execution_count": 24,
   "metadata": {},
   "outputs": [
    {
     "data": {
      "text/plain": [
       "[752, 4, 86, 2, 95, 2, 8436, 3578]"
      ]
     },
     "execution_count": 24,
     "metadata": {},
     "output_type": "execute_result"
    }
   ],
   "source": [
    "lst[2:10]"
   ]
  },
  {
   "cell_type": "code",
   "execution_count": 25,
   "metadata": {},
   "outputs": [
    {
     "data": {
      "text/plain": [
       "['NEW', 241, 752, 4, 86, 2, 95, 2, 8436, 3578, 44883, 1]"
      ]
     },
     "execution_count": 25,
     "metadata": {},
     "output_type": "execute_result"
    }
   ],
   "source": [
    "lst[0] = \"NEW\"\n",
    "lst"
   ]
  },
  {
   "cell_type": "code",
   "execution_count": 26,
   "metadata": {},
   "outputs": [
    {
     "data": {
      "text/plain": [
       "1"
      ]
     },
     "execution_count": 26,
     "metadata": {},
     "output_type": "execute_result"
    }
   ],
   "source": [
    "lst[-1]"
   ]
  },
  {
   "cell_type": "code",
   "execution_count": 27,
   "metadata": {},
   "outputs": [
    {
     "data": {
      "text/plain": [
       "44883"
      ]
     },
     "execution_count": 27,
     "metadata": {},
     "output_type": "execute_result"
    }
   ],
   "source": [
    "lst[-2]"
   ]
  },
  {
   "cell_type": "code",
   "execution_count": 28,
   "metadata": {},
   "outputs": [
    {
     "data": {
      "text/plain": [
       "[3578, 44883, 1]"
      ]
     },
     "execution_count": 28,
     "metadata": {},
     "output_type": "execute_result"
    }
   ],
   "source": [
    "lst[-3:] "
   ]
  },
  {
   "cell_type": "code",
   "execution_count": 29,
   "metadata": {},
   "outputs": [
    {
     "data": {
      "text/plain": [
       "[241, 752, 4, 86, 2, 95, 2, 8436, 3578, 44883]"
      ]
     },
     "execution_count": 29,
     "metadata": {},
     "output_type": "execute_result"
    }
   ],
   "source": [
    "lst[1:-1]"
   ]
  },
  {
   "cell_type": "markdown",
   "metadata": {},
   "source": [
    "### The \"in\" operator\n",
    "\"in\" can be used to find particular items contained in a list. Whereas using indices accessess particular positions in a list, \"in\" checks if a particular item exists in a list and returns \"True\" if it does.\n",
    "\n",
    "The downside is that \"in\" may potentally search the entire list before it finds the item of interest, making it potentially slow for large lists."
   ]
  },
  {
   "cell_type": "code",
   "execution_count": 30,
   "metadata": {},
   "outputs": [
    {
     "data": {
      "text/plain": [
       "False"
      ]
     },
     "execution_count": 30,
     "metadata": {},
     "output_type": "execute_result"
    }
   ],
   "source": [
    "'a' in lst"
   ]
  },
  {
   "cell_type": "code",
   "execution_count": 31,
   "metadata": {},
   "outputs": [
    {
     "data": {
      "text/plain": [
       "True"
      ]
     },
     "execution_count": 31,
     "metadata": {},
     "output_type": "execute_result"
    }
   ],
   "source": [
    "241 in lst"
   ]
  },
  {
   "cell_type": "code",
   "execution_count": 32,
   "metadata": {},
   "outputs": [
    {
     "data": {
      "text/plain": [
       "False"
      ]
     },
     "execution_count": 32,
     "metadata": {},
     "output_type": "execute_result"
    }
   ],
   "source": [
    "456 in lst"
   ]
  },
  {
   "cell_type": "markdown",
   "metadata": {},
   "source": [
    "## Nested List\n",
    "\n",
    "Lists can also be used to store other lists. A list stored within another list is often called a nested list.\n",
    "\n",
    "The nested list can be referred to as a sublist, while the list holding the nested list can be referred to as the superlist.\n",
    "\n",
    "Sublists can also have sublists. Essentially, there is no limit to how many layers a list can have.\n",
    "\n",
    "To retrieve sublists, you access it the same way you would access any element in a list via index. Then, you treat that element just as you would a list."
   ]
  },
  {
   "cell_type": "code",
   "execution_count": 2,
   "metadata": {},
   "outputs": [
    {
     "data": {
      "text/plain": [
       "['blueberry',\n",
       " ['apple', 'mango'],\n",
       " ['banana', [['plumb', 'raspberry'], 'cantaloupe']],\n",
       " 'pineapple']"
      ]
     },
     "execution_count": 2,
     "metadata": {},
     "output_type": "execute_result"
    }
   ],
   "source": [
    "# Create a list with a nested list\n",
    "# The nested list also has its own nested list\n",
    "nestList = ['blueberry', ['apple', 'mango'],['banana',[['plumb','raspberry'], 'cantaloupe']], 'pineapple']\n",
    "nestList"
   ]
  },
  {
   "cell_type": "code",
   "execution_count": 53,
   "metadata": {},
   "outputs": [
    {
     "data": {
      "text/plain": [
       "'blueberry'"
      ]
     },
     "execution_count": 53,
     "metadata": {},
     "output_type": "execute_result"
    }
   ],
   "source": [
    "# Accessing a list item that is a string\n",
    "nestList[0]"
   ]
  },
  {
   "cell_type": "code",
   "execution_count": 54,
   "metadata": {},
   "outputs": [
    {
     "data": {
      "text/plain": [
       "['apple', 'mango']"
      ]
     },
     "execution_count": 54,
     "metadata": {},
     "output_type": "execute_result"
    }
   ],
   "source": [
    "# Accessing a list item which happens to be a list\n",
    "nestList[1]"
   ]
  },
  {
   "cell_type": "code",
   "execution_count": 3,
   "metadata": {},
   "outputs": [
    {
     "data": {
      "text/plain": [
       "'apple'"
      ]
     },
     "execution_count": 3,
     "metadata": {},
     "output_type": "execute_result"
    }
   ],
   "source": [
    "# To access items in that sublist, treat the list element as a list\n",
    "# Accessing the sublist's first element\n",
    "nestList[1][0]"
   ]
  },
  {
   "cell_type": "code",
   "execution_count": 4,
   "metadata": {},
   "outputs": [
    {
     "data": {
      "text/plain": [
       "['banana', [['plumb', 'raspberry'], 'cantaloupe']]"
      ]
     },
     "execution_count": 4,
     "metadata": {},
     "output_type": "execute_result"
    }
   ],
   "source": [
    "# Accessing a list item which is a list that has its own nested list, which also has its own nested list\n",
    "nestList[2]"
   ]
  },
  {
   "cell_type": "code",
   "execution_count": 5,
   "metadata": {},
   "outputs": [
    {
     "data": {
      "text/plain": [
       "[['plumb', 'raspberry'], 'cantaloupe']"
      ]
     },
     "execution_count": 5,
     "metadata": {},
     "output_type": "execute_result"
    }
   ],
   "source": [
    "# Accessing the nested list within the nested list, which is the second item\n",
    "nestList[2][1]"
   ]
  },
  {
   "cell_type": "code",
   "execution_count": 6,
   "metadata": {},
   "outputs": [
    {
     "data": {
      "text/plain": [
       "['plumb', 'raspberry']"
      ]
     },
     "execution_count": 6,
     "metadata": {},
     "output_type": "execute_result"
    }
   ],
   "source": [
    "# Accessing the nested list within the nested list, within the nested list, which is the first item\n",
    "nestList[2][1][0]"
   ]
  },
  {
   "cell_type": "code",
   "execution_count": 8,
   "metadata": {},
   "outputs": [
    {
     "data": {
      "text/plain": [
       "'plumb'"
      ]
     },
     "execution_count": 8,
     "metadata": {},
     "output_type": "execute_result"
    }
   ],
   "source": [
    "# Accessing the first item of the nested list within the nested list, within the nested list\n",
    "nestList[2][1][0][0]"
   ]
  },
  {
   "cell_type": "markdown",
   "metadata": {},
   "source": [
    "## Appending items to lists\n",
    "\n",
    "After a list is created, additional elemnents can be added using specified funtions.\n",
    "\n",
    "Appending an item is adding elements to the end of the list. There are two methods that can perform this:\n",
    "\n",
    "* append() - append a single new element to a list. Pass a single item as a parameter.\n",
    "* extend() - append multiple elements to a list. Pass a list of items as a parameter.\n"
   ]
  },
  {
   "cell_type": "code",
   "execution_count": 1,
   "metadata": {},
   "outputs": [
    {
     "data": {
      "text/plain": [
       "[5, 9, 0]"
      ]
     },
     "execution_count": 1,
     "metadata": {},
     "output_type": "execute_result"
    }
   ],
   "source": [
    "# Initiate a list\n",
    "lst = [5,9,0]\n",
    "lst"
   ]
  },
  {
   "cell_type": "code",
   "execution_count": 2,
   "metadata": {},
   "outputs": [
    {
     "data": {
      "text/plain": [
       "[5, 9, 0, 5]"
      ]
     },
     "execution_count": 2,
     "metadata": {},
     "output_type": "execute_result"
    }
   ],
   "source": [
    "# Append the integer 5\n",
    "lst.append(5)\n",
    "lst"
   ]
  },
  {
   "cell_type": "code",
   "execution_count": 3,
   "metadata": {},
   "outputs": [
    {
     "data": {
      "text/plain": [
       "[5, 9, 0, 5, 'Hello']"
      ]
     },
     "execution_count": 3,
     "metadata": {},
     "output_type": "execute_result"
    }
   ],
   "source": [
    "# Append a string\n",
    "lst.append(\"Hello\")\n",
    "lst"
   ]
  },
  {
   "cell_type": "code",
   "execution_count": 4,
   "metadata": {},
   "outputs": [
    {
     "data": {
      "text/plain": [
       "[5, 9, 0, 5, 'Hello', [4, 6, 3]]"
      ]
     },
     "execution_count": 4,
     "metadata": {},
     "output_type": "execute_result"
    }
   ],
   "source": [
    "# Append a list. The append() function treats the list as a single item\n",
    "lst.append([4,6,3])\n",
    "lst"
   ]
  },
  {
   "cell_type": "code",
   "execution_count": 5,
   "metadata": {},
   "outputs": [
    {
     "data": {
      "text/plain": [
       "[5, 9, 0, 5, 'Hello', [4, 6, 3], 7, 8]"
      ]
     },
     "execution_count": 5,
     "metadata": {},
     "output_type": "execute_result"
    }
   ],
   "source": [
    "# Use extend() to append multiple items.\n",
    "# This is done by passing in a list of items\n",
    "# Append integers 7 and 8\n",
    "lst.extend([7,8])\n",
    "lst"
   ]
  },
  {
   "cell_type": "code",
   "execution_count": 6,
   "metadata": {},
   "outputs": [
    {
     "data": {
      "text/plain": [
       "[5, 9, 0, 5, 'Hello', [4, 6, 3], 7, 8, 35, 'World', 273]"
      ]
     },
     "execution_count": 6,
     "metadata": {},
     "output_type": "execute_result"
    }
   ],
   "source": [
    "# Append two integers and a string\n",
    "lst.extend([35, \"World\", 273])\n",
    "lst"
   ]
  },
  {
   "cell_type": "code",
   "execution_count": 7,
   "metadata": {},
   "outputs": [
    {
     "data": {
      "text/plain": [
       "[5, 9, 0, 5, 'Hello', [4, 6, 3], 7, 8, 35, 'World', 273, 2, [64, 44, 16]]"
      ]
     },
     "execution_count": 7,
     "metadata": {},
     "output_type": "execute_result"
    }
   ],
   "source": [
    "# Append an integer and a list\n",
    "lst.extend([2, [64,44,16]])\n",
    "lst"
   ]
  },
  {
   "cell_type": "code",
   "execution_count": 9,
   "metadata": {},
   "outputs": [
    {
     "data": {
      "text/plain": [
       "[5,\n",
       " 9,\n",
       " 0,\n",
       " 5,\n",
       " 'Hello',\n",
       " [4, 6, 3],\n",
       " 7,\n",
       " 8,\n",
       " 35,\n",
       " 'World',\n",
       " 273,\n",
       " 2,\n",
       " [64, 44, 16],\n",
       " 5,\n",
       " '!',\n",
       " [22, 5]]"
      ]
     },
     "execution_count": 9,
     "metadata": {},
     "output_type": "execute_result"
    }
   ],
   "source": [
    "# You can also append items using the \"+\" operator \n",
    "lst = lst + [5, \"!\", [22,5]]\n",
    "lst"
   ]
  },
  {
   "cell_type": "code",
   "execution_count": 42,
   "metadata": {},
   "outputs": [
    {
     "data": {
      "text/plain": [
       "['a', 'b', 'c', 1, 2, 3]"
      ]
     },
     "execution_count": 42,
     "metadata": {},
     "output_type": "execute_result"
    }
   ],
   "source": [
    "['a', 'b', 'c'] + [1, 2, 3]"
   ]
  },
  {
   "cell_type": "markdown",
   "metadata": {},
   "source": [
    "### Unpacking Lists\n",
    "\n",
    "While accessing list items by index and list slicing can be used to assign list elements into variables, unpacking lists is another, more consise way of doing so.\n",
    "\n",
    "You can use the method of delaring mutliple variables to assign list items to individual variables"
   ]
  },
  {
   "cell_type": "code",
   "execution_count": 12,
   "metadata": {},
   "outputs": [
    {
     "name": "stdout",
     "output_type": "stream",
     "text": [
      "1\n",
      "2\n"
     ]
    }
   ],
   "source": [
    "# Assign a list with two elements to two variables\n",
    "x, y = [1, 2]    \n",
    "print(x)\n",
    "print(y)"
   ]
  },
  {
   "cell_type": "code",
   "execution_count": 15,
   "metadata": {},
   "outputs": [
    {
     "name": "stdout",
     "output_type": "stream",
     "text": [
      "5\n",
      "Welcome\n",
      "9\n",
      "22\n"
     ]
    }
   ],
   "source": [
    "# Assign a list with four elements to four variables\n",
    "x, y, z, a = [5,\"Welcome\",9,22]\n",
    "print(x)\n",
    "print(y)\n",
    "print(z)\n",
    "print(a)"
   ]
  },
  {
   "cell_type": "markdown",
   "metadata": {},
   "source": [
    "When unpacking, the number of variables being assigned must match the number of elements in the list.\n",
    "\n",
    "Unpacking list items to more or less variables than there are list items results in an error"
   ]
  },
  {
   "cell_type": "code",
   "execution_count": 17,
   "metadata": {},
   "outputs": [
    {
     "ename": "ValueError",
     "evalue": "not enough values to unpack (expected 3, got 1)",
     "output_type": "error",
     "traceback": [
      "\u001b[1;31m---------------------------------------------------------------------------\u001b[0m",
      "\u001b[1;31mValueError\u001b[0m                                Traceback (most recent call last)",
      "\u001b[1;32m~\\AppData\\Local\\Temp\\ipykernel_48176\\1856465324.py\u001b[0m in \u001b[0;36m<module>\u001b[1;34m\u001b[0m\n\u001b[0;32m      1\u001b[0m \u001b[1;31m# Assigning a list with one element to three variables\u001b[0m\u001b[1;33m\u001b[0m\u001b[1;33m\u001b[0m\u001b[0m\n\u001b[1;32m----> 2\u001b[1;33m \u001b[0mf\u001b[0m\u001b[1;33m,\u001b[0m\u001b[0me\u001b[0m\u001b[1;33m,\u001b[0m\u001b[0mr\u001b[0m \u001b[1;33m=\u001b[0m \u001b[1;33m[\u001b[0m\u001b[1;36m1\u001b[0m\u001b[1;33m]\u001b[0m\u001b[1;33m\u001b[0m\u001b[1;33m\u001b[0m\u001b[0m\n\u001b[0m",
      "\u001b[1;31mValueError\u001b[0m: not enough values to unpack (expected 3, got 1)"
     ]
    }
   ],
   "source": [
    "# Assigning a list with one element to three variables\n",
    "f,e,r = [1]"
   ]
  },
  {
   "cell_type": "code",
   "execution_count": 18,
   "metadata": {},
   "outputs": [
    {
     "ename": "ValueError",
     "evalue": "too many values to unpack (expected 2)",
     "output_type": "error",
     "traceback": [
      "\u001b[1;31m---------------------------------------------------------------------------\u001b[0m",
      "\u001b[1;31mValueError\u001b[0m                                Traceback (most recent call last)",
      "\u001b[1;32m~\\AppData\\Local\\Temp\\ipykernel_48176\\1026927233.py\u001b[0m in \u001b[0;36m<module>\u001b[1;34m\u001b[0m\n\u001b[0;32m      1\u001b[0m \u001b[1;31m# Assigning a list with four elements to two variables\u001b[0m\u001b[1;33m\u001b[0m\u001b[1;33m\u001b[0m\u001b[0m\n\u001b[1;32m----> 2\u001b[1;33m \u001b[0ma\u001b[0m\u001b[1;33m,\u001b[0m \u001b[0mb\u001b[0m \u001b[1;33m=\u001b[0m \u001b[1;33m[\u001b[0m\u001b[1;36m32\u001b[0m\u001b[1;33m,\u001b[0m\u001b[1;36m52\u001b[0m\u001b[1;33m,\u001b[0m\u001b[1;36m576\u001b[0m\u001b[1;33m,\u001b[0m\u001b[1;36m2\u001b[0m\u001b[1;33m]\u001b[0m\u001b[1;33m\u001b[0m\u001b[1;33m\u001b[0m\u001b[0m\n\u001b[0m",
      "\u001b[1;31mValueError\u001b[0m: too many values to unpack (expected 2)"
     ]
    }
   ],
   "source": [
    "# Assigning a list with four elements to two variables\n",
    "a, b = [32,52,576,2]"
   ]
  },
  {
   "cell_type": "markdown",
   "metadata": {},
   "source": [
    "If you only want the first few elements of a list unpacked to variables without considering the remaining elements, you can add an asterisk (\\\" * \\\") to the beginning of the last variable being assigned. That variable will be assigned the remainder of the list.\n",
    "\n",
    "This also allows for unpacking a list with more elements than there are variables without resulting in an error."
   ]
  },
  {
   "cell_type": "code",
   "execution_count": 21,
   "metadata": {},
   "outputs": [
    {
     "name": "stdout",
     "output_type": "stream",
     "text": [
      "5\n",
      "6\n",
      "[4, 637, 235, 555, 74, 123]\n"
     ]
    }
   ],
   "source": [
    "# Assign the first two elements to variables x and y. The remainder will be assigned to z\n",
    "x, y, *z = [5,6,4,637,235,555,74,123]\n",
    "print(x)\n",
    "print(y)\n",
    "print(z)"
   ]
  },
  {
   "cell_type": "markdown",
   "metadata": {},
   "source": [
    "It's common practice to simply use an underscore (\\\"_\\\") as a variable name for values you plan to ignore. The underscore variable will still be assigned but it can be ignored. "
   ]
  },
  {
   "cell_type": "code",
   "execution_count": 22,
   "metadata": {},
   "outputs": [
    {
     "data": {
      "text/plain": [
       "3"
      ]
     },
     "execution_count": 22,
     "metadata": {},
     "output_type": "execute_result"
    }
   ],
   "source": [
    "# Assign all elements in the list to variables. Ignore the first two and only focus on variable y \n",
    "_, _, y = [1, 2, 3]\n",
    "\n",
    "y"
   ]
  },
  {
   "cell_type": "code",
   "execution_count": 25,
   "metadata": {},
   "outputs": [
    {
     "name": "stdout",
     "output_type": "stream",
     "text": [
      "8\n",
      "14\n"
     ]
    }
   ],
   "source": [
    "# Assign the first two elements two varables x and y. Ignore the remainder\n",
    "x, y, *_ = [8, 14, 34, 555, \"Good Morning\", 4.4, True, 17]\n",
    "\n",
    "print(x)\n",
    "print(y)"
   ]
  },
  {
   "cell_type": "markdown",
   "metadata": {},
   "source": [
    "## Dictionaries\n",
    "\n",
    "A dictionary is a data structure used as an unordered collection of values. \n",
    "\n",
    "Unlike lists, where items are stored in a sequence, dictionary items are stored as key-value pairs.  Where as list items are accessed using indices that are always integers, dictionary values are accessed using keys that can be of any data type. This allows for a meaningful relationship between the key and value.\n",
    "\n",
    "Dictionaries are expressed using opened and closed curly brackets:\n",
    "\n",
    "{}\n",
    "\n",
    "The key-value pairs assigned to dictionaries are expressed as follows:\n",
    "\n",
    "{ \\<key\\> : \\<value\\> }\n",
    "\n",
    "where the key and the value are separated by a colon.\n",
    "\n",
    "\n",
    "When declaring a dictionary with muliple items, each key-value pair assigned is separated by a comma:\n",
    "\n",
    "{ \\<key\\>:\\<value\\>, \\<key\\>:\\<value\\>,\\<key\\>:\\<value\\>, ...... }\n",
    "\n",
    "\n",
    "Dictionaries can be assigned as many items as needed.\n",
    "\n",
    "\n",
    "They are implemented using hash tables."
   ]
  },
  {
   "cell_type": "markdown",
   "metadata": {},
   "source": [
    "Below is an example of a simple dictionary. It contains information regarding several U.S. state names and their abbreviations.\n",
    "\n",
    "In this case, the state abbreviation is the key and the full state name is the value:"
   ]
  },
  {
   "cell_type": "code",
   "execution_count": 2,
   "metadata": {},
   "outputs": [],
   "source": [
    "# Declaring the U.S. state abbreviation dictionary and assigning it to a variable\n",
    "\n",
    "stateAbbr = {\n",
    "    'FL' : 'Florida'\n",
    "    , 'NY' : 'New York'\n",
    "    , 'HI' : 'Hawaii'\n",
    "    , 'MS' : 'Mississippi'\n",
    "}"
   ]
  },
  {
   "cell_type": "markdown",
   "metadata": {},
   "source": [
    "This dictionary creates a meaningful relationship between key and value since the value is the state name and the key is its respective abbreviation. "
   ]
  },
  {
   "cell_type": "markdown",
   "metadata": {},
   "source": [
    "### Accessing dictionary items\n",
    "\n",
    "Since dictionaries are unordered, individual items cannot be accessed by an index. Values can only be accessed by the key they are paired with.\n",
    "\n",
    "Like lists, dictionary values are accessed using square bracket notation. Instead of putting an index between the brackets, you put the key, as it is specifically stored.\n",
    "\n",
    "dict[\\<key\\>]"
   ]
  },
  {
   "cell_type": "code",
   "execution_count": 3,
   "metadata": {},
   "outputs": [
    {
     "data": {
      "text/plain": [
       "'Hawaii'"
      ]
     },
     "execution_count": 3,
     "metadata": {},
     "output_type": "execute_result"
    }
   ],
   "source": [
    "# Accessing the value 'Hawaii' based on its key 'HI'\n",
    "\n",
    "stateAbbr[\"HI\"]"
   ]
  },
  {
   "cell_type": "code",
   "execution_count": 5,
   "metadata": {},
   "outputs": [
    {
     "data": {
      "text/plain": [
       "'Mississippi'"
      ]
     },
     "execution_count": 5,
     "metadata": {},
     "output_type": "execute_result"
    }
   ],
   "source": [
    "# Accessing the value 'Mississippi' based on its key 'MS'\n",
    "\n",
    "stateAbbr[\"MS\"]"
   ]
  },
  {
   "cell_type": "markdown",
   "metadata": {},
   "source": [
    "A key must exist in a dictionary in order for it's value to be retrieved. If you pass data into the square bracket that does not match a key in the dictionary, the program will return an error.\n",
    "\n",
    "Consequently, keys that are strings are case sensitive and must match the case as stored in the dictionary. Otherwise, it will also throw an error."
   ]
  },
  {
   "cell_type": "code",
   "execution_count": 6,
   "metadata": {},
   "outputs": [
    {
     "ename": "KeyError",
     "evalue": "'AL'",
     "output_type": "error",
     "traceback": [
      "\u001b[1;31m---------------------------------------------------------------------------\u001b[0m",
      "\u001b[1;31mKeyError\u001b[0m                                  Traceback (most recent call last)",
      "\u001b[1;32m~\\AppData\\Local\\Temp\\ipykernel_8756\\3758938161.py\u001b[0m in \u001b[0;36m<module>\u001b[1;34m\u001b[0m\n\u001b[0;32m      1\u001b[0m \u001b[1;31m# The key 'AL' does not exist in the dictionary\u001b[0m\u001b[1;33m\u001b[0m\u001b[1;33m\u001b[0m\u001b[0m\n\u001b[0;32m      2\u001b[0m \u001b[1;33m\u001b[0m\u001b[0m\n\u001b[1;32m----> 3\u001b[1;33m \u001b[0mstateAbbr\u001b[0m\u001b[1;33m[\u001b[0m\u001b[1;34m\"AL\"\u001b[0m\u001b[1;33m]\u001b[0m\u001b[1;33m\u001b[0m\u001b[1;33m\u001b[0m\u001b[0m\n\u001b[0m",
      "\u001b[1;31mKeyError\u001b[0m: 'AL'"
     ]
    }
   ],
   "source": [
    "# The key 'AL' does not exist in the dictionary\n",
    "\n",
    "stateAbbr[\"AL\"]"
   ]
  },
  {
   "cell_type": "code",
   "execution_count": 7,
   "metadata": {},
   "outputs": [
    {
     "ename": "KeyError",
     "evalue": "'Ny'",
     "output_type": "error",
     "traceback": [
      "\u001b[1;31m---------------------------------------------------------------------------\u001b[0m",
      "\u001b[1;31mKeyError\u001b[0m                                  Traceback (most recent call last)",
      "\u001b[1;32m~\\AppData\\Local\\Temp\\ipykernel_8756\\3930967.py\u001b[0m in \u001b[0;36m<module>\u001b[1;34m\u001b[0m\n\u001b[0;32m      2\u001b[0m \u001b[1;31m# If we want to access the value \"New York\" we must use 'NY'\u001b[0m\u001b[1;33m\u001b[0m\u001b[1;33m\u001b[0m\u001b[0m\n\u001b[0;32m      3\u001b[0m \u001b[1;33m\u001b[0m\u001b[0m\n\u001b[1;32m----> 4\u001b[1;33m \u001b[0mstateAbbr\u001b[0m\u001b[1;33m[\u001b[0m\u001b[1;34m\"Ny\"\u001b[0m\u001b[1;33m]\u001b[0m\u001b[1;33m\u001b[0m\u001b[1;33m\u001b[0m\u001b[0m\n\u001b[0m",
      "\u001b[1;31mKeyError\u001b[0m: 'Ny'"
     ]
    }
   ],
   "source": [
    "# The key 'Ny' does not exist in the dictionary.\n",
    "# If we want to access the value \"New York\" we must use 'NY'\n",
    "\n",
    "stateAbbr[\"Ny\"]"
   ]
  },
  {
   "cell_type": "markdown",
   "metadata": {},
   "source": [
    "#### Accessing all keys or all values\n",
    "\n",
    "Dictionaries are built with methods that enable access to all keys and values separately in the dictionary."
   ]
  },
  {
   "cell_type": "markdown",
   "metadata": {},
   "source": [
    "To retrieve all keys, use the keys() method on a dictionary"
   ]
  },
  {
   "cell_type": "code",
   "execution_count": 2,
   "metadata": {},
   "outputs": [
    {
     "data": {
      "text/plain": [
       "dict_keys(['FL', 'NY', 'HI', 'MS'])"
      ]
     },
     "execution_count": 2,
     "metadata": {},
     "output_type": "execute_result"
    }
   ],
   "source": [
    "# Retrieve all keys in the state dictionary\n",
    "stateAbbr.keys()"
   ]
  },
  {
   "cell_type": "markdown",
   "metadata": {},
   "source": [
    "This returns a dictionary keys object"
   ]
  },
  {
   "cell_type": "code",
   "execution_count": 11,
   "metadata": {},
   "outputs": [
    {
     "data": {
      "text/plain": [
       "dict_keys"
      ]
     },
     "execution_count": 11,
     "metadata": {},
     "output_type": "execute_result"
    }
   ],
   "source": [
    "type(stateAbbr.keys())"
   ]
  },
  {
   "cell_type": "markdown",
   "metadata": {},
   "source": [
    "There are several ways to retrieve the individual keys from this object, but the simplist is turning it into a list using the list() function"
   ]
  },
  {
   "cell_type": "code",
   "execution_count": 12,
   "metadata": {},
   "outputs": [
    {
     "data": {
      "text/plain": [
       "['FL', 'NY', 'HI', 'MS']"
      ]
     },
     "execution_count": 12,
     "metadata": {},
     "output_type": "execute_result"
    }
   ],
   "source": [
    "# Turn the dict.keys() object into a list\n",
    "\n",
    "stateAbbrKeys = list(stateAbbr.keys())\n",
    "\n",
    "stateAbbrKeys"
   ]
  },
  {
   "cell_type": "markdown",
   "metadata": {},
   "source": [
    "With this, you can now reteive the key items as you would any list."
   ]
  },
  {
   "cell_type": "code",
   "execution_count": 13,
   "metadata": {},
   "outputs": [
    {
     "data": {
      "text/plain": [
       "'HI'"
      ]
     },
     "execution_count": 13,
     "metadata": {},
     "output_type": "execute_result"
    }
   ],
   "source": [
    "stateAbbrKeys[2]"
   ]
  },
  {
   "cell_type": "markdown",
   "metadata": {},
   "source": [
    "To retrieve all values, use the values() method on a dictionary"
   ]
  },
  {
   "cell_type": "code",
   "execution_count": 4,
   "metadata": {},
   "outputs": [
    {
     "data": {
      "text/plain": [
       "dict_values(['Florida', 'New York', 'Hawaii', 'Mississippi'])"
      ]
     },
     "execution_count": 4,
     "metadata": {},
     "output_type": "execute_result"
    }
   ],
   "source": [
    "# Retrieve all values in the state dictionary\n",
    "stateAbbr.values()"
   ]
  },
  {
   "cell_type": "markdown",
   "metadata": {},
   "source": [
    "This returns a dict_values object. Similar to the keys() method, you can retrive the individual dictionary values by coverting it into a list. "
   ]
  },
  {
   "cell_type": "code",
   "execution_count": 14,
   "metadata": {},
   "outputs": [
    {
     "data": {
      "text/plain": [
       "'Mississippi'"
      ]
     },
     "execution_count": 14,
     "metadata": {},
     "output_type": "execute_result"
    }
   ],
   "source": [
    "# Converting dict_values into a list\n",
    "stateAbbrValues = list(stateAbbr.values())\n",
    "\n",
    "stateAbbrValues[3]"
   ]
  },
  {
   "cell_type": "markdown",
   "metadata": {},
   "source": [
    "#### Updating Dictionary Values\n",
    "\n",
    "To update dictionary values, access a dictionary by key using the square bracket notation and use the assignment operator on a key that already exists. The syntax for updating dictionary values is as follows:\n",
    "\n",
    "dict[\\<existing_key\\>] = \\<new_value\\>\n",
    "\n",
    "This will update the value of an existing key to a new value. Dictionary keys themselves cannot be updated."
   ]
  },
  {
   "cell_type": "code",
   "execution_count": 5,
   "metadata": {},
   "outputs": [
    {
     "name": "stdout",
     "output_type": "stream",
     "text": [
      "{'FL': 'Florida', 'NY': 'New York', 'HI': 'Alaska', 'MS': 'Mississippi'}\n",
      "Alaska\n"
     ]
    }
   ],
   "source": [
    "# Changing the value of the 'HI' key\n",
    "\n",
    "stateAbbr['HI'] = 'Alaska'\n",
    "\n",
    "print(stateAbbr)\n",
    "\n",
    "print(stateAbbr['HI'])"
   ]
  },
  {
   "cell_type": "code",
   "execution_count": 6,
   "metadata": {},
   "outputs": [
    {
     "name": "stdout",
     "output_type": "stream",
     "text": [
      "{'FL': 'Florida', 'NY': 'New York', 'HI': 'Hawaii', 'MS': 'Mississippi'}\n",
      "Hawaii\n"
     ]
    }
   ],
   "source": [
    "# Changing the value of the 'HI' key back to the previous value\n",
    "\n",
    "stateAbbr['HI'] = 'Hawaii'\n",
    "\n",
    "print(stateAbbr)\n",
    "\n",
    "print(stateAbbr['HI'])"
   ]
  },
  {
   "cell_type": "markdown",
   "metadata": {},
   "source": [
    "#### Adding new dictionary items\n",
    "\n",
    "Similar to updating existing dictionary values, you can use the square bracket notation to add new items into the dictionary.\n",
    "\n",
    "To do so, you must supply a key that does not already exist in the dictionary and assign it a value. Doing so will add the key-value pair into the dictionary.  "
   ]
  },
  {
   "cell_type": "code",
   "execution_count": 3,
   "metadata": {},
   "outputs": [
    {
     "data": {
      "text/plain": [
       "{'FL': 'Florida',\n",
       " 'NY': 'New York',\n",
       " 'HI': 'Hawaii',\n",
       " 'MS': 'Mississippi',\n",
       " 'PA': 'Pennsylvania'}"
      ]
     },
     "execution_count": 3,
     "metadata": {},
     "output_type": "execute_result"
    }
   ],
   "source": [
    "# Adding a new state into the dictionary.\n",
    "# The key 'PA' and its value 'Pennsylvania' \n",
    "#     was not in the dictionary before the assignment\n",
    "\n",
    "stateAbbr['PA'] = 'Pennsylvania'\n",
    "\n",
    "stateAbbr"
   ]
  },
  {
   "cell_type": "code",
   "execution_count": 4,
   "metadata": {},
   "outputs": [
    {
     "data": {
      "text/plain": [
       "{'FL': 'Florida',\n",
       " 'NY': 'New York',\n",
       " 'HI': 'Hawaii',\n",
       " 'MS': 'Mississippi',\n",
       " 'PA': 'Pennsylvania',\n",
       " 'KS': 'Kansas'}"
      ]
     },
     "execution_count": 4,
     "metadata": {},
     "output_type": "execute_result"
    }
   ],
   "source": [
    "# Adding \"Kansas\" into the dictionary.\n",
    "\n",
    "stateAbbr['KS'] = 'Kansas'\n",
    "\n",
    "stateAbbr"
   ]
  },
  {
   "cell_type": "markdown",
   "metadata": {},
   "source": [
    "#### Declaring Empty Dictionaries\n",
    "\n",
    "It is possible to declare empty dictionaries that can be used as placeholders to store items later.\n",
    "\n",
    "This is done by assigning a variable a set of empty curly brackets \"{}\"\n",
    "\n",
    "It can also be done by using the dict() method but this way is not preferred."
   ]
  },
  {
   "cell_type": "code",
   "execution_count": 5,
   "metadata": {},
   "outputs": [
    {
     "data": {
      "text/plain": [
       "({}, {})"
      ]
     },
     "execution_count": 5,
     "metadata": {},
     "output_type": "execute_result"
    }
   ],
   "source": [
    "empty_dict = {} # empty dictionary\n",
    "\n",
    "empty_dict2 = dict() # another way to declare an empty dictionary but not preferred\n",
    "\n",
    "empty_dict, empty_dict2"
   ]
  },
  {
   "cell_type": "markdown",
   "metadata": {},
   "source": [
    "#### Store Other Data Types\n",
    "\n",
    "Dictionaries are not limited to only strings.\n",
    "\n",
    "Both the keys and values in a dictionary can be different data types."
   ]
  },
  {
   "cell_type": "code",
   "execution_count": 1,
   "metadata": {},
   "outputs": [
    {
     "data": {
      "text/plain": [
       "{0: 'Python', 1: 'C++', 2: 'Ruby', 3: 'Java', 4: 'Go', 5: 'Scala'}"
      ]
     },
     "execution_count": 1,
     "metadata": {},
     "output_type": "execute_result"
    }
   ],
   "source": [
    "# A dictionary with keys as integers and strings as values\n",
    "\n",
    "progDict = {\n",
    "    0: 'Python'\n",
    "    , 1: 'C++'\n",
    "    , 2: 'Ruby'\n",
    "    , 3: 'Java'\n",
    "    , 4: 'Go'\n",
    "    , 5: 'Scala'\n",
    "}\n",
    "\n",
    "progDict"
   ]
  },
  {
   "cell_type": "markdown",
   "metadata": {},
   "source": [
    "The above dictionary has integer for keys and strings as values.\n",
    "\n",
    "This makes the dictionary function similar to a list where the key acts like an index:"
   ]
  },
  {
   "cell_type": "code",
   "execution_count": 3,
   "metadata": {},
   "outputs": [
    {
     "data": {
      "text/plain": [
       "'Go'"
      ]
     },
     "execution_count": 3,
     "metadata": {},
     "output_type": "execute_result"
    }
   ],
   "source": [
    "# Accessing the value with the key 4\n",
    "\n",
    "progDict[4]"
   ]
  },
  {
   "cell_type": "markdown",
   "metadata": {},
   "source": [
    "However, since dictionaries are unordered, you can add another item with a key that is something other than 6."
   ]
  },
  {
   "cell_type": "code",
   "execution_count": 2,
   "metadata": {},
   "outputs": [
    {
     "data": {
      "text/plain": [
       "{0: 'Python', 1: 'C++', 2: 'Ruby', 3: 'Java', 4: 'Go', 5: 'Scala', 100: 'C#'}"
      ]
     },
     "execution_count": 2,
     "metadata": {},
     "output_type": "execute_result"
    }
   ],
   "source": [
    "# Adding an item with a key of 100 and a value of 'C#'\n",
    "\n",
    "progDict[100] = 'C#'\n",
    "\n",
    "progDict"
   ]
  },
  {
   "cell_type": "markdown",
   "metadata": {},
   "source": [
    "Also, since dictionaries can have multiple types, the key doesn't need to be an integer."
   ]
  },
  {
   "cell_type": "code",
   "execution_count": 3,
   "metadata": {},
   "outputs": [
    {
     "data": {
      "text/plain": [
       "{0: 'Python',\n",
       " 1: 'C++',\n",
       " 2: 'Ruby',\n",
       " 3: 'Java',\n",
       " 4: 'Go',\n",
       " 5: 'Scala',\n",
       " 100: 'C#',\n",
       " 'Hello': 'C'}"
      ]
     },
     "execution_count": 3,
     "metadata": {},
     "output_type": "execute_result"
    }
   ],
   "source": [
    "# The using the string 'Hello' as the key\n",
    "\n",
    "progDict['Hello'] = 'C'\n",
    "\n",
    "progDict"
   ]
  },
  {
   "cell_type": "markdown",
   "metadata": {},
   "source": [
    "### Nested Dictionary\n",
    "\n",
    "Dictionaries can be nested within other dictionaries.\n",
    "\n",
    "This is done by assigning a dictionary as a value.\n",
    "\n",
    "Nested dictionaries can provide more meaningful data to dictionary items."
   ]
  },
  {
   "cell_type": "markdown",
   "metadata": {},
   "source": [
    "Below is an example of a dictionary of fruits and vegetables with nested dictionaries containing information related to them:"
   ]
  },
  {
   "cell_type": "code",
   "execution_count": 4,
   "metadata": {},
   "outputs": [],
   "source": [
    "nDict = {\n",
    "    'Fuji' : {'category' : 'fruit', 'type' : 'apple', 'color' : 'red' }\n",
    "    ,'Imperator' : {'category' : 'vegetable', 'type' : 'carrot', 'color' : 'orange' }\n",
    "    ,'Black Splendor' : {'category' : 'fruit', 'type' : 'plumb', 'color' : 'black' }\n",
    "    ,'Granny Smith' : {'category' : 'fruit', 'type' : 'apple', 'color' : 'green' }\n",
    "    ,'Norland' : {'category' : 'vegetable', 'type' : 'potato', 'color' : 'yellow' }\n",
    "}"
   ]
  },
  {
   "cell_type": "markdown",
   "metadata": {},
   "source": [
    "Since the nested dictionaries are values, accessing them is done by calling their respective keys, as with any other dictionary."
   ]
  },
  {
   "cell_type": "code",
   "execution_count": 5,
   "metadata": {},
   "outputs": [
    {
     "data": {
      "text/plain": [
       "{'category': 'fruit', 'type': 'apple', 'color': 'green'}"
      ]
     },
     "execution_count": 5,
     "metadata": {},
     "output_type": "execute_result"
    }
   ],
   "source": [
    "# Accessing the nested dictionary stored as a value for the key 'Granny Smith' \n",
    "\n",
    "nDict['Granny Smith']"
   ]
  },
  {
   "cell_type": "markdown",
   "metadata": {},
   "source": [
    "This will return the entire dictionary stored as the value.\n",
    "\n",
    "To access a value within that nested dictionary, a key from that dictionary must be accessed.\n",
    "\n",
    "This is done by referencing one of the keys by using a second set of square brackets."
   ]
  },
  {
   "cell_type": "code",
   "execution_count": 6,
   "metadata": {},
   "outputs": [
    {
     "data": {
      "text/plain": [
       "'fruit'"
      ]
     },
     "execution_count": 6,
     "metadata": {},
     "output_type": "execute_result"
    }
   ],
   "source": [
    "# Accessing the value of 'category' in the nested dictionary for 'Granny Smith'\n",
    "\n",
    "nDict['Granny Smith']['category']"
   ]
  },
  {
   "cell_type": "code",
   "execution_count": 7,
   "metadata": {},
   "outputs": [
    {
     "data": {
      "text/plain": [
       "'carrot'"
      ]
     },
     "execution_count": 7,
     "metadata": {},
     "output_type": "execute_result"
    }
   ],
   "source": [
    "# Accessing the value of 'type' in the nested dictionary for 'Imperator'\n",
    "\n",
    "nDict['Imperator']['type']"
   ]
  },
  {
   "cell_type": "markdown",
   "metadata": {},
   "source": [
    "A nested dictionary is not limited to two levels.\n",
    "\n",
    "Nested dictionaries can also nest other nested dictionaries.\n",
    "\n",
    "There is no limit to the number of levels a nested dictionary can have."
   ]
  },
  {
   "cell_type": "code",
   "execution_count": 15,
   "metadata": {},
   "outputs": [],
   "source": [
    "# Similar dictionary with 3 levels \n",
    "\n",
    "nDict2 = {\n",
    "    1 : {\n",
    "       \"name\":\"banana\"\n",
    "        , \"colors\": {\n",
    "            1: \"green\"\n",
    "            , 2: \"yellow\"\n",
    "        }\n",
    "    }\n",
    "    , 2 : {\n",
    "        \"name\":\"apple\"\n",
    "        , \"colors\": {\n",
    "            1: \"Red\"\n",
    "            , 2: \"Green\"\n",
    "            , 3: \"Yellow\"\n",
    "            }\n",
    "    }\n",
    "}"
   ]
  },
  {
   "cell_type": "code",
   "execution_count": 17,
   "metadata": {},
   "outputs": [
    {
     "data": {
      "text/plain": [
       "'Yellow'"
      ]
     },
     "execution_count": 17,
     "metadata": {},
     "output_type": "execute_result"
    }
   ],
   "source": [
    "# Get the value of key \"3\" in the \"colors\" dictionary, which accessed by calling key \"2\" in the main dictionary\n",
    "\n",
    "nDict2[2]['colors'][3]"
   ]
  },
  {
   "cell_type": "code",
   "execution_count": 20,
   "metadata": {},
   "outputs": [],
   "source": [
    "# Example of dictionary with random values.\n",
    "# It has both a 4 level and 5 level nested dictionary\n",
    "\n",
    "dictRand =  {\n",
    "    \"Hello\" : \"World\"\n",
    "    , 1 : True\n",
    "    , 1.3 : {\n",
    "        \"Today\" : 5\n",
    "        , False : {\n",
    "            452 : {\n",
    "                \"Tomorrow\" : \"Next Time\"\n",
    "                , False : \"Now\"\n",
    "            }\n",
    "        }\n",
    "    }\n",
    "    , \"Another\" : {\n",
    "        \"Extra\" : {\n",
    "            1 : {\n",
    "                True : {\n",
    "                    77 : 53\n",
    "                }\n",
    "            }\n",
    "        }\n",
    "    }\n",
    "}"
   ]
  },
  {
   "cell_type": "code",
   "execution_count": 21,
   "metadata": {},
   "outputs": [
    {
     "data": {
      "text/plain": [
       "'Now'"
      ]
     },
     "execution_count": 21,
     "metadata": {},
     "output_type": "execute_result"
    }
   ],
   "source": [
    "# Access an element from the 4 level nested dictionary\n",
    "\n",
    "dictRand[1.3][False][452][False]"
   ]
  },
  {
   "cell_type": "code",
   "execution_count": 24,
   "metadata": {},
   "outputs": [
    {
     "data": {
      "text/plain": [
       "53"
      ]
     },
     "execution_count": 24,
     "metadata": {},
     "output_type": "execute_result"
    }
   ],
   "source": [
    "# Access an element from the 5 level nested dictionary\n",
    "\n",
    "dictRand[\"Another\"]['Extra'][1][True][77]"
   ]
  },
  {
   "cell_type": "code",
   "execution_count": null,
   "metadata": {},
   "outputs": [
    {
     "data": {
      "text/plain": [
       "True"
      ]
     },
     "execution_count": 47,
     "metadata": {},
     "output_type": "execute_result"
    }
   ],
   "source": [
    "\"John\" in age #faster for dictionary than list since it is a hash table"
   ]
  },
  {
   "cell_type": "code",
   "execution_count": null,
   "metadata": {},
   "outputs": [
    {
     "data": {
      "text/plain": [
       "False"
      ]
     },
     "execution_count": 48,
     "metadata": {},
     "output_type": "execute_result"
    }
   ],
   "source": [
    "\"Doe\" in age"
   ]
  },
  {
   "cell_type": "code",
   "execution_count": null,
   "metadata": {},
   "outputs": [
    {
     "data": {
      "text/plain": [
       "{'str': 'hello', 'lst': ['f', 'l', 'j', 'o']}"
      ]
     },
     "execution_count": 21,
     "metadata": {},
     "output_type": "execute_result"
    }
   ],
   "source": [
    "dct = {'str':'hello','lst':['f','l','j','o']}\n",
    "dct"
   ]
  },
  {
   "cell_type": "code",
   "execution_count": null,
   "metadata": {},
   "outputs": [
    {
     "data": {
      "text/plain": [
       "'o'"
      ]
     },
     "execution_count": 22,
     "metadata": {},
     "output_type": "execute_result"
    }
   ],
   "source": [
    "dct['lst'][3]"
   ]
  },
  {
   "cell_type": "code",
   "execution_count": null,
   "metadata": {},
   "outputs": [
    {
     "data": {
      "text/plain": [
       "{'nDict': {'keyA': 'itemA', 'keyB': 'itemB'}, 'str': 'hello'}"
      ]
     },
     "execution_count": 23,
     "metadata": {},
     "output_type": "execute_result"
    }
   ],
   "source": [
    "dct = {'nDict': {'keyA': 'itemA', 'keyB' : 'itemB'}, 'str':'hello'}\n",
    "dct"
   ]
  },
  {
   "cell_type": "code",
   "execution_count": null,
   "metadata": {},
   "outputs": [
    {
     "data": {
      "text/plain": [
       "'itemB'"
      ]
     },
     "execution_count": 24,
     "metadata": {},
     "output_type": "execute_result"
    }
   ],
   "source": [
    "dct['nDict']['keyB']"
   ]
  },
  {
   "cell_type": "markdown",
   "metadata": {},
   "source": [
    "get() method retrieves the key provided, but if the key does not exist, it returns the provided default value in stead of an exception"
   ]
  },
  {
   "cell_type": "code",
   "execution_count": null,
   "metadata": {},
   "outputs": [
    {
     "data": {
      "text/plain": [
       "35"
      ]
     },
     "execution_count": 54,
     "metadata": {},
     "output_type": "execute_result"
    }
   ],
   "source": [
    "age.get(\"Jane\", \"Doesn't exist\")"
   ]
  },
  {
   "cell_type": "code",
   "execution_count": null,
   "metadata": {},
   "outputs": [
    {
     "data": {
      "text/plain": [
       "\"Doesn't exist\""
      ]
     },
     "execution_count": 55,
     "metadata": {},
     "output_type": "execute_result"
    }
   ],
   "source": [
    "age.get(\"Doe\", \"Doesn't exist\")"
   ]
  },
  {
   "cell_type": "code",
   "execution_count": null,
   "metadata": {},
   "outputs": [],
   "source": [
    "age.get(\"Doe\") #returns None when no default provided"
   ]
  },
  {
   "cell_type": "code",
   "execution_count": null,
   "metadata": {},
   "outputs": [
    {
     "data": {
      "text/plain": [
       "3"
      ]
     },
     "execution_count": 61,
     "metadata": {},
     "output_type": "execute_result"
    }
   ],
   "source": [
    "len(age)"
   ]
  },
  {
   "cell_type": "code",
   "execution_count": null,
   "metadata": {},
   "outputs": [
    {
     "data": {
      "text/plain": [
       "True"
      ]
     },
     "execution_count": 66,
     "metadata": {},
     "output_type": "execute_result"
    }
   ],
   "source": [
    "\"Dane\" in age.keys()"
   ]
  },
  {
   "cell_type": "code",
   "execution_count": null,
   "metadata": {},
   "outputs": [
    {
     "data": {
      "text/plain": [
       "dict_values([55, 35, 44])"
      ]
     },
     "execution_count": 63,
     "metadata": {},
     "output_type": "execute_result"
    }
   ],
   "source": [
    "age.values() #returns list in python 2"
   ]
  },
  {
   "cell_type": "code",
   "execution_count": null,
   "metadata": {},
   "outputs": [
    {
     "data": {
      "text/plain": [
       "True"
      ]
     },
     "execution_count": 65,
     "metadata": {},
     "output_type": "execute_result"
    }
   ],
   "source": [
    "55 in age.values()"
   ]
  },
  {
   "cell_type": "code",
   "execution_count": null,
   "metadata": {},
   "outputs": [
    {
     "data": {
      "text/plain": [
       "dict_items([('John', 55), ('Jane', 35), ('Dane', 44)])"
      ]
     },
     "execution_count": 64,
     "metadata": {},
     "output_type": "execute_result"
    }
   ],
   "source": [
    "age.items() #key value tuples; returns list in python 2"
   ]
  },
  {
   "cell_type": "markdown",
   "metadata": {},
   "source": [
    "Dictionary keys are immutable. Lists cannot be used as keys"
   ]
  },
  {
   "cell_type": "code",
   "execution_count": null,
   "metadata": {},
   "outputs": [
    {
     "data": {
      "text/plain": [
       "('Christopher', 'Brooks', 'brooksch@umich.edu')"
      ]
     },
     "execution_count": 63,
     "metadata": {},
     "output_type": "execute_result"
    }
   ],
   "source": [
    "x = ('Christopher', 'Brooks', 'brooksch@umich.edu')\n",
    "fname, lname, email = x\n",
    "fname, lname, email"
   ]
  },
  {
   "cell_type": "code",
   "execution_count": null,
   "metadata": {},
   "outputs": [
    {
     "data": {
      "text/plain": [
       "(90, 37, 17)"
      ]
     },
     "execution_count": 66,
     "metadata": {},
     "output_type": "execute_result"
    }
   ],
   "source": [
    "x = {'Christopher' : 90, 'Brooks': 37 , 'brooksch@umich.edu': 17}\n",
    "fname, lname, email = x.values()\n",
    "fname, lname, email"
   ]
  },
  {
   "cell_type": "code",
   "execution_count": null,
   "metadata": {
    "scrolled": true
   },
   "outputs": [
    {
     "data": {
      "text/plain": [
       "('Christopher', 'Brooks', 'brooksch@umich.edu')"
      ]
     },
     "execution_count": 68,
     "metadata": {},
     "output_type": "execute_result"
    }
   ],
   "source": [
    "x = {'Christopher' : 90, 'Brooks': 37 , 'brooksch@umich.edu': 17}\n",
    "fname, lname, email = x\n",
    "fname, lname, email # Unpacked values must match number of variables"
   ]
  },
  {
   "cell_type": "markdown",
   "metadata": {},
   "source": [
    "### Looping \n",
    "\n",
    "Loops are control flow statements that allow blocks of code to be executed multiple times without the need to repeat code over and over again.\n",
    "\n",
    "Loops can be executed by using either a \"for\" loop or a \"while\" loop."
   ]
  },
  {
   "cell_type": "markdown",
   "metadata": {},
   "source": [
    "#### for Loops\n",
    "\n",
    "A \"for\" loop is typically structured as follows:\n",
    "\n",
    "\n",
    "`for \\<variable\\> in \\<iterable\\>:\n",
    "    execute code\n",
    "`\n",
    "\n",
    "\"Iterable\" indicates the iterable that the for loop will iterate before it finishes executing. Iterables include lists, tuples and dictionaries. \n",
    "\n",
    "The for loop will loop as many times as there are items in the iterable.\n",
    "\n",
    "\"Variable\" is the current item, or index, that the for loop is iterating over. For example, with a for loop iterating over a list, the  \"variable\" in the first iteration of the loop will be the first element of the list, the \"variable\" in the second iteration of the loop will be the second element of the list, etc. This will continue until the for loop finishes iterating over the last element int the list.\n",
    "\n",
    "\"execute code\" is the code that will execute during every iteration of the loop. Notice the indentation. Any line of code that is indented after the for loop statement will be executed as part of the loop."
   ]
  },
  {
   "cell_type": "markdown",
   "metadata": {},
   "source": [
    "A function typically used as an iterator is the range() function, given that it returns a list numbers in a sequence.\n",
    "\n",
    "The syntax of the range() function is range(x,y,s), where 'x' is the first item in the range (inclusive), 'y' is the last item in the range (exclusive) and 's' is the number of steps to take when creating the range, or how many numbers to skip when creating the range x and y. By default, the step parameter is set to 1"
   ]
  },
  {
   "cell_type": "code",
   "execution_count": 2,
   "metadata": {},
   "outputs": [
    {
     "name": "stdout",
     "output_type": "stream",
     "text": [
      "1\n",
      "2\n",
      "3\n",
      "4\n"
     ]
    }
   ],
   "source": [
    "# Loop the print() function 4 times to print out the numbers 1 to 4 (5 is excluded).\n",
    "\n",
    "for x in range(1,5):\n",
    "    print(x)"
   ]
  },
  {
   "cell_type": "code",
   "execution_count": 3,
   "metadata": {},
   "outputs": [
    {
     "name": "stdout",
     "output_type": "stream",
     "text": [
      "2\n",
      "4\n",
      "6\n",
      "8\n",
      "10\n"
     ]
    }
   ],
   "source": [
    "# Loop print() 5 times to print out even numbers between 1 and 10 \n",
    "# by setting the step parameter to 2 and starting the range from 2 \n",
    "# (11 is used as the end of the range to include the 10)\n",
    "\n",
    "for x in range(2, 11, 2):\n",
    "    print(x)"
   ]
  },
  {
   "cell_type": "code",
   "execution_count": 4,
   "metadata": {},
   "outputs": [
    {
     "name": "stdout",
     "output_type": "stream",
     "text": [
      "1\n",
      "3\n",
      "5\n",
      "7\n",
      "9\n"
     ]
    }
   ],
   "source": [
    "# Print odd numbers by doing the same thing but staring with 1 instead of 2\n",
    "\n",
    "for x in range(1, 11, 2):\n",
    "    print(x)"
   ]
  },
  {
   "cell_type": "markdown",
   "metadata": {},
   "source": [
    "If a loop is meant simply to run a block of code multiple times without retyping it, it is not required to use the variable returned by the iterator if you don't need to use it."
   ]
  },
  {
   "cell_type": "code",
   "execution_count": 2,
   "metadata": {},
   "outputs": [
    {
     "name": "stdout",
     "output_type": "stream",
     "text": [
      "Hello World!\n",
      "Hello World!\n",
      "Hello World!\n",
      "Hello World!\n",
      "Hello World!\n"
     ]
    }
   ],
   "source": [
    "# Print the string \"Hello World\" 6 times\n",
    "# An underscore can be used for the index varible as a placeholder \n",
    "\n",
    "for _ in range(1, 6):\n",
    "    print(\"Hello World!\")"
   ]
  },
  {
   "cell_type": "markdown",
   "metadata": {},
   "source": [
    "The range() function also accepts a single parameter. When a single integer is provided, that integer will be used to indicate the last which is used to indicate the last item in the range (exclusive), while always starting with 0\n",
    "\n",
    "For example, range(10) will iterate over a list from 0 to 9, thus looping 10 times."
   ]
  },
  {
   "cell_type": "code",
   "execution_count": 3,
   "metadata": {},
   "outputs": [
    {
     "name": "stdout",
     "output_type": "stream",
     "text": [
      "0\n",
      "1\n",
      "2\n",
      "3\n",
      "4\n",
      "5\n",
      "6\n",
      "7\n",
      "8\n"
     ]
    }
   ],
   "source": [
    "# The loop will print out numbers 0 to 8\n",
    "\n",
    "for x in range(9):\n",
    "    print(x)"
   ]
  },
  {
   "cell_type": "code",
   "execution_count": 4,
   "metadata": {},
   "outputs": [
    {
     "name": "stdout",
     "output_type": "stream",
     "text": [
      "Python\n",
      "Python\n",
      "Python\n",
      "Python\n",
      "Python\n",
      "Python\n",
      "Python\n",
      "Python\n"
     ]
    }
   ],
   "source": [
    "# The loop will print out the string \"Python\" 8 times\n",
    "\n",
    "for _ in range(8):\n",
    "    print(\"Python\")"
   ]
  },
  {
   "cell_type": "markdown",
   "metadata": {},
   "source": [
    "Loops are not limited to just the print() function.\n",
    "\n",
    "A loop can be used to run any amount of code and perform tasks such as calculations.\n",
    "\n",
    "Below is an example of how to use a loop to find the sum of a range of numbers (ignoring sum() function)"
   ]
  },
  {
   "cell_type": "code",
   "execution_count": 5,
   "metadata": {},
   "outputs": [
    {
     "name": "stdout",
     "output_type": "stream",
     "text": [
      "15\n"
     ]
    }
   ],
   "source": [
    "# Finding a sum by adding the number 1 15 times using a loop \n",
    "\n",
    "# Variable to keep track of sum\n",
    "total = 0 \n",
    "# loop 15 times\n",
    "for _ in range(15):\n",
    "    total += 1\n",
    "    \n",
    "print(total)"
   ]
  },
  {
   "cell_type": "markdown",
   "metadata": {},
   "source": [
    "Take note that the \"total\" variable is outside of the for loop. This is because it only needs to be declared once and reassigned with every loop iteration.\n",
    "\n",
    "If it is declared inside the loop, the variable will just keep being initialized as 0."
   ]
  },
  {
   "cell_type": "code",
   "execution_count": 6,
   "metadata": {},
   "outputs": [
    {
     "name": "stdout",
     "output_type": "stream",
     "text": [
      "1\n"
     ]
    }
   ],
   "source": [
    "# Total will only result in 1 no matter how many times the loop iterates\n",
    "\n",
    "for _ in range(50):\n",
    "    total = 0 #Decalre total as 0\n",
    "    total += 1 #Add 1 to the 0\n",
    "    \n",
    "print(total)"
   ]
  },
  {
   "cell_type": "markdown",
   "metadata": {},
   "source": [
    "The numbers in the range can be added together as well"
   ]
  },
  {
   "cell_type": "code",
   "execution_count": 7,
   "metadata": {},
   "outputs": [
    {
     "name": "stdout",
     "output_type": "stream",
     "text": [
      "55\n"
     ]
    }
   ],
   "source": [
    "# Find the sum of the numbers from 1 to 10\n",
    "\n",
    "total = 0\n",
    "for x in range(1, 11):\n",
    "    total += x\n",
    "    \n",
    "print(total)"
   ]
  },
  {
   "cell_type": "markdown",
   "metadata": {},
   "source": [
    "#### Looping through lists\n",
    "\n",
    "The range() functions can be used as the iterable for the for loop since it returns a list.\n",
    "\n",
    "Loops can also be used to iterate over a custom made list as well."
   ]
  },
  {
   "cell_type": "code",
   "execution_count": 8,
   "metadata": {},
   "outputs": [
    {
     "name": "stdout",
     "output_type": "stream",
     "text": [
      "a\n",
      "b\n",
      "c\n",
      "d\n",
      "e\n"
     ]
    }
   ],
   "source": [
    "lst = ['a','b','c','d','e']\n",
    "\n",
    "for item in lst:\n",
    "    print(item)"
   ]
  },
  {
   "cell_type": "markdown",
   "metadata": {},
   "source": [
    "You can also use the range() function to iterate through a list by index.\n",
    "\n",
    "Since the range() function always returns a list that begins with 0 when one parameter is passed, you can pass the length of the list as the parameter if you want to loop through the entire list."
   ]
  },
  {
   "cell_type": "code",
   "execution_count": 10,
   "metadata": {},
   "outputs": [
    {
     "name": "stdout",
     "output_type": "stream",
     "text": [
      "a\n",
      "b\n",
      "c\n",
      "d\n",
      "e\n"
     ]
    }
   ],
   "source": [
    "for i in range(len(lst)):\n",
    "    print(lst[i])"
   ]
  },
  {
   "cell_type": "markdown",
   "metadata": {},
   "source": [
    "#### Loops with mutliple variables\n",
    "\n",
    "for Loops has the ability to process multiple variables returned by the iterable. The syntax is as follows:\n",
    "\n",
    "`for \\<variable1\\>, \\<variable2\\>, .....  in \\<iterable\\>:\n",
    "    execute code\n",
    "`\n",
    "\n",
    "The number of variables the for loop can process depends on how the iterator is structured.\n",
    "\n",
    "Normally, we have been looping through iterables that are made up of single value elements:\n",
    "\n",
    "\\[1,2,3,4,5,6,7\\]\n",
    "\n",
    "On occasion, you will encounter iterables whose elements are other iterables, such as lists of lists, or lists of tuples.\n",
    "\n",
    "Below is an example of a list of lists with two elements:\n",
    "\n",
    "\\[ \\[1,3\\], \\[3,4\\], \\[6,23\\] \\]\n",
    "\n",
    "With a list structured like this, a for loop can iterate through each element and access both pieces of data they are made of."
   ]
  },
  {
   "cell_type": "markdown",
   "metadata": {},
   "source": [
    "Lets say for example, we are presented with a list of tuples containing two elements that are meant to represent a person's height and weight."
   ]
  },
  {
   "cell_type": "code",
   "execution_count": 22,
   "metadata": {},
   "outputs": [],
   "source": [
    "# Each tuple in the list represents an individual person\n",
    "# The first element in the tuple represents the person's height in inches\n",
    "# The second element in the tuple represents the person's weight in pounds\n",
    "\n",
    "htWt = [(70, 201), (67, 183), (59, 166), (61,145)]"
   ]
  },
  {
   "cell_type": "markdown",
   "metadata": {},
   "source": [
    "You can access both the height and weight by using a for loop with two variables."
   ]
  },
  {
   "cell_type": "code",
   "execution_count": 23,
   "metadata": {},
   "outputs": [
    {
     "name": "stdout",
     "output_type": "stream",
     "text": [
      "The person's height is 70 and weight is 201\n",
      "The person's height is 67 and weight is 183\n",
      "The person's height is 59 and weight is 166\n",
      "The person's height is 61 and weight is 145\n"
     ]
    }
   ],
   "source": [
    "# For loop retrieving 2 elements in each tuple within the iterable \n",
    "\n",
    "for height, weight in htWt:\n",
    "    print(\"The person's height is {0} and weight is {1}\".format(height, weight))"
   ]
  },
  {
   "cell_type": "markdown",
   "metadata": {},
   "source": [
    "To demonstrate three variables, let's create a list with tuples containing three elements: height, weight and eye color."
   ]
  },
  {
   "cell_type": "code",
   "execution_count": 1,
   "metadata": {},
   "outputs": [],
   "source": [
    "# Each tuple in the list represents an individual person\n",
    "# The first element in the tuple represents the person's height in inches\n",
    "# The second element in the tuple represents the person's weight in pounds\n",
    "# The third element in the tuple represents the person's eye color\n",
    "\n",
    "htWtEye = [(70, 201, \"Blue\"), (67, 183, \"Hazel\"), (59, 166, \"Green\"), (61,145,\"Blue\")]"
   ]
  },
  {
   "cell_type": "code",
   "execution_count": 2,
   "metadata": {},
   "outputs": [
    {
     "name": "stdout",
     "output_type": "stream",
     "text": [
      "The person's height is 70, weight is 201, and eye color is Blue\n",
      "The person's height is 67, weight is 183, and eye color is Hazel\n",
      "The person's height is 59, weight is 166, and eye color is Green\n",
      "The person's height is 61, weight is 145, and eye color is Blue\n"
     ]
    }
   ],
   "source": [
    "# For loop retrieving 3 elements in each tuple within the iterable \n",
    "\n",
    "for height, weight, eyeCol in htWtEye:\n",
    "    print(\"The person's height is {0}, weight is {1}, and eye color is {2}\".format(height, weight, eyeCol))"
   ]
  },
  {
   "cell_type": "markdown",
   "metadata": {},
   "source": [
    "For a for loop to work correctly, every iterable has to have the same number of elements as there are variables. Otherwise, the loop will throw an error."
   ]
  },
  {
   "cell_type": "code",
   "execution_count": 3,
   "metadata": {},
   "outputs": [
    {
     "name": "stdout",
     "output_type": "stream",
     "text": [
      "The person's height is 70, weight is 201, and eye color is Blue\n"
     ]
    },
    {
     "ename": "ValueError",
     "evalue": "not enough values to unpack (expected 3, got 2)",
     "output_type": "error",
     "traceback": [
      "\u001b[1;31m---------------------------------------------------------------------------\u001b[0m",
      "\u001b[1;31mValueError\u001b[0m                                Traceback (most recent call last)",
      "\u001b[1;32m~\\AppData\\Local\\Temp\\ipykernel_11836\\957266250.py\u001b[0m in \u001b[0;36m<module>\u001b[1;34m\u001b[0m\n\u001b[0;32m      3\u001b[0m \u001b[1;31m# For loop retrieving 3 elements in each tuple within the iterable\u001b[0m\u001b[1;33m\u001b[0m\u001b[1;33m\u001b[0m\u001b[0m\n\u001b[0;32m      4\u001b[0m \u001b[1;33m\u001b[0m\u001b[0m\n\u001b[1;32m----> 5\u001b[1;33m \u001b[1;32mfor\u001b[0m \u001b[0mheight\u001b[0m\u001b[1;33m,\u001b[0m \u001b[0mweight\u001b[0m\u001b[1;33m,\u001b[0m \u001b[0meyeCol\u001b[0m \u001b[1;32min\u001b[0m \u001b[0mhtWtEye\u001b[0m\u001b[1;33m:\u001b[0m\u001b[1;33m\u001b[0m\u001b[1;33m\u001b[0m\u001b[0m\n\u001b[0m\u001b[0;32m      6\u001b[0m     \u001b[0mprint\u001b[0m\u001b[1;33m(\u001b[0m\u001b[1;34m\"The person's height is {0}, weight is {1}, and eye color is {2}\"\u001b[0m\u001b[1;33m.\u001b[0m\u001b[0mformat\u001b[0m\u001b[1;33m(\u001b[0m\u001b[0mheight\u001b[0m\u001b[1;33m,\u001b[0m \u001b[0mweight\u001b[0m\u001b[1;33m,\u001b[0m \u001b[0meyeCol\u001b[0m\u001b[1;33m)\u001b[0m\u001b[1;33m)\u001b[0m\u001b[1;33m\u001b[0m\u001b[1;33m\u001b[0m\u001b[0m\n",
      "\u001b[1;31mValueError\u001b[0m: not enough values to unpack (expected 3, got 2)"
     ]
    }
   ],
   "source": [
    "# The second iterable has only two elements,but the for loop is looking for 3\n",
    "\n",
    "htWtEye = [(70, 201, \"Blue\"), (67, 183), (59, 166, \"Green\"), (61,145,\"Blue\")]\n",
    "\n",
    "# For loop retrieving 3 elements in each tuple within the iterable\n",
    "# Throws an error when it iterates through the second tuple\n",
    "\n",
    "for height, weight, eyeCol in htWtEye:\n",
    "    print(\"The person's height is {0}, weight is {1}, and eye color is {2}\".format(height, weight, eyeCol))"
   ]
  },
  {
   "cell_type": "markdown",
   "metadata": {},
   "source": [
    "#### Looping through Dictionaries\n",
    "\n",
    "Looping through dictionaries is a little different, given that they are made up of key value pairs. There are several ways  to loop though them to retrieve the keys and values either separately or together."
   ]
  },
  {
   "cell_type": "code",
   "execution_count": 8,
   "metadata": {},
   "outputs": [],
   "source": [
    "# Declare a dictionary where the keys are integers and the values are strings\n",
    "\n",
    "dic = {1:\"Hello\"\n",
    "      , 2: \"There\"\n",
    "      , 3: \"My\"\n",
    "      , 4: \"Friend\"\n",
    "      , 5: \"!\"}"
   ]
  },
  {
   "cell_type": "markdown",
   "metadata": {},
   "source": [
    "#### Looping through keys\n",
    "\n",
    "You can loop through a dictionary's keys by either using the keys() method, or by simply using the dictionary itself as the iterator. "
   ]
  },
  {
   "cell_type": "code",
   "execution_count": 10,
   "metadata": {},
   "outputs": [
    {
     "name": "stdout",
     "output_type": "stream",
     "text": [
      "1\n",
      "2\n",
      "3\n",
      "4\n",
      "5\n"
     ]
    }
   ],
   "source": [
    "# Loop through dictionary keys using the keys() method\n",
    "\n",
    "for item in dic.keys():\n",
    "    print(item)"
   ]
  },
  {
   "cell_type": "code",
   "execution_count": 11,
   "metadata": {},
   "outputs": [
    {
     "name": "stdout",
     "output_type": "stream",
     "text": [
      "1\n",
      "2\n",
      "3\n",
      "4\n",
      "5\n"
     ]
    }
   ],
   "source": [
    "# Loop through dictionary keys using the dictionary itself as the iterator\n",
    "\n",
    "for item in dic:\n",
    "    print(item)"
   ]
  },
  {
   "cell_type": "markdown",
   "metadata": {},
   "source": [
    "#### Looping through values\n",
    "\n",
    "You can loop through a dictionary's values by either using the values() method, or by using the dictionary itself as the iterator and using indexing with the loop variable as the key to access the value."
   ]
  },
  {
   "cell_type": "code",
   "execution_count": 12,
   "metadata": {},
   "outputs": [
    {
     "name": "stdout",
     "output_type": "stream",
     "text": [
      "Hello\n",
      "There\n",
      "My\n",
      "Friend\n",
      "!\n"
     ]
    }
   ],
   "source": [
    "# Loop through dictionary values using the values() method\n",
    "\n",
    "for item in dic.values():\n",
    "    print(item)"
   ]
  },
  {
   "cell_type": "code",
   "execution_count": 13,
   "metadata": {},
   "outputs": [
    {
     "name": "stdout",
     "output_type": "stream",
     "text": [
      "Hello\n",
      "There\n",
      "My\n",
      "Friend\n",
      "!\n"
     ]
    }
   ],
   "source": [
    "# Loop through dictionary values using indexing with the variable \"Item\" as the key\n",
    "\n",
    "for item in dic:\n",
    "    print(dic[item])"
   ]
  },
  {
   "cell_type": "markdown",
   "metadata": {},
   "source": [
    "#### Looping through both keys and values\n",
    "\n",
    "You can loop through a dictionary's keys and values by using indexing and simply calling the loop variable as well."
   ]
  },
  {
   "cell_type": "code",
   "execution_count": 16,
   "metadata": {},
   "outputs": [
    {
     "name": "stdout",
     "output_type": "stream",
     "text": [
      "The current key is 1 and the current value is Hello\n",
      "The current key is 2 and the current value is There\n",
      "The current key is 3 and the current value is My\n",
      "The current key is 4 and the current value is Friend\n",
      "The current key is 5 and the current value is !\n"
     ]
    }
   ],
   "source": [
    "# Loop through dictionary values using indexing with the variable \"item\" as the key and using the variable \"item\" as well\n",
    "\n",
    "for item in dic:\n",
    "    print(\"The current key is {0} and the current value is {1}\".format(item, dic[item]))"
   ]
  },
  {
   "cell_type": "markdown",
   "metadata": {},
   "source": [
    "Another way is to use the dictionary's items() method, which returns a tuple containing both the keys and values."
   ]
  },
  {
   "cell_type": "code",
   "execution_count": 17,
   "metadata": {},
   "outputs": [
    {
     "name": "stdout",
     "output_type": "stream",
     "text": [
      "(1, 'Hello')\n",
      "(2, 'There')\n",
      "(3, 'My')\n",
      "(4, 'Friend')\n",
      "(5, '!')\n"
     ]
    }
   ],
   "source": [
    "for item in dic.items():\n",
    "    print(item)"
   ]
  },
  {
   "cell_type": "markdown",
   "metadata": {},
   "source": [
    "With it, you can use a loop with two variables to access both the key and value."
   ]
  },
  {
   "cell_type": "code",
   "execution_count": 21,
   "metadata": {},
   "outputs": [
    {
     "name": "stdout",
     "output_type": "stream",
     "text": [
      "The current key is 1 and the current value is Hello\n",
      "The current key is 2 and the current value is There\n",
      "The current key is 3 and the current value is My\n",
      "The current key is 4 and the current value is Friend\n",
      "The current key is 5 and the current value is !\n"
     ]
    }
   ],
   "source": [
    "for key, value in dic.items():\n",
    "    print(\"The current key is {0} and the current value is {1}\".format(key, value))"
   ]
  },
  {
   "cell_type": "markdown",
   "metadata": {},
   "source": [
    "#### while Loops\n",
    "\n",
    "Unlike for loops, whose number of iterations depend on the number of items in an iterable, a while loop iterates based on a condition set by the programmer.\n",
    "\n",
    "The syntax of a while loop is as follows:\n",
    "\n",
    "`while \\<condition = True\\>:\n",
    "    execute code\n",
    "`\n",
    "\n",
    "As long as the condition passed to the while loop is true, the loop will continue. It only terminates when the condition becomes false. This gives the programmer more flexibility as to what should happen in the loop before it terminates.\n",
    "\n",
    "For this reason, a variable is typically used as a component in the condition since it can be reassigned by the programmer. The variable is then changed in the loop until the condition is met. "
   ]
  },
  {
   "cell_type": "markdown",
   "metadata": {},
   "source": [
    "Below is an example of a simple while loop that prints \"Hello World\" 7 times:"
   ]
  },
  {
   "cell_type": "code",
   "execution_count": 3,
   "metadata": {},
   "outputs": [
    {
     "name": "stdout",
     "output_type": "stream",
     "text": [
      "Hello World\n",
      "Hello World\n",
      "Hello World\n",
      "Hello World\n",
      "Hello World\n",
      "Hello World\n",
      "Hello World\n"
     ]
    }
   ],
   "source": [
    "i=0 #Declaring a variable as 0\n",
    "\n",
    "# Keep running the code in a while loop as long as i is less than 10\n",
    "while( i < 7 ):\n",
    "    print(\"Hello World\")\n",
    "    i += 1 #Increment i by 1"
   ]
  },
  {
   "cell_type": "markdown",
   "metadata": {},
   "source": [
    "First we declare a variable \"i\". This acts as the \"counter\" that determines how many times the loop will iterate.\n",
    "\n",
    "Next we declare the while loop with the condition \"i < 7\". The way this works is: run the code in the while loop as long as \"i\" is less than 7.\n",
    "\n",
    "Next we run the print() statement. Since this does not affect the variable \"i\", this also does not have any impact on the loop's condition.\n",
    "\n",
    "Finally, we increment the \"i\" variable by 1. Since \"i\" is declared outside the loop, \"i\" will keep its new value when the next iteration of the loop begins.\n",
    "\n",
    "Incrementing \"i\" is the most important part of the while loop because this allows the loop's condition to become False at some point, thus ending it.\n",
    "\n",
    "If a while loop's condition is always True (in this case, if \"i\" is always less than 7), the loop will never end, and will create what is called an \"infinite loop\". If an infinite loop occurs, the programmer will have to manually terminate the program for it to stop.\n",
    "\n"
   ]
  },
  {
   "cell_type": "markdown",
   "metadata": {},
   "source": []
  },
  {
   "cell_type": "markdown",
   "metadata": {},
   "source": []
  },
  {
   "cell_type": "code",
   "execution_count": 7,
   "metadata": {},
   "outputs": [
    {
     "name": "stdout",
     "output_type": "stream",
     "text": [
      "1 Hello\n",
      "2 There\n",
      "3 My\n",
      "4 Friend\n",
      "5 !\n"
     ]
    }
   ],
   "source": [
    "for key, item in dic.items():\n",
    "    print(key, item)"
   ]
  },
  {
   "cell_type": "code",
   "execution_count": null,
   "metadata": {},
   "outputs": [
    {
     "name": "stdout",
     "output_type": "stream",
     "text": [
      "a\n",
      "b\n",
      "c\n",
      "d\n",
      "e\n"
     ]
    },
    {
     "data": {
      "text/plain": [
       "[None, None, None, None, None]"
      ]
     },
     "execution_count": 28,
     "metadata": {},
     "output_type": "execute_result"
    }
   ],
   "source": [
    "#List Comprehension\n",
    "[print(i) for i in lst] "
   ]
  },
  {
   "cell_type": "markdown",
   "metadata": {},
   "source": [
    "### Repeating Lists"
   ]
  },
  {
   "cell_type": "code",
   "execution_count": null,
   "metadata": {},
   "outputs": [
    {
     "data": {
      "text/plain": [
       "['a', 'b', 'c', 'd', 'e', 'a', 'b', 'c', 'd', 'e', 'a', 'b', 'c', 'd', 'e']"
      ]
     },
     "execution_count": 29,
     "metadata": {},
     "output_type": "execute_result"
    }
   ],
   "source": [
    "lst * 3"
   ]
  },
  {
   "cell_type": "code",
   "execution_count": null,
   "metadata": {},
   "outputs": [],
   "source": []
  },
  {
   "cell_type": "code",
   "execution_count": null,
   "metadata": {},
   "outputs": [],
   "source": []
  },
  {
   "cell_type": "markdown",
   "metadata": {},
   "source": [
    "## Type()\n",
    "\n",
    "Use type() to detectreturn the type of a variable, object or value"
   ]
  },
  {
   "cell_type": "code",
   "execution_count": null,
   "metadata": {},
   "outputs": [
    {
     "name": "stdout",
     "output_type": "stream",
     "text": [
      "<class 'int'>\n",
      "<class 'str'>\n",
      "<class 'str'>\n",
      "<class 'float'>\n",
      "<class 'NoneType'>\n"
     ]
    }
   ],
   "source": [
    "print(type(2))\n",
    "print(type('r'))\n",
    "print(type(\"hello\"))\n",
    "print(type(3.14))\n",
    "print(type(None))"
   ]
  },
  {
   "cell_type": "code",
   "execution_count": null,
   "metadata": {},
   "outputs": [
    {
     "name": "stdout",
     "output_type": "stream",
     "text": [
      "<class 'int'>\n",
      "<class 'float'>\n",
      "<class 'str'>\n",
      "<class 'function'>\n"
     ]
    }
   ],
   "source": [
    "num = 5\n",
    "fl = 5.6\n",
    "strg = \"bye\"\n",
    "def func(): print(\"Hello\")\n",
    "\n",
    "print(type(num))\n",
    "print(type(fl))\n",
    "print(type(strg))\n",
    "print(type(func))"
   ]
  },
  {
   "cell_type": "markdown",
   "metadata": {},
   "source": [
    "## Printing"
   ]
  },
  {
   "cell_type": "code",
   "execution_count": null,
   "metadata": {
    "scrolled": true
   },
   "outputs": [
    {
     "name": "stdout",
     "output_type": "stream",
     "text": [
      "Hello\n"
     ]
    }
   ],
   "source": [
    "x = 'Hello'\n",
    "print(x) # for python 3"
   ]
  },
  {
   "cell_type": "code",
   "execution_count": null,
   "metadata": {},
   "outputs": [],
   "source": [
    "print x # for python 2"
   ]
  },
  {
   "cell_type": "code",
   "execution_count": null,
   "metadata": {},
   "outputs": [
    {
     "data": {
      "text/plain": [
       "'Hello'"
      ]
     },
     "execution_count": 9,
     "metadata": {},
     "output_type": "execute_result"
    }
   ],
   "source": [
    "x #for Jupyter notebook (last line in cell)"
   ]
  },
  {
   "cell_type": "markdown",
   "metadata": {},
   "source": [
    "### Using Format\n",
    "\n",
    "With brackets only (printed in the order parameters are provided in the format method)"
   ]
  },
  {
   "cell_type": "code",
   "execution_count": null,
   "metadata": {},
   "outputs": [
    {
     "name": "stdout",
     "output_type": "stream",
     "text": [
      "My name is: Joe. My ID is: 1234\n"
     ]
    }
   ],
   "source": [
    "name = \"Joe\"\n",
    "id = \"1234\"\n",
    "\n",
    "print('My name is: {}. My ID is: {}'.format(name, id))"
   ]
  },
  {
   "cell_type": "markdown",
   "metadata": {},
   "source": [
    "With variables in brackets"
   ]
  },
  {
   "cell_type": "code",
   "execution_count": null,
   "metadata": {},
   "outputs": [
    {
     "name": "stdout",
     "output_type": "stream",
     "text": [
      "My zip code is: 12345, my city is: Brooklyn, my state is New York\n"
     ]
    }
   ],
   "source": [
    "v1 = \"Brooklyn\"\n",
    "v2 = \"New York\"\n",
    "v3 = \"12345\"\n",
    "\n",
    "print('My zip code is: {zip}, my city is: {city}, my state is {state}'.format(city=v1, state=v2, zip=v3))"
   ]
  },
  {
   "cell_type": "code",
   "execution_count": null,
   "metadata": {},
   "outputs": [
    {
     "name": "stdout",
     "output_type": "stream",
     "text": [
      "Chris bought 4 item(s) at a price of 3.24 each for a total of 12.96\n"
     ]
    }
   ],
   "source": [
    "sales_record = {\n",
    "'price': 3.24,\n",
    "'num_items': 4,\n",
    "'person': 'Chris'}\n",
    "\n",
    "sales_statement = '{} bought {} item(s) at a price of {} each for a total of {}' #can store into variable. .format indicates the curly brackets\n",
    "\n",
    "print(sales_statement.format(sales_record['person'],\n",
    "                             sales_record['num_items'],\n",
    "                             sales_record['price'],\n",
    "                             sales_record['num_items']*sales_record['price']))\n"
   ]
  },
  {
   "cell_type": "code",
   "execution_count": null,
   "metadata": {},
   "outputs": [],
   "source": []
  },
  {
   "cell_type": "markdown",
   "metadata": {},
   "source": [
    "## defaultdict\n",
    "A type of dictionary that automatically adds a value when you try to look up a key it doesn't contain for it using a zero-argument function provided when created\n",
    "\n",
    "These are useful when using dictionaries to get results by some key and not having to check every time to see if the key exists yet."
   ]
  },
  {
   "cell_type": "code",
   "execution_count": null,
   "metadata": {},
   "outputs": [
    {
     "data": {
      "text/plain": [
       "defaultdict(int, {'Pie': 1, 'Pizza': 1, 'Salad': 2, 'Yogurt': 1, 'Soup': 1})"
      ]
     },
     "execution_count": 75,
     "metadata": {},
     "output_type": "execute_result"
    }
   ],
   "source": [
    "# Ex. Foods in a list of foods\n",
    "foods = [\"Pie\",\"Pizza\",\"Salad\",\"Yogurt\",\"Soup\",\"Salad\"]\n",
    "from collections import defaultdict\n",
    "food_counts = defaultdict(int)          # int() produces 0\n",
    "for food in foods:\n",
    "    food_counts[food] += 1\n",
    "food_counts"
   ]
  },
  {
   "cell_type": "code",
   "execution_count": null,
   "metadata": {},
   "outputs": [
    {
     "data": {
      "text/plain": [
       "{'Pie': 1, 'Pizza': 1, 'Salad': 2, 'Yogurt': 1, 'Soup': 1}"
      ]
     },
     "execution_count": 77,
     "metadata": {},
     "output_type": "execute_result"
    }
   ],
   "source": [
    "#With a regular dictionary\n",
    "food_counts_reg = {}\n",
    "for food in foods:\n",
    "    if food in food_counts_reg:\n",
    "        food_counts_reg[food] += 1\n",
    "    else:\n",
    "        food_counts_reg[food] = 1\n",
    "food_counts_reg"
   ]
  },
  {
   "cell_type": "code",
   "execution_count": null,
   "metadata": {},
   "outputs": [
    {
     "data": {
      "text/plain": [
       "{'Pie': 1, 'Pizza': 1, 'Salad': 2, 'Yogurt': 1, 'Soup': 1}"
      ]
     },
     "execution_count": 78,
     "metadata": {},
     "output_type": "execute_result"
    }
   ],
   "source": [
    "food_counts_reg = {}\n",
    "for food in foods:\n",
    "    try:\n",
    "        food_counts_reg[food] += 1\n",
    "    except KeyError:\n",
    "        food_counts_reg[food] = 1\n",
    "food_counts_reg"
   ]
  },
  {
   "cell_type": "code",
   "execution_count": null,
   "metadata": {},
   "outputs": [
    {
     "data": {
      "text/plain": [
       "{'Pie': 1, 'Pizza': 1, 'Salad': 2, 'Yogurt': 1, 'Soup': 1}"
      ]
     },
     "execution_count": 80,
     "metadata": {},
     "output_type": "execute_result"
    }
   ],
   "source": [
    "food_counts_reg = {}\n",
    "for food in foods:\n",
    "    previous_count = food_counts_reg.get(food, 0)\n",
    "    food_counts_reg[food] = previous_count + 1\n",
    "food_counts_reg"
   ]
  },
  {
   "cell_type": "code",
   "execution_count": null,
   "metadata": {},
   "outputs": [],
   "source": [
    "#They can also be used with list, dict or custom functions:"
   ]
  },
  {
   "cell_type": "code",
   "execution_count": null,
   "metadata": {},
   "outputs": [
    {
     "data": {
      "text/plain": [
       "defaultdict(list, {2: ['Hello']})"
      ]
     },
     "execution_count": 82,
     "metadata": {},
     "output_type": "execute_result"
    }
   ],
   "source": [
    "def_list = defaultdict(list)             # list() produces an empty list\n",
    "def_list[2].append(\"Hello\")\n",
    "def_list"
   ]
  },
  {
   "cell_type": "code",
   "execution_count": null,
   "metadata": {},
   "outputs": [
    {
     "data": {
      "text/plain": [
       "defaultdict(dict, {'John': {'FavFood': 'Pasta'}})"
      ]
     },
     "execution_count": 83,
     "metadata": {},
     "output_type": "execute_result"
    }
   ],
   "source": [
    "def_dict = defaultdict(dict)             # dict() produces an empty dictionary\n",
    "def_dict[\"John\"][\"FavFood\"] = \"Pasta\"\n",
    "def_dict"
   ]
  },
  {
   "cell_type": "code",
   "execution_count": null,
   "metadata": {},
   "outputs": [
    {
     "data": {
      "text/plain": [
       "defaultdict(<function __main__.<lambda>()>, {7: [3, 4, 1]})"
      ]
     },
     "execution_count": 88,
     "metadata": {},
     "output_type": "execute_result"
    }
   ],
   "source": [
    "def_cust = defaultdict(lambda: [3, 4, 20])\n",
    "def_cust[7][2] = 1                       \n",
    "def_cust"
   ]
  },
  {
   "cell_type": "code",
   "execution_count": null,
   "metadata": {},
   "outputs": [
    {
     "data": {
      "text/plain": [
       "{'userName': 'jDoe',\n",
       " 'desc': 'Cool Guy',\n",
       " 'age': 23,\n",
       " 'favFoods': ['Pasta', 'Pizza']}"
      ]
     },
     "execution_count": 90,
     "metadata": {},
     "output_type": "execute_result"
    }
   ],
   "source": [
    "#  Dictionaries are a simple way to represent structured data:\n",
    "user = {\n",
    "    \"userName\" : \"jDoe\",\n",
    "    \"desc\" : \"Cool Guy\",\n",
    "    \"age\" : 23,\n",
    "    \"favFoods\" : [\"Pasta\", \"Pizza\"]\n",
    "}\n",
    "user"
   ]
  },
  {
   "cell_type": "markdown",
   "metadata": {},
   "source": [
    "## Modules"
   ]
  },
  {
   "cell_type": "code",
   "execution_count": null,
   "metadata": {},
   "outputs": [],
   "source": [
    "import re\n",
    "import matplotlib.pyplot as plt\n",
    "from collections import defaultdict, Counter\n",
    "lookup = defaultdict(int)\n",
    "my_counter = Counter()"
   ]
  },
  {
   "cell_type": "markdown",
   "metadata": {},
   "source": [
    "Python 2.7 uses floor division by default, so that 7 / 2 equals 3.\n",
    "from __future__ import division\n",
    "after which 7 / 2 equals 3.5.\n",
    "double slash: 7 // 2 is then floor division."
   ]
  },
  {
   "cell_type": "markdown",
   "metadata": {},
   "source": [
    "### Date and Time"
   ]
  },
  {
   "cell_type": "code",
   "execution_count": null,
   "metadata": {},
   "outputs": [],
   "source": [
    "import datetime as dt\n",
    "import time as tm"
   ]
  },
  {
   "cell_type": "code",
   "execution_count": null,
   "metadata": {},
   "outputs": [
    {
     "data": {
      "text/plain": [
       "1595556414.2651017"
      ]
     },
     "execution_count": 76,
     "metadata": {},
     "output_type": "execute_result"
    }
   ],
   "source": [
    "tm.time() #time in seconds since January 1st, 1970 (epoch)"
   ]
  },
  {
   "cell_type": "code",
   "execution_count": null,
   "metadata": {},
   "outputs": [
    {
     "data": {
      "text/plain": [
       "datetime.datetime(2020, 7, 23, 22, 23, 7, 11067)"
      ]
     },
     "execution_count": 84,
     "metadata": {},
     "output_type": "execute_result"
    }
   ],
   "source": [
    "dt.datetime.fromtimestamp(tm.time())"
   ]
  },
  {
   "cell_type": "code",
   "execution_count": null,
   "metadata": {},
   "outputs": [
    {
     "data": {
      "text/plain": [
       "datetime.datetime(2020, 8, 2, 20, 6, 47, 960966)"
      ]
     },
     "execution_count": 5,
     "metadata": {},
     "output_type": "execute_result"
    }
   ],
   "source": [
    "dt.datetime.now() #same result"
   ]
  },
  {
   "cell_type": "code",
   "execution_count": null,
   "metadata": {},
   "outputs": [
    {
     "data": {
      "text/plain": [
       "datetime.date(2020, 8, 2)"
      ]
     },
     "execution_count": 4,
     "metadata": {},
     "output_type": "execute_result"
    }
   ],
   "source": [
    "dt.date.today()"
   ]
  },
  {
   "cell_type": "code",
   "execution_count": null,
   "metadata": {},
   "outputs": [
    {
     "data": {
      "text/plain": [
       "(2020, 7, 23, 22, 26, 35, 608547, None)"
      ]
     },
     "execution_count": 93,
     "metadata": {},
     "output_type": "execute_result"
    }
   ],
   "source": [
    "dtnow = dt.datetime.now()\n",
    "dtnow.year, dtnow.month, dtnow.day, dtnow.hour, dtnow.minute, dtnow.second, dtnow.microsecond, dtnow.tzinfo"
   ]
  },
  {
   "cell_type": "markdown",
   "metadata": {},
   "source": [
    "timedelta - duration expressing the difference between two dates"
   ]
  },
  {
   "cell_type": "code",
   "execution_count": null,
   "metadata": {},
   "outputs": [
    {
     "data": {
      "text/plain": [
       "datetime.timedelta(days=100)"
      ]
     },
     "execution_count": 3,
     "metadata": {},
     "output_type": "execute_result"
    }
   ],
   "source": [
    "delta = dt.timedelta(days = 100) # create a timedelta of 100 days\n",
    "delta"
   ]
  },
  {
   "cell_type": "code",
   "execution_count": null,
   "metadata": {},
   "outputs": [
    {
     "data": {
      "text/plain": [
       "datetime.date(2020, 4, 24)"
      ]
     },
     "execution_count": 6,
     "metadata": {},
     "output_type": "execute_result"
    }
   ],
   "source": [
    "dt.date.today() - delta # date 100 days ago"
   ]
  },
  {
   "cell_type": "code",
   "execution_count": null,
   "metadata": {},
   "outputs": [
    {
     "data": {
      "text/plain": [
       "datetime.date(2020, 11, 10)"
      ]
     },
     "execution_count": 7,
     "metadata": {},
     "output_type": "execute_result"
    }
   ],
   "source": [
    "dt.date.today() + delta # date 100 days from now"
   ]
  },
  {
   "cell_type": "markdown",
   "metadata": {},
   "source": [
    "## Functions\n",
    "A function is a rule for taking zero or more inputs and returning a desired output when called.\n",
    "\n",
    "It is a means to allow blocks of code to be called multiple times without having to rewrite them."
   ]
  },
  {
   "cell_type": "code",
   "execution_count": null,
   "metadata": {},
   "outputs": [],
   "source": [
    "def square(x):\n",
    "    \"\"\"docstring - explains what the function does.\n",
    "    this function multiplies its input by itself\"\"\"\n",
    "    return x * x"
   ]
  },
  {
   "cell_type": "code",
   "execution_count": null,
   "metadata": {},
   "outputs": [
    {
     "data": {
      "text/plain": [
       "144"
      ]
     },
     "execution_count": 96,
     "metadata": {},
     "output_type": "execute_result"
    }
   ],
   "source": [
    "\"\"\"Functions are first-class - assign them to variables\n",
    "and pass them into functions like any other arguments\"\"\"\n",
    "def func_in_func(func):\n",
    "    \"\"\"calls the passed function f with 1 as its argument\"\"\"\n",
    "    return func(12)\n",
    "my_func = square        \n",
    "x = func_in_func(my_func)\n",
    "x"
   ]
  },
  {
   "cell_type": "markdown",
   "metadata": {},
   "source": [
    "### Lambda (Anonymous Function)"
   ]
  },
  {
   "cell_type": "code",
   "execution_count": null,
   "metadata": {},
   "outputs": [
    {
     "data": {
      "text/plain": [
       "144"
      ]
     },
     "execution_count": 97,
     "metadata": {},
     "output_type": "execute_result"
    }
   ],
   "source": [
    "y = func_in_func(lambda x: x * x)\n",
    "y"
   ]
  },
  {
   "cell_type": "code",
   "execution_count": null,
   "metadata": {},
   "outputs": [],
   "source": [
    "my_func2 = lambda x: x * x       # don't do this\n",
    "def better_square(x): return x * x    # better practice"
   ]
  },
  {
   "cell_type": "code",
   "execution_count": null,
   "metadata": {},
   "outputs": [],
   "source": [
    "add_first_two = lambda a, b, c : a + b"
   ]
  },
  {
   "cell_type": "code",
   "execution_count": null,
   "metadata": {},
   "outputs": [
    {
     "data": {
      "text/plain": [
       "123"
      ]
     },
     "execution_count": 9,
     "metadata": {},
     "output_type": "execute_result"
    }
   ],
   "source": [
    "add_first_two(100,23, 827632)"
   ]
  },
  {
   "cell_type": "markdown",
   "metadata": {},
   "source": [
    "Lambdas are best used as single line functions that are used once"
   ]
  },
  {
   "cell_type": "code",
   "execution_count": null,
   "metadata": {},
   "outputs": [
    {
     "name": "stdout",
     "output_type": "stream",
     "text": [
      "2\n",
      "4\n",
      "6\n",
      "8\n"
     ]
    }
   ],
   "source": [
    "for item in map(lambda x: x * 2, [1,2,3,4]):\n",
    "    print(item)"
   ]
  },
  {
   "cell_type": "code",
   "execution_count": null,
   "metadata": {},
   "outputs": [
    {
     "name": "stdout",
     "output_type": "stream",
     "text": [
      "2\n",
      "4\n",
      "6\n",
      "8\n"
     ]
    }
   ],
   "source": [
    "def double(x):\n",
    "    return x * 2\n",
    "\n",
    "for item in map(double, [1,2,3,4]):\n",
    "    print (item)"
   ]
  },
  {
   "cell_type": "markdown",
   "metadata": {},
   "source": [
    "### Default Parameters"
   ]
  },
  {
   "cell_type": "code",
   "execution_count": null,
   "metadata": {},
   "outputs": [
    {
     "name": "stdout",
     "output_type": "stream",
     "text": [
      "hello\n",
      "default message\n"
     ]
    }
   ],
   "source": [
    "def my_print(message=\"default message\"):\n",
    "    print (message)\n",
    "    \n",
    "my_print(\"hello\")\n",
    "my_print()"
   ]
  },
  {
   "cell_type": "code",
   "execution_count": null,
   "metadata": {},
   "outputs": [
    {
     "name": "stdout",
     "output_type": "stream",
     "text": [
      "5\n",
      "-5\n",
      "-5\n"
     ]
    }
   ],
   "source": [
    "def subtract(a=0, b=0):\n",
    "    print (a - b)\n",
    "subtract(10, 5)\n",
    "subtract(0, 5)\n",
    "subtract(b=5)"
   ]
  },
  {
   "cell_type": "markdown",
   "metadata": {},
   "source": [
    "Functions can be created to accept optional parameters if they are given default values."
   ]
  },
  {
   "cell_type": "code",
   "execution_count": null,
   "metadata": {},
   "outputs": [
    {
     "name": "stdout",
     "output_type": "stream",
     "text": [
      "3\n",
      "6\n",
      "-4\n",
      "-1\n"
     ]
    }
   ],
   "source": [
    "def add_or_sub(x, y, z=None, add=True):\n",
    "    third = 0\n",
    "    if(z!=None):\n",
    "        third = z\n",
    "        \n",
    "    if (add):\n",
    "        return x + y + third\n",
    "    else:\n",
    "        return x - y - third\n",
    "    \n",
    "print(add_or_sub(1, 2))\n",
    "print(add_or_sub(1, 2, 3))\n",
    "print(add_or_sub(1, 2, 3, False))\n",
    "print(add_or_sub(1, 2, add=False)) #Parameters can be excluded if parameters not in order are indicated"
   ]
  },
  {
   "cell_type": "markdown",
   "metadata": {},
   "source": [
    "## Preset Functions"
   ]
  },
  {
   "cell_type": "markdown",
   "metadata": {},
   "source": [
    "### range()"
   ]
  },
  {
   "cell_type": "markdown",
   "metadata": {},
   "source": [
    "returns list in Python 2"
   ]
  },
  {
   "cell_type": "code",
   "execution_count": null,
   "metadata": {},
   "outputs": [
    {
     "data": {
      "text/plain": [
       "[0, 1, 2, 3, 4, 5, 6, 7, 8, 9]"
      ]
     },
     "execution_count": 16,
     "metadata": {},
     "output_type": "execute_result"
    }
   ],
   "source": [
    "r_lst = list(range(10))\n",
    "r_lst"
   ]
  },
  {
   "cell_type": "markdown",
   "metadata": {},
   "source": [
    "## Exceptions"
   ]
  },
  {
   "cell_type": "code",
   "execution_count": null,
   "metadata": {},
   "outputs": [
    {
     "name": "stdout",
     "output_type": "stream",
     "text": [
      "cannot divide by zero\n"
     ]
    }
   ],
   "source": [
    "\"\"\"exception. Unhandled, errors will cause\n",
    "your program to crash. You can handle them using try and except:\"\"\"\n",
    "try:\n",
    "    print (0 / 0)\n",
    "except ZeroDivisionError:\n",
    "    print (\"cannot divide by zero\")"
   ]
  },
  {
   "cell_type": "markdown",
   "metadata": {},
   "source": [
    "## Tuples\n",
    "\n",
    "Tuples are essentially lists, in that they are a data structure used as a container for multiple Python data elements. The difference, however, is that tuples are immutable, in that they cannot be modified in any way after being declared. They are declared using round brackets () or items separated by commas."
   ]
  },
  {
   "cell_type": "code",
   "execution_count": null,
   "metadata": {},
   "outputs": [
    {
     "data": {
      "text/plain": [
       "(1, 2, 3)"
      ]
     },
     "execution_count": 19,
     "metadata": {},
     "output_type": "execute_result"
    }
   ],
   "source": [
    "tuple_round = (1, 2, 3)\n",
    "tuple_round"
   ]
  },
  {
   "cell_type": "code",
   "execution_count": null,
   "metadata": {},
   "outputs": [
    {
     "name": "stdout",
     "output_type": "stream",
     "text": [
      "<class 'tuple'>\n"
     ]
    }
   ],
   "source": [
    "print(type(tuple_round))"
   ]
  },
  {
   "cell_type": "code",
   "execution_count": null,
   "metadata": {},
   "outputs": [
    {
     "data": {
      "text/plain": [
       "(3, 4, 5)"
      ]
     },
     "execution_count": 99,
     "metadata": {},
     "output_type": "execute_result"
    }
   ],
   "source": [
    "tuple_comma = 3, 4, 5\n",
    "tuple_comma"
   ]
  },
  {
   "cell_type": "code",
   "execution_count": null,
   "metadata": {},
   "outputs": [
    {
     "data": {
      "text/plain": [
       "(2, 23, 'Hello', ['Hi', False])"
      ]
     },
     "execution_count": 100,
     "metadata": {},
     "output_type": "execute_result"
    }
   ],
   "source": [
    "mixed_tuple = (2, 23, \"Hello\", ['Hi', False])\n",
    "mixed_tuple"
   ]
  },
  {
   "cell_type": "code",
   "execution_count": null,
   "metadata": {},
   "outputs": [
    {
     "data": {
      "text/plain": [
       "23"
      ]
     },
     "execution_count": 101,
     "metadata": {},
     "output_type": "execute_result"
    }
   ],
   "source": [
    "mixed_tuple[1]"
   ]
  },
  {
   "cell_type": "code",
   "execution_count": null,
   "metadata": {},
   "outputs": [
    {
     "data": {
      "text/plain": [
       "['Hi', False]"
      ]
     },
     "execution_count": 102,
     "metadata": {},
     "output_type": "execute_result"
    }
   ],
   "source": [
    "mixed_tuple[3]"
   ]
  },
  {
   "cell_type": "code",
   "execution_count": null,
   "metadata": {},
   "outputs": [
    {
     "ename": "TypeError",
     "evalue": "'tuple' object does not support item assignment",
     "output_type": "error",
     "traceback": [
      "\u001b[1;31m---------------------------------------------------------------------------\u001b[0m",
      "\u001b[1;31mTypeError\u001b[0m                                 Traceback (most recent call last)",
      "\u001b[1;32m<ipython-input-103-dce86eec90aa>\u001b[0m in \u001b[0;36m<module>\u001b[1;34m\u001b[0m\n\u001b[1;32m----> 1\u001b[1;33m \u001b[0mmixed_tuple\u001b[0m\u001b[1;33m[\u001b[0m\u001b[1;36m2\u001b[0m\u001b[1;33m]\u001b[0m \u001b[1;33m=\u001b[0m \u001b[1;36m3\u001b[0m\u001b[1;33m\u001b[0m\u001b[1;33m\u001b[0m\u001b[0m\n\u001b[0m",
      "\u001b[1;31mTypeError\u001b[0m: 'tuple' object does not support item assignment"
     ]
    }
   ],
   "source": [
    "mixed_tuple[2] = 3 # Will throw an error since tuples are immutable"
   ]
  },
  {
   "cell_type": "code",
   "execution_count": null,
   "metadata": {},
   "outputs": [
    {
     "name": "stdout",
     "output_type": "stream",
     "text": [
      "cannot modify a tuple\n"
     ]
    }
   ],
   "source": [
    "try:\n",
    "    mixed_tuple[2] = 3\n",
    "except TypeError:\n",
    "    print (\"cannot modify a tuple\")"
   ]
  },
  {
   "cell_type": "code",
   "execution_count": null,
   "metadata": {},
   "outputs": [
    {
     "data": {
      "text/plain": [
       "(25, -5)"
      ]
     },
     "execution_count": 106,
     "metadata": {},
     "output_type": "execute_result"
    }
   ],
   "source": [
    "# Tuples are a convenient way to return multiple values from functions and assign multiple values\n",
    "def sumDifference(a, b):\n",
    "    return (a + b),(a - b)\n",
    "\n",
    "sumDifference(10, 15)"
   ]
  },
  {
   "cell_type": "markdown",
   "metadata": {},
   "source": [
    "Tuples are immutable because they lack some functionality that lists have.\n",
    "\n",
    "As a result, tuples are smaller in size."
   ]
  },
  {
   "cell_type": "code",
   "execution_count": null,
   "metadata": {},
   "outputs": [
    {
     "data": {
      "text/plain": [
       "88"
      ]
     },
     "execution_count": 3,
     "metadata": {},
     "output_type": "execute_result"
    }
   ],
   "source": [
    "from sys import getsizeof # Method used to get size of objects in bytes\n",
    "getsizeof([1,2,3])"
   ]
  },
  {
   "cell_type": "code",
   "execution_count": null,
   "metadata": {},
   "outputs": [
    {
     "data": {
      "text/plain": [
       "72"
      ]
     },
     "execution_count": 2,
     "metadata": {},
     "output_type": "execute_result"
    }
   ],
   "source": [
    "getsizeof((1,2,3))"
   ]
  },
  {
   "cell_type": "code",
   "execution_count": null,
   "metadata": {},
   "outputs": [
    {
     "data": {
      "text/plain": [
       "(15, -5)"
      ]
     },
     "execution_count": 107,
     "metadata": {},
     "output_type": "execute_result"
    }
   ],
   "source": [
    "sums, diff = sumDifference(10, 15)\n",
    "sums, diff"
   ]
  },
  {
   "cell_type": "code",
   "execution_count": null,
   "metadata": {},
   "outputs": [
    {
     "name": "stdout",
     "output_type": "stream",
     "text": [
      "1\n",
      "2\n"
     ]
    }
   ],
   "source": [
    "# multiple variable assignment:\n",
    "a, b = 1, 2\n",
    "\n",
    "print(a)\n",
    "print(b)\n"
   ]
  },
  {
   "cell_type": "code",
   "execution_count": null,
   "metadata": {},
   "outputs": [
    {
     "name": "stdout",
     "output_type": "stream",
     "text": [
      "2\n",
      "1\n"
     ]
    }
   ],
   "source": [
    "# Convenient for swapping\n",
    "a, b = b, a\n",
    "print(a)\n",
    "print(b)"
   ]
  },
  {
   "cell_type": "markdown",
   "metadata": {},
   "source": [
    "## Counter()\n",
    "\n",
    "Counter takes a sequence of values and returns a dictionary with counts of similar items.\n",
    "\n",
    "It is a good function to use when creating histograms"
   ]
  },
  {
   "cell_type": "code",
   "execution_count": null,
   "metadata": {},
   "outputs": [
    {
     "data": {
      "text/plain": [
       "Counter({'Apple': 1, 'Orange': 3, 'Grape': 1, 'Blueberry': 2, 'Mango': 1})"
      ]
     },
     "execution_count": 114,
     "metadata": {},
     "output_type": "execute_result"
    }
   ],
   "source": [
    "from collections import Counter\n",
    "cnt = Counter([\"Apple\", \"Orange\", \"Grape\", \"Blueberry\", \"Orange\", \"Mango\", \"Orange\", \"Blueberry\" ]) \n",
    "cnt"
   ]
  },
  {
   "cell_type": "code",
   "execution_count": null,
   "metadata": {},
   "outputs": [
    {
     "data": {
      "text/plain": [
       "[('Orange', 3)]"
      ]
     },
     "execution_count": 116,
     "metadata": {},
     "output_type": "execute_result"
    }
   ],
   "source": [
    "cnt.most_common(1)"
   ]
  },
  {
   "cell_type": "code",
   "execution_count": null,
   "metadata": {},
   "outputs": [
    {
     "data": {
      "text/plain": [
       "[('Orange', 3), ('Blueberry', 2)]"
      ]
     },
     "execution_count": 117,
     "metadata": {},
     "output_type": "execute_result"
    }
   ],
   "source": [
    "cnt.most_common(2)"
   ]
  },
  {
   "cell_type": "markdown",
   "metadata": {},
   "source": [
    "## Sets"
   ]
  },
  {
   "cell_type": "markdown",
   "metadata": {},
   "source": [
    "A set is a data structure that represents an collection of distinct elements. Items that already exist in the set will not be added again."
   ]
  },
  {
   "cell_type": "code",
   "execution_count": null,
   "metadata": {},
   "outputs": [
    {
     "data": {
      "text/plain": [
       "set()"
      ]
     },
     "execution_count": 122,
     "metadata": {},
     "output_type": "execute_result"
    }
   ],
   "source": [
    "st = set()\n",
    "st"
   ]
  },
  {
   "cell_type": "code",
   "execution_count": null,
   "metadata": {},
   "outputs": [
    {
     "data": {
      "text/plain": [
       "{'Hello'}"
      ]
     },
     "execution_count": 123,
     "metadata": {},
     "output_type": "execute_result"
    }
   ],
   "source": [
    "st.add(\"Hello\")\n",
    "st"
   ]
  },
  {
   "cell_type": "code",
   "execution_count": null,
   "metadata": {},
   "outputs": [
    {
     "data": {
      "text/plain": [
       "{10, 'Hello'}"
      ]
     },
     "execution_count": 124,
     "metadata": {},
     "output_type": "execute_result"
    }
   ],
   "source": [
    "st.add(10)\n",
    "st"
   ]
  },
  {
   "cell_type": "code",
   "execution_count": null,
   "metadata": {},
   "outputs": [
    {
     "data": {
      "text/plain": [
       "{10, 'Hello'}"
      ]
     },
     "execution_count": 125,
     "metadata": {},
     "output_type": "execute_result"
    }
   ],
   "source": [
    "st.add(\"Hello\")\n",
    "st"
   ]
  },
  {
   "cell_type": "code",
   "execution_count": null,
   "metadata": {},
   "outputs": [
    {
     "data": {
      "text/plain": [
       "2"
      ]
     },
     "execution_count": 126,
     "metadata": {},
     "output_type": "execute_result"
    }
   ],
   "source": [
    "len(st)"
   ]
  },
  {
   "cell_type": "markdown",
   "metadata": {},
   "source": [
    "Checking if an element belongs to a set (i.e. membership test) using \"in\" is much faster than a list, even if it's very large"
   ]
  },
  {
   "cell_type": "code",
   "execution_count": null,
   "metadata": {},
   "outputs": [
    {
     "data": {
      "text/plain": [
       "True"
      ]
     },
     "execution_count": 127,
     "metadata": {},
     "output_type": "execute_result"
    }
   ],
   "source": [
    "10 in st"
   ]
  },
  {
   "cell_type": "markdown",
   "metadata": {},
   "source": [
    "sets are good for getting all distinct elements in a list"
   ]
  },
  {
   "cell_type": "code",
   "execution_count": null,
   "metadata": {},
   "outputs": [
    {
     "data": {
      "text/plain": [
       "['b', 'y', 'z', 'c', 'a', 'q', 'j', 'd']"
      ]
     },
     "execution_count": 129,
     "metadata": {},
     "output_type": "execute_result"
    }
   ],
   "source": [
    "alpha_lst = ['a','b','c','a','d','j','b','y','a','z','z','q','a','a']\n",
    "alpha_set = set(alpha_lst)\n",
    "alpha_lst = list(alpha_set)\n",
    "\n",
    "alpha_lst\n"
   ]
  },
  {
   "cell_type": "markdown",
   "metadata": {},
   "source": [
    "## Control Flow"
   ]
  },
  {
   "cell_type": "markdown",
   "metadata": {},
   "source": [
    "if statement. In Python, there are no brackets. Colons and whitespace determine statements"
   ]
  },
  {
   "cell_type": "code",
   "execution_count": null,
   "metadata": {},
   "outputs": [],
   "source": [
    "x = 2\n",
    "if x > 5:\n",
    "    print (\"greater than five\")\n",
    "elif  x < 5: #else if. if the above condition doesn't apply, try this (as many can be added)\n",
    "    print(\"less than five\")\n",
    "else: #otherwise\n",
    "    print(\"must be five\")"
   ]
  },
  {
   "cell_type": "markdown",
   "metadata": {},
   "source": [
    "ternary operator. if-then-else on one line"
   ]
  },
  {
   "cell_type": "code",
   "execution_count": null,
   "metadata": {},
   "outputs": [
    {
     "data": {
      "text/plain": [
       "'greater or equal to 5'"
      ]
     },
     "execution_count": 131,
     "metadata": {},
     "output_type": "execute_result"
    }
   ],
   "source": [
    "\"greater or equal to 5\" if x > 5 else \"less than 5\""
   ]
  },
  {
   "cell_type": "markdown",
   "metadata": {},
   "source": [
    "while loop (Be careful of infinite loops)"
   ]
  },
  {
   "cell_type": "code",
   "execution_count": null,
   "metadata": {},
   "outputs": [
    {
     "name": "stdout",
     "output_type": "stream",
     "text": [
      "0\n",
      "2\n",
      "4\n",
      "6\n",
      "8\n",
      "10\n",
      "12\n",
      "14\n",
      "16\n",
      "18\n",
      "20\n"
     ]
    }
   ],
   "source": [
    "x = 0\n",
    "while x <= 20:\n",
    "    print (x)\n",
    "    x += 2"
   ]
  },
  {
   "cell_type": "markdown",
   "metadata": {},
   "source": [
    "for loop. Very different from conventiional for loops. Similar to foreach loops"
   ]
  },
  {
   "cell_type": "code",
   "execution_count": null,
   "metadata": {},
   "outputs": [
    {
     "name": "stdout",
     "output_type": "stream",
     "text": [
      "0\n",
      "1\n",
      "2\n",
      "3\n",
      "4\n",
      "5\n",
      "6\n",
      "7\n",
      "8\n",
      "9\n"
     ]
    }
   ],
   "source": [
    "for i in range(10): #loop in range 0 to 9 where i is the index\n",
    "    print (i)\n"
   ]
  },
  {
   "cell_type": "code",
   "execution_count": null,
   "metadata": {},
   "outputs": [
    {
     "name": "stdout",
     "output_type": "stream",
     "text": [
      "Hello\n",
      "0\n",
      "19\n",
      "True\n",
      "['Up', 'Down']\n"
     ]
    }
   ],
   "source": [
    "# looping through data structures\n",
    "\n",
    "lst = ['Hello', 0, 19, True, [\"Up\", \"Down\"]]\n",
    "\n",
    "for ele in lst:\n",
    "    print (ele)\n"
   ]
  },
  {
   "cell_type": "markdown",
   "metadata": {},
   "source": [
    "break - quit loop entirely\n",
    "continue - go to next loop iteration"
   ]
  },
  {
   "cell_type": "code",
   "execution_count": null,
   "metadata": {},
   "outputs": [
    {
     "name": "stdout",
     "output_type": "stream",
     "text": [
      "0\n",
      "1\n",
      "2\n",
      "3\n",
      "4\n",
      "6\n",
      "7\n",
      "8\n",
      "9\n",
      "10\n"
     ]
    }
   ],
   "source": [
    "for i in range(100):\n",
    "    if i == 5:\n",
    "        continue\n",
    "    if i == 11:\n",
    "        break\n",
    "    print(i)\n",
    "    \n",
    "#skip 5, quit at 10"
   ]
  },
  {
   "cell_type": "markdown",
   "metadata": {},
   "source": [
    "## Booleans\n",
    "\n",
    "Conditions will return either \"True\" or \"False\" . Non existent values are given \"None\" (like \"NULL\" in other languages)"
   ]
  },
  {
   "cell_type": "code",
   "execution_count": null,
   "metadata": {},
   "outputs": [
    {
     "data": {
      "text/plain": [
       "True"
      ]
     },
     "execution_count": 144,
     "metadata": {},
     "output_type": "execute_result"
    }
   ],
   "source": [
    "10 < 100"
   ]
  },
  {
   "cell_type": "code",
   "execution_count": null,
   "metadata": {},
   "outputs": [
    {
     "data": {
      "text/plain": [
       "False"
      ]
     },
     "execution_count": 145,
     "metadata": {},
     "output_type": "execute_result"
    }
   ],
   "source": [
    "True == False"
   ]
  },
  {
   "cell_type": "code",
   "execution_count": null,
   "metadata": {},
   "outputs": [
    {
     "data": {
      "text/plain": [
       "True"
      ]
     },
     "execution_count": 156,
     "metadata": {},
     "output_type": "execute_result"
    }
   ],
   "source": [
    "False == False"
   ]
  },
  {
   "cell_type": "code",
   "execution_count": null,
   "metadata": {},
   "outputs": [
    {
     "data": {
      "text/plain": [
       "False"
      ]
     },
     "execution_count": 155,
     "metadata": {},
     "output_type": "execute_result"
    }
   ],
   "source": [
    "False > True"
   ]
  },
  {
   "cell_type": "code",
   "execution_count": null,
   "metadata": {},
   "outputs": [],
   "source": [
    "na = None\n",
    "na"
   ]
  },
  {
   "cell_type": "code",
   "execution_count": null,
   "metadata": {},
   "outputs": [
    {
     "data": {
      "text/plain": [
       "True"
      ]
     },
     "execution_count": 152,
     "metadata": {},
     "output_type": "execute_result"
    }
   ],
   "source": [
    "na == None"
   ]
  },
  {
   "cell_type": "code",
   "execution_count": null,
   "metadata": {},
   "outputs": [
    {
     "data": {
      "text/plain": [
       "True"
      ]
     },
     "execution_count": 153,
     "metadata": {},
     "output_type": "execute_result"
    }
   ],
   "source": [
    "na is None"
   ]
  },
  {
   "cell_type": "markdown",
   "metadata": {},
   "source": [
    "is - same object\n",
    "== - equal value"
   ]
  },
  {
   "cell_type": "code",
   "execution_count": null,
   "metadata": {},
   "outputs": [],
   "source": [
    "if 0:\n",
    "    print(\"Hello\")"
   ]
  },
  {
   "cell_type": "code",
   "execution_count": null,
   "metadata": {},
   "outputs": [
    {
     "name": "stdout",
     "output_type": "stream",
     "text": [
      "Hello\n"
     ]
    }
   ],
   "source": [
    "if 1: print(\"Hello\")"
   ]
  },
  {
   "cell_type": "markdown",
   "metadata": {},
   "source": [
    "Treated as False:\n",
    "    \n",
    "False\n",
    "None\n",
    "[] (an empty list)\n",
    "{} (an empty dict)\n",
    "\"\"\n",
    "set()\n",
    "0\n",
    "0.0\n",
    "\n",
    "Anything else gets treated as True. \n",
    "\n",
    "This allows if state‐\n",
    "ments to test for empty lists, strings, dictionaries, etc. "
   ]
  },
  {
   "cell_type": "code",
   "execution_count": null,
   "metadata": {},
   "outputs": [
    {
     "data": {
      "text/plain": [
       "False"
      ]
     },
     "execution_count": 162,
     "metadata": {},
     "output_type": "execute_result"
    }
   ],
   "source": [
    "True and False"
   ]
  },
  {
   "cell_type": "code",
   "execution_count": null,
   "metadata": {},
   "outputs": [
    {
     "data": {
      "text/plain": [
       "True"
      ]
     },
     "execution_count": 163,
     "metadata": {},
     "output_type": "execute_result"
    }
   ],
   "source": [
    "True or False"
   ]
  },
  {
   "cell_type": "code",
   "execution_count": null,
   "metadata": {},
   "outputs": [
    {
     "data": {
      "text/plain": [
       "False"
      ]
     },
     "execution_count": 164,
     "metadata": {},
     "output_type": "execute_result"
    }
   ],
   "source": [
    "# all() - for all elements, return True if all True or of true value\n",
    "all([True, 100, \"\"])"
   ]
  },
  {
   "cell_type": "code",
   "execution_count": null,
   "metadata": {},
   "outputs": [
    {
     "data": {
      "text/plain": [
       "True"
      ]
     },
     "execution_count": 166,
     "metadata": {},
     "output_type": "execute_result"
    }
   ],
   "source": [
    "all([True, 100, \"Hello\"])"
   ]
  },
  {
   "cell_type": "code",
   "execution_count": null,
   "metadata": {},
   "outputs": [
    {
     "data": {
      "text/plain": [
       "True"
      ]
     },
     "execution_count": 167,
     "metadata": {},
     "output_type": "execute_result"
    }
   ],
   "source": [
    "#any() - if there exists one True or something of True Value, return True\n",
    "\n",
    "any([\"\", (), [], None, 1])"
   ]
  },
  {
   "cell_type": "code",
   "execution_count": null,
   "metadata": {},
   "outputs": [
    {
     "data": {
      "text/plain": [
       "False"
      ]
     },
     "execution_count": 168,
     "metadata": {},
     "output_type": "execute_result"
    }
   ],
   "source": [
    "any([\"\", (), [], None, 0])"
   ]
  },
  {
   "cell_type": "markdown",
   "metadata": {},
   "source": [
    "## stdin and stdout\n",
    "\n",
    "sys.argv is the list of command-line arguments\n",
    "sys.argv[0] is the name of the program itself\n",
    "sys.argv[1] is a parameter supplied in the command line"
   ]
  },
  {
   "cell_type": "markdown",
   "metadata": {},
   "source": [
    "Also allows for data to be piped through Python command line\n",
    "\n",
    "I have a file called textEval.txt\n",
    "\n",
    "Which contains the text:\n",
    "\n",
    "Hello! If Horse had 10 apples  \n",
    "and Zebra has 15,  \n",
    "how many apples are there total?  \n",
    "Zz  \n",
    "zz  \n",
    "a  \n",
    "g  \n",
    "4  \n",
    "1  \n",
    "Z  \n",
    "z  \n",
    "t  \n",
    "g  \n",
    "K  \n",
    "\\#  \n",
    "5  "
   ]
  },
  {
   "cell_type": "code",
   "execution_count": null,
   "metadata": {},
   "outputs": [],
   "source": [
    "The | is the pipe character, which means “use the output of the left command as the input of the right command.” You can build pretty elaborate data-processing pipelines\n",
    "this way.\n",
    "In Windows, you would use:\n",
    "type SomeFile.txt | python file1.py <arguments> | python file2.py <arguments> | ....\n",
    "In a Unix system you would use:\n",
    "cat SomeFile.txt | python file1.py <arguments> | python file2.py <arguments> | ....\n"
   ]
  },
  {
   "cell_type": "markdown",
   "metadata": {},
   "source": [
    "This file takes a regular expression argument and returns the lines in the input that contain that expression"
   ]
  },
  {
   "cell_type": "code",
   "execution_count": null,
   "metadata": {},
   "outputs": [],
   "source": [
    "# regex.py\n",
    "import sys, re\n",
    "\n",
    "regex = sys.argv[1]\n",
    "# for every line passed into the script\n",
    "for line in sys.stdin:\n",
    "    # if it matches the regex, write it to stdout\n",
    "    if re.search(regex, line):\n",
    "        sys.stdout.write(line)"
   ]
  },
  {
   "cell_type": "markdown",
   "metadata": {},
   "source": [
    "This file counts the number of lines in the input"
   ]
  },
  {
   "cell_type": "code",
   "execution_count": null,
   "metadata": {},
   "outputs": [],
   "source": [
    "# lineCnt.py\n",
    "import sys\n",
    "count = 0\n",
    "for line in sys.stdin:\n",
    "    count += 1\n",
    "# print goes to sys.stdout\n",
    "print count"
   ]
  },
  {
   "cell_type": "markdown",
   "metadata": {},
   "source": [
    "\n",
    "Looks for lines with numbers then returns a count\n",
    "type textEval.txt | python regex.py \"[0-9]\" | python lineCnt.py\n",
    "5\n",
    "\n",
    "Looks for lines with the capital Z then returns a count\n",
    "type textEval.txt | python regex.py \"Z\" | python lineCnt.py\n",
    "3\n",
    "\n",
    "Returns lines that have a capital Z\n",
    "type textEval.txt | python regex.py \"Z\"\n",
    "and Zebra has 15,\n",
    "Zz\n",
    "Z\n",
    "\n",
    "Returns lines with numbers\n",
    "type textEval.txt | python regex.py \"[0-9]\"\n",
    "Hello! If Horse had 10 apples\n",
    "and Zebra has 15,\n",
    "4\n",
    "1\n",
    "5"
   ]
  },
  {
   "cell_type": "markdown",
   "metadata": {},
   "source": [
    "## Text File Objects"
   ]
  },
  {
   "cell_type": "code",
   "execution_count": null,
   "metadata": {},
   "outputs": [],
   "source": [
    "# 'r' - read-only\n",
    "file_for_reading = open('reading_file.txt', 'r')\n",
    "\n",
    "# 'w' - write (will overwrite the file if it already exists)\n",
    "file_for_writing = open('writing_file.txt', 'w')\n",
    "\n",
    "# 'a' - append (for adding to the end of an existing file)\n",
    "file_for_appending = open('appending_file.txt', 'a')\n",
    "\n",
    "# closing files when you're done\n",
    "file_for_writing.close()\n",
    "\n",
    "# Get file data then close\n",
    "with open('file.txt','r') as f:\n",
    "    data = function_that_gets_data_from(f)\n",
    "# f has been closed\n",
    "process(data)\n",
    "\n",
    "# Closes after interating each line\n",
    "starts_with_hash = 0\n",
    "with open('file.txt','r') as f:\n",
    "    for line in f:                  # look at each line in the file\n",
    "        print(line)\n"
   ]
  },
  {
   "cell_type": "markdown",
   "metadata": {},
   "source": [
    "## Reading CSV Files\n",
    "\n"
   ]
  },
  {
   "cell_type": "code",
   "execution_count": null,
   "metadata": {},
   "outputs": [
    {
     "name": "stdout",
     "output_type": "stream",
     "text": [
      "name birth_date gender\n",
      "Bob 1/2/2001 M\n",
      "Jane 3/4/2009 F\n",
      "Kyle 2/12/1999 M\n"
     ]
    }
   ],
   "source": [
    "import csv\n",
    "with open('customers.csv', 'r') as f:\n",
    "    reader = csv.reader(f, delimiter=',')\n",
    "    for row in reader:\n",
    "        print(row[0], row[1], row[2])\n"
   ]
  },
  {
   "cell_type": "code",
   "execution_count": null,
   "metadata": {},
   "outputs": [
    {
     "name": "stdout",
     "output_type": "stream",
     "text": [
      "Jack ['pizza', 'movies']\n",
      "Bill ['Long Walks']\n"
     ]
    }
   ],
   "source": [
    "with open('likesDict.txt', 'r') as f:\n",
    "    reader = csv.DictReader(f, delimiter=':')\n",
    "    for row in reader:\n",
    "        print(row[\"name\"], row[\"likes\"])\n",
    "        \n",
    "# reader.next() to skip if no headers"
   ]
  },
  {
   "cell_type": "code",
   "execution_count": null,
   "metadata": {},
   "outputs": [
    {
     "name": "stdout",
     "output_type": "stream",
     "text": [
      "Jack ['pizza', 'movies']\n",
      "Bill ['Long Walks']\n",
      "Jack ['pizza', 'movies']\n",
      "Bill ['Long Walks']\n"
     ]
    }
   ],
   "source": [
    "newLikes = { 'Jack' : [\"pizza\", \"movies\"], \"Bill\" : [\"Long Walks\"]}\n",
    "with open('likesDict.txt','a') as f:\n",
    "    writer = csv.writer(f, delimiter=':')\n",
    "    for name, likes in newLikes.items():\n",
    "        writer.writerow([name, likes])\n",
    "        \n",
    "with open('likesDict.txt', 'r') as f:\n",
    "    reader = csv.DictReader(f, delimiter=':')\n",
    "    for row in reader:\n",
    "        print(row[\"name\"], row[\"likes\"])"
   ]
  },
  {
   "cell_type": "markdown",
   "metadata": {},
   "source": []
  },
  {
   "cell_type": "code",
   "execution_count": null,
   "metadata": {},
   "outputs": [
    {
     "data": {
      "text/plain": [
       "['__add__',\n",
       " '__class__',\n",
       " '__contains__',\n",
       " '__delattr__',\n",
       " '__delitem__',\n",
       " '__dir__',\n",
       " '__doc__',\n",
       " '__eq__',\n",
       " '__format__',\n",
       " '__ge__',\n",
       " '__getattribute__',\n",
       " '__getitem__',\n",
       " '__gt__',\n",
       " '__hash__',\n",
       " '__iadd__',\n",
       " '__imul__',\n",
       " '__init__',\n",
       " '__init_subclass__',\n",
       " '__iter__',\n",
       " '__le__',\n",
       " '__len__',\n",
       " '__lt__',\n",
       " '__mul__',\n",
       " '__ne__',\n",
       " '__new__',\n",
       " '__reduce__',\n",
       " '__reduce_ex__',\n",
       " '__repr__',\n",
       " '__reversed__',\n",
       " '__rmul__',\n",
       " '__setattr__',\n",
       " '__setitem__',\n",
       " '__sizeof__',\n",
       " '__str__',\n",
       " '__subclasshook__',\n",
       " 'append',\n",
       " 'clear',\n",
       " 'copy',\n",
       " 'count',\n",
       " 'extend',\n",
       " 'index',\n",
       " 'insert',\n",
       " 'pop',\n",
       " 'remove',\n",
       " 'reverse',\n",
       " 'sort']"
      ]
     },
     "execution_count": 1,
     "metadata": {},
     "output_type": "execute_result"
    }
   ],
   "source": [
    "dir(list)"
   ]
  },
  {
   "cell_type": "code",
   "execution_count": null,
   "metadata": {},
   "outputs": [
    {
     "name": "stdout",
     "output_type": "stream",
     "text": [
      "Help on class list in module builtins:\n",
      "\n",
      "class list(object)\n",
      " |  list(iterable=(), /)\n",
      " |  \n",
      " |  Built-in mutable sequence.\n",
      " |  \n",
      " |  If no argument is given, the constructor creates a new empty list.\n",
      " |  The argument must be an iterable if specified.\n",
      " |  \n",
      " |  Methods defined here:\n",
      " |  \n",
      " |  __add__(self, value, /)\n",
      " |      Return self+value.\n",
      " |  \n",
      " |  __contains__(self, key, /)\n",
      " |      Return key in self.\n",
      " |  \n",
      " |  __delitem__(self, key, /)\n",
      " |      Delete self[key].\n",
      " |  \n",
      " |  __eq__(self, value, /)\n",
      " |      Return self==value.\n",
      " |  \n",
      " |  __ge__(self, value, /)\n",
      " |      Return self>=value.\n",
      " |  \n",
      " |  __getattribute__(self, name, /)\n",
      " |      Return getattr(self, name).\n",
      " |  \n",
      " |  __getitem__(...)\n",
      " |      x.__getitem__(y) <==> x[y]\n",
      " |  \n",
      " |  __gt__(self, value, /)\n",
      " |      Return self>value.\n",
      " |  \n",
      " |  __iadd__(self, value, /)\n",
      " |      Implement self+=value.\n",
      " |  \n",
      " |  __imul__(self, value, /)\n",
      " |      Implement self*=value.\n",
      " |  \n",
      " |  __init__(self, /, *args, **kwargs)\n",
      " |      Initialize self.  See help(type(self)) for accurate signature.\n",
      " |  \n",
      " |  __iter__(self, /)\n",
      " |      Implement iter(self).\n",
      " |  \n",
      " |  __le__(self, value, /)\n",
      " |      Return self<=value.\n",
      " |  \n",
      " |  __len__(self, /)\n",
      " |      Return len(self).\n",
      " |  \n",
      " |  __lt__(self, value, /)\n",
      " |      Return self<value.\n",
      " |  \n",
      " |  __mul__(self, value, /)\n",
      " |      Return self*value.\n",
      " |  \n",
      " |  __ne__(self, value, /)\n",
      " |      Return self!=value.\n",
      " |  \n",
      " |  __repr__(self, /)\n",
      " |      Return repr(self).\n",
      " |  \n",
      " |  __reversed__(self, /)\n",
      " |      Return a reverse iterator over the list.\n",
      " |  \n",
      " |  __rmul__(self, value, /)\n",
      " |      Return value*self.\n",
      " |  \n",
      " |  __setitem__(self, key, value, /)\n",
      " |      Set self[key] to value.\n",
      " |  \n",
      " |  __sizeof__(self, /)\n",
      " |      Return the size of the list in memory, in bytes.\n",
      " |  \n",
      " |  append(self, object, /)\n",
      " |      Append object to the end of the list.\n",
      " |  \n",
      " |  clear(self, /)\n",
      " |      Remove all items from list.\n",
      " |  \n",
      " |  copy(self, /)\n",
      " |      Return a shallow copy of the list.\n",
      " |  \n",
      " |  count(self, value, /)\n",
      " |      Return number of occurrences of value.\n",
      " |  \n",
      " |  extend(self, iterable, /)\n",
      " |      Extend list by appending elements from the iterable.\n",
      " |  \n",
      " |  index(self, value, start=0, stop=9223372036854775807, /)\n",
      " |      Return first index of value.\n",
      " |      \n",
      " |      Raises ValueError if the value is not present.\n",
      " |  \n",
      " |  insert(self, index, object, /)\n",
      " |      Insert object before index.\n",
      " |  \n",
      " |  pop(self, index=-1, /)\n",
      " |      Remove and return item at index (default last).\n",
      " |      \n",
      " |      Raises IndexError if list is empty or index is out of range.\n",
      " |  \n",
      " |  remove(self, value, /)\n",
      " |      Remove first occurrence of value.\n",
      " |      \n",
      " |      Raises ValueError if the value is not present.\n",
      " |  \n",
      " |  reverse(self, /)\n",
      " |      Reverse *IN PLACE*.\n",
      " |  \n",
      " |  sort(self, /, *, key=None, reverse=False)\n",
      " |      Stable sort *IN PLACE*.\n",
      " |  \n",
      " |  ----------------------------------------------------------------------\n",
      " |  Static methods defined here:\n",
      " |  \n",
      " |  __new__(*args, **kwargs) from builtins.type\n",
      " |      Create and return a new object.  See help(type) for accurate signature.\n",
      " |  \n",
      " |  ----------------------------------------------------------------------\n",
      " |  Data and other attributes defined here:\n",
      " |  \n",
      " |  __hash__ = None\n",
      "\n"
     ]
    }
   ],
   "source": [
    "help(list)"
   ]
  },
  {
   "cell_type": "code",
   "execution_count": null,
   "metadata": {},
   "outputs": [
    {
     "name": "stdout",
     "output_type": "stream",
     "text": [
      "Help on method_descriptor:\n",
      "\n",
      "count(self, value, /)\n",
      "    Return number of occurrences of value.\n",
      "\n"
     ]
    }
   ],
   "source": [
    "help(list.count)"
   ]
  },
  {
   "cell_type": "code",
   "execution_count": null,
   "metadata": {},
   "outputs": [
    {
     "data": {
      "text/plain": [
       "['__call__',\n",
       " '__class__',\n",
       " '__delattr__',\n",
       " '__dir__',\n",
       " '__doc__',\n",
       " '__eq__',\n",
       " '__format__',\n",
       " '__ge__',\n",
       " '__get__',\n",
       " '__getattribute__',\n",
       " '__gt__',\n",
       " '__hash__',\n",
       " '__init__',\n",
       " '__init_subclass__',\n",
       " '__le__',\n",
       " '__lt__',\n",
       " '__name__',\n",
       " '__ne__',\n",
       " '__new__',\n",
       " '__objclass__',\n",
       " '__qualname__',\n",
       " '__reduce__',\n",
       " '__reduce_ex__',\n",
       " '__repr__',\n",
       " '__setattr__',\n",
       " '__sizeof__',\n",
       " '__str__',\n",
       " '__subclasshook__',\n",
       " '__text_signature__']"
      ]
     },
     "execution_count": 5,
     "metadata": {},
     "output_type": "execute_result"
    }
   ],
   "source": [
    "dir(list.count)"
   ]
  },
  {
   "cell_type": "code",
   "execution_count": null,
   "metadata": {},
   "outputs": [
    {
     "data": {
      "text/plain": [
       "['ArithmeticError',\n",
       " 'AssertionError',\n",
       " 'AttributeError',\n",
       " 'BaseException',\n",
       " 'BlockingIOError',\n",
       " 'BrokenPipeError',\n",
       " 'BufferError',\n",
       " 'BytesWarning',\n",
       " 'ChildProcessError',\n",
       " 'ConnectionAbortedError',\n",
       " 'ConnectionError',\n",
       " 'ConnectionRefusedError',\n",
       " 'ConnectionResetError',\n",
       " 'DeprecationWarning',\n",
       " 'EOFError',\n",
       " 'Ellipsis',\n",
       " 'EnvironmentError',\n",
       " 'Exception',\n",
       " 'False',\n",
       " 'FileExistsError',\n",
       " 'FileNotFoundError',\n",
       " 'FloatingPointError',\n",
       " 'FutureWarning',\n",
       " 'GeneratorExit',\n",
       " 'IOError',\n",
       " 'ImportError',\n",
       " 'ImportWarning',\n",
       " 'IndentationError',\n",
       " 'IndexError',\n",
       " 'InterruptedError',\n",
       " 'IsADirectoryError',\n",
       " 'KeyError',\n",
       " 'KeyboardInterrupt',\n",
       " 'LookupError',\n",
       " 'MemoryError',\n",
       " 'ModuleNotFoundError',\n",
       " 'NameError',\n",
       " 'None',\n",
       " 'NotADirectoryError',\n",
       " 'NotImplemented',\n",
       " 'NotImplementedError',\n",
       " 'OSError',\n",
       " 'OverflowError',\n",
       " 'PendingDeprecationWarning',\n",
       " 'PermissionError',\n",
       " 'ProcessLookupError',\n",
       " 'RecursionError',\n",
       " 'ReferenceError',\n",
       " 'ResourceWarning',\n",
       " 'RuntimeError',\n",
       " 'RuntimeWarning',\n",
       " 'StopAsyncIteration',\n",
       " 'StopIteration',\n",
       " 'SyntaxError',\n",
       " 'SyntaxWarning',\n",
       " 'SystemError',\n",
       " 'SystemExit',\n",
       " 'TabError',\n",
       " 'TimeoutError',\n",
       " 'True',\n",
       " 'TypeError',\n",
       " 'UnboundLocalError',\n",
       " 'UnicodeDecodeError',\n",
       " 'UnicodeEncodeError',\n",
       " 'UnicodeError',\n",
       " 'UnicodeTranslateError',\n",
       " 'UnicodeWarning',\n",
       " 'UserWarning',\n",
       " 'ValueError',\n",
       " 'Warning',\n",
       " 'WindowsError',\n",
       " 'ZeroDivisionError',\n",
       " '__IPYTHON__',\n",
       " '__build_class__',\n",
       " '__debug__',\n",
       " '__doc__',\n",
       " '__import__',\n",
       " '__loader__',\n",
       " '__name__',\n",
       " '__package__',\n",
       " '__spec__',\n",
       " 'abs',\n",
       " 'all',\n",
       " 'any',\n",
       " 'ascii',\n",
       " 'bin',\n",
       " 'bool',\n",
       " 'breakpoint',\n",
       " 'bytearray',\n",
       " 'bytes',\n",
       " 'callable',\n",
       " 'chr',\n",
       " 'classmethod',\n",
       " 'compile',\n",
       " 'complex',\n",
       " 'copyright',\n",
       " 'credits',\n",
       " 'delattr',\n",
       " 'dict',\n",
       " 'dir',\n",
       " 'display',\n",
       " 'divmod',\n",
       " 'enumerate',\n",
       " 'eval',\n",
       " 'exec',\n",
       " 'filter',\n",
       " 'float',\n",
       " 'format',\n",
       " 'frozenset',\n",
       " 'get_ipython',\n",
       " 'getattr',\n",
       " 'globals',\n",
       " 'hasattr',\n",
       " 'hash',\n",
       " 'help',\n",
       " 'hex',\n",
       " 'id',\n",
       " 'input',\n",
       " 'int',\n",
       " 'isinstance',\n",
       " 'issubclass',\n",
       " 'iter',\n",
       " 'len',\n",
       " 'license',\n",
       " 'list',\n",
       " 'locals',\n",
       " 'map',\n",
       " 'max',\n",
       " 'memoryview',\n",
       " 'min',\n",
       " 'next',\n",
       " 'object',\n",
       " 'oct',\n",
       " 'open',\n",
       " 'ord',\n",
       " 'pow',\n",
       " 'print',\n",
       " 'property',\n",
       " 'range',\n",
       " 'repr',\n",
       " 'reversed',\n",
       " 'round',\n",
       " 'set',\n",
       " 'setattr',\n",
       " 'slice',\n",
       " 'sorted',\n",
       " 'staticmethod',\n",
       " 'str',\n",
       " 'sum',\n",
       " 'super',\n",
       " 'tuple',\n",
       " 'type',\n",
       " 'vars',\n",
       " 'zip']"
      ]
     },
     "execution_count": 6,
     "metadata": {},
     "output_type": "execute_result"
    }
   ],
   "source": [
    "dir(__builtins__) #builtin Python functions"
   ]
  },
  {
   "cell_type": "code",
   "execution_count": null,
   "metadata": {},
   "outputs": [
    {
     "name": "stdout",
     "output_type": "stream",
     "text": [
      "Help on method_descriptor:\n",
      "\n",
      "index(self, value, start=0, stop=9223372036854775807, /)\n",
      "    Return first index of value.\n",
      "    \n",
      "    Raises ValueError if the value is not present.\n",
      "\n"
     ]
    }
   ],
   "source": [
    "help(list.index)"
   ]
  },
  {
   "cell_type": "code",
   "execution_count": null,
   "metadata": {},
   "outputs": [],
   "source": [
    "25 >= temperature >= 15:"
   ]
  },
  {
   "cell_type": "code",
   "execution_count": null,
   "metadata": {},
   "outputs": [],
   "source": [
    "inpt = input(\"Enter Value:\") # displays string and takes user input in prompt; stores value in varialbe"
   ]
  },
  {
   "cell_type": "code",
   "execution_count": null,
   "metadata": {},
   "outputs": [],
   "source": [
    "strng = \"There\"\n",
    "pref = \"sir\""
   ]
  },
  {
   "cell_type": "code",
   "execution_count": null,
   "metadata": {},
   "outputs": [
    {
     "name": "stdout",
     "output_type": "stream",
     "text": [
      "Hello There\n"
     ]
    }
   ],
   "source": [
    "print(\"Hello %s\" % strng)"
   ]
  },
  {
   "cell_type": "code",
   "execution_count": null,
   "metadata": {},
   "outputs": [
    {
     "name": "stdout",
     "output_type": "stream",
     "text": [
      "Hello There, sir\n"
     ]
    }
   ],
   "source": [
    "print(\"Hello %s, %s\" % (strng, pref))"
   ]
  },
  {
   "cell_type": "code",
   "execution_count": null,
   "metadata": {},
   "outputs": [
    {
     "name": "stdout",
     "output_type": "stream",
     "text": [
      "Hello There, sir\n"
     ]
    }
   ],
   "source": [
    "print(f\"Hello {strng}, {pref}\")"
   ]
  },
  {
   "cell_type": "code",
   "execution_count": null,
   "metadata": {},
   "outputs": [],
   "source": []
  }
 ],
 "metadata": {
  "kernelspec": {
   "display_name": "Python 3 (ipykernel)",
   "language": "python",
   "name": "python3"
  },
  "language_info": {
   "codemirror_mode": {
    "name": "ipython",
    "version": 3
   },
   "file_extension": ".py",
   "mimetype": "text/x-python",
   "name": "python",
   "nbconvert_exporter": "python",
   "pygments_lexer": "ipython3",
   "version": "3.9.13"
  }
 },
 "nbformat": 4,
 "nbformat_minor": 2
}
