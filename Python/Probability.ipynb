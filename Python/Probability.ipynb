{
 "cells": [
  {
   "cell_type": "markdown",
   "metadata": {},
   "source": [
    "# Probability"
   ]
  },
  {
   "cell_type": "markdown",
   "metadata": {},
   "source": [
    "Two common examples used to demostrate probability is the tossing of a coin or the roll of a die.\n",
    "\n",
    "A coin has two sides, heads and tails, each with a 50%, 1/2 or .5 chance of landing on either side when flipped\n",
    "\n",
    "A die (plural dice) has six sides. Therefore, there is about a 16.67%, 1/6 or .1667 chance of landing on a specific number 1 to 6.\n",
    "\n",
    "Let P(E) be the probability of event E.\n",
    "\n",
    "Let's say we want to find probability that rolling a die will land on 5.  \n",
    "\n",
    "Therefore, P(E) = 1/6 "
   ]
  },
  {
   "cell_type": "markdown",
   "metadata": {},
   "source": [
    "## Independence\n",
    "\n",
    "Two events E and F are dependent if knowing something about whether E happens gives us information about whether F happens and\n",
    "vice versa.\n",
    "\n",
    "If this does not apply they are considered independent.\n",
    "\n",
    "Two events E and F are independent if the probability that they both happen is the product of the probabilities that each one happens. Events are independednt when the outcome of the first event has no impact on events that occur after \n",
    "\n",
    "This is expressed as:\n",
    "\n",
    "P(E, F) = P(E) * P(F)\n",
    "\n",
    "Let's consider the event that flipping a coin will land on Heads as H and the event that flipping a coin will land on Tails as T\n",
    "\n",
    "For example, if we decide flip a coin twice, we want to find the probability that it will land on Heads both times. Since in this case the first flip does not depend on the second flip, they are independent. Therefore, the probability the coin will land on Heads twice is:\n",
    "\n",
    "P(H1, H2) = P(H1) * P(H2) = 1/2 * 1/2 = 1/4 = 25%\n",
    "\n",
    "It is similar in the case that we want the probability of the first flip landing on Tails and the second landing on Heads since these flips are also independent:\n",
    "\n",
    "P(T, H) = P(T) * P(H) = 1/2 * 1/2 = 1/4 = 25%\n",
    "\n"
   ]
  },
  {
   "cell_type": "markdown",
   "metadata": {},
   "source": [
    "## Conditional Probability\n",
    "\n",
    "If an event E is dependent on another event F, then we define the probability of E “conditional on F” as:\n",
    "\n",
    "P(E|F) = P (E, F)/P(F)\n",
    "\n",
    "if P(F) is not 0\n",
    "\n",
    "This is often notated as the probability that E happens, given that we know that F happens.\n",
    "\n",
    "\n",
    "\n",
    "For example, let's say we want to know the probability a randomly selected person is female, given that they own a pet.\n",
    "\n",
    "Let's say we know the probability of owning a pet, labeled P(O) is 0.86\n",
    "\n",
    "Also, let's say we know the probability of being female and owning a pet labeled P(F, O) is 0.41\n",
    "\n",
    "Then  P(F | O) = P(F, O)/P(O) = 0.41/0.86 = 0.4767 = 47.67%\n",
    "\n",
    "\n",
    "It can also be rewritten as:\n",
    "\n",
    "P(E, F)= P (E | F) P (F)\n",
    "\n",
    "Which is good when we already know P(E | F)\n",
    "\n",
    "When E and F are independent this gives:\n",
    "P (E | F) = P (E)\n",
    "\n",
    "Let's say in our previous coin example, we want to know the probability that the second flip will be heads given that the first one is Tails.\n",
    "\n",
    "We would write:\n",
    "\n",
    "P(H | T) = P(H, T)/P(T)\n",
    "\n",
    "Since we know P(H) and P(T) = 0.5 and P(H, T) = .25 from our previous question\n",
    "\n",
    "P(H | T) = .25/.5 = .5\n",
    "\n",
    "Therefore P(H | T) = .5 = P(H) since the coin flips are independent"
   ]
  },
  {
   "cell_type": "markdown",
   "metadata": {},
   "source": [
    "## Bayes's Theorem\n",
    "\n",
    "Bayes's Theorem is a formula that essentially finds an unknown conditional probability based on its known reverse conditional probability.\n",
    "(i.e. Finding P(A|B) knowing P(B|A))\n",
    "\n",
    "The definition of conditional probability twice tells us:\n",
    "\n",
    "$$ P(A|B) = \\frac{P(A, B)}{P(B)} = \\frac{P(B|A)P(A)}{P(B)} $$\n",
    "\n",
    "This notation is often used but it can be expanded further\n",
    "\n",
    "The event B can be split into the two mutually exclusive events \"B and A\" and \"B and not A.\" Not A can be written as ¬A (i.e., \"A doesn't happen\"):\n",
    "\n",
    "$$ P(B) = P (B, A) + P (B, ¬A) = P(B|A)P(A) + P(B|¬A)P(¬A)$$\n",
    "\n",
    "Creating the most often stated version of Bayes's Theorem:\n",
    "\n",
    "$$ P(A|B) = \\frac{P(B|A)P(A)}{P(B|A)P(A) + P(B|¬A)P(¬A)}$$\n"
   ]
  }
 ],
 "metadata": {
  "kernelspec": {
   "display_name": "Python 3",
   "language": "python",
   "name": "python3"
  },
  "language_info": {
   "codemirror_mode": {
    "name": "ipython",
    "version": 3
   },
   "file_extension": ".py",
   "mimetype": "text/x-python",
   "name": "python",
   "nbconvert_exporter": "python",
   "pygments_lexer": "ipython3",
   "version": "3.7.3"
  }
 },
 "nbformat": 4,
 "nbformat_minor": 2
}
