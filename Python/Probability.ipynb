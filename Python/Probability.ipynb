{
 "cells": [
  {
   "cell_type": "markdown",
   "metadata": {},
   "source": [
    "# Probability"
   ]
  },
  {
   "cell_type": "markdown",
   "metadata": {},
   "source": [
    "Two common examples used to demostrate probability is the tossing of a coin or the roll of a die.\n",
    "\n",
    "A coin has two sides, heads and tails, each with a 50%, 1/2 or .5 chance of landing on either side when flipped\n",
    "\n",
    "A die (plural dice) has six sides. Therefore, there is about a 16.67%, 1/6 or .1667 chance of landing on a specific number 1 to 6.\n",
    "\n",
    "Let P(E) be the probability of event E.\n",
    "\n",
    "Let's say we want to find probability that rolling a die will land on 5.  \n",
    "\n",
    "Therefore, P(E) = 1/6 "
   ]
  },
  {
   "cell_type": "markdown",
   "metadata": {},
   "source": [
    "## Independence\n",
    "\n",
    "Two events E and F are dependent if knowing something about whether E happens gives us information about whether F happens and\n",
    "vice versa.\n",
    "\n",
    "If this does not apply they are considered independent.\n",
    "\n",
    "Two events E and F are independent if the probability that they both happen is the product of the probabilities that each one happens. This is expressed as:\n",
    "\n",
    "P(E, F) = P(E) * P(F)\n",
    "\n",
    "Let's consider the event that flipping a coin will land on Heads as H and the event that flipping a coin will land on Tails as T\n",
    "\n",
    "For example, if we decide flip a coin twice, we want to find the probability that it will land on Heads both times. Since in this case the first flip does not depend on the second flip, they are independent. Therefore, the probability the coin will land on Heads twice is:\n",
    "\n",
    "P(H, H) = P(H) * P(H) = 1/2 * 1/2 = 1/4 = 25%\n",
    "\n",
    "It is similar in the case that we want the probability of the first flip landing on Tails and the second landing on Heads since these flips are also independent:\n",
    "\n",
    "P(T, H) = P(T) * P(H) = 1/2 * 1/2 = 1/4 = 25%"
   ]
  }
 ],
 "metadata": {
  "kernelspec": {
   "display_name": "Python 3",
   "language": "python",
   "name": "python3"
  },
  "language_info": {
   "codemirror_mode": {
    "name": "ipython",
    "version": 3
   },
   "file_extension": ".py",
   "mimetype": "text/x-python",
   "name": "python",
   "nbconvert_exporter": "python",
   "pygments_lexer": "ipython3",
   "version": "3.7.3"
  }
 },
 "nbformat": 4,
 "nbformat_minor": 2
}
