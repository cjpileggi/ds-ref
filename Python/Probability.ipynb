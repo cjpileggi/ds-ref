{
 "cells": [
  {
   "cell_type": "markdown",
   "metadata": {},
   "source": [
    "# Probability"
   ]
  },
  {
   "cell_type": "markdown",
   "metadata": {},
   "source": [
    "Two common examples used to demostrate probability is the tossing of a coin or the roll of a die.\n",
    "\n",
    "A coin has two sides, heads and tails, each with a 50%, 1/2 or .5 chance of landing on either side when flipped\n",
    "\n",
    "A die (plural dice) has six sides. Therefore, there is about a 16.67%, 1/6 or .1667 chance of landing on a specific number 1 to 6.\n",
    "\n",
    "Let P(E) be the probability of event E.\n",
    "\n",
    "Let's say we want to find probability that rolling a die will land on 5.  \n",
    "\n",
    "Therefore, P(E) = 1/6 "
   ]
  },
  {
   "cell_type": "markdown",
   "metadata": {},
   "source": [
    "## Independence\n",
    "\n",
    "Two events E and F are dependent if knowing something about whether E happens gives us information about whether F happens and\n",
    "vice versa.\n",
    "\n",
    "If this does not apply they are considered independent.\n",
    "\n",
    "Two events E and F are independent if the probability that they both happen is the product of the probabilities that each one happens. Events are independednt when the outcome of the first event has no impact on events that occur after \n",
    "\n",
    "This is expressed as:\n",
    "\n",
    "P(E, F) = P(E) * P(F)\n",
    "\n",
    "Let's consider the event that flipping a coin will land on Heads as H and the event that flipping a coin will land on Tails as T\n",
    "\n",
    "For example, if we decide flip a coin twice, we want to find the probability that it will land on Heads both times. Since in this case the first flip does not depend on the second flip, they are independent. Therefore, the probability the coin will land on Heads twice is:\n",
    "\n",
    "P(H1, H2) = P(H1) * P(H2) = 1/2 * 1/2 = 1/4 = 25%\n",
    "\n",
    "It is similar in the case that we want the probability of the first flip landing on Tails and the second landing on Heads since these flips are also independent:\n",
    "\n",
    "P(T, H) = P(T) * P(H) = 1/2 * 1/2 = 1/4 = 25%\n",
    "\n"
   ]
  },
  {
   "cell_type": "markdown",
   "metadata": {},
   "source": [
    "## Conditional Probability\n",
    "\n",
    "If an event E is dependent on another event F, then we define the probability of E “conditional on F” as:\n",
    "\n",
    "P(E|F) = P (E, F)/P(F)\n",
    "\n",
    "if P(F) is not 0\n",
    "\n",
    "This is often notated as the probability that E happens, given that we know that F happens.\n",
    "\n",
    "\n",
    "\n",
    "For example, let's say we want to know the probability a randomly selected person is female, given that they own a pet.\n",
    "\n",
    "Let's say we know the probability of owning a pet, labeled P(O) is 0.86\n",
    "\n",
    "Also, let's say we know the probability of being female and owning a pet labeled P(F, O) is 0.41\n",
    "\n",
    "Then  P(F | O) = P(F, O)/P(O) = 0.41/0.86 = 0.4767 = 47.67%\n",
    "\n",
    "\n",
    "It can also be rewritten as:\n",
    "\n",
    "P(E, F)= P (E | F) P (F)\n",
    "\n",
    "Which is good when we already know P(E | F)\n",
    "\n",
    "When E and F are independent this gives:\n",
    "P (E | F) = P (E)\n",
    "\n",
    "Let's say in our previous coin example, we want to know the probability that the second flip will be heads given that the first one is Tails.\n",
    "\n",
    "We would write:\n",
    "\n",
    "P(H | T) = P(H, T)/P(T)\n",
    "\n",
    "Since we know P(H) and P(T) = 0.5 and P(H, T) = .25 from our previous question\n",
    "\n",
    "P(H | T) = .25/.5 = .5\n",
    "\n",
    "Therefore P(H | T) = .5 = P(H) since the coin flips are independent"
   ]
  },
  {
   "cell_type": "code",
   "execution_count": null,
   "metadata": {},
   "outputs": [],
   "source": [
    "\"\"\"\"One of the data scientist’s best friends is Bayes’s Theorem, which is a way of “revers‐\n",
    "ing” conditional probabilities. Let’s say we need to know the probability of some event\n",
    "E conditional on some other event F occurring. But we only have information about\n",
    "the probability of F conditional on E occurring. Using the definition of conditional\n",
    "probability twice tells us that:\n",
    "P E | F = P (E, F) /P (F) = P (F | E) P (E) /P (F)\n",
    "The event F can be split into the two mutually exclusive events “F and E” and “F and\n",
    "not E.” If we write\n",
    "¬E\n",
    " for “not E” (i.e., “E doesn’t happen”), then:\n",
    "P (F) = P (F, E) + P (F, ¬E)\n",
    "so that:\n",
    "P (E | F) = P F | E P (E) / [P F | E P (E) + P (F |¬E) P (¬E)]\n",
    "which is how Bayes’s Theorem is often stated.\"\"\"\n"
   ]
  },
  {
   "cell_type": "code",
   "execution_count": 4,
   "metadata": {},
   "outputs": [
    {
     "data": {
      "text/plain": [
       "'A random variable is a variable whose possible values have an associated probability\\ndistribution. A very simple random variable equals 1 if a coin flip turns up heads and\\n0 if the flip turns up tails. A more complicated one might measure the number of\\nheads observed when flipping a coin 10 times or a value picked from range(10)\\nwhere each number is equally likely.\\nWe will sometimes talk about the expected value of a random variable, which is the\\naverage of its values weighted by their probabilities. The coin flip variable has an\\nexpected value of 1/2 (= 0 * 1/2 + 1 * 1/2), and the range(10) variable has an\\nexpected value of 4.5.\\n\\n'"
      ]
     },
     "execution_count": 4,
     "metadata": {},
     "output_type": "execute_result"
    }
   ],
   "source": [
    "\"\"\"A random variable is a variable whose possible values have an associated probability\n",
    "distribution. A very simple random variable equals 1 if a coin flip turns up heads and\n",
    "0 if the flip turns up tails. A more complicated one might measure the number of\n",
    "heads observed when flipping a coin 10 times or a value picked from range(10)\n",
    "where each number is equally likely.\n",
    "We will sometimes talk about the expected value of a random variable, which is the\n",
    "average of its values weighted by their probabilities. The coin flip variable has an\n",
    "expected value of 1/2 (= 0 * 1/2 + 1 * 1/2), and the range(10) variable has an\n",
    "expected value of 4.5.\n",
    "\n",
    "\"\"\"\n"
   ]
  },
  {
   "cell_type": "code",
   "execution_count": 5,
   "metadata": {},
   "outputs": [
    {
     "data": {
      "text/plain": [
       "'The probability that a random variable following that distribution is between 0.2 and\\n0.3 is 1/10, as you’d expect. Python’s random.random() is a [pseudo]random variable\\nwith a uniform density.'"
      ]
     },
     "execution_count": 5,
     "metadata": {},
     "output_type": "execute_result"
    }
   ],
   "source": [
    "\"\"\"A coin flip corresponds to a discrete distribution—one that associates positive proba‐\n",
    "bility with discrete outcomes. Often we’ll want to model distributions across a contin‐\n",
    "uum of outcomes. (For our purposes, these outcomes will always be real numbers,\n",
    "although that’s not always the case in real life.) For example, the uniform distribution\n",
    "puts equal weight on all the numbers between 0 and 1.\n",
    "Because there are infinitely many numbers between 0 and 1, this means that the\n",
    "weight it assigns to individual points must necessarily be zero. For this reason, we\n",
    "represent a continuous distribution with a probability density function (pdf) such that\n",
    "the probability of seeing a value in a certain interval equals the integral of the density\n",
    "function over the interval.\"\"\"\n",
    "\n",
    "\"\"\"The density function for the uniform distribution is just:\"\"\"\n",
    "def uniform_pdf(x):\n",
    "    return 1 if x >= 0 and x < 1 else 0\n",
    "\"\"\"The probability that a random variable following that distribution is between 0.2 and\n",
    "0.3 is 1/10, as you’d expect. Python’s random.random() is a [pseudo]random variable\n",
    "with a uniform density.\"\"\"\n"
   ]
  },
  {
   "cell_type": "code",
   "execution_count": 6,
   "metadata": {},
   "outputs": [],
   "source": [
    "\"\"\"We will often be more interested in the cumulative distribution function (cdf), which\n",
    "gives the probability that a random variable is less than or equal to a certain value. It’s\n",
    "not hard to create the cumulative distribution function for the uniform distribution\"\"\"\n",
    "def uniform_cdf(x):\n",
    "    \"returns the probability that a uniform random variable is <= x\"\n",
    "    if x < 0:   return 0    # uniform random is never less than 0\n",
    "    elif x < 1: return x    # e.g. P(X <= 0.4) = 0.4\n",
    "    else:       return 1    # uniform random is always less than 1"
   ]
  },
  {
   "cell_type": "code",
   "execution_count": 7,
   "metadata": {},
   "outputs": [],
   "source": [
    "\"\"\"The Normal Distribution\n",
    "The normal distribution is the king of distributions. It is the classic bell curve–shaped\n",
    "distribution and is completely determined by two parameters: its mean\n",
    "μ\n",
    " (mu) and its\n",
    "standard deviation\n",
    "σ\n",
    " (sigma). The mean indicates where the bell is centered, and the\n",
    "standard deviation how “wide” it is.\n",
    "It has the probability density function:\n",
    "f\n",
    "x μ, σ =\n",
    "1\n",
    "2πσ\n",
    "exp −\n",
    "which we can implement as:\n",
    "x − μ\n",
    "2σ\n",
    "2\n",
    "2\"\"\" #accurate formula in latex\n",
    "def normal_pdf(x, mu=0, sigma=1):\n",
    "    sqrt_two_pi = math.sqrt(2 * math.pi)\n",
    "    return (math.exp(-(x-mu) ** 2 / 2 / sigma ** 2) / (sqrt_two_pi * sigma))"
   ]
  },
  {
   "cell_type": "code",
   "execution_count": 10,
   "metadata": {},
   "outputs": [
    {
     "data": {
      "image/png": "[encoded data removed]",
      "text/plain": [
       "<Figure size 432x288 with 1 Axes>"
      ]
     },
     "metadata": {
      "needs_background": "light"
     },
     "output_type": "display_data"
    }
   ],
   "source": [
    "import matplotlib.pyplot as plt\n",
    "import math\n",
    "%matplotlib inline\n",
    "xs = [x / 10.0 for x in range(-50, 50)]\n",
    "plt.plot(xs,[normal_pdf(x,sigma=1) for x in xs],'-',label='mu=0,sigma=1')\n",
    "plt.plot(xs,[normal_pdf(x,sigma=2) for x in xs],'--',label='mu=0,sigma=2')\n",
    "plt.plot(xs,[normal_pdf(x,sigma=0.5) for x in xs],':',label='mu=0,sigma=0.5')\n",
    "plt.plot(xs,[normal_pdf(x,mu=-1)   for x in xs],'-.',label='mu=-1,sigma=1')\n",
    "plt.legend()\n",
    "plt.title(\"Various Normal pdfs\")\n",
    "plt.show()"
   ]
  },
  {
   "cell_type": "markdown",
   "metadata": {},
   "source": [
    "When\n",
    "μ = 0\n",
    " and\n",
    "σ = 1\n",
    ", it’s called the standard normal distribution. If Z is a standard\n",
    "normal random variable, then it turns out that:\n",
    "X = σZ + μ\n",
    "is also normal but with mean\n",
    "μ\n",
    " and standard deviation\n",
    "σ\n",
    ". Conversely, if X is a normal\n",
    "random variable with mean\n",
    "μ\n",
    " and standard deviation\n",
    "σ\n",
    ",\n",
    "Z =\n",
    "X − μ /σ\n",
    "is a standard normal variable."
   ]
  },
  {
   "cell_type": "code",
   "execution_count": 11,
   "metadata": {},
   "outputs": [
    {
     "data": {
      "image/png": "[encoded data removed]",
      "text/plain": [
       "<Figure size 432x288 with 1 Axes>"
      ]
     },
     "metadata": {
      "needs_background": "light"
     },
     "output_type": "display_data"
    }
   ],
   "source": [
    "\"\"\"The cumulative distribution function for the normal distribution cannot be written in\n",
    "an “elementary” manner, but we can write it using Python’s math.erf:\"\"\"\n",
    "def normal_cdf(x, mu=0,sigma=1):\n",
    "    return (1 + math.erf((x - mu) / math.sqrt(2) / sigma)) / 2\n",
    "\n",
    "xs = [x / 10.0 for x in range(-50, 50)]\n",
    "plt.plot(xs,[normal_cdf(x,sigma=1) for x in xs],'-',label='mu=0,sigma=1')\n",
    "plt.plot(xs,[normal_cdf(x,sigma=2) for x in xs],'--',label='mu=0,sigma=2')\n",
    "plt.plot(xs,[normal_cdf(x,sigma=0.5) for x in xs],':',label='mu=0,sigma=0.5')\n",
    "plt.plot(xs,[normal_cdf(x,mu=-1) for x in xs],'-.',label='mu=-1,sigma=1')\n",
    "plt.legend(loc=4) # bottom right\n",
    "plt.title(\"Various Normal cdfs\")\n",
    "plt.show()"
   ]
  },
  {
   "cell_type": "code",
   "execution_count": 12,
   "metadata": {},
   "outputs": [
    {
     "data": {
      "text/plain": [
       "'The function repeatedly bisects intervals until it narrows in on a Z that’s close enough\\nto the desired probability.'"
      ]
     },
     "execution_count": 12,
     "metadata": {},
     "output_type": "execute_result"
    }
   ],
   "source": [
    "\"\"\"Sometimes we’ll need to invert normal_cdf to find the value corresponding to a\n",
    "specified probability. There’s no simple way to compute its inverse, but normal_cdf is \n",
    "continuous and strictly increasing, so we can use a binary search:\"\"\"\n",
    "def inverse_normal_cdf(p, mu=0, sigma=1, tolerance=0.00001):\n",
    "    \"\"\"find approximate inverse using binary search\"\"\"\n",
    "    # if not standard, compute standard and rescale\n",
    "    if mu != 0 or sigma != 1:\n",
    "        return mu + sigma * inverse_normal_cdf(p, tolerance=tolerance)\n",
    "    low_z = -10.0                      # normal_cdf(-10) is (very close to) 0\n",
    "    hi_z  =  10.0                      # normal_cdf(10)  is (very close to) 1\n",
    "    while hi_z - low_z > tolerance:\n",
    "        mid_z = (low_z + hi_z) / 2     # consider the midpoint\n",
    "        mid_p = normal_cdf(mid_z)      # and the cdf's value there\n",
    "        if mid_p < p:\n",
    "            # midpoint is still too low, search above it\n",
    "            low_z = mid_z\n",
    "        elif mid_p > p:\n",
    "            # midpoint is still too high, search below it\n",
    "            hi_z = mid_z\n",
    "        else:\n",
    "            break\n",
    "    return mid_z\n",
    "\"\"\"The function repeatedly bisects intervals until it narrows in on a Z that’s close enough\n",
    "to the desired probability.\"\"\"\n",
    "\n"
   ]
  },
  {
   "cell_type": "markdown",
   "metadata": {},
   "source": [
    "One reason the normal distribution is so useful is the central limit theorem, which\n",
    "says (in essence) that a random variable defined as the average of a large number of\n",
    "independent and identically distributed random variables is itself approximately nor‐\n",
    "mally distributed.\n",
    "In particular, if\n",
    "x\n",
    "1\n",
    ", ..., x\n",
    " are random variables with mean\n",
    "μ\n",
    " and standard deviation\n",
    "σ\n",
    ",\n",
    "and if n is large, then:\n",
    "1\n",
    "n\n",
    "x\n",
    "1\n",
    "+ ... + x\n",
    "n\n",
    "\n",
    "is approximately normally distributed with mean\n",
    "μ\n",
    " and standard deviation\n",
    "σ/ n\n",
    ".\n",
    "Equivalently (but often more usefully),\n",
    "x\n",
    "1\n",
    "+ ... + x\n",
    "− μn\n",
    "σ\n",
    "n\n",
    "n\n",
    "is approximately normally distributed with mean 0 and standard deviation 1.\n",
    "An easy way to illustrate this is by looking at binomial random variables, which have\n",
    "two parameters n and p. A Binomial(n,p) random variable is simply the sum of nis approximately normally distributed with mean\n",
    "μ\n",
    " and standard deviation\n",
    "σ/ n\n",
    ".\n",
    "Equivalently (but often more usefully),\n",
    "x\n",
    "1\n",
    "+ ... + x\n",
    "− μn\n",
    "σ\n",
    "n\n",
    "n\n",
    "is approximately normally distributed with mean 0 and standard deviation 1.\n",
    "An easy way to illustrate this is by looking at binomial random variables, which have\n",
    "two parameters n and p. A Binomial(n,p) random variable is simply the sum of n independent Bernoulli(p) random variables, each of which equals 1 with probability p\n",
    "and 0 with probability\n",
    "1 − p\n",
    ":"
   ]
  },
  {
   "cell_type": "code",
   "execution_count": 13,
   "metadata": {},
   "outputs": [
    {
     "data": {
      "text/plain": [
       "'The mean of a Bernoulli(p) variable is p, and its standard deviation is\\np 1 − p\\n. The\\ncentral limit theorem says that as n gets large, a Binomial(n,p) variable is approxi‐\\nmately a normal random variable with mean\\nμ = np\\n and standard deviation\\nσ = np 1 − p\\n. If we plot both, you can easily see the resemblance:'"
      ]
     },
     "execution_count": 13,
     "metadata": {},
     "output_type": "execute_result"
    }
   ],
   "source": [
    "def bernoulli_trial(p):\n",
    "    return 1 if random.random() < p else 0\n",
    "def binomial(n, p):\n",
    "    return sum(bernoulli_trial(p) for _ in range(n))\n",
    "\n",
    "\"\"\"The mean of a Bernoulli(p) variable is p, and its standard deviation is\n",
    "p 1 − p\n",
    ". The\n",
    "central limit theorem says that as n gets large, a Binomial(n,p) variable is approxi‐\n",
    "mately a normal random variable with mean\n",
    "μ = np\n",
    " and standard deviation\n",
    "σ = np 1 − p\n",
    ". If we plot both, you can easily see the resemblance:\"\"\"\n",
    "\n"
   ]
  },
  {
   "cell_type": "code",
   "execution_count": 16,
   "metadata": {},
   "outputs": [
    {
     "data": {
      "image/png": "[encoded data removed]",
      "text/plain": [
       "<Figure size 432x288 with 1 Axes>"
      ]
     },
     "metadata": {
      "needs_background": "light"
     },
     "output_type": "display_data"
    }
   ],
   "source": [
    "import random\n",
    "from collections import Counter\n",
    "def make_hist(p, n, num_points):\n",
    "    data = [binomial(n, p) for _ in range(num_points)]\n",
    "    # use a bar chart to show the actual binomial samples\n",
    "    histogram = Counter(data)\n",
    "    plt.bar([x - 0.4 for x in histogram.keys()],\n",
    "            [v / num_points for v in histogram.values()],\n",
    "            0.8,\n",
    "            color='0.75')\n",
    "    mu = p * n\n",
    "    sigma = math.sqrt(n * p * (1 - p))\n",
    "    # use a line chart to show the normal approximation\n",
    "    xs = range(min(data), max(data) + 1)\n",
    "    ys = [normal_cdf(i + 0.5, mu, sigma) - normal_cdf(i - 0.5, mu, sigma)\n",
    "          for i in xs]\n",
    "    plt.plot(xs,ys)\n",
    "    plt.title(\"Binomial Distribution vs. Normal Approximation\")\n",
    "    plt.show()\n",
    "    \n",
    "make_hist(0.75, 100, 10000)"
   ]
  },
  {
   "cell_type": "code",
   "execution_count": 17,
   "metadata": {},
   "outputs": [
    {
     "data": {
      "text/plain": [
       "'The moral of this approximation is that if you want to know the probability that (say)\\na fair coin turns up more than 60 heads in 100 flips, you can estimate it as the proba‐\\nbility that a Normal(50,5) is greater than 60, which is easier than computing the Bino‐\\nmial(100,0.5) cdf. (Although in most applications you’d probably be using statistical\\nsoftware that would gladly compute whatever probabilities you want.)'"
      ]
     },
     "execution_count": 17,
     "metadata": {},
     "output_type": "execute_result"
    }
   ],
   "source": [
    "\"\"\"The moral of this approximation is that if you want to know the probability that (say)\n",
    "a fair coin turns up more than 60 heads in 100 flips, you can estimate it as the proba‐\n",
    "bility that a Normal(50,5) is greater than 60, which is easier than computing the Bino‐\n",
    "mial(100,0.5) cdf. (Although in most applications you’d probably be using statistical\n",
    "software that would gladly compute whatever probabilities you want.)\"\"\""
   ]
  },
  {
   "cell_type": "code",
   "execution_count": null,
   "metadata": {},
   "outputs": [],
   "source": []
  }
 ],
 "metadata": {
  "kernelspec": {
   "display_name": "Python 3",
   "language": "python",
   "name": "python3"
  },
  "language_info": {
   "codemirror_mode": {
    "name": "ipython",
    "version": 3
   },
   "file_extension": ".py",
   "mimetype": "text/x-python",
   "name": "python",
   "nbconvert_exporter": "python",
   "pygments_lexer": "ipython3",
   "version": "3.7.3"
  }
 },
 "nbformat": 4,
 "nbformat_minor": 2
}
