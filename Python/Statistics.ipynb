{
 "cells": [
  {
   "cell_type": "code",
   "execution_count": 43,
   "metadata": {},
   "outputs": [],
   "source": [
    "import numpy as np\n",
    "import math\n",
    "import random as rn\n",
    "data = [np.random.randint(10, 21) for _ in range(50)]\n",
    "data.extend([np.random.randint(20, 31) for _ in range(100)])\n",
    "data.extend([np.random.randint(30, 41) for _ in range(125)])\n",
    "data.extend([np.random.randint(40, 51) for _ in range(150)])\n",
    "data.extend([np.random.randint(50, 61) for _ in range(175)])\n",
    "data.extend([np.random.randint(60, 71) for _ in range(200)])\n",
    "data.extend([np.random.randint(70, 81) for _ in range(250)])\n",
    "data.extend([np.random.randint(80, 91) for _ in range(150)])\n",
    "data.extend([np.random.randint(90, 101) for _ in range(100)])\n",
    "data.extend([np.random.randint(100, 111) for _ in range(75)])\n",
    "data.extend([np.random.randint(110, 121) for _ in range(5)])\n",
    "data.extend([np.random.randint(160, 171) for _ in range(3)])\n",
    "\n",
    "data = [x // 10 * 10 for x in data]\n"
   ]
  },
  {
   "cell_type": "code",
   "execution_count": 44,
   "metadata": {},
   "outputs": [
    {
     "data": {
      "image/png": "[encoded data removed]",
      "text/plain": [
       "<Figure size 432x288 with 1 Axes>"
      ]
     },
     "metadata": {
      "needs_background": "light"
     },
     "output_type": "display_data"
    }
   ],
   "source": [
    "from collections import Counter\n",
    "import matplotlib.pyplot as plt\n",
    "%matplotlib inline\n",
    "\n",
    "\n",
    "tree_counts = Counter(data)\n",
    "x = [x for x in tree_counts.keys()]\n",
    "y = [tree_counts[x] for x in x]\n",
    "plt.bar(x, y, width=8)\n",
    "plt.axis([0, 200, 0, 250])\n",
    "plt.title(\"Tree Heights\")\n",
    "plt.xlabel(\"Height (ft)\")\n",
    "plt.ylabel(\"# of Trees\")\n",
    "plt.show()"
   ]
  },
  {
   "cell_type": "markdown",
   "metadata": {},
   "source": [
    "Functions to get information on our data"
   ]
  },
  {
   "cell_type": "code",
   "execution_count": 45,
   "metadata": {},
   "outputs": [
    {
     "data": {
      "text/plain": [
       "(1383, 160, 10)"
      ]
     },
     "execution_count": 45,
     "metadata": {},
     "output_type": "execute_result"
    }
   ],
   "source": [
    "num_points = len(data)    # Number of data in list\n",
    "largest_value = max(data) # Maximum data value in list\n",
    "smallest_value = min(data)# Minimum data value in list\n",
    "num_points, largest_value, smallest_value"
   ]
  },
  {
   "cell_type": "markdown",
   "metadata": {},
   "source": [
    "With sorted data"
   ]
  },
  {
   "cell_type": "code",
   "execution_count": 46,
   "metadata": {},
   "outputs": [],
   "source": [
    "sorted_data = sorted(data)"
   ]
  },
  {
   "cell_type": "code",
   "execution_count": 48,
   "metadata": {},
   "outputs": [
    {
     "data": {
      "text/plain": [
       "(10, 160)"
      ]
     },
     "execution_count": 48,
     "metadata": {},
     "output_type": "execute_result"
    }
   ],
   "source": [
    "smallest_value = sorted_data[0]       \n",
    "largest_value = sorted_data[-1]\n",
    "smallest_value, largest_value"
   ]
  },
  {
   "cell_type": "markdown",
   "metadata": {},
   "source": [
    "## Mean\n",
    "\n",
    "The mean (or average) of a collection of data is a calculated central value of the data.\n",
    "\n",
    "It is calculated by adding all the values of a collection of data and dividing that value by the number of data elements\n",
    "\n",
    "\"\"\"If\n",
    "we have n data points and one of them increases by some small amount e, then neces‐\n",
    "sarily the mean will increase by e / n. (This makes the mean amenable to all sorts of\n",
    "calculus tricks.) \"\"\""
   ]
  },
  {
   "cell_type": "code",
   "execution_count": 49,
   "metadata": {},
   "outputs": [],
   "source": [
    "def mean(x):\n",
    "    return sum(x) / len(x) #  from __future__ import division must be added for this to work in Python 2"
   ]
  },
  {
   "cell_type": "code",
   "execution_count": 50,
   "metadata": {},
   "outputs": [
    {
     "data": {
      "text/plain": [
       "58.79248011569053"
      ]
     },
     "execution_count": 50,
     "metadata": {},
     "output_type": "execute_result"
    }
   ],
   "source": [
    "mean(data)"
   ]
  },
  {
   "cell_type": "markdown",
   "metadata": {},
   "source": [
    "This indicates that the average tree grows approximately 58 feet\n",
    "\n",
    "If additional pieces of data are added to the collection, it is easy to recalculate the mean without involving the previous data points.\n",
    "\n",
    "If a collection has n data points, the mean is sum(n) / n\n",
    "\n",
    "If we add k more data points to the collection, the mean becomes "
   ]
  },
  {
   "cell_type": "code",
   "execution_count": 56,
   "metadata": {},
   "outputs": [],
   "source": [
    "more_data = [250, 200, 150, 100]\n",
    "\n",
    "extended_data = data.copy\n",
    "\n",
    "extended_data.extend(more_data)"
   ]
  },
  {
   "cell_type": "code",
   "execution_count": 57,
   "metadata": {},
   "outputs": [
    {
     "data": {
      "text/plain": [
       "59.168458781362006"
      ]
     },
     "execution_count": 57,
     "metadata": {},
     "output_type": "execute_result"
    }
   ],
   "source": [
    "mean(extended_data)"
   ]
  },
  {
   "cell_type": "code",
   "execution_count": 58,
   "metadata": {},
   "outputs": [
    {
     "data": {
      "text/plain": [
       "59.168458781362006"
      ]
     },
     "execution_count": 58,
     "metadata": {},
     "output_type": "execute_result"
    }
   ],
   "source": [
    "sum(data)/len(data)"
   ]
  }
 ],
 "metadata": {
  "kernelspec": {
   "display_name": "Python 3",
   "language": "python",
   "name": "python3"
  },
  "language_info": {
   "codemirror_mode": {
    "name": "ipython",
    "version": 3
   },
   "file_extension": ".py",
   "mimetype": "text/x-python",
   "name": "python",
   "nbconvert_exporter": "python",
   "pygments_lexer": "ipython3",
   "version": "3.7.3"
  }
 },
 "nbformat": 4,
 "nbformat_minor": 2
}
