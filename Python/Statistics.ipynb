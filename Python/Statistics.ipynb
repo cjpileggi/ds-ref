{
 "cells": [
  {
   "cell_type": "code",
   "execution_count": 2,
   "metadata": {},
   "outputs": [],
   "source": [
    "import numpy as np\n",
    "import math\n",
    "import random as rn\n",
    "data = [np.random.randint(10, 21) for _ in range(50)]\n",
    "data.extend([np.random.randint(20, 31) for _ in range(100)])\n",
    "data.extend([np.random.randint(30, 41) for _ in range(125)])\n",
    "data.extend([np.random.randint(40, 51) for _ in range(150)])\n",
    "data.extend([np.random.randint(50, 61) for _ in range(175)])\n",
    "data.extend([np.random.randint(60, 71) for _ in range(200)])\n",
    "data.extend([np.random.randint(70, 81) for _ in range(250)])\n",
    "data.extend([np.random.randint(80, 91) for _ in range(150)])\n",
    "data.extend([np.random.randint(90, 101) for _ in range(100)])\n",
    "data.extend([np.random.randint(100, 111) for _ in range(75)])\n",
    "data.extend([np.random.randint(110, 121) for _ in range(5)])\n",
    "data.extend([np.random.randint(160, 171) for _ in range(3)])\n",
    "\n",
    "data = [x // 10 * 10 for x in data]\n"
   ]
  },
  {
   "cell_type": "code",
   "execution_count": 3,
   "metadata": {},
   "outputs": [
    {
     "data": {
      "image/png": "[encoded data removed]",
      "text/plain": [
       "<Figure size 432x288 with 1 Axes>"
      ]
     },
     "metadata": {
      "needs_background": "light"
     },
     "output_type": "display_data"
    }
   ],
   "source": [
    "from collections import Counter\n",
    "import matplotlib.pyplot as plt\n",
    "%matplotlib inline\n",
    "\n",
    "\n",
    "tree_counts = Counter(data)\n",
    "x = [x for x in tree_counts.keys()]\n",
    "y = [tree_counts[x] for x in x]\n",
    "plt.bar(x, y, width=8)\n",
    "plt.axis([0, 200, 0, 250])\n",
    "plt.title(\"Tree Heights\")\n",
    "plt.xlabel(\"Height (ft)\")\n",
    "plt.ylabel(\"# of Trees\")\n",
    "plt.show()"
   ]
  },
  {
   "cell_type": "markdown",
   "metadata": {},
   "source": [
    "Functions to get information on our data"
   ]
  },
  {
   "cell_type": "code",
   "execution_count": 2,
   "metadata": {},
   "outputs": [
    {
     "data": {
      "text/plain": [
       "(1383, 160, 10)"
      ]
     },
     "execution_count": 2,
     "metadata": {},
     "output_type": "execute_result"
    }
   ],
   "source": [
    "num_points = len(data)    # Number of data in list\n",
    "largest_value = max(data) # Maximum data value in list\n",
    "smallest_value = min(data)# Minimum data value in list\n",
    "num_points, largest_value, smallest_value"
   ]
  },
  {
   "cell_type": "markdown",
   "metadata": {},
   "source": [
    "With sorted data"
   ]
  },
  {
   "cell_type": "code",
   "execution_count": 3,
   "metadata": {},
   "outputs": [],
   "source": [
    "sorted_data = sorted(data)"
   ]
  },
  {
   "cell_type": "code",
   "execution_count": 4,
   "metadata": {},
   "outputs": [
    {
     "data": {
      "text/plain": [
       "(10, 160)"
      ]
     },
     "execution_count": 4,
     "metadata": {},
     "output_type": "execute_result"
    }
   ],
   "source": [
    "smallest_value = sorted_data[0]       \n",
    "largest_value = sorted_data[-1]\n",
    "smallest_value, largest_value"
   ]
  },
  {
   "cell_type": "markdown",
   "metadata": {},
   "source": [
    "## Mean\n",
    "\n",
    "The mean (or average) of a collection of data is a calculated central value of the data.\n",
    "\n",
    "It is calculated by adding all the values of a collection of data and dividing that value by the number of data elements.\n",
    "\n",
    "In statistics, there are two types of formula to calculate the mean of a given data set or population.\n",
    "\n",
    "One is the population mean. This is the mean of the entire set of data as a whole. The mathematical formula is represented by\n",
    "\n",
    "$$ \\mu = \\frac{1}{N} \\sum_{i=1}^N a_i $$\n",
    "\n",
    "Where $ N $ represents the number of elements in the data, $\\sum$ represents the sum and $ a_i $ represents an individual data elements\n",
    "\n",
    "The second is the sample mean, which is the mean of only a sample of the data collection. \n",
    "\n",
    "$$ \\bar{x} = \\frac{1}{n} \\sum_{i=1}^n a_i $$\n",
    "\n",
    "This is essentially the same formaula as the population mean, except $n$ is the number of elements in the sample of data.\n",
    "\n",
    "\n",
    "The mean of the elements in a data collection can be easily calculated in Python\n"
   ]
  },
  {
   "cell_type": "code",
   "execution_count": 11,
   "metadata": {},
   "outputs": [],
   "source": [
    "def mean(x):\n",
    "    return sum(x) / len(x) #  from __future__ import division must be added for this to work in Python 2"
   ]
  },
  {
   "cell_type": "code",
   "execution_count": 5,
   "metadata": {},
   "outputs": [
    {
     "data": {
      "text/plain": [
       "58.6767895878525"
      ]
     },
     "execution_count": 5,
     "metadata": {},
     "output_type": "execute_result"
    }
   ],
   "source": [
    "mean(data)"
   ]
  },
  {
   "cell_type": "markdown",
   "metadata": {},
   "source": [
    "This indicates that the average tree grows approximately 58 feet in our example.\n",
    "\n",
    "If a the collection of data is very large, it may seem costly at first to recalculate the mean when additional elements are added to the data collection. However, it is possible to recalculate the new mean if you know the old mean and the number of elements in the old data set.\n",
    "\n",
    "$$ s' = \\frac{sn + \\sum_{i=1}^k b_i}{n + k} $$\n",
    "\n",
    "Where $s$ is the old mean, $n$ is the number of elements in the original data collection, $k$ is the number of new data being added to the collection, the $\\sum$ function is the sum of the new data elements being added, and $b$ is an element in that new collection\n"
   ]
  },
  {
   "cell_type": "code",
   "execution_count": 6,
   "metadata": {},
   "outputs": [],
   "source": [
    "def extend_mean(data, s, ndata):\n",
    "    return (s*len(data) + sum(ndata)) / (len(data) + len(ndata))\n",
    "    "
   ]
  },
  {
   "cell_type": "code",
   "execution_count": 7,
   "metadata": {},
   "outputs": [
    {
     "data": {
      "text/plain": [
       "60.52418772563177"
      ]
     },
     "execution_count": 7,
     "metadata": {},
     "output_type": "execute_result"
    }
   ],
   "source": [
    "s = mean(data)\n",
    "extend_mean(data, s, [2000, 676] )"
   ]
  },
  {
   "cell_type": "code",
   "execution_count": 8,
   "metadata": {},
   "outputs": [],
   "source": [
    "more_data = [2000, 676]\n",
    "\n",
    "extended_data = data.copy()\n",
    "\n",
    "extended_data.extend(more_data)"
   ]
  },
  {
   "cell_type": "code",
   "execution_count": 9,
   "metadata": {},
   "outputs": [
    {
     "data": {
      "text/plain": [
       "60.52418772563177"
      ]
     },
     "execution_count": 9,
     "metadata": {},
     "output_type": "execute_result"
    }
   ],
   "source": [
    "mean(extended_data)"
   ]
  },
  {
   "cell_type": "markdown",
   "metadata": {},
   "source": [
    "## Median\n",
    "\n",
    "The median is the the middle-most value of a collection of sorted numbers.\n",
    "\n",
    "If the number of data points int the collection is odd, it's the middle-most value\n",
    "\n",
    "If the number of data points is even, it's the average of the two middle-most values\n",
    "\n",
    "\n",
    "For example, in the list [23,45,57,68,81,81,89], the median is 68\n",
    "\n",
    "In the list [23,45,57,68,81,81,89,200], the median is (81 + 68) / 2 = 74.5"
   ]
  },
  {
   "cell_type": "code",
   "execution_count": 10,
   "metadata": {},
   "outputs": [],
   "source": [
    "def median(v):\n",
    "    \"\"\"finds the 'middle-most' value of data v\"\"\"\n",
    "    n = len(v)\n",
    "    sorted_v = sorted(v)\n",
    "    midpoint = n // 2\n",
    "    if n % 2 == 1:\n",
    "        # if odd, return the middle value of the list\n",
    "        return sorted_v[midpoint]\n",
    "    else:\n",
    "        # if even, return the average of the middle values of the list\n",
    "        lo = midpoint - 1\n",
    "        hi = midpoint\n",
    "        return (sorted_v[lo] + sorted_v[hi]) / 2\n",
    "\n",
    "# Better algorithm with quickselect"
   ]
  },
  {
   "cell_type": "code",
   "execution_count": 12,
   "metadata": {},
   "outputs": [
    {
     "data": {
      "text/plain": [
       "60"
      ]
     },
     "execution_count": 12,
     "metadata": {},
     "output_type": "execute_result"
    }
   ],
   "source": [
    "median(data)"
   ]
  },
  {
   "cell_type": "code",
   "execution_count": null,
   "metadata": {},
   "outputs": [],
   "source": [
    "While the mean is very sensitive to outliers in a collection of data, the median can remain consistent. In some cases, the mean can give a misleading picture"
   ]
  },
  {
   "cell_type": "code",
   "execution_count": 13,
   "metadata": {},
   "outputs": [
    {
     "data": {
      "text/plain": [
       "(58.6767895878525, 60)"
      ]
     },
     "execution_count": 13,
     "metadata": {},
     "output_type": "execute_result"
    }
   ],
   "source": [
    "mean(data), median(data)"
   ]
  },
  {
   "cell_type": "code",
   "execution_count": 14,
   "metadata": {},
   "outputs": [
    {
     "data": {
      "text/plain": [
       "(3662943.9927901947, 60)"
      ]
     },
     "execution_count": 14,
     "metadata": {},
     "output_type": "execute_result"
    }
   ],
   "source": [
    "more_data = [453627827, 4626794224, 58, 59]\n",
    "\n",
    "extended_data = data.copy()\n",
    "\n",
    "extended_data.extend(more_data)\n",
    "\n",
    "mean(extended_data), median(extended_data)"
   ]
  },
  {
   "cell_type": "markdown",
   "metadata": {},
   "source": [
    "In this example, the median still remains the same even with the outliers,  while the mean increased greatly"
   ]
  },
  {
   "cell_type": "markdown",
   "metadata": {},
   "source": [
    "## Mode\n",
    "\n",
    "Mode is the most common value(s) in a data collection"
   ]
  },
  {
   "cell_type": "code",
   "execution_count": 24,
   "metadata": {},
   "outputs": [],
   "source": [
    "def mode(x):\n",
    "    \"\"\"returns a list, might be more than one mode\"\"\"\n",
    "    counts = Counter(x)\n",
    "    max_count = max(counts.values())\n",
    "    return [x_i for x_i, count in counts.items() #python 2 iteritems()\n",
    "            if count == max_count]"
   ]
  },
  {
   "cell_type": "code",
   "execution_count": 25,
   "metadata": {},
   "outputs": [
    {
     "data": {
      "text/plain": [
       "[70]"
      ]
     },
     "execution_count": 25,
     "metadata": {},
     "output_type": "execute_result"
    }
   ],
   "source": [
    "mode(data)"
   ]
  },
  {
   "cell_type": "markdown",
   "metadata": {},
   "source": [
    "## Dispersion\n",
    "\n",
    "Dispersion measures the spread of data\n",
    "\n",
    "In most cases, functions that return large values indicate large spreads, while values near zero usually signify smaller spreads"
   ]
  },
  {
   "cell_type": "markdown",
   "metadata": {},
   "source": [
    "### Range"
   ]
  },
  {
   "cell_type": "code",
   "execution_count": 49,
   "metadata": {},
   "outputs": [],
   "source": [
    "# A simple range \n",
    "def data_range(x):\n",
    "    return max(x) - min(x)"
   ]
  },
  {
   "cell_type": "code",
   "execution_count": 50,
   "metadata": {},
   "outputs": [
    {
     "data": {
      "text/plain": [
       "150"
      ]
     },
     "execution_count": 50,
     "metadata": {},
     "output_type": "execute_result"
    }
   ],
   "source": [
    "data_range(data)"
   ]
  },
  {
   "cell_type": "markdown",
   "metadata": {},
   "source": [
    "The range is zero when the max and min are equal which means the data is as undispersed as possible\n",
    "\n",
    "If the range is large, then the maximum is much larger than the minimum and the data is more spread out"
   ]
  },
  {
   "cell_type": "markdown",
   "metadata": {},
   "source": [
    "### Variance\n",
    "\n",
    "The range doesn’t really depend on the whole data set, just the first and last points\n",
    "\n",
    "A more complex measure of dispersion is the variance (ADD FORMULA)\n",
    "\n",
    "It is almost the average squared deviation from the mean, except that we’re dividing by n-1 instead of n. In fact, when we’re dealing with a sample from a larger population, x_bar is only an estimate of the actual mean, which means that on average (x_i\n",
    "\\- x_bar) ** 2 is an underestimate of x_i’s squared deviation from\n",
    "the mean, which is why we divide by n-1 instead of n"
   ]
  },
  {
   "cell_type": "code",
   "execution_count": 4,
   "metadata": {},
   "outputs": [],
   "source": [
    "import mods.stats as sts"
   ]
  },
  {
   "cell_type": "code",
   "execution_count": null,
   "metadata": {},
   "outputs": [],
   "source": [
    "sts.dot()"
   ]
  },
  {
   "cell_type": "code",
   "execution_count": 8,
   "metadata": {},
   "outputs": [],
   "source": [
    "import mods.stats as sts\n",
    "\n",
    "def de_mean(x):\n",
    "    \"\"\"translate x by subtracting its mean (so the result has mean 0)\"\"\"\n",
    "    x_bar = mean(x)\n",
    "    return [x_i - x_bar for x_i in x]\n",
    "def variance(x):\n",
    "    \"\"\"assumes x has at least two elements\"\"\"\n",
    "    n = len(x)\n",
    "    deviations = de_mean(x)\n",
    "    return sts.sum_of_squares(deviations) / (n - 1)\n",
    "\n",
    "\n"
   ]
  },
  {
   "cell_type": "code",
   "execution_count": 53,
   "metadata": {},
   "outputs": [
    {
     "data": {
      "text/plain": [
       "592.0973407711849"
      ]
     },
     "execution_count": 53,
     "metadata": {},
     "output_type": "execute_result"
    }
   ],
   "source": [
    "variance(data) # 81.54"
   ]
  },
  {
   "cell_type": "markdown",
   "metadata": {},
   "source": [
    "### Standard Deviation\n",
    "\n",
    "The variance, has units that are the square of the original units. It can be hard to make sense of this, so we often look instead at the standard deviation, which is the square root of the variance\n",
    "\n",
    "(ADD FORMULA)"
   ]
  },
  {
   "cell_type": "code",
   "execution_count": 17,
   "metadata": {},
   "outputs": [],
   "source": [
    "def standard_deviation(x):\n",
    "    return math.sqrt(variance(x))"
   ]
  },
  {
   "cell_type": "code",
   "execution_count": 57,
   "metadata": {},
   "outputs": [
    {
     "data": {
      "text/plain": [
       "24.33305037949794"
      ]
     },
     "execution_count": 57,
     "metadata": {},
     "output_type": "execute_result"
    }
   ],
   "source": [
    "standard_deviation(data)"
   ]
  },
  {
   "cell_type": "markdown",
   "metadata": {},
   "source": [
    "## Covarience\n",
    "\n",
    "Variance measures how a single variable deviates from its mean.\n",
    "\n",
    "Covariance measures how two\n",
    "variables vary in tandem from their means\n",
    "\n",
    "(ADD FORMULA)\n",
    "\n",
    "When corresponding elements of x and y are either both above their means or both below their means, a positive number enters the sum. When one is above its mean and the other below, a negative number enters the sum.\n",
    "\n",
    "A large positive covariance means that x tends to be large when y is large and small when y is small. \n",
    "\n",
    "A large negative covariance means that x tends to be small when y is large and\n",
    "vice versa. \n",
    "\n",
    "A covariance close to zero means that no such relationship exists.\n",
    "\n",
    "MORE DETAILS"
   ]
  },
  {
   "cell_type": "code",
   "execution_count": 9,
   "metadata": {},
   "outputs": [],
   "source": [
    "def covariance(x, y):\n",
    "    n = len(x)\n",
    "    return sts.dot(de_mean(x), de_mean(y)) / (n - 1)"
   ]
  },
  {
   "cell_type": "code",
   "execution_count": 14,
   "metadata": {},
   "outputs": [
    {
     "data": {
      "text/plain": [
       "-0.12783405692233402"
      ]
     },
     "execution_count": 14,
     "metadata": {},
     "output_type": "execute_result"
    }
   ],
   "source": [
    "d = [6,5,6,3,4,100]\n",
    "covariance(data, d)\n"
   ]
  },
  {
   "cell_type": "markdown",
   "metadata": {},
   "source": [
    "## Correlation\n",
    "\n",
    "This number can be hard to interpret\n",
    "\n",
    "It’s more common to look at the correlation, which divides out the standard deviations of both variables\n",
    "\n",
    "The correlation is unitless and always lies between -1 (perfect anti-correlation) and 1 (perfect correlation). A number like 0.25 represents a relatively weak positive correlation.\n",
    "\n",
    "Removing Outliers can improve correlation\n",
    "\n",
    "\n",
    "Correlation tells nothing about how large the relationship is. Two datasets could be perfectly correlated but could have no meaningful relationship\n",
    "\n"
   ]
  },
  {
   "cell_type": "code",
   "execution_count": 18,
   "metadata": {},
   "outputs": [],
   "source": [
    "def correlation(x, y):\n",
    "    stdev_x = standard_deviation(x)\n",
    "    stdev_y = standard_deviation(y)\n",
    "    if stdev_x > 0 and stdev_y > 0:\n",
    "        return covariance(x, y) / stdev_x / stdev_y\n",
    "    else:\n",
    "        return 0    # if no variation, correlation is zero"
   ]
  },
  {
   "cell_type": "code",
   "execution_count": 19,
   "metadata": {},
   "outputs": [
    {
     "data": {
      "text/plain": [
       "-0.0001345288351065292"
      ]
     },
     "execution_count": 19,
     "metadata": {},
     "output_type": "execute_result"
    }
   ],
   "source": [
    "correlation(data, d)"
   ]
  },
  {
   "cell_type": "markdown",
   "metadata": {},
   "source": [
    "## Simpson’s Paradox, \n",
    "\n",
    "This is a concept in which correlations can be misleading when confounding variables are ignored.\n",
    "\n",
    "Correlation is measuring the relationship between your two variables all else being\n",
    "equal. \n",
    "\n",
    "If data classes are assigned at random, as they might be in a well-designed experiment, “all else being equal” might be an assumption. \n",
    "\n",
    "When there is a deeper pattern to data, “all else being equal” can be a bad assumption.\n",
    "\n",
    "Avoid this is by knowing your data and by doing what you can to\n",
    "make sure you’ve checked for possible confounding factors. Obviously, this is not\n",
    "always possible. \n",
    "\n",
    "A correlation of zero indicates that there is no linear relationship between the two variables. However, there may be other sorts of relationships.\n"
   ]
  },
  {
   "cell_type": "markdown",
   "metadata": {},
   "source": [
    "## Correlation is not causation\n",
    "\n",
    "Correlation does not necessarily imply causation\n",
    "\n",
    "If data sets x and y are strongly correlated, that might mean that x causes y, that y causes x, that each causes the other, that some third factor causes both, or it might mean nothing. This just means that there is some relationship and more research must be done to prove causation\n",
    "\n",
    "\n",
    "For example, while it might seem that more sunlight increases tree height, the amount of water received and wellness of the tree might play a factor.\n",
    "\n",
    "Conducting randomized trials or controlled experiments might improve confidence of causality. For example, measuring tree heights in different climates with different levels of sunlight and rainfall might show a clearer picture\n"
   ]
  },
  {
   "cell_type": "markdown",
   "metadata": {},
   "source": [
    "********UPDATE\n",
    "\n",
    "## Quantile\n",
    "\n",
    "The quantile represents the value less than which a certain percentile of the data lies. It is essentialy the points in which data is divided into equal parts\n",
    "\n",
    "Lets say we have a list of 20 data elements:\n",
    "\n",
    "[2,6,13,21,25,36,39,41,52,54,55,63,66,72,78,80,83,92,97,100]\n",
    "\n",
    "If we want to find the value in the 25th-percentile, we need to find the value whose element is 25% into the list.\n",
    "\n",
    "index = .25 * 20 = 4\n",
    "\n",
    "The 4th element, or index 3, is 21\n",
    "\n",
    "\n",
    "\n",
    "A prime example is the median since it represents the value less than which 50% of the data lies since it is the middle most value of a data collection. It is therefore cpnsidered the 50% quantile\n",
    "\n"
   ]
  },
  {
   "cell_type": "code",
   "execution_count": 43,
   "metadata": {},
   "outputs": [],
   "source": [
    "def quantile_mine(x, p):\n",
    "    \"\"\"returns the pth-percentile value in x\"\"\"\n",
    "    p_index = int(p * len(x))\n",
    "    return sorted(x)[p_index]"
   ]
  },
  {
   "cell_type": "code",
   "execution_count": 44,
   "metadata": {},
   "outputs": [],
   "source": [
    "def quantile2(x,p):\n",
    "    return x[int(p * (len(x) + 1))]"
   ]
  },
  {
   "cell_type": "code",
   "execution_count": 47,
   "metadata": {},
   "outputs": [
    {
     "data": {
      "text/plain": [
       "25"
      ]
     },
     "execution_count": 47,
     "metadata": {},
     "output_type": "execute_result"
    }
   ],
   "source": [
    "quantile_mine([2,6,13,21,25,36,39,41,52,54,55,63,66,72,78,80,83,92,97], .25)"
   ]
  },
  {
   "cell_type": "code",
   "execution_count": 48,
   "metadata": {},
   "outputs": [
    {
     "data": {
      "text/plain": [
       "36"
      ]
     },
     "execution_count": 48,
     "metadata": {},
     "output_type": "execute_result"
    }
   ],
   "source": [
    "quantile2([2,6,13,21,25,36,39,41,52,54,55,63,66,72,78,80,83,92,97], .25)"
   ]
  },
  {
   "cell_type": "code",
   "execution_count": 42,
   "metadata": {},
   "outputs": [
    {
     "data": {
      "text/plain": [
       "30.5"
      ]
     },
     "execution_count": 42,
     "metadata": {},
     "output_type": "execute_result"
    }
   ],
   "source": [
    "import numpy as np\n",
    "np.quantile([2,6,13,21,25,36,39,41,52,54,55,63,66,72,78,80,83,92,97], .25)\n"
   ]
  },
  {
   "cell_type": "code",
   "execution_count": 22,
   "metadata": {},
   "outputs": [
    {
     "data": {
      "text/plain": [
       "2.19"
      ]
     },
     "execution_count": 22,
     "metadata": {},
     "output_type": "execute_result"
    }
   ],
   "source": [
    "np.percentile([2,6,13,21,25,36,39,41,52,54,55,63,66,72,78,80,83,92,97,100], .25)"
   ]
  },
  {
   "cell_type": "code",
   "execution_count": 16,
   "metadata": {},
   "outputs": [
    {
     "name": "stdout",
     "output_type": "stream",
     "text": [
      "20 40 80 90\n"
     ]
    }
   ],
   "source": [
    "print(quantile(data, 0.10)\n",
    ",quantile(data, 0.25)\n",
    ",quantile(data, 0.75)\n",
    ",quantile(data, 0.90)) "
   ]
  },
  {
   "cell_type": "code",
   "execution_count": 21,
   "metadata": {},
   "outputs": [],
   "source": [
    "import inspect\n",
    "from numpy import quantile\n",
    "#inspect.getfile(quantile)"
   ]
  },
  {
   "cell_type": "code",
   "execution_count": 24,
   "metadata": {},
   "outputs": [
    {
     "data": {
      "text/plain": [
       "7"
      ]
     },
     "execution_count": 24,
     "metadata": {},
     "output_type": "execute_result"
    }
   ],
   "source": [
    "\"\"\"difference between the 75th percentile value\n",
    "and the 25th percentile value which is unaffected by a small number of outliers outside these quartiles\"\"\"\n",
    "def interquartile_range(x):\n",
    "    return quantile(x, 0.75) - quantile(x, 0.25)\n",
    "interquartile_range(s) # 6\n"
   ]
  }
 ],
 "metadata": {
  "kernelspec": {
   "display_name": "Python 3",
   "language": "python",
   "name": "python3"
  },
  "language_info": {
   "codemirror_mode": {
    "name": "ipython",
    "version": 3
   },
   "file_extension": ".py",
   "mimetype": "text/x-python",
   "name": "python",
   "nbconvert_exporter": "python",
   "pygments_lexer": "ipython3",
   "version": "3.7.3"
  }
 },
 "nbformat": 4,
 "nbformat_minor": 2
}
